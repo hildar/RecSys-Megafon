{
 "cells": [
  {
   "cell_type": "markdown",
   "id": "2d4596b9-4da8-43ce-8b14-8734c65758dd",
   "metadata": {},
   "source": [
    "# Megafon"
   ]
  },
  {
   "cell_type": "markdown",
   "id": "4649dc86-96be-4631-a6ca-b460e6fd45d8",
   "metadata": {},
   "source": [
    "**Data**: information about the response of subscribers to the proposal to connect one of the services. Also a normalized anonymized set of `features` characterizing the subscriber's consumption profile.\n",
    "\n",
    "**Task**: a model that, for each **user-service** pair, determines the probability of connecting the service.\n",
    "\n",
    "**Stack**: LightGBM, CatBoost, Sklearn, Dask, Pandas, Numpy, Matplotlib, Seaborn\n",
    "\n",
    "<!-- Author: Ildar Khusainov - https://github.com/hildar -->"
   ]
  },
  {
   "cell_type": "markdown",
   "id": "5889dcd7-7ab3-4c7a-8b19-44b19d7414c6",
   "metadata": {},
   "source": [
    "## Steps\n",
    "\n",
    "1. First look at data\n",
    "2. Baseline - LGBM\n",
    "3. Features\n",
    "4. Pipeline\n",
    "5. Feature engineering\n",
    "6. GridSearchCV\n",
    "7. Conclusion"
   ]
  },
  {
   "cell_type": "markdown",
   "id": "1189ddac-8d47-4b35-a7b3-8b6792f53099",
   "metadata": {},
   "source": [
    "### First look at data\n",
    "\n",
    "#### Read train test"
   ]
  },
  {
   "cell_type": "code",
   "execution_count": 1,
   "id": "e5a3931b-d88b-44f7-91fb-83acac9dd6f7",
   "metadata": {},
   "outputs": [],
   "source": [
    "import pandas as pd\n",
    "import numpy as np\n",
    "import dask.dataframe as dd  # for big file feature.csv ~20 Gb\n",
    "import matplotlib.pyplot as plt\n",
    "import datetime\n",
    "import dill\n",
    "from sklearn.metrics import precision_recall_curve, roc_curve, classification_report, f1_score, auc\n",
    "\n",
    "import lightgbm\n",
    "\n",
    "plt.style.use('ggplot')\n",
    "pd.options.mode.chained_assignment = None  # avoid warning"
   ]
  },
  {
   "cell_type": "code",
   "execution_count": 8,
   "id": "b563d3e9-6770-4bba-b35a-21b169b6c8e4",
   "metadata": {},
   "outputs": [
    {
     "data": {
      "text/html": [
       "<div>\n",
       "<style scoped>\n",
       "    .dataframe tbody tr th:only-of-type {\n",
       "        vertical-align: middle;\n",
       "    }\n",
       "\n",
       "    .dataframe tbody tr th {\n",
       "        vertical-align: top;\n",
       "    }\n",
       "\n",
       "    .dataframe thead th {\n",
       "        text-align: right;\n",
       "    }\n",
       "</style>\n",
       "<table border=\"1\" class=\"dataframe\">\n",
       "  <thead>\n",
       "    <tr style=\"text-align: right;\">\n",
       "      <th></th>\n",
       "      <th>id</th>\n",
       "      <th>vas_id</th>\n",
       "      <th>buy_time</th>\n",
       "      <th>target</th>\n",
       "    </tr>\n",
       "  </thead>\n",
       "  <tbody>\n",
       "    <tr>\n",
       "      <th>0</th>\n",
       "      <td>540968</td>\n",
       "      <td>8.0</td>\n",
       "      <td>1537131600</td>\n",
       "      <td>0.0</td>\n",
       "    </tr>\n",
       "    <tr>\n",
       "      <th>1</th>\n",
       "      <td>1454121</td>\n",
       "      <td>4.0</td>\n",
       "      <td>1531688400</td>\n",
       "      <td>0.0</td>\n",
       "    </tr>\n",
       "  </tbody>\n",
       "</table>\n",
       "</div>"
      ],
      "text/plain": [
       "        id  vas_id    buy_time  target\n",
       "0   540968     8.0  1537131600     0.0\n",
       "1  1454121     4.0  1531688400     0.0"
      ]
     },
     "execution_count": 8,
     "metadata": {},
     "output_type": "execute_result"
    }
   ],
   "source": [
    "train = pd.read_csv('data/data_train.csv', index_col=0)\n",
    "train.head(2)"
   ]
  },
  {
   "cell_type": "code",
   "execution_count": 9,
   "id": "511d959f-95d7-4f86-bdb0-31d067b8fb38",
   "metadata": {},
   "outputs": [
    {
     "name": "stdout",
     "output_type": "stream",
     "text": [
      "<class 'pandas.core.frame.DataFrame'>\n",
      "Int64Index: 831653 entries, 0 to 831652\n",
      "Data columns (total 4 columns):\n",
      " #   Column    Non-Null Count   Dtype  \n",
      "---  ------    --------------   -----  \n",
      " 0   id        831653 non-null  int64  \n",
      " 1   vas_id    831653 non-null  float64\n",
      " 2   buy_time  831653 non-null  int64  \n",
      " 3   target    831653 non-null  float64\n",
      "dtypes: float64(2), int64(2)\n",
      "memory usage: 31.7 MB\n"
     ]
    }
   ],
   "source": [
    "train.info()"
   ]
  },
  {
   "cell_type": "markdown",
   "id": "aef21352-f9b2-4dc1-bca7-02bfc211114b",
   "metadata": {},
   "source": [
    "#### Look at Target distribution"
   ]
  },
  {
   "cell_type": "code",
   "execution_count": 10,
   "id": "33687b01-4eac-48fc-a0e6-5586bf34284c",
   "metadata": {},
   "outputs": [
    {
     "data": {
      "text/plain": [
       "0.0    0.927631\n",
       "1.0    0.072369\n",
       "Name: target, dtype: float64"
      ]
     },
     "execution_count": 10,
     "metadata": {},
     "output_type": "execute_result"
    },
    {
     "data": {
      "image/png": "[encoded data removed]",
      "text/plain": [
       "<Figure size 432x288 with 1 Axes>"
      ]
     },
     "metadata": {},
     "output_type": "display_data"
    }
   ],
   "source": [
    "(train['target'].value_counts()/train['target'].shape[0]).\\\n",
    "    plot(kind='bar', title='Target distribution', color = ['grey', 'blue']);\n",
    "train['target'].value_counts()/train['target'].shape"
   ]
  },
  {
   "cell_type": "markdown",
   "id": "6678ac21-2db0-4b45-9b9b-a45f387e38d8",
   "metadata": {},
   "source": [
    "Not very balanced sample"
   ]
  },
  {
   "cell_type": "code",
   "execution_count": 11,
   "id": "dc037b18-6d7a-446d-87e7-4d1855a54a32",
   "metadata": {},
   "outputs": [
    {
     "data": {
      "text/html": [
       "<div>\n",
       "<style scoped>\n",
       "    .dataframe tbody tr th:only-of-type {\n",
       "        vertical-align: middle;\n",
       "    }\n",
       "\n",
       "    .dataframe tbody tr th {\n",
       "        vertical-align: top;\n",
       "    }\n",
       "\n",
       "    .dataframe thead th {\n",
       "        text-align: right;\n",
       "    }\n",
       "</style>\n",
       "<table border=\"1\" class=\"dataframe\">\n",
       "  <thead>\n",
       "    <tr style=\"text-align: right;\">\n",
       "      <th></th>\n",
       "      <th>id</th>\n",
       "      <th>vas_id</th>\n",
       "      <th>buy_time</th>\n",
       "    </tr>\n",
       "  </thead>\n",
       "  <tbody>\n",
       "    <tr>\n",
       "      <th>0</th>\n",
       "      <td>3130519</td>\n",
       "      <td>2.0</td>\n",
       "      <td>1548018000</td>\n",
       "    </tr>\n",
       "    <tr>\n",
       "      <th>1</th>\n",
       "      <td>2000860</td>\n",
       "      <td>4.0</td>\n",
       "      <td>1548018000</td>\n",
       "    </tr>\n",
       "  </tbody>\n",
       "</table>\n",
       "</div>"
      ],
      "text/plain": [
       "        id  vas_id    buy_time\n",
       "0  3130519     2.0  1548018000\n",
       "1  2000860     4.0  1548018000"
      ]
     },
     "execution_count": 11,
     "metadata": {},
     "output_type": "execute_result"
    }
   ],
   "source": [
    "test = pd.read_csv('data/data_test.csv', index_col=0)\n",
    "test.head(2)"
   ]
  },
  {
   "cell_type": "code",
   "execution_count": 12,
   "id": "327f82e6-5492-485a-85a3-cb8d7ca79ba0",
   "metadata": {},
   "outputs": [
    {
     "name": "stdout",
     "output_type": "stream",
     "text": [
      "<class 'pandas.core.frame.DataFrame'>\n",
      "Int64Index: 71231 entries, 0 to 71230\n",
      "Data columns (total 3 columns):\n",
      " #   Column    Non-Null Count  Dtype  \n",
      "---  ------    --------------  -----  \n",
      " 0   id        71231 non-null  int64  \n",
      " 1   vas_id    71231 non-null  float64\n",
      " 2   buy_time  71231 non-null  int64  \n",
      "dtypes: float64(1), int64(2)\n",
      "memory usage: 2.2 MB\n"
     ]
    }
   ],
   "source": [
    "test.info()"
   ]
  },
  {
   "cell_type": "markdown",
   "id": "7692c491-62bc-46d4-a3a2-6ca681f31321",
   "metadata": {},
   "source": [
    "#### Common ids\n",
    "\n",
    "There are extra indexes in the `feature.csv` file. Need to select rows without them."
   ]
  },
  {
   "cell_type": "code",
   "execution_count": 13,
   "id": "e8740ed9-81f3-4754-b49f-220ad0bbc25b",
   "metadata": {},
   "outputs": [
    {
     "name": "stdout",
     "output_type": "stream",
     "text": [
      "Number train indexes: 806613 \n",
      "Number test indexes: 70152 \n",
      "Number common indexes: 872577\n"
     ]
    }
   ],
   "source": [
    "train_ids = set(train.id.tolist())\n",
    "test_ids = set(test.id.tolist())\n",
    "common_ids = train_ids.union(test_ids)\n",
    "\n",
    "print(f'Number train indexes: {len(train_ids)} \\n\\\n",
    "Number test indexes: {len(test_ids)} \\nNumber common indexes: {len(common_ids)}')"
   ]
  },
  {
   "cell_type": "markdown",
   "id": "0b6816b0-e81f-4685-a8a9-86c91dce2936",
   "metadata": {},
   "source": [
    "#### Read features (~20 GB)"
   ]
  },
  {
   "cell_type": "code",
   "execution_count": 8,
   "id": "2cd5794f-7c28-4b4a-a35e-dd63ac151d15",
   "metadata": {},
   "outputs": [
    {
     "data": {
      "text/html": [
       "<div><strong>Dask DataFrame Structure:</strong></div>\n",
       "<div>\n",
       "<style scoped>\n",
       "    .dataframe tbody tr th:only-of-type {\n",
       "        vertical-align: middle;\n",
       "    }\n",
       "\n",
       "    .dataframe tbody tr th {\n",
       "        vertical-align: top;\n",
       "    }\n",
       "\n",
       "    .dataframe thead th {\n",
       "        text-align: right;\n",
       "    }\n",
       "</style>\n",
       "<table border=\"1\" class=\"dataframe\">\n",
       "  <thead>\n",
       "    <tr style=\"text-align: right;\">\n",
       "      <th></th>\n",
       "      <th>Unnamed: 0</th>\n",
       "      <th>id</th>\n",
       "      <th>buy_time</th>\n",
       "      <th>0</th>\n",
       "      <th>1</th>\n",
       "      <th>2</th>\n",
       "      <th>3</th>\n",
       "      <th>4</th>\n",
       "      <th>5</th>\n",
       "      <th>6</th>\n",
       "      <th>7</th>\n",
       "      <th>8</th>\n",
       "      <th>9</th>\n",
       "      <th>10</th>\n",
       "      <th>11</th>\n",
       "      <th>12</th>\n",
       "      <th>13</th>\n",
       "      <th>14</th>\n",
       "      <th>15</th>\n",
       "      <th>16</th>\n",
       "      <th>17</th>\n",
       "      <th>18</th>\n",
       "      <th>19</th>\n",
       "      <th>20</th>\n",
       "      <th>21</th>\n",
       "      <th>22</th>\n",
       "      <th>23</th>\n",
       "      <th>24</th>\n",
       "      <th>25</th>\n",
       "      <th>26</th>\n",
       "      <th>27</th>\n",
       "      <th>28</th>\n",
       "      <th>29</th>\n",
       "      <th>30</th>\n",
       "      <th>31</th>\n",
       "      <th>32</th>\n",
       "      <th>33</th>\n",
       "      <th>34</th>\n",
       "      <th>35</th>\n",
       "      <th>36</th>\n",
       "      <th>37</th>\n",
       "      <th>38</th>\n",
       "      <th>39</th>\n",
       "      <th>40</th>\n",
       "      <th>41</th>\n",
       "      <th>42</th>\n",
       "      <th>43</th>\n",
       "      <th>44</th>\n",
       "      <th>45</th>\n",
       "      <th>46</th>\n",
       "      <th>47</th>\n",
       "      <th>48</th>\n",
       "      <th>49</th>\n",
       "      <th>50</th>\n",
       "      <th>51</th>\n",
       "      <th>52</th>\n",
       "      <th>53</th>\n",
       "      <th>54</th>\n",
       "      <th>55</th>\n",
       "      <th>56</th>\n",
       "      <th>57</th>\n",
       "      <th>58</th>\n",
       "      <th>59</th>\n",
       "      <th>60</th>\n",
       "      <th>61</th>\n",
       "      <th>62</th>\n",
       "      <th>63</th>\n",
       "      <th>64</th>\n",
       "      <th>65</th>\n",
       "      <th>66</th>\n",
       "      <th>67</th>\n",
       "      <th>68</th>\n",
       "      <th>69</th>\n",
       "      <th>70</th>\n",
       "      <th>71</th>\n",
       "      <th>72</th>\n",
       "      <th>73</th>\n",
       "      <th>74</th>\n",
       "      <th>75</th>\n",
       "      <th>76</th>\n",
       "      <th>77</th>\n",
       "      <th>78</th>\n",
       "      <th>79</th>\n",
       "      <th>80</th>\n",
       "      <th>81</th>\n",
       "      <th>82</th>\n",
       "      <th>83</th>\n",
       "      <th>84</th>\n",
       "      <th>85</th>\n",
       "      <th>86</th>\n",
       "      <th>87</th>\n",
       "      <th>88</th>\n",
       "      <th>89</th>\n",
       "      <th>90</th>\n",
       "      <th>91</th>\n",
       "      <th>92</th>\n",
       "      <th>93</th>\n",
       "      <th>94</th>\n",
       "      <th>95</th>\n",
       "      <th>96</th>\n",
       "      <th>97</th>\n",
       "      <th>98</th>\n",
       "      <th>99</th>\n",
       "      <th>100</th>\n",
       "      <th>101</th>\n",
       "      <th>102</th>\n",
       "      <th>103</th>\n",
       "      <th>104</th>\n",
       "      <th>105</th>\n",
       "      <th>106</th>\n",
       "      <th>107</th>\n",
       "      <th>108</th>\n",
       "      <th>109</th>\n",
       "      <th>110</th>\n",
       "      <th>111</th>\n",
       "      <th>112</th>\n",
       "      <th>113</th>\n",
       "      <th>114</th>\n",
       "      <th>115</th>\n",
       "      <th>116</th>\n",
       "      <th>117</th>\n",
       "      <th>118</th>\n",
       "      <th>119</th>\n",
       "      <th>120</th>\n",
       "      <th>121</th>\n",
       "      <th>122</th>\n",
       "      <th>123</th>\n",
       "      <th>124</th>\n",
       "      <th>125</th>\n",
       "      <th>126</th>\n",
       "      <th>127</th>\n",
       "      <th>128</th>\n",
       "      <th>129</th>\n",
       "      <th>130</th>\n",
       "      <th>131</th>\n",
       "      <th>132</th>\n",
       "      <th>133</th>\n",
       "      <th>134</th>\n",
       "      <th>135</th>\n",
       "      <th>136</th>\n",
       "      <th>137</th>\n",
       "      <th>138</th>\n",
       "      <th>139</th>\n",
       "      <th>140</th>\n",
       "      <th>141</th>\n",
       "      <th>142</th>\n",
       "      <th>143</th>\n",
       "      <th>144</th>\n",
       "      <th>145</th>\n",
       "      <th>146</th>\n",
       "      <th>147</th>\n",
       "      <th>148</th>\n",
       "      <th>149</th>\n",
       "      <th>150</th>\n",
       "      <th>151</th>\n",
       "      <th>152</th>\n",
       "      <th>153</th>\n",
       "      <th>154</th>\n",
       "      <th>155</th>\n",
       "      <th>156</th>\n",
       "      <th>157</th>\n",
       "      <th>158</th>\n",
       "      <th>159</th>\n",
       "      <th>160</th>\n",
       "      <th>161</th>\n",
       "      <th>162</th>\n",
       "      <th>163</th>\n",
       "      <th>164</th>\n",
       "      <th>165</th>\n",
       "      <th>166</th>\n",
       "      <th>167</th>\n",
       "      <th>168</th>\n",
       "      <th>169</th>\n",
       "      <th>170</th>\n",
       "      <th>171</th>\n",
       "      <th>172</th>\n",
       "      <th>173</th>\n",
       "      <th>174</th>\n",
       "      <th>175</th>\n",
       "      <th>176</th>\n",
       "      <th>177</th>\n",
       "      <th>178</th>\n",
       "      <th>179</th>\n",
       "      <th>180</th>\n",
       "      <th>181</th>\n",
       "      <th>182</th>\n",
       "      <th>183</th>\n",
       "      <th>184</th>\n",
       "      <th>185</th>\n",
       "      <th>186</th>\n",
       "      <th>187</th>\n",
       "      <th>188</th>\n",
       "      <th>189</th>\n",
       "      <th>190</th>\n",
       "      <th>191</th>\n",
       "      <th>192</th>\n",
       "      <th>193</th>\n",
       "      <th>194</th>\n",
       "      <th>195</th>\n",
       "      <th>196</th>\n",
       "      <th>197</th>\n",
       "      <th>198</th>\n",
       "      <th>199</th>\n",
       "      <th>200</th>\n",
       "      <th>201</th>\n",
       "      <th>202</th>\n",
       "      <th>203</th>\n",
       "      <th>204</th>\n",
       "      <th>205</th>\n",
       "      <th>206</th>\n",
       "      <th>207</th>\n",
       "      <th>208</th>\n",
       "      <th>209</th>\n",
       "      <th>210</th>\n",
       "      <th>211</th>\n",
       "      <th>212</th>\n",
       "      <th>213</th>\n",
       "      <th>214</th>\n",
       "      <th>215</th>\n",
       "      <th>216</th>\n",
       "      <th>217</th>\n",
       "      <th>218</th>\n",
       "      <th>219</th>\n",
       "      <th>220</th>\n",
       "      <th>221</th>\n",
       "      <th>222</th>\n",
       "      <th>223</th>\n",
       "      <th>224</th>\n",
       "      <th>225</th>\n",
       "      <th>226</th>\n",
       "      <th>227</th>\n",
       "      <th>228</th>\n",
       "      <th>229</th>\n",
       "      <th>230</th>\n",
       "      <th>231</th>\n",
       "      <th>232</th>\n",
       "      <th>233</th>\n",
       "      <th>234</th>\n",
       "      <th>235</th>\n",
       "      <th>236</th>\n",
       "      <th>237</th>\n",
       "      <th>238</th>\n",
       "      <th>239</th>\n",
       "      <th>240</th>\n",
       "      <th>241</th>\n",
       "      <th>242</th>\n",
       "      <th>243</th>\n",
       "      <th>244</th>\n",
       "      <th>245</th>\n",
       "      <th>246</th>\n",
       "      <th>247</th>\n",
       "      <th>248</th>\n",
       "      <th>249</th>\n",
       "      <th>250</th>\n",
       "      <th>251</th>\n",
       "      <th>252</th>\n",
       "    </tr>\n",
       "    <tr>\n",
       "      <th>npartitions=351</th>\n",
       "      <th></th>\n",
       "      <th></th>\n",
       "      <th></th>\n",
       "      <th></th>\n",
       "      <th></th>\n",
       "      <th></th>\n",
       "      <th></th>\n",
       "      <th></th>\n",
       "      <th></th>\n",
       "      <th></th>\n",
       "      <th></th>\n",
       "      <th></th>\n",
       "      <th></th>\n",
       "      <th></th>\n",
       "      <th></th>\n",
       "      <th></th>\n",
       "      <th></th>\n",
       "      <th></th>\n",
       "      <th></th>\n",
       "      <th></th>\n",
       "      <th></th>\n",
       "      <th></th>\n",
       "      <th></th>\n",
       "      <th></th>\n",
       "      <th></th>\n",
       "      <th></th>\n",
       "      <th></th>\n",
       "      <th></th>\n",
       "      <th></th>\n",
       "      <th></th>\n",
       "      <th></th>\n",
       "      <th></th>\n",
       "      <th></th>\n",
       "      <th></th>\n",
       "      <th></th>\n",
       "      <th></th>\n",
       "      <th></th>\n",
       "      <th></th>\n",
       "      <th></th>\n",
       "      <th></th>\n",
       "      <th></th>\n",
       "      <th></th>\n",
       "      <th></th>\n",
       "      <th></th>\n",
       "      <th></th>\n",
       "      <th></th>\n",
       "      <th></th>\n",
       "      <th></th>\n",
       "      <th></th>\n",
       "      <th></th>\n",
       "      <th></th>\n",
       "      <th></th>\n",
       "      <th></th>\n",
       "      <th></th>\n",
       "      <th></th>\n",
       "      <th></th>\n",
       "      <th></th>\n",
       "      <th></th>\n",
       "      <th></th>\n",
       "      <th></th>\n",
       "      <th></th>\n",
       "      <th></th>\n",
       "      <th></th>\n",
       "      <th></th>\n",
       "      <th></th>\n",
       "      <th></th>\n",
       "      <th></th>\n",
       "      <th></th>\n",
       "      <th></th>\n",
       "      <th></th>\n",
       "      <th></th>\n",
       "      <th></th>\n",
       "      <th></th>\n",
       "      <th></th>\n",
       "      <th></th>\n",
       "      <th></th>\n",
       "      <th></th>\n",
       "      <th></th>\n",
       "      <th></th>\n",
       "      <th></th>\n",
       "      <th></th>\n",
       "      <th></th>\n",
       "      <th></th>\n",
       "      <th></th>\n",
       "      <th></th>\n",
       "      <th></th>\n",
       "      <th></th>\n",
       "      <th></th>\n",
       "      <th></th>\n",
       "      <th></th>\n",
       "      <th></th>\n",
       "      <th></th>\n",
       "      <th></th>\n",
       "      <th></th>\n",
       "      <th></th>\n",
       "      <th></th>\n",
       "      <th></th>\n",
       "      <th></th>\n",
       "      <th></th>\n",
       "      <th></th>\n",
       "      <th></th>\n",
       "      <th></th>\n",
       "      <th></th>\n",
       "      <th></th>\n",
       "      <th></th>\n",
       "      <th></th>\n",
       "      <th></th>\n",
       "      <th></th>\n",
       "      <th></th>\n",
       "      <th></th>\n",
       "      <th></th>\n",
       "      <th></th>\n",
       "      <th></th>\n",
       "      <th></th>\n",
       "      <th></th>\n",
       "      <th></th>\n",
       "      <th></th>\n",
       "      <th></th>\n",
       "      <th></th>\n",
       "      <th></th>\n",
       "      <th></th>\n",
       "      <th></th>\n",
       "      <th></th>\n",
       "      <th></th>\n",
       "      <th></th>\n",
       "      <th></th>\n",
       "      <th></th>\n",
       "      <th></th>\n",
       "      <th></th>\n",
       "      <th></th>\n",
       "      <th></th>\n",
       "      <th></th>\n",
       "      <th></th>\n",
       "      <th></th>\n",
       "      <th></th>\n",
       "      <th></th>\n",
       "      <th></th>\n",
       "      <th></th>\n",
       "      <th></th>\n",
       "      <th></th>\n",
       "      <th></th>\n",
       "      <th></th>\n",
       "      <th></th>\n",
       "      <th></th>\n",
       "      <th></th>\n",
       "      <th></th>\n",
       "      <th></th>\n",
       "      <th></th>\n",
       "      <th></th>\n",
       "      <th></th>\n",
       "      <th></th>\n",
       "      <th></th>\n",
       "      <th></th>\n",
       "      <th></th>\n",
       "      <th></th>\n",
       "      <th></th>\n",
       "      <th></th>\n",
       "      <th></th>\n",
       "      <th></th>\n",
       "      <th></th>\n",
       "      <th></th>\n",
       "      <th></th>\n",
       "      <th></th>\n",
       "      <th></th>\n",
       "      <th></th>\n",
       "      <th></th>\n",
       "      <th></th>\n",
       "      <th></th>\n",
       "      <th></th>\n",
       "      <th></th>\n",
       "      <th></th>\n",
       "      <th></th>\n",
       "      <th></th>\n",
       "      <th></th>\n",
       "      <th></th>\n",
       "      <th></th>\n",
       "      <th></th>\n",
       "      <th></th>\n",
       "      <th></th>\n",
       "      <th></th>\n",
       "      <th></th>\n",
       "      <th></th>\n",
       "      <th></th>\n",
       "      <th></th>\n",
       "      <th></th>\n",
       "      <th></th>\n",
       "      <th></th>\n",
       "      <th></th>\n",
       "      <th></th>\n",
       "      <th></th>\n",
       "      <th></th>\n",
       "      <th></th>\n",
       "      <th></th>\n",
       "      <th></th>\n",
       "      <th></th>\n",
       "      <th></th>\n",
       "      <th></th>\n",
       "      <th></th>\n",
       "      <th></th>\n",
       "      <th></th>\n",
       "      <th></th>\n",
       "      <th></th>\n",
       "      <th></th>\n",
       "      <th></th>\n",
       "      <th></th>\n",
       "      <th></th>\n",
       "      <th></th>\n",
       "      <th></th>\n",
       "      <th></th>\n",
       "      <th></th>\n",
       "      <th></th>\n",
       "      <th></th>\n",
       "      <th></th>\n",
       "      <th></th>\n",
       "      <th></th>\n",
       "      <th></th>\n",
       "      <th></th>\n",
       "      <th></th>\n",
       "      <th></th>\n",
       "      <th></th>\n",
       "      <th></th>\n",
       "      <th></th>\n",
       "      <th></th>\n",
       "      <th></th>\n",
       "      <th></th>\n",
       "      <th></th>\n",
       "      <th></th>\n",
       "      <th></th>\n",
       "      <th></th>\n",
       "      <th></th>\n",
       "      <th></th>\n",
       "      <th></th>\n",
       "      <th></th>\n",
       "      <th></th>\n",
       "      <th></th>\n",
       "      <th></th>\n",
       "      <th></th>\n",
       "      <th></th>\n",
       "      <th></th>\n",
       "      <th></th>\n",
       "      <th></th>\n",
       "      <th></th>\n",
       "      <th></th>\n",
       "      <th></th>\n",
       "      <th></th>\n",
       "      <th></th>\n",
       "      <th></th>\n",
       "      <th></th>\n",
       "      <th></th>\n",
       "      <th></th>\n",
       "      <th></th>\n",
       "      <th></th>\n",
       "      <th></th>\n",
       "      <th></th>\n",
       "      <th></th>\n",
       "      <th></th>\n",
       "    </tr>\n",
       "  </thead>\n",
       "  <tbody>\n",
       "    <tr>\n",
       "      <th></th>\n",
       "      <td>int64</td>\n",
       "      <td>int64</td>\n",
       "      <td>int64</td>\n",
       "      <td>float64</td>\n",
       "      <td>float64</td>\n",
       "      <td>float64</td>\n",
       "      <td>float64</td>\n",
       "      <td>float64</td>\n",
       "      <td>float64</td>\n",
       "      <td>float64</td>\n",
       "      <td>float64</td>\n",
       "      <td>float64</td>\n",
       "      <td>float64</td>\n",
       "      <td>float64</td>\n",
       "      <td>float64</td>\n",
       "      <td>float64</td>\n",
       "      <td>float64</td>\n",
       "      <td>float64</td>\n",
       "      <td>float64</td>\n",
       "      <td>float64</td>\n",
       "      <td>float64</td>\n",
       "      <td>float64</td>\n",
       "      <td>float64</td>\n",
       "      <td>float64</td>\n",
       "      <td>float64</td>\n",
       "      <td>float64</td>\n",
       "      <td>float64</td>\n",
       "      <td>float64</td>\n",
       "      <td>float64</td>\n",
       "      <td>float64</td>\n",
       "      <td>float64</td>\n",
       "      <td>float64</td>\n",
       "      <td>float64</td>\n",
       "      <td>float64</td>\n",
       "      <td>float64</td>\n",
       "      <td>float64</td>\n",
       "      <td>float64</td>\n",
       "      <td>float64</td>\n",
       "      <td>float64</td>\n",
       "      <td>float64</td>\n",
       "      <td>float64</td>\n",
       "      <td>float64</td>\n",
       "      <td>float64</td>\n",
       "      <td>float64</td>\n",
       "      <td>float64</td>\n",
       "      <td>float64</td>\n",
       "      <td>float64</td>\n",
       "      <td>float64</td>\n",
       "      <td>float64</td>\n",
       "      <td>float64</td>\n",
       "      <td>float64</td>\n",
       "      <td>float64</td>\n",
       "      <td>float64</td>\n",
       "      <td>float64</td>\n",
       "      <td>float64</td>\n",
       "      <td>float64</td>\n",
       "      <td>float64</td>\n",
       "      <td>float64</td>\n",
       "      <td>float64</td>\n",
       "      <td>float64</td>\n",
       "      <td>float64</td>\n",
       "      <td>float64</td>\n",
       "      <td>float64</td>\n",
       "      <td>float64</td>\n",
       "      <td>float64</td>\n",
       "      <td>float64</td>\n",
       "      <td>float64</td>\n",
       "      <td>float64</td>\n",
       "      <td>float64</td>\n",
       "      <td>float64</td>\n",
       "      <td>float64</td>\n",
       "      <td>float64</td>\n",
       "      <td>float64</td>\n",
       "      <td>float64</td>\n",
       "      <td>float64</td>\n",
       "      <td>float64</td>\n",
       "      <td>float64</td>\n",
       "      <td>float64</td>\n",
       "      <td>float64</td>\n",
       "      <td>float64</td>\n",
       "      <td>float64</td>\n",
       "      <td>float64</td>\n",
       "      <td>float64</td>\n",
       "      <td>float64</td>\n",
       "      <td>float64</td>\n",
       "      <td>float64</td>\n",
       "      <td>float64</td>\n",
       "      <td>float64</td>\n",
       "      <td>float64</td>\n",
       "      <td>float64</td>\n",
       "      <td>float64</td>\n",
       "      <td>float64</td>\n",
       "      <td>float64</td>\n",
       "      <td>float64</td>\n",
       "      <td>float64</td>\n",
       "      <td>float64</td>\n",
       "      <td>float64</td>\n",
       "      <td>float64</td>\n",
       "      <td>float64</td>\n",
       "      <td>float64</td>\n",
       "      <td>float64</td>\n",
       "      <td>float64</td>\n",
       "      <td>float64</td>\n",
       "      <td>float64</td>\n",
       "      <td>float64</td>\n",
       "      <td>float64</td>\n",
       "      <td>float64</td>\n",
       "      <td>float64</td>\n",
       "      <td>float64</td>\n",
       "      <td>float64</td>\n",
       "      <td>float64</td>\n",
       "      <td>float64</td>\n",
       "      <td>float64</td>\n",
       "      <td>float64</td>\n",
       "      <td>float64</td>\n",
       "      <td>float64</td>\n",
       "      <td>float64</td>\n",
       "      <td>float64</td>\n",
       "      <td>float64</td>\n",
       "      <td>float64</td>\n",
       "      <td>float64</td>\n",
       "      <td>float64</td>\n",
       "      <td>float64</td>\n",
       "      <td>float64</td>\n",
       "      <td>float64</td>\n",
       "      <td>float64</td>\n",
       "      <td>float64</td>\n",
       "      <td>float64</td>\n",
       "      <td>float64</td>\n",
       "      <td>float64</td>\n",
       "      <td>float64</td>\n",
       "      <td>float64</td>\n",
       "      <td>float64</td>\n",
       "      <td>float64</td>\n",
       "      <td>float64</td>\n",
       "      <td>float64</td>\n",
       "      <td>float64</td>\n",
       "      <td>float64</td>\n",
       "      <td>float64</td>\n",
       "      <td>float64</td>\n",
       "      <td>float64</td>\n",
       "      <td>float64</td>\n",
       "      <td>float64</td>\n",
       "      <td>float64</td>\n",
       "      <td>float64</td>\n",
       "      <td>float64</td>\n",
       "      <td>float64</td>\n",
       "      <td>float64</td>\n",
       "      <td>float64</td>\n",
       "      <td>float64</td>\n",
       "      <td>float64</td>\n",
       "      <td>float64</td>\n",
       "      <td>float64</td>\n",
       "      <td>float64</td>\n",
       "      <td>float64</td>\n",
       "      <td>float64</td>\n",
       "      <td>float64</td>\n",
       "      <td>float64</td>\n",
       "      <td>float64</td>\n",
       "      <td>float64</td>\n",
       "      <td>float64</td>\n",
       "      <td>float64</td>\n",
       "      <td>float64</td>\n",
       "      <td>float64</td>\n",
       "      <td>float64</td>\n",
       "      <td>float64</td>\n",
       "      <td>float64</td>\n",
       "      <td>float64</td>\n",
       "      <td>float64</td>\n",
       "      <td>float64</td>\n",
       "      <td>float64</td>\n",
       "      <td>float64</td>\n",
       "      <td>float64</td>\n",
       "      <td>float64</td>\n",
       "      <td>float64</td>\n",
       "      <td>float64</td>\n",
       "      <td>float64</td>\n",
       "      <td>float64</td>\n",
       "      <td>float64</td>\n",
       "      <td>float64</td>\n",
       "      <td>float64</td>\n",
       "      <td>float64</td>\n",
       "      <td>float64</td>\n",
       "      <td>float64</td>\n",
       "      <td>float64</td>\n",
       "      <td>float64</td>\n",
       "      <td>float64</td>\n",
       "      <td>float64</td>\n",
       "      <td>float64</td>\n",
       "      <td>float64</td>\n",
       "      <td>float64</td>\n",
       "      <td>float64</td>\n",
       "      <td>float64</td>\n",
       "      <td>float64</td>\n",
       "      <td>float64</td>\n",
       "      <td>float64</td>\n",
       "      <td>float64</td>\n",
       "      <td>float64</td>\n",
       "      <td>float64</td>\n",
       "      <td>float64</td>\n",
       "      <td>float64</td>\n",
       "      <td>float64</td>\n",
       "      <td>float64</td>\n",
       "      <td>float64</td>\n",
       "      <td>float64</td>\n",
       "      <td>float64</td>\n",
       "      <td>float64</td>\n",
       "      <td>float64</td>\n",
       "      <td>float64</td>\n",
       "      <td>float64</td>\n",
       "      <td>float64</td>\n",
       "      <td>float64</td>\n",
       "      <td>float64</td>\n",
       "      <td>float64</td>\n",
       "      <td>float64</td>\n",
       "      <td>float64</td>\n",
       "      <td>float64</td>\n",
       "      <td>float64</td>\n",
       "      <td>float64</td>\n",
       "      <td>float64</td>\n",
       "      <td>float64</td>\n",
       "      <td>float64</td>\n",
       "      <td>float64</td>\n",
       "      <td>float64</td>\n",
       "      <td>float64</td>\n",
       "      <td>float64</td>\n",
       "      <td>float64</td>\n",
       "      <td>float64</td>\n",
       "      <td>float64</td>\n",
       "      <td>float64</td>\n",
       "      <td>float64</td>\n",
       "      <td>float64</td>\n",
       "      <td>float64</td>\n",
       "      <td>float64</td>\n",
       "      <td>float64</td>\n",
       "      <td>float64</td>\n",
       "      <td>float64</td>\n",
       "      <td>float64</td>\n",
       "      <td>float64</td>\n",
       "      <td>float64</td>\n",
       "      <td>float64</td>\n",
       "      <td>float64</td>\n",
       "      <td>float64</td>\n",
       "      <td>float64</td>\n",
       "      <td>float64</td>\n",
       "      <td>float64</td>\n",
       "      <td>float64</td>\n",
       "      <td>float64</td>\n",
       "      <td>float64</td>\n",
       "      <td>float64</td>\n",
       "      <td>float64</td>\n",
       "      <td>float64</td>\n",
       "      <td>float64</td>\n",
       "      <td>float64</td>\n",
       "      <td>float64</td>\n",
       "      <td>float64</td>\n",
       "    </tr>\n",
       "    <tr>\n",
       "      <th></th>\n",
       "      <td>...</td>\n",
       "      <td>...</td>\n",
       "      <td>...</td>\n",
       "      <td>...</td>\n",
       "      <td>...</td>\n",
       "      <td>...</td>\n",
       "      <td>...</td>\n",
       "      <td>...</td>\n",
       "      <td>...</td>\n",
       "      <td>...</td>\n",
       "      <td>...</td>\n",
       "      <td>...</td>\n",
       "      <td>...</td>\n",
       "      <td>...</td>\n",
       "      <td>...</td>\n",
       "      <td>...</td>\n",
       "      <td>...</td>\n",
       "      <td>...</td>\n",
       "      <td>...</td>\n",
       "      <td>...</td>\n",
       "      <td>...</td>\n",
       "      <td>...</td>\n",
       "      <td>...</td>\n",
       "      <td>...</td>\n",
       "      <td>...</td>\n",
       "      <td>...</td>\n",
       "      <td>...</td>\n",
       "      <td>...</td>\n",
       "      <td>...</td>\n",
       "      <td>...</td>\n",
       "      <td>...</td>\n",
       "      <td>...</td>\n",
       "      <td>...</td>\n",
       "      <td>...</td>\n",
       "      <td>...</td>\n",
       "      <td>...</td>\n",
       "      <td>...</td>\n",
       "      <td>...</td>\n",
       "      <td>...</td>\n",
       "      <td>...</td>\n",
       "      <td>...</td>\n",
       "      <td>...</td>\n",
       "      <td>...</td>\n",
       "      <td>...</td>\n",
       "      <td>...</td>\n",
       "      <td>...</td>\n",
       "      <td>...</td>\n",
       "      <td>...</td>\n",
       "      <td>...</td>\n",
       "      <td>...</td>\n",
       "      <td>...</td>\n",
       "      <td>...</td>\n",
       "      <td>...</td>\n",
       "      <td>...</td>\n",
       "      <td>...</td>\n",
       "      <td>...</td>\n",
       "      <td>...</td>\n",
       "      <td>...</td>\n",
       "      <td>...</td>\n",
       "      <td>...</td>\n",
       "      <td>...</td>\n",
       "      <td>...</td>\n",
       "      <td>...</td>\n",
       "      <td>...</td>\n",
       "      <td>...</td>\n",
       "      <td>...</td>\n",
       "      <td>...</td>\n",
       "      <td>...</td>\n",
       "      <td>...</td>\n",
       "      <td>...</td>\n",
       "      <td>...</td>\n",
       "      <td>...</td>\n",
       "      <td>...</td>\n",
       "      <td>...</td>\n",
       "      <td>...</td>\n",
       "      <td>...</td>\n",
       "      <td>...</td>\n",
       "      <td>...</td>\n",
       "      <td>...</td>\n",
       "      <td>...</td>\n",
       "      <td>...</td>\n",
       "      <td>...</td>\n",
       "      <td>...</td>\n",
       "      <td>...</td>\n",
       "      <td>...</td>\n",
       "      <td>...</td>\n",
       "      <td>...</td>\n",
       "      <td>...</td>\n",
       "      <td>...</td>\n",
       "      <td>...</td>\n",
       "      <td>...</td>\n",
       "      <td>...</td>\n",
       "      <td>...</td>\n",
       "      <td>...</td>\n",
       "      <td>...</td>\n",
       "      <td>...</td>\n",
       "      <td>...</td>\n",
       "      <td>...</td>\n",
       "      <td>...</td>\n",
       "      <td>...</td>\n",
       "      <td>...</td>\n",
       "      <td>...</td>\n",
       "      <td>...</td>\n",
       "      <td>...</td>\n",
       "      <td>...</td>\n",
       "      <td>...</td>\n",
       "      <td>...</td>\n",
       "      <td>...</td>\n",
       "      <td>...</td>\n",
       "      <td>...</td>\n",
       "      <td>...</td>\n",
       "      <td>...</td>\n",
       "      <td>...</td>\n",
       "      <td>...</td>\n",
       "      <td>...</td>\n",
       "      <td>...</td>\n",
       "      <td>...</td>\n",
       "      <td>...</td>\n",
       "      <td>...</td>\n",
       "      <td>...</td>\n",
       "      <td>...</td>\n",
       "      <td>...</td>\n",
       "      <td>...</td>\n",
       "      <td>...</td>\n",
       "      <td>...</td>\n",
       "      <td>...</td>\n",
       "      <td>...</td>\n",
       "      <td>...</td>\n",
       "      <td>...</td>\n",
       "      <td>...</td>\n",
       "      <td>...</td>\n",
       "      <td>...</td>\n",
       "      <td>...</td>\n",
       "      <td>...</td>\n",
       "      <td>...</td>\n",
       "      <td>...</td>\n",
       "      <td>...</td>\n",
       "      <td>...</td>\n",
       "      <td>...</td>\n",
       "      <td>...</td>\n",
       "      <td>...</td>\n",
       "      <td>...</td>\n",
       "      <td>...</td>\n",
       "      <td>...</td>\n",
       "      <td>...</td>\n",
       "      <td>...</td>\n",
       "      <td>...</td>\n",
       "      <td>...</td>\n",
       "      <td>...</td>\n",
       "      <td>...</td>\n",
       "      <td>...</td>\n",
       "      <td>...</td>\n",
       "      <td>...</td>\n",
       "      <td>...</td>\n",
       "      <td>...</td>\n",
       "      <td>...</td>\n",
       "      <td>...</td>\n",
       "      <td>...</td>\n",
       "      <td>...</td>\n",
       "      <td>...</td>\n",
       "      <td>...</td>\n",
       "      <td>...</td>\n",
       "      <td>...</td>\n",
       "      <td>...</td>\n",
       "      <td>...</td>\n",
       "      <td>...</td>\n",
       "      <td>...</td>\n",
       "      <td>...</td>\n",
       "      <td>...</td>\n",
       "      <td>...</td>\n",
       "      <td>...</td>\n",
       "      <td>...</td>\n",
       "      <td>...</td>\n",
       "      <td>...</td>\n",
       "      <td>...</td>\n",
       "      <td>...</td>\n",
       "      <td>...</td>\n",
       "      <td>...</td>\n",
       "      <td>...</td>\n",
       "      <td>...</td>\n",
       "      <td>...</td>\n",
       "      <td>...</td>\n",
       "      <td>...</td>\n",
       "      <td>...</td>\n",
       "      <td>...</td>\n",
       "      <td>...</td>\n",
       "      <td>...</td>\n",
       "      <td>...</td>\n",
       "      <td>...</td>\n",
       "      <td>...</td>\n",
       "      <td>...</td>\n",
       "      <td>...</td>\n",
       "      <td>...</td>\n",
       "      <td>...</td>\n",
       "      <td>...</td>\n",
       "      <td>...</td>\n",
       "      <td>...</td>\n",
       "      <td>...</td>\n",
       "      <td>...</td>\n",
       "      <td>...</td>\n",
       "      <td>...</td>\n",
       "      <td>...</td>\n",
       "      <td>...</td>\n",
       "      <td>...</td>\n",
       "      <td>...</td>\n",
       "      <td>...</td>\n",
       "      <td>...</td>\n",
       "      <td>...</td>\n",
       "      <td>...</td>\n",
       "      <td>...</td>\n",
       "      <td>...</td>\n",
       "      <td>...</td>\n",
       "      <td>...</td>\n",
       "      <td>...</td>\n",
       "      <td>...</td>\n",
       "      <td>...</td>\n",
       "      <td>...</td>\n",
       "      <td>...</td>\n",
       "      <td>...</td>\n",
       "      <td>...</td>\n",
       "      <td>...</td>\n",
       "      <td>...</td>\n",
       "      <td>...</td>\n",
       "      <td>...</td>\n",
       "      <td>...</td>\n",
       "      <td>...</td>\n",
       "      <td>...</td>\n",
       "      <td>...</td>\n",
       "      <td>...</td>\n",
       "      <td>...</td>\n",
       "      <td>...</td>\n",
       "      <td>...</td>\n",
       "      <td>...</td>\n",
       "      <td>...</td>\n",
       "      <td>...</td>\n",
       "      <td>...</td>\n",
       "      <td>...</td>\n",
       "      <td>...</td>\n",
       "      <td>...</td>\n",
       "      <td>...</td>\n",
       "      <td>...</td>\n",
       "      <td>...</td>\n",
       "      <td>...</td>\n",
       "      <td>...</td>\n",
       "      <td>...</td>\n",
       "      <td>...</td>\n",
       "      <td>...</td>\n",
       "      <td>...</td>\n",
       "      <td>...</td>\n",
       "      <td>...</td>\n",
       "      <td>...</td>\n",
       "      <td>...</td>\n",
       "      <td>...</td>\n",
       "      <td>...</td>\n",
       "      <td>...</td>\n",
       "      <td>...</td>\n",
       "    </tr>\n",
       "    <tr>\n",
       "      <th>...</th>\n",
       "      <td>...</td>\n",
       "      <td>...</td>\n",
       "      <td>...</td>\n",
       "      <td>...</td>\n",
       "      <td>...</td>\n",
       "      <td>...</td>\n",
       "      <td>...</td>\n",
       "      <td>...</td>\n",
       "      <td>...</td>\n",
       "      <td>...</td>\n",
       "      <td>...</td>\n",
       "      <td>...</td>\n",
       "      <td>...</td>\n",
       "      <td>...</td>\n",
       "      <td>...</td>\n",
       "      <td>...</td>\n",
       "      <td>...</td>\n",
       "      <td>...</td>\n",
       "      <td>...</td>\n",
       "      <td>...</td>\n",
       "      <td>...</td>\n",
       "      <td>...</td>\n",
       "      <td>...</td>\n",
       "      <td>...</td>\n",
       "      <td>...</td>\n",
       "      <td>...</td>\n",
       "      <td>...</td>\n",
       "      <td>...</td>\n",
       "      <td>...</td>\n",
       "      <td>...</td>\n",
       "      <td>...</td>\n",
       "      <td>...</td>\n",
       "      <td>...</td>\n",
       "      <td>...</td>\n",
       "      <td>...</td>\n",
       "      <td>...</td>\n",
       "      <td>...</td>\n",
       "      <td>...</td>\n",
       "      <td>...</td>\n",
       "      <td>...</td>\n",
       "      <td>...</td>\n",
       "      <td>...</td>\n",
       "      <td>...</td>\n",
       "      <td>...</td>\n",
       "      <td>...</td>\n",
       "      <td>...</td>\n",
       "      <td>...</td>\n",
       "      <td>...</td>\n",
       "      <td>...</td>\n",
       "      <td>...</td>\n",
       "      <td>...</td>\n",
       "      <td>...</td>\n",
       "      <td>...</td>\n",
       "      <td>...</td>\n",
       "      <td>...</td>\n",
       "      <td>...</td>\n",
       "      <td>...</td>\n",
       "      <td>...</td>\n",
       "      <td>...</td>\n",
       "      <td>...</td>\n",
       "      <td>...</td>\n",
       "      <td>...</td>\n",
       "      <td>...</td>\n",
       "      <td>...</td>\n",
       "      <td>...</td>\n",
       "      <td>...</td>\n",
       "      <td>...</td>\n",
       "      <td>...</td>\n",
       "      <td>...</td>\n",
       "      <td>...</td>\n",
       "      <td>...</td>\n",
       "      <td>...</td>\n",
       "      <td>...</td>\n",
       "      <td>...</td>\n",
       "      <td>...</td>\n",
       "      <td>...</td>\n",
       "      <td>...</td>\n",
       "      <td>...</td>\n",
       "      <td>...</td>\n",
       "      <td>...</td>\n",
       "      <td>...</td>\n",
       "      <td>...</td>\n",
       "      <td>...</td>\n",
       "      <td>...</td>\n",
       "      <td>...</td>\n",
       "      <td>...</td>\n",
       "      <td>...</td>\n",
       "      <td>...</td>\n",
       "      <td>...</td>\n",
       "      <td>...</td>\n",
       "      <td>...</td>\n",
       "      <td>...</td>\n",
       "      <td>...</td>\n",
       "      <td>...</td>\n",
       "      <td>...</td>\n",
       "      <td>...</td>\n",
       "      <td>...</td>\n",
       "      <td>...</td>\n",
       "      <td>...</td>\n",
       "      <td>...</td>\n",
       "      <td>...</td>\n",
       "      <td>...</td>\n",
       "      <td>...</td>\n",
       "      <td>...</td>\n",
       "      <td>...</td>\n",
       "      <td>...</td>\n",
       "      <td>...</td>\n",
       "      <td>...</td>\n",
       "      <td>...</td>\n",
       "      <td>...</td>\n",
       "      <td>...</td>\n",
       "      <td>...</td>\n",
       "      <td>...</td>\n",
       "      <td>...</td>\n",
       "      <td>...</td>\n",
       "      <td>...</td>\n",
       "      <td>...</td>\n",
       "      <td>...</td>\n",
       "      <td>...</td>\n",
       "      <td>...</td>\n",
       "      <td>...</td>\n",
       "      <td>...</td>\n",
       "      <td>...</td>\n",
       "      <td>...</td>\n",
       "      <td>...</td>\n",
       "      <td>...</td>\n",
       "      <td>...</td>\n",
       "      <td>...</td>\n",
       "      <td>...</td>\n",
       "      <td>...</td>\n",
       "      <td>...</td>\n",
       "      <td>...</td>\n",
       "      <td>...</td>\n",
       "      <td>...</td>\n",
       "      <td>...</td>\n",
       "      <td>...</td>\n",
       "      <td>...</td>\n",
       "      <td>...</td>\n",
       "      <td>...</td>\n",
       "      <td>...</td>\n",
       "      <td>...</td>\n",
       "      <td>...</td>\n",
       "      <td>...</td>\n",
       "      <td>...</td>\n",
       "      <td>...</td>\n",
       "      <td>...</td>\n",
       "      <td>...</td>\n",
       "      <td>...</td>\n",
       "      <td>...</td>\n",
       "      <td>...</td>\n",
       "      <td>...</td>\n",
       "      <td>...</td>\n",
       "      <td>...</td>\n",
       "      <td>...</td>\n",
       "      <td>...</td>\n",
       "      <td>...</td>\n",
       "      <td>...</td>\n",
       "      <td>...</td>\n",
       "      <td>...</td>\n",
       "      <td>...</td>\n",
       "      <td>...</td>\n",
       "      <td>...</td>\n",
       "      <td>...</td>\n",
       "      <td>...</td>\n",
       "      <td>...</td>\n",
       "      <td>...</td>\n",
       "      <td>...</td>\n",
       "      <td>...</td>\n",
       "      <td>...</td>\n",
       "      <td>...</td>\n",
       "      <td>...</td>\n",
       "      <td>...</td>\n",
       "      <td>...</td>\n",
       "      <td>...</td>\n",
       "      <td>...</td>\n",
       "      <td>...</td>\n",
       "      <td>...</td>\n",
       "      <td>...</td>\n",
       "      <td>...</td>\n",
       "      <td>...</td>\n",
       "      <td>...</td>\n",
       "      <td>...</td>\n",
       "      <td>...</td>\n",
       "      <td>...</td>\n",
       "      <td>...</td>\n",
       "      <td>...</td>\n",
       "      <td>...</td>\n",
       "      <td>...</td>\n",
       "      <td>...</td>\n",
       "      <td>...</td>\n",
       "      <td>...</td>\n",
       "      <td>...</td>\n",
       "      <td>...</td>\n",
       "      <td>...</td>\n",
       "      <td>...</td>\n",
       "      <td>...</td>\n",
       "      <td>...</td>\n",
       "      <td>...</td>\n",
       "      <td>...</td>\n",
       "      <td>...</td>\n",
       "      <td>...</td>\n",
       "      <td>...</td>\n",
       "      <td>...</td>\n",
       "      <td>...</td>\n",
       "      <td>...</td>\n",
       "      <td>...</td>\n",
       "      <td>...</td>\n",
       "      <td>...</td>\n",
       "      <td>...</td>\n",
       "      <td>...</td>\n",
       "      <td>...</td>\n",
       "      <td>...</td>\n",
       "      <td>...</td>\n",
       "      <td>...</td>\n",
       "      <td>...</td>\n",
       "      <td>...</td>\n",
       "      <td>...</td>\n",
       "      <td>...</td>\n",
       "      <td>...</td>\n",
       "      <td>...</td>\n",
       "      <td>...</td>\n",
       "      <td>...</td>\n",
       "      <td>...</td>\n",
       "      <td>...</td>\n",
       "      <td>...</td>\n",
       "      <td>...</td>\n",
       "      <td>...</td>\n",
       "      <td>...</td>\n",
       "      <td>...</td>\n",
       "      <td>...</td>\n",
       "      <td>...</td>\n",
       "      <td>...</td>\n",
       "      <td>...</td>\n",
       "      <td>...</td>\n",
       "      <td>...</td>\n",
       "      <td>...</td>\n",
       "      <td>...</td>\n",
       "      <td>...</td>\n",
       "      <td>...</td>\n",
       "      <td>...</td>\n",
       "      <td>...</td>\n",
       "      <td>...</td>\n",
       "      <td>...</td>\n",
       "      <td>...</td>\n",
       "      <td>...</td>\n",
       "      <td>...</td>\n",
       "      <td>...</td>\n",
       "      <td>...</td>\n",
       "      <td>...</td>\n",
       "      <td>...</td>\n",
       "      <td>...</td>\n",
       "      <td>...</td>\n",
       "      <td>...</td>\n",
       "      <td>...</td>\n",
       "      <td>...</td>\n",
       "      <td>...</td>\n",
       "    </tr>\n",
       "    <tr>\n",
       "      <th></th>\n",
       "      <td>...</td>\n",
       "      <td>...</td>\n",
       "      <td>...</td>\n",
       "      <td>...</td>\n",
       "      <td>...</td>\n",
       "      <td>...</td>\n",
       "      <td>...</td>\n",
       "      <td>...</td>\n",
       "      <td>...</td>\n",
       "      <td>...</td>\n",
       "      <td>...</td>\n",
       "      <td>...</td>\n",
       "      <td>...</td>\n",
       "      <td>...</td>\n",
       "      <td>...</td>\n",
       "      <td>...</td>\n",
       "      <td>...</td>\n",
       "      <td>...</td>\n",
       "      <td>...</td>\n",
       "      <td>...</td>\n",
       "      <td>...</td>\n",
       "      <td>...</td>\n",
       "      <td>...</td>\n",
       "      <td>...</td>\n",
       "      <td>...</td>\n",
       "      <td>...</td>\n",
       "      <td>...</td>\n",
       "      <td>...</td>\n",
       "      <td>...</td>\n",
       "      <td>...</td>\n",
       "      <td>...</td>\n",
       "      <td>...</td>\n",
       "      <td>...</td>\n",
       "      <td>...</td>\n",
       "      <td>...</td>\n",
       "      <td>...</td>\n",
       "      <td>...</td>\n",
       "      <td>...</td>\n",
       "      <td>...</td>\n",
       "      <td>...</td>\n",
       "      <td>...</td>\n",
       "      <td>...</td>\n",
       "      <td>...</td>\n",
       "      <td>...</td>\n",
       "      <td>...</td>\n",
       "      <td>...</td>\n",
       "      <td>...</td>\n",
       "      <td>...</td>\n",
       "      <td>...</td>\n",
       "      <td>...</td>\n",
       "      <td>...</td>\n",
       "      <td>...</td>\n",
       "      <td>...</td>\n",
       "      <td>...</td>\n",
       "      <td>...</td>\n",
       "      <td>...</td>\n",
       "      <td>...</td>\n",
       "      <td>...</td>\n",
       "      <td>...</td>\n",
       "      <td>...</td>\n",
       "      <td>...</td>\n",
       "      <td>...</td>\n",
       "      <td>...</td>\n",
       "      <td>...</td>\n",
       "      <td>...</td>\n",
       "      <td>...</td>\n",
       "      <td>...</td>\n",
       "      <td>...</td>\n",
       "      <td>...</td>\n",
       "      <td>...</td>\n",
       "      <td>...</td>\n",
       "      <td>...</td>\n",
       "      <td>...</td>\n",
       "      <td>...</td>\n",
       "      <td>...</td>\n",
       "      <td>...</td>\n",
       "      <td>...</td>\n",
       "      <td>...</td>\n",
       "      <td>...</td>\n",
       "      <td>...</td>\n",
       "      <td>...</td>\n",
       "      <td>...</td>\n",
       "      <td>...</td>\n",
       "      <td>...</td>\n",
       "      <td>...</td>\n",
       "      <td>...</td>\n",
       "      <td>...</td>\n",
       "      <td>...</td>\n",
       "      <td>...</td>\n",
       "      <td>...</td>\n",
       "      <td>...</td>\n",
       "      <td>...</td>\n",
       "      <td>...</td>\n",
       "      <td>...</td>\n",
       "      <td>...</td>\n",
       "      <td>...</td>\n",
       "      <td>...</td>\n",
       "      <td>...</td>\n",
       "      <td>...</td>\n",
       "      <td>...</td>\n",
       "      <td>...</td>\n",
       "      <td>...</td>\n",
       "      <td>...</td>\n",
       "      <td>...</td>\n",
       "      <td>...</td>\n",
       "      <td>...</td>\n",
       "      <td>...</td>\n",
       "      <td>...</td>\n",
       "      <td>...</td>\n",
       "      <td>...</td>\n",
       "      <td>...</td>\n",
       "      <td>...</td>\n",
       "      <td>...</td>\n",
       "      <td>...</td>\n",
       "      <td>...</td>\n",
       "      <td>...</td>\n",
       "      <td>...</td>\n",
       "      <td>...</td>\n",
       "      <td>...</td>\n",
       "      <td>...</td>\n",
       "      <td>...</td>\n",
       "      <td>...</td>\n",
       "      <td>...</td>\n",
       "      <td>...</td>\n",
       "      <td>...</td>\n",
       "      <td>...</td>\n",
       "      <td>...</td>\n",
       "      <td>...</td>\n",
       "      <td>...</td>\n",
       "      <td>...</td>\n",
       "      <td>...</td>\n",
       "      <td>...</td>\n",
       "      <td>...</td>\n",
       "      <td>...</td>\n",
       "      <td>...</td>\n",
       "      <td>...</td>\n",
       "      <td>...</td>\n",
       "      <td>...</td>\n",
       "      <td>...</td>\n",
       "      <td>...</td>\n",
       "      <td>...</td>\n",
       "      <td>...</td>\n",
       "      <td>...</td>\n",
       "      <td>...</td>\n",
       "      <td>...</td>\n",
       "      <td>...</td>\n",
       "      <td>...</td>\n",
       "      <td>...</td>\n",
       "      <td>...</td>\n",
       "      <td>...</td>\n",
       "      <td>...</td>\n",
       "      <td>...</td>\n",
       "      <td>...</td>\n",
       "      <td>...</td>\n",
       "      <td>...</td>\n",
       "      <td>...</td>\n",
       "      <td>...</td>\n",
       "      <td>...</td>\n",
       "      <td>...</td>\n",
       "      <td>...</td>\n",
       "      <td>...</td>\n",
       "      <td>...</td>\n",
       "      <td>...</td>\n",
       "      <td>...</td>\n",
       "      <td>...</td>\n",
       "      <td>...</td>\n",
       "      <td>...</td>\n",
       "      <td>...</td>\n",
       "      <td>...</td>\n",
       "      <td>...</td>\n",
       "      <td>...</td>\n",
       "      <td>...</td>\n",
       "      <td>...</td>\n",
       "      <td>...</td>\n",
       "      <td>...</td>\n",
       "      <td>...</td>\n",
       "      <td>...</td>\n",
       "      <td>...</td>\n",
       "      <td>...</td>\n",
       "      <td>...</td>\n",
       "      <td>...</td>\n",
       "      <td>...</td>\n",
       "      <td>...</td>\n",
       "      <td>...</td>\n",
       "      <td>...</td>\n",
       "      <td>...</td>\n",
       "      <td>...</td>\n",
       "      <td>...</td>\n",
       "      <td>...</td>\n",
       "      <td>...</td>\n",
       "      <td>...</td>\n",
       "      <td>...</td>\n",
       "      <td>...</td>\n",
       "      <td>...</td>\n",
       "      <td>...</td>\n",
       "      <td>...</td>\n",
       "      <td>...</td>\n",
       "      <td>...</td>\n",
       "      <td>...</td>\n",
       "      <td>...</td>\n",
       "      <td>...</td>\n",
       "      <td>...</td>\n",
       "      <td>...</td>\n",
       "      <td>...</td>\n",
       "      <td>...</td>\n",
       "      <td>...</td>\n",
       "      <td>...</td>\n",
       "      <td>...</td>\n",
       "      <td>...</td>\n",
       "      <td>...</td>\n",
       "      <td>...</td>\n",
       "      <td>...</td>\n",
       "      <td>...</td>\n",
       "      <td>...</td>\n",
       "      <td>...</td>\n",
       "      <td>...</td>\n",
       "      <td>...</td>\n",
       "      <td>...</td>\n",
       "      <td>...</td>\n",
       "      <td>...</td>\n",
       "      <td>...</td>\n",
       "      <td>...</td>\n",
       "      <td>...</td>\n",
       "      <td>...</td>\n",
       "      <td>...</td>\n",
       "      <td>...</td>\n",
       "      <td>...</td>\n",
       "      <td>...</td>\n",
       "      <td>...</td>\n",
       "      <td>...</td>\n",
       "      <td>...</td>\n",
       "      <td>...</td>\n",
       "      <td>...</td>\n",
       "      <td>...</td>\n",
       "      <td>...</td>\n",
       "      <td>...</td>\n",
       "      <td>...</td>\n",
       "      <td>...</td>\n",
       "      <td>...</td>\n",
       "      <td>...</td>\n",
       "      <td>...</td>\n",
       "      <td>...</td>\n",
       "      <td>...</td>\n",
       "      <td>...</td>\n",
       "      <td>...</td>\n",
       "      <td>...</td>\n",
       "      <td>...</td>\n",
       "      <td>...</td>\n",
       "      <td>...</td>\n",
       "      <td>...</td>\n",
       "      <td>...</td>\n",
       "      <td>...</td>\n",
       "      <td>...</td>\n",
       "      <td>...</td>\n",
       "      <td>...</td>\n",
       "      <td>...</td>\n",
       "    </tr>\n",
       "    <tr>\n",
       "      <th></th>\n",
       "      <td>...</td>\n",
       "      <td>...</td>\n",
       "      <td>...</td>\n",
       "      <td>...</td>\n",
       "      <td>...</td>\n",
       "      <td>...</td>\n",
       "      <td>...</td>\n",
       "      <td>...</td>\n",
       "      <td>...</td>\n",
       "      <td>...</td>\n",
       "      <td>...</td>\n",
       "      <td>...</td>\n",
       "      <td>...</td>\n",
       "      <td>...</td>\n",
       "      <td>...</td>\n",
       "      <td>...</td>\n",
       "      <td>...</td>\n",
       "      <td>...</td>\n",
       "      <td>...</td>\n",
       "      <td>...</td>\n",
       "      <td>...</td>\n",
       "      <td>...</td>\n",
       "      <td>...</td>\n",
       "      <td>...</td>\n",
       "      <td>...</td>\n",
       "      <td>...</td>\n",
       "      <td>...</td>\n",
       "      <td>...</td>\n",
       "      <td>...</td>\n",
       "      <td>...</td>\n",
       "      <td>...</td>\n",
       "      <td>...</td>\n",
       "      <td>...</td>\n",
       "      <td>...</td>\n",
       "      <td>...</td>\n",
       "      <td>...</td>\n",
       "      <td>...</td>\n",
       "      <td>...</td>\n",
       "      <td>...</td>\n",
       "      <td>...</td>\n",
       "      <td>...</td>\n",
       "      <td>...</td>\n",
       "      <td>...</td>\n",
       "      <td>...</td>\n",
       "      <td>...</td>\n",
       "      <td>...</td>\n",
       "      <td>...</td>\n",
       "      <td>...</td>\n",
       "      <td>...</td>\n",
       "      <td>...</td>\n",
       "      <td>...</td>\n",
       "      <td>...</td>\n",
       "      <td>...</td>\n",
       "      <td>...</td>\n",
       "      <td>...</td>\n",
       "      <td>...</td>\n",
       "      <td>...</td>\n",
       "      <td>...</td>\n",
       "      <td>...</td>\n",
       "      <td>...</td>\n",
       "      <td>...</td>\n",
       "      <td>...</td>\n",
       "      <td>...</td>\n",
       "      <td>...</td>\n",
       "      <td>...</td>\n",
       "      <td>...</td>\n",
       "      <td>...</td>\n",
       "      <td>...</td>\n",
       "      <td>...</td>\n",
       "      <td>...</td>\n",
       "      <td>...</td>\n",
       "      <td>...</td>\n",
       "      <td>...</td>\n",
       "      <td>...</td>\n",
       "      <td>...</td>\n",
       "      <td>...</td>\n",
       "      <td>...</td>\n",
       "      <td>...</td>\n",
       "      <td>...</td>\n",
       "      <td>...</td>\n",
       "      <td>...</td>\n",
       "      <td>...</td>\n",
       "      <td>...</td>\n",
       "      <td>...</td>\n",
       "      <td>...</td>\n",
       "      <td>...</td>\n",
       "      <td>...</td>\n",
       "      <td>...</td>\n",
       "      <td>...</td>\n",
       "      <td>...</td>\n",
       "      <td>...</td>\n",
       "      <td>...</td>\n",
       "      <td>...</td>\n",
       "      <td>...</td>\n",
       "      <td>...</td>\n",
       "      <td>...</td>\n",
       "      <td>...</td>\n",
       "      <td>...</td>\n",
       "      <td>...</td>\n",
       "      <td>...</td>\n",
       "      <td>...</td>\n",
       "      <td>...</td>\n",
       "      <td>...</td>\n",
       "      <td>...</td>\n",
       "      <td>...</td>\n",
       "      <td>...</td>\n",
       "      <td>...</td>\n",
       "      <td>...</td>\n",
       "      <td>...</td>\n",
       "      <td>...</td>\n",
       "      <td>...</td>\n",
       "      <td>...</td>\n",
       "      <td>...</td>\n",
       "      <td>...</td>\n",
       "      <td>...</td>\n",
       "      <td>...</td>\n",
       "      <td>...</td>\n",
       "      <td>...</td>\n",
       "      <td>...</td>\n",
       "      <td>...</td>\n",
       "      <td>...</td>\n",
       "      <td>...</td>\n",
       "      <td>...</td>\n",
       "      <td>...</td>\n",
       "      <td>...</td>\n",
       "      <td>...</td>\n",
       "      <td>...</td>\n",
       "      <td>...</td>\n",
       "      <td>...</td>\n",
       "      <td>...</td>\n",
       "      <td>...</td>\n",
       "      <td>...</td>\n",
       "      <td>...</td>\n",
       "      <td>...</td>\n",
       "      <td>...</td>\n",
       "      <td>...</td>\n",
       "      <td>...</td>\n",
       "      <td>...</td>\n",
       "      <td>...</td>\n",
       "      <td>...</td>\n",
       "      <td>...</td>\n",
       "      <td>...</td>\n",
       "      <td>...</td>\n",
       "      <td>...</td>\n",
       "      <td>...</td>\n",
       "      <td>...</td>\n",
       "      <td>...</td>\n",
       "      <td>...</td>\n",
       "      <td>...</td>\n",
       "      <td>...</td>\n",
       "      <td>...</td>\n",
       "      <td>...</td>\n",
       "      <td>...</td>\n",
       "      <td>...</td>\n",
       "      <td>...</td>\n",
       "      <td>...</td>\n",
       "      <td>...</td>\n",
       "      <td>...</td>\n",
       "      <td>...</td>\n",
       "      <td>...</td>\n",
       "      <td>...</td>\n",
       "      <td>...</td>\n",
       "      <td>...</td>\n",
       "      <td>...</td>\n",
       "      <td>...</td>\n",
       "      <td>...</td>\n",
       "      <td>...</td>\n",
       "      <td>...</td>\n",
       "      <td>...</td>\n",
       "      <td>...</td>\n",
       "      <td>...</td>\n",
       "      <td>...</td>\n",
       "      <td>...</td>\n",
       "      <td>...</td>\n",
       "      <td>...</td>\n",
       "      <td>...</td>\n",
       "      <td>...</td>\n",
       "      <td>...</td>\n",
       "      <td>...</td>\n",
       "      <td>...</td>\n",
       "      <td>...</td>\n",
       "      <td>...</td>\n",
       "      <td>...</td>\n",
       "      <td>...</td>\n",
       "      <td>...</td>\n",
       "      <td>...</td>\n",
       "      <td>...</td>\n",
       "      <td>...</td>\n",
       "      <td>...</td>\n",
       "      <td>...</td>\n",
       "      <td>...</td>\n",
       "      <td>...</td>\n",
       "      <td>...</td>\n",
       "      <td>...</td>\n",
       "      <td>...</td>\n",
       "      <td>...</td>\n",
       "      <td>...</td>\n",
       "      <td>...</td>\n",
       "      <td>...</td>\n",
       "      <td>...</td>\n",
       "      <td>...</td>\n",
       "      <td>...</td>\n",
       "      <td>...</td>\n",
       "      <td>...</td>\n",
       "      <td>...</td>\n",
       "      <td>...</td>\n",
       "      <td>...</td>\n",
       "      <td>...</td>\n",
       "      <td>...</td>\n",
       "      <td>...</td>\n",
       "      <td>...</td>\n",
       "      <td>...</td>\n",
       "      <td>...</td>\n",
       "      <td>...</td>\n",
       "      <td>...</td>\n",
       "      <td>...</td>\n",
       "      <td>...</td>\n",
       "      <td>...</td>\n",
       "      <td>...</td>\n",
       "      <td>...</td>\n",
       "      <td>...</td>\n",
       "      <td>...</td>\n",
       "      <td>...</td>\n",
       "      <td>...</td>\n",
       "      <td>...</td>\n",
       "      <td>...</td>\n",
       "      <td>...</td>\n",
       "      <td>...</td>\n",
       "      <td>...</td>\n",
       "      <td>...</td>\n",
       "      <td>...</td>\n",
       "      <td>...</td>\n",
       "      <td>...</td>\n",
       "      <td>...</td>\n",
       "      <td>...</td>\n",
       "      <td>...</td>\n",
       "      <td>...</td>\n",
       "      <td>...</td>\n",
       "      <td>...</td>\n",
       "      <td>...</td>\n",
       "      <td>...</td>\n",
       "      <td>...</td>\n",
       "      <td>...</td>\n",
       "      <td>...</td>\n",
       "      <td>...</td>\n",
       "      <td>...</td>\n",
       "      <td>...</td>\n",
       "      <td>...</td>\n",
       "      <td>...</td>\n",
       "      <td>...</td>\n",
       "      <td>...</td>\n",
       "      <td>...</td>\n",
       "      <td>...</td>\n",
       "      <td>...</td>\n",
       "      <td>...</td>\n",
       "      <td>...</td>\n",
       "    </tr>\n",
       "  </tbody>\n",
       "</table>\n",
       "</div>\n",
       "<div>Dask Name: read-csv, 351 tasks</div>"
      ],
      "text/plain": [
       "Dask DataFrame Structure:\n",
       "                Unnamed: 0     id buy_time        0        1        2        3        4        5        6        7        8        9       10       11       12       13       14       15       16       17       18       19       20       21       22       23       24       25       26       27       28       29       30       31       32       33       34       35       36       37       38       39       40       41       42       43       44       45       46       47       48       49       50       51       52       53       54       55       56       57       58       59       60       61       62       63       64       65       66       67       68       69       70       71       72       73       74       75       76       77       78       79       80       81       82       83       84       85       86       87       88       89       90       91       92       93       94       95       96       97       98       99      100      101      102      103      104      105      106      107      108      109      110      111      112      113      114      115      116      117      118      119      120      121      122      123      124      125      126      127      128      129      130      131      132      133      134      135      136      137      138      139      140      141      142      143      144      145      146      147      148      149      150      151      152      153      154      155      156      157      158      159      160      161      162      163      164      165      166      167      168      169      170      171      172      173      174      175      176      177      178      179      180      181      182      183      184      185      186      187      188      189      190      191      192      193      194      195      196      197      198      199      200      201      202      203      204      205      206      207      208      209      210      211      212      213      214      215      216      217      218      219      220      221      222      223      224      225      226      227      228      229      230      231      232      233      234      235      236      237      238      239      240      241      242      243      244      245      246      247      248      249      250      251      252\n",
       "npartitions=351                                                                                                                                                                                                                                                                                                                                                                                                                                                                                                                                                                                                                                                                                                                                                                                                                                                                                                                                                                                                                                                                                                                                                                                                                                                                                                                                                                                                                                                                                                                                                                                                                                                                                                                                                                                                                                                                                                                                                                                                                                                                                                                                                                                                                                                                                                                                                                                                \n",
       "                     int64  int64    int64  float64  float64  float64  float64  float64  float64  float64  float64  float64  float64  float64  float64  float64  float64  float64  float64  float64  float64  float64  float64  float64  float64  float64  float64  float64  float64  float64  float64  float64  float64  float64  float64  float64  float64  float64  float64  float64  float64  float64  float64  float64  float64  float64  float64  float64  float64  float64  float64  float64  float64  float64  float64  float64  float64  float64  float64  float64  float64  float64  float64  float64  float64  float64  float64  float64  float64  float64  float64  float64  float64  float64  float64  float64  float64  float64  float64  float64  float64  float64  float64  float64  float64  float64  float64  float64  float64  float64  float64  float64  float64  float64  float64  float64  float64  float64  float64  float64  float64  float64  float64  float64  float64  float64  float64  float64  float64  float64  float64  float64  float64  float64  float64  float64  float64  float64  float64  float64  float64  float64  float64  float64  float64  float64  float64  float64  float64  float64  float64  float64  float64  float64  float64  float64  float64  float64  float64  float64  float64  float64  float64  float64  float64  float64  float64  float64  float64  float64  float64  float64  float64  float64  float64  float64  float64  float64  float64  float64  float64  float64  float64  float64  float64  float64  float64  float64  float64  float64  float64  float64  float64  float64  float64  float64  float64  float64  float64  float64  float64  float64  float64  float64  float64  float64  float64  float64  float64  float64  float64  float64  float64  float64  float64  float64  float64  float64  float64  float64  float64  float64  float64  float64  float64  float64  float64  float64  float64  float64  float64  float64  float64  float64  float64  float64  float64  float64  float64  float64  float64  float64  float64  float64  float64  float64  float64  float64  float64  float64  float64  float64  float64  float64  float64  float64  float64  float64  float64  float64  float64  float64  float64  float64  float64  float64  float64  float64  float64  float64  float64  float64  float64  float64  float64  float64\n",
       "                       ...    ...      ...      ...      ...      ...      ...      ...      ...      ...      ...      ...      ...      ...      ...      ...      ...      ...      ...      ...      ...      ...      ...      ...      ...      ...      ...      ...      ...      ...      ...      ...      ...      ...      ...      ...      ...      ...      ...      ...      ...      ...      ...      ...      ...      ...      ...      ...      ...      ...      ...      ...      ...      ...      ...      ...      ...      ...      ...      ...      ...      ...      ...      ...      ...      ...      ...      ...      ...      ...      ...      ...      ...      ...      ...      ...      ...      ...      ...      ...      ...      ...      ...      ...      ...      ...      ...      ...      ...      ...      ...      ...      ...      ...      ...      ...      ...      ...      ...      ...      ...      ...      ...      ...      ...      ...      ...      ...      ...      ...      ...      ...      ...      ...      ...      ...      ...      ...      ...      ...      ...      ...      ...      ...      ...      ...      ...      ...      ...      ...      ...      ...      ...      ...      ...      ...      ...      ...      ...      ...      ...      ...      ...      ...      ...      ...      ...      ...      ...      ...      ...      ...      ...      ...      ...      ...      ...      ...      ...      ...      ...      ...      ...      ...      ...      ...      ...      ...      ...      ...      ...      ...      ...      ...      ...      ...      ...      ...      ...      ...      ...      ...      ...      ...      ...      ...      ...      ...      ...      ...      ...      ...      ...      ...      ...      ...      ...      ...      ...      ...      ...      ...      ...      ...      ...      ...      ...      ...      ...      ...      ...      ...      ...      ...      ...      ...      ...      ...      ...      ...      ...      ...      ...      ...      ...      ...      ...      ...      ...      ...      ...      ...      ...      ...      ...      ...      ...      ...      ...      ...      ...      ...      ...      ...      ...      ...      ...      ...      ...      ...      ...      ...      ...      ...      ...      ...\n",
       "...                    ...    ...      ...      ...      ...      ...      ...      ...      ...      ...      ...      ...      ...      ...      ...      ...      ...      ...      ...      ...      ...      ...      ...      ...      ...      ...      ...      ...      ...      ...      ...      ...      ...      ...      ...      ...      ...      ...      ...      ...      ...      ...      ...      ...      ...      ...      ...      ...      ...      ...      ...      ...      ...      ...      ...      ...      ...      ...      ...      ...      ...      ...      ...      ...      ...      ...      ...      ...      ...      ...      ...      ...      ...      ...      ...      ...      ...      ...      ...      ...      ...      ...      ...      ...      ...      ...      ...      ...      ...      ...      ...      ...      ...      ...      ...      ...      ...      ...      ...      ...      ...      ...      ...      ...      ...      ...      ...      ...      ...      ...      ...      ...      ...      ...      ...      ...      ...      ...      ...      ...      ...      ...      ...      ...      ...      ...      ...      ...      ...      ...      ...      ...      ...      ...      ...      ...      ...      ...      ...      ...      ...      ...      ...      ...      ...      ...      ...      ...      ...      ...      ...      ...      ...      ...      ...      ...      ...      ...      ...      ...      ...      ...      ...      ...      ...      ...      ...      ...      ...      ...      ...      ...      ...      ...      ...      ...      ...      ...      ...      ...      ...      ...      ...      ...      ...      ...      ...      ...      ...      ...      ...      ...      ...      ...      ...      ...      ...      ...      ...      ...      ...      ...      ...      ...      ...      ...      ...      ...      ...      ...      ...      ...      ...      ...      ...      ...      ...      ...      ...      ...      ...      ...      ...      ...      ...      ...      ...      ...      ...      ...      ...      ...      ...      ...      ...      ...      ...      ...      ...      ...      ...      ...      ...      ...      ...      ...      ...      ...      ...      ...      ...      ...      ...      ...      ...      ...\n",
       "                       ...    ...      ...      ...      ...      ...      ...      ...      ...      ...      ...      ...      ...      ...      ...      ...      ...      ...      ...      ...      ...      ...      ...      ...      ...      ...      ...      ...      ...      ...      ...      ...      ...      ...      ...      ...      ...      ...      ...      ...      ...      ...      ...      ...      ...      ...      ...      ...      ...      ...      ...      ...      ...      ...      ...      ...      ...      ...      ...      ...      ...      ...      ...      ...      ...      ...      ...      ...      ...      ...      ...      ...      ...      ...      ...      ...      ...      ...      ...      ...      ...      ...      ...      ...      ...      ...      ...      ...      ...      ...      ...      ...      ...      ...      ...      ...      ...      ...      ...      ...      ...      ...      ...      ...      ...      ...      ...      ...      ...      ...      ...      ...      ...      ...      ...      ...      ...      ...      ...      ...      ...      ...      ...      ...      ...      ...      ...      ...      ...      ...      ...      ...      ...      ...      ...      ...      ...      ...      ...      ...      ...      ...      ...      ...      ...      ...      ...      ...      ...      ...      ...      ...      ...      ...      ...      ...      ...      ...      ...      ...      ...      ...      ...      ...      ...      ...      ...      ...      ...      ...      ...      ...      ...      ...      ...      ...      ...      ...      ...      ...      ...      ...      ...      ...      ...      ...      ...      ...      ...      ...      ...      ...      ...      ...      ...      ...      ...      ...      ...      ...      ...      ...      ...      ...      ...      ...      ...      ...      ...      ...      ...      ...      ...      ...      ...      ...      ...      ...      ...      ...      ...      ...      ...      ...      ...      ...      ...      ...      ...      ...      ...      ...      ...      ...      ...      ...      ...      ...      ...      ...      ...      ...      ...      ...      ...      ...      ...      ...      ...      ...      ...      ...      ...      ...      ...      ...\n",
       "                       ...    ...      ...      ...      ...      ...      ...      ...      ...      ...      ...      ...      ...      ...      ...      ...      ...      ...      ...      ...      ...      ...      ...      ...      ...      ...      ...      ...      ...      ...      ...      ...      ...      ...      ...      ...      ...      ...      ...      ...      ...      ...      ...      ...      ...      ...      ...      ...      ...      ...      ...      ...      ...      ...      ...      ...      ...      ...      ...      ...      ...      ...      ...      ...      ...      ...      ...      ...      ...      ...      ...      ...      ...      ...      ...      ...      ...      ...      ...      ...      ...      ...      ...      ...      ...      ...      ...      ...      ...      ...      ...      ...      ...      ...      ...      ...      ...      ...      ...      ...      ...      ...      ...      ...      ...      ...      ...      ...      ...      ...      ...      ...      ...      ...      ...      ...      ...      ...      ...      ...      ...      ...      ...      ...      ...      ...      ...      ...      ...      ...      ...      ...      ...      ...      ...      ...      ...      ...      ...      ...      ...      ...      ...      ...      ...      ...      ...      ...      ...      ...      ...      ...      ...      ...      ...      ...      ...      ...      ...      ...      ...      ...      ...      ...      ...      ...      ...      ...      ...      ...      ...      ...      ...      ...      ...      ...      ...      ...      ...      ...      ...      ...      ...      ...      ...      ...      ...      ...      ...      ...      ...      ...      ...      ...      ...      ...      ...      ...      ...      ...      ...      ...      ...      ...      ...      ...      ...      ...      ...      ...      ...      ...      ...      ...      ...      ...      ...      ...      ...      ...      ...      ...      ...      ...      ...      ...      ...      ...      ...      ...      ...      ...      ...      ...      ...      ...      ...      ...      ...      ...      ...      ...      ...      ...      ...      ...      ...      ...      ...      ...      ...      ...      ...      ...      ...      ...\n",
       "Dask Name: read-csv, 351 tasks"
      ]
     },
     "execution_count": 8,
     "metadata": {},
     "output_type": "execute_result"
    }
   ],
   "source": [
    "# features = dd.read_csv('data/features.csv', sep='\\t')\n",
    "# features"
   ]
  },
  {
   "cell_type": "code",
   "execution_count": 9,
   "id": "c252adf4-8833-44f8-85d3-9046dffc1381",
   "metadata": {},
   "outputs": [
    {
     "name": "stdout",
     "output_type": "stream",
     "text": [
      "CPU times: user 8min 41s, sys: 1min 20s, total: 10min 2s\n",
      "Wall time: 3min 53s\n"
     ]
    },
    {
     "data": {
      "text/html": [
       "<div>\n",
       "<style scoped>\n",
       "    .dataframe tbody tr th:only-of-type {\n",
       "        vertical-align: middle;\n",
       "    }\n",
       "\n",
       "    .dataframe tbody tr th {\n",
       "        vertical-align: top;\n",
       "    }\n",
       "\n",
       "    .dataframe thead th {\n",
       "        text-align: right;\n",
       "    }\n",
       "</style>\n",
       "<table border=\"1\" class=\"dataframe\">\n",
       "  <thead>\n",
       "    <tr style=\"text-align: right;\">\n",
       "      <th></th>\n",
       "      <th>Unnamed: 0</th>\n",
       "      <th>id</th>\n",
       "      <th>buy_time</th>\n",
       "      <th>0</th>\n",
       "      <th>1</th>\n",
       "      <th>2</th>\n",
       "      <th>3</th>\n",
       "      <th>4</th>\n",
       "      <th>5</th>\n",
       "      <th>6</th>\n",
       "      <th>...</th>\n",
       "      <th>243</th>\n",
       "      <th>244</th>\n",
       "      <th>245</th>\n",
       "      <th>246</th>\n",
       "      <th>247</th>\n",
       "      <th>248</th>\n",
       "      <th>249</th>\n",
       "      <th>250</th>\n",
       "      <th>251</th>\n",
       "      <th>252</th>\n",
       "    </tr>\n",
       "  </thead>\n",
       "  <tbody>\n",
       "    <tr>\n",
       "      <th>13</th>\n",
       "      <td>13</td>\n",
       "      <td>2046132</td>\n",
       "      <td>1534712400</td>\n",
       "      <td>300.820029</td>\n",
       "      <td>1599.480888</td>\n",
       "      <td>286.879214</td>\n",
       "      <td>1585.013202</td>\n",
       "      <td>281.461754</td>\n",
       "      <td>1563.90821</td>\n",
       "      <td>-16.08618</td>\n",
       "      <td>...</td>\n",
       "      <td>-977.373846</td>\n",
       "      <td>-613.770792</td>\n",
       "      <td>-25.996269</td>\n",
       "      <td>-35.630448</td>\n",
       "      <td>-295.747724</td>\n",
       "      <td>-17.832889</td>\n",
       "      <td>-0.694428</td>\n",
       "      <td>-4.175933</td>\n",
       "      <td>-0.45614</td>\n",
       "      <td>0.0</td>\n",
       "    </tr>\n",
       "    <tr>\n",
       "      <th>16</th>\n",
       "      <td>16</td>\n",
       "      <td>2050810</td>\n",
       "      <td>1540760400</td>\n",
       "      <td>-86.209971</td>\n",
       "      <td>91.820888</td>\n",
       "      <td>-84.480786</td>\n",
       "      <td>110.333202</td>\n",
       "      <td>-89.898246</td>\n",
       "      <td>89.22821</td>\n",
       "      <td>-16.08618</td>\n",
       "      <td>...</td>\n",
       "      <td>-977.373846</td>\n",
       "      <td>-613.770792</td>\n",
       "      <td>-23.996269</td>\n",
       "      <td>190.369552</td>\n",
       "      <td>-286.747724</td>\n",
       "      <td>-25.832889</td>\n",
       "      <td>-0.694428</td>\n",
       "      <td>-12.175933</td>\n",
       "      <td>-0.45614</td>\n",
       "      <td>0.0</td>\n",
       "    </tr>\n",
       "  </tbody>\n",
       "</table>\n",
       "<p>2 rows × 256 columns</p>\n",
       "</div>"
      ],
      "text/plain": [
       "    Unnamed: 0       id    buy_time           0            1           2  \\\n",
       "13          13  2046132  1534712400  300.820029  1599.480888  286.879214   \n",
       "16          16  2050810  1540760400  -86.209971    91.820888  -84.480786   \n",
       "\n",
       "              3           4           5         6  ...         243  \\\n",
       "13  1585.013202  281.461754  1563.90821 -16.08618  ... -977.373846   \n",
       "16   110.333202  -89.898246    89.22821 -16.08618  ... -977.373846   \n",
       "\n",
       "           244        245         246         247        248       249  \\\n",
       "13 -613.770792 -25.996269  -35.630448 -295.747724 -17.832889 -0.694428   \n",
       "16 -613.770792 -23.996269  190.369552 -286.747724 -25.832889 -0.694428   \n",
       "\n",
       "          250      251  252  \n",
       "13  -4.175933 -0.45614  0.0  \n",
       "16 -12.175933 -0.45614  0.0  \n",
       "\n",
       "[2 rows x 256 columns]"
      ]
     },
     "execution_count": 9,
     "metadata": {},
     "output_type": "execute_result"
    }
   ],
   "source": [
    "# %%time\n",
    "# features = features[features.id.isin(common_ids)].compute()\n",
    "# features.head(2)"
   ]
  },
  {
   "cell_type": "code",
   "execution_count": 10,
   "id": "0332b99c-dbe8-40b4-a47c-509ef10b6e06",
   "metadata": {},
   "outputs": [
    {
     "name": "stdout",
     "output_type": "stream",
     "text": [
      "<class 'pandas.core.frame.DataFrame'>\n",
      "Int64Index: 902389 entries, 13 to 12844\n",
      "Columns: 255 entries, id to 252\n",
      "dtypes: float64(253), int64(2)\n",
      "memory usage: 1.7 GB\n"
     ]
    }
   ],
   "source": [
    "# features.drop(columns='Unnamed: 0', inplace=True)\n",
    "# features.info()"
   ]
  },
  {
   "cell_type": "markdown",
   "id": "d14200c3-85f8-4be9-a201-961c5f90ac0e",
   "metadata": {},
   "source": [
    "#### Save to parquet\n",
    "\n",
    "Now we can save `features` in a binary file format - `Parquet`, and we can also delete large `CSV` files."
   ]
  },
  {
   "cell_type": "code",
   "execution_count": 13,
   "id": "25852d1b-a1fe-4c0e-b77f-0a674a4e8960",
   "metadata": {},
   "outputs": [
    {
     "name": "stdout",
     "output_type": "stream",
     "text": [
      "CPU times: user 6.53 s, sys: 1.84 s, total: 8.37 s\n",
      "Wall time: 5.97 s\n"
     ]
    }
   ],
   "source": [
    "# %%time\n",
    "# features.to_parquet('data/features_common_ids.parquet')"
   ]
  },
  {
   "cell_type": "markdown",
   "id": "54cbe231-ac37-4a9b-a0ed-75f150d3a6ec",
   "metadata": {},
   "source": [
    "File size of `features_common_ids.parquet` ~200 Mb."
   ]
  },
  {
   "cell_type": "code",
   "execution_count": 7,
   "id": "3555c338-6a7f-42d9-a70c-850cbff37817",
   "metadata": {},
   "outputs": [
    {
     "name": "stdout",
     "output_type": "stream",
     "text": [
      "<class 'pandas.core.frame.DataFrame'>\n",
      "Int64Index: 902389 entries, 13 to 12844\n",
      "Columns: 255 entries, id to 252\n",
      "dtypes: float64(253), int64(2)\n",
      "memory usage: 1.7 GB\n",
      "CPU times: user 3.38 s, sys: 9.38 s, total: 12.8 s\n",
      "Wall time: 4.97 s\n"
     ]
    }
   ],
   "source": [
    "%%time\n",
    "features = pd.read_parquet('data/features_common_ids.parquet')\n",
    "features.info()"
   ]
  },
  {
   "cell_type": "markdown",
   "id": "fa2a4bdf-875f-4ade-8697-18b9ce82c45a",
   "metadata": {},
   "source": [
    "#### Communication"
   ]
  },
  {
   "cell_type": "code",
   "execution_count": 14,
   "id": "2f247b14-adaf-427e-8b1a-46b6c4e0ceda",
   "metadata": {
    "tags": []
   },
   "outputs": [],
   "source": [
    "def unique_ids(df):\n",
    "    return df.groupby(by='id')['id'].agg('count').value_counts()"
   ]
  },
  {
   "cell_type": "code",
   "execution_count": 15,
   "id": "7a2e5f8d-df6e-4f96-bab8-b96d143ab7aa",
   "metadata": {},
   "outputs": [
    {
     "data": {
      "text/plain": [
       "1    781611\n",
       "2     24964\n",
       "3        38\n",
       "Name: id, dtype: int64"
      ]
     },
     "execution_count": 15,
     "metadata": {},
     "output_type": "execute_result"
    }
   ],
   "source": [
    "unique_ids(train)"
   ]
  },
  {
   "cell_type": "code",
   "execution_count": 16,
   "id": "3c5aee1e-1f93-4e3d-a0d2-dfa2183bb15d",
   "metadata": {},
   "outputs": [
    {
     "data": {
      "text/plain": [
       "1    69092\n",
       "2     1041\n",
       "3       19\n",
       "Name: id, dtype: int64"
      ]
     },
     "execution_count": 16,
     "metadata": {},
     "output_type": "execute_result"
    }
   ],
   "source": [
    "unique_ids(test)"
   ]
  },
  {
   "cell_type": "code",
   "execution_count": 17,
   "id": "1b997403-eecc-4d59-b0ed-c5b28b41958d",
   "metadata": {},
   "outputs": [
    {
     "data": {
      "text/plain": [
       "1    842765\n",
       "2     29812\n",
       "Name: id, dtype: int64"
      ]
     },
     "execution_count": 17,
     "metadata": {},
     "output_type": "execute_result"
    }
   ],
   "source": [
    "unique_ids(features)"
   ]
  },
  {
   "cell_type": "markdown",
   "id": "5ad6348f-d3c6-4b20-a53c-0b9cb638c2db",
   "metadata": {},
   "source": [
    "Most of the indices are unique, but there are those that occur two or three times."
   ]
  },
  {
   "cell_type": "code",
   "execution_count": 13,
   "id": "125a1c8a-e894-43b2-80ee-200452dedb15",
   "metadata": {},
   "outputs": [],
   "source": [
    "thrice_ids = train.groupby(by='id')['id'].agg('count')[train.groupby(by='id')['id'].agg('count') == 3].index.tolist()"
   ]
  },
  {
   "cell_type": "code",
   "execution_count": 14,
   "id": "e8949f42-a80b-4fad-80a4-3328873eee54",
   "metadata": {},
   "outputs": [
    {
     "data": {
      "text/html": [
       "<div>\n",
       "<style scoped>\n",
       "    .dataframe tbody tr th:only-of-type {\n",
       "        vertical-align: middle;\n",
       "    }\n",
       "\n",
       "    .dataframe tbody tr th {\n",
       "        vertical-align: top;\n",
       "    }\n",
       "\n",
       "    .dataframe thead th {\n",
       "        text-align: right;\n",
       "    }\n",
       "</style>\n",
       "<table border=\"1\" class=\"dataframe\">\n",
       "  <thead>\n",
       "    <tr style=\"text-align: right;\">\n",
       "      <th></th>\n",
       "      <th>id</th>\n",
       "      <th>vas_id</th>\n",
       "      <th>buy_time</th>\n",
       "      <th>target</th>\n",
       "    </tr>\n",
       "  </thead>\n",
       "  <tbody>\n",
       "    <tr>\n",
       "      <th>21564</th>\n",
       "      <td>1144355</td>\n",
       "      <td>4.0</td>\n",
       "      <td>1544994000</td>\n",
       "      <td>0.0</td>\n",
       "    </tr>\n",
       "    <tr>\n",
       "      <th>21565</th>\n",
       "      <td>1144355</td>\n",
       "      <td>4.0</td>\n",
       "      <td>1545598800</td>\n",
       "      <td>0.0</td>\n",
       "    </tr>\n",
       "    <tr>\n",
       "      <th>21566</th>\n",
       "      <td>1144355</td>\n",
       "      <td>6.0</td>\n",
       "      <td>1544994000</td>\n",
       "      <td>1.0</td>\n",
       "    </tr>\n",
       "    <tr>\n",
       "      <th>24239</th>\n",
       "      <td>3475168</td>\n",
       "      <td>1.0</td>\n",
       "      <td>1544994000</td>\n",
       "      <td>0.0</td>\n",
       "    </tr>\n",
       "    <tr>\n",
       "      <th>24240</th>\n",
       "      <td>3475168</td>\n",
       "      <td>4.0</td>\n",
       "      <td>1542574800</td>\n",
       "      <td>0.0</td>\n",
       "    </tr>\n",
       "    <tr>\n",
       "      <th>24241</th>\n",
       "      <td>3475168</td>\n",
       "      <td>6.0</td>\n",
       "      <td>1542574800</td>\n",
       "      <td>1.0</td>\n",
       "    </tr>\n",
       "    <tr>\n",
       "      <th>24631</th>\n",
       "      <td>271692</td>\n",
       "      <td>2.0</td>\n",
       "      <td>1543179600</td>\n",
       "      <td>0.0</td>\n",
       "    </tr>\n",
       "    <tr>\n",
       "      <th>24632</th>\n",
       "      <td>271692</td>\n",
       "      <td>4.0</td>\n",
       "      <td>1546203600</td>\n",
       "      <td>0.0</td>\n",
       "    </tr>\n",
       "    <tr>\n",
       "      <th>24633</th>\n",
       "      <td>271692</td>\n",
       "      <td>6.0</td>\n",
       "      <td>1546203600</td>\n",
       "      <td>1.0</td>\n",
       "    </tr>\n",
       "  </tbody>\n",
       "</table>\n",
       "</div>"
      ],
      "text/plain": [
       "            id  vas_id    buy_time  target\n",
       "21564  1144355     4.0  1544994000     0.0\n",
       "21565  1144355     4.0  1545598800     0.0\n",
       "21566  1144355     6.0  1544994000     1.0\n",
       "24239  3475168     1.0  1544994000     0.0\n",
       "24240  3475168     4.0  1542574800     0.0\n",
       "24241  3475168     6.0  1542574800     1.0\n",
       "24631   271692     2.0  1543179600     0.0\n",
       "24632   271692     4.0  1546203600     0.0\n",
       "24633   271692     6.0  1546203600     1.0"
      ]
     },
     "execution_count": 14,
     "metadata": {},
     "output_type": "execute_result"
    }
   ],
   "source": [
    "tr_temp = train[train['id'].isin(set(thrice_ids) & common_ids)].head(100)\n",
    "tr_temp.head(9)"
   ]
  },
  {
   "cell_type": "markdown",
   "id": "f597ea14-8afe-4da5-943d-4cf36c470f73",
   "metadata": {},
   "source": [
    "There were several communications for these clients. This won't have much effect on our model, so let's leave it as it is."
   ]
  },
  {
   "cell_type": "markdown",
   "id": "12761495-6154-4778-86ff-7bf82b1b14f0",
   "metadata": {},
   "source": [
    "### Baseline - LGBM\n",
    "\n",
    "We use LightGBM for the baseline because it is fast and does not require extensive data preparation."
   ]
  },
  {
   "cell_type": "markdown",
   "id": "b347f2f1-ec6c-4c35-a253-cfc95a143a93",
   "metadata": {
    "tags": []
   },
   "source": [
    "#### Time"
   ]
  },
  {
   "cell_type": "markdown",
   "id": "ea429aab-7174-469f-b00e-4d443a7f5df6",
   "metadata": {},
   "source": [
    "Sorting the target variable by time and visualization"
   ]
  },
  {
   "cell_type": "code",
   "execution_count": 15,
   "id": "98c8677b-38f7-4eba-9472-811df706268e",
   "metadata": {},
   "outputs": [],
   "source": [
    "time_buy = pd.to_datetime(train[train['target'] == 1]['buy_time'], unit='s')\\\n",
    "                                                .sort_values(ascending=False).value_counts(sort=False)\n",
    "time_notbuy = pd.to_datetime(train[train['target'] == 0]['buy_time'], unit='s')\\\n",
    "                                                .sort_values(ascending=False).value_counts(sort=False)\n"
   ]
  },
  {
   "cell_type": "code",
   "execution_count": 16,
   "id": "4eef9010-f74a-45c8-b17c-baad90505a78",
   "metadata": {},
   "outputs": [],
   "source": [
    "def plot_distribution(buy, notbuy, fig_size=(14, 6), width=2, \n",
    "                      set_axis=False, modifided_axis=[0.0, 10.5, 0.0, 105000.0],\n",
    "                      title='Distribution of purchases', ylabel='Count of targets', xlabel='buy_time'):\n",
    "    plt.figure(figsize=fig_size)\n",
    "    plt.bar(notbuy.index, notbuy, width=width, color='grey', alpha=0.9)\n",
    "    plt.bar(buy.index, buy, width=width*2, color='b', alpha=0.6)\n",
    "    if set_axis:\n",
    "        plt.axis(modifided_axis)\n",
    "    plt.title(title)\n",
    "    plt.ylabel(ylabel)\n",
    "    plt.xlabel(xlabel)\n",
    "    # plt.yscale('log')\n",
    "    plt.show()"
   ]
  },
  {
   "cell_type": "code",
   "execution_count": 17,
   "id": "92d40ecd-38c2-4aa8-9679-639fa747a4c3",
   "metadata": {},
   "outputs": [
    {
     "data": {
      "image/png": "[encoded data removed]",
      "text/plain": [
       "<Figure size 1008x432 with 1 Axes>"
      ]
     },
     "metadata": {},
     "output_type": "display_data"
    }
   ],
   "source": [
    "plot_distribution(time_buy, time_notbuy, title='Distribution of purchases over time')"
   ]
  },
  {
   "cell_type": "markdown",
   "id": "20c9ea3a-e417-4cc1-82bd-575661dd1155",
   "metadata": {},
   "source": [
    "Seasonal distribution of purchases and **peak** sales on the same day in November (Sale). Using **incomplete** seasonal data to evaluate the model is not the best solution. But it's a challenge.\n",
    "\n",
    "We can try to make the **last month** (December) as a validation sample"
   ]
  },
  {
   "cell_type": "markdown",
   "id": "a53339b2-d660-431a-bdd8-89e2751e3f54",
   "metadata": {},
   "source": [
    "#### Train valid split\n",
    "\n",
    "As mentioned earlier, let's try to make the last month (December) as a test sample"
   ]
  },
  {
   "cell_type": "code",
   "execution_count": 25,
   "id": "8ea6e698-5773-4835-aea7-4a6187e43fdb",
   "metadata": {},
   "outputs": [
    {
     "data": {
      "text/plain": [
       "1543622400"
      ]
     },
     "execution_count": 25,
     "metadata": {},
     "output_type": "execute_result"
    }
   ],
   "source": [
    "SPLIT_DATE = np.datetime64('2018-12-01T00:00:00').astype(np.int64)\n",
    "SPLIT_DATE"
   ]
  },
  {
   "cell_type": "code",
   "execution_count": 26,
   "id": "6544d6a8-43fe-4aba-8971-436c8466ed54",
   "metadata": {},
   "outputs": [],
   "source": [
    "def train_valid_split(train, split_date, drop_columns='target'):\n",
    "    X_train = train[train['buy_time'] < split_date].copy(deep=True)\n",
    "    X_val = train[train['buy_time'] >= split_date].copy(deep=True)\n",
    "\n",
    "    y_train = X_train['target']\n",
    "    y_val = X_val['target']\n",
    "\n",
    "    X_train.drop(columns=drop_columns, inplace=True)\n",
    "    X_val.drop(columns=drop_columns, inplace=True)\n",
    "    \n",
    "    return X_train, y_train, X_val, y_val"
   ]
  },
  {
   "cell_type": "code",
   "execution_count": 21,
   "id": "387eb5dd-4559-420b-9150-cf72b3d285a7",
   "metadata": {},
   "outputs": [
    {
     "name": "stdout",
     "output_type": "stream",
     "text": [
      "CPU times: user 44.7 ms, sys: 21.2 ms, total: 65.9 ms\n",
      "Wall time: 68.9 ms\n"
     ]
    }
   ],
   "source": [
    "%%time\n",
    "X_train, y_train, X_val, y_val = train_valid_split(train, SPLIT_DATE)"
   ]
  },
  {
   "cell_type": "code",
   "execution_count": 22,
   "id": "bd7e5c57-a300-4ed2-9ceb-50f74ba06b8d",
   "metadata": {},
   "outputs": [
    {
     "data": {
      "text/plain": [
       "((584073, 3), (584073,), (247580, 3), (247580,))"
      ]
     },
     "execution_count": 22,
     "metadata": {},
     "output_type": "execute_result"
    }
   ],
   "source": [
    "X_train.shape, y_train.shape, X_val.shape, y_val.shape"
   ]
  },
  {
   "cell_type": "markdown",
   "id": "9bdd7027-5eae-446b-a0c1-e316fe4b2313",
   "metadata": {},
   "source": [
    "#### Fit"
   ]
  },
  {
   "cell_type": "code",
   "execution_count": 23,
   "id": "68021b36-70ad-4908-82d3-bb3b72ffc234",
   "metadata": {},
   "outputs": [
    {
     "name": "stdout",
     "output_type": "stream",
     "text": [
      "CPU times: user 8.51 s, sys: 245 ms, total: 8.75 s\n",
      "Wall time: 1.39 s\n"
     ]
    }
   ],
   "source": [
    "%%time\n",
    "lgb = lightgbm.LGBMClassifier(objective='binary', random_state=1)\n",
    "\n",
    "lgb.fit(X_train, y_train)\n",
    "\n",
    "train_preds = lgb.predict_proba(X_val)"
   ]
  },
  {
   "cell_type": "code",
   "execution_count": 24,
   "id": "65247cca-e663-4df6-b5d2-efa80559546c",
   "metadata": {},
   "outputs": [
    {
     "data": {
      "text/plain": [
       "array([0.01640412, 0.01091588, 0.01395224, ..., 0.01535436, 0.01161617,\n",
       "       0.01263035])"
      ]
     },
     "execution_count": 24,
     "metadata": {},
     "output_type": "execute_result"
    }
   ],
   "source": [
    "train_preds[:, 1]"
   ]
  },
  {
   "cell_type": "code",
   "execution_count": 25,
   "id": "177eb984-86ce-432e-b9fe-1f0182e5eb28",
   "metadata": {},
   "outputs": [
    {
     "data": {
      "text/plain": [
       "0.7271900451361183"
      ]
     },
     "execution_count": 25,
     "metadata": {},
     "output_type": "execute_result"
    }
   ],
   "source": [
    "f1_score(y_val, train_preds[:, 1] > 0.5, average='macro')"
   ]
  },
  {
   "cell_type": "markdown",
   "id": "2a55ef9a-e599-4465-b8bb-713c22e9152c",
   "metadata": {},
   "source": [
    "#### Best threshold\n",
    "\n",
    "Looking for the best threshold"
   ]
  },
  {
   "cell_type": "code",
   "execution_count": 72,
   "id": "f6a5128e-d165-44bf-aea1-8ded219e72a3",
   "metadata": {},
   "outputs": [],
   "source": [
    "def find_best_threshold(y_true, y_pred, do_print=False, macro=False):\n",
    "    precision, recall, thresholds = precision_recall_curve(y_true, y_pred)\n",
    "    # avoid zeros\n",
    "    precision[precision == 0] = 1e-9\n",
    "    recall[recall == 0] = 1e-9\n",
    "    \n",
    "    if macro:\n",
    "        # average = 'macro'. This work slowly ~ 15 sec.\n",
    "        fscore = []\n",
    "        for th in np.linspace(0, 1, 101):\n",
    "            fscore.append(f1_score(y_true, y_pred >= th, average='macro'))\n",
    "        fscore = np.asarray(fscore)\n",
    "    else:\n",
    "        # average = 'binary'. This work fast.\n",
    "        fscore = (2 * precision * recall) / (precision + recall)\n",
    "    \n",
    "    # locate the index of the largest f score\n",
    "    ix = np.argmax(fscore)\n",
    "    best_threshold = thresholds[ix]\n",
    "    if do_print:\n",
    "        print(f'Best Threshold = {best_threshold:.3f}, F-Score = {fscore[ix]:.3f}, \\\n",
    "Precision = {precision[ix]:.3f}, Recall = {recall[ix]:.3f}')\n",
    "    return best_threshold"
   ]
  },
  {
   "cell_type": "code",
   "execution_count": 27,
   "id": "f741bef6-0f92-4c58-82fe-ec8ee31cc84a",
   "metadata": {},
   "outputs": [
    {
     "name": "stdout",
     "output_type": "stream",
     "text": [
      "Best Threshold = 0.252, F-Score = 0.575, Precision = 0.420, Recall = 0.914\n"
     ]
    }
   ],
   "source": [
    "best_threshold = find_best_threshold(y_val, train_preds[:, 1], do_print=True)"
   ]
  },
  {
   "cell_type": "code",
   "execution_count": 28,
   "id": "903249a5-28f8-4b33-b84a-7e4327ded846",
   "metadata": {},
   "outputs": [
    {
     "data": {
      "text/plain": [
       "0.7524529531176972"
      ]
     },
     "execution_count": 28,
     "metadata": {},
     "output_type": "execute_result"
    }
   ],
   "source": [
    "f1_score(y_val, train_preds[:, 1] >= best_threshold, average='macro')"
   ]
  },
  {
   "cell_type": "code",
   "execution_count": 29,
   "id": "0653b087-4197-47b4-96f8-85f8f14392c7",
   "metadata": {},
   "outputs": [
    {
     "name": "stdout",
     "output_type": "stream",
     "text": [
      "Best Threshold = 0.305, F-Score = 0.753, Precision = 0.426, Recall = 0.880\n",
      "CPU times: user 1min 16s, sys: 1.61 s, total: 1min 18s\n",
      "Wall time: 1min 19s\n"
     ]
    }
   ],
   "source": [
    "%%time\n",
    "best_threshold = find_best_threshold(y_val, train_preds[:, 1], do_print=True, macro=True)"
   ]
  },
  {
   "cell_type": "code",
   "execution_count": 30,
   "id": "f9482ebd-925c-49e0-ba78-423391b2bbcc",
   "metadata": {},
   "outputs": [
    {
     "data": {
      "text/plain": [
       "0.7530341580965332"
      ]
     },
     "execution_count": 30,
     "metadata": {},
     "output_type": "execute_result"
    }
   ],
   "source": [
    "f1_score(y_val, train_preds[:, 1] >= best_threshold, average='macro')"
   ]
  },
  {
   "cell_type": "markdown",
   "id": "4af3bde9-72ce-4ba9-a820-650ae6941c91",
   "metadata": {},
   "source": [
    "Despite the fact that the **threshold** was found for different `averages`=**binary/macro**, the final metric is almost the **same**. But the calculation time is very different."
   ]
  },
  {
   "cell_type": "code",
   "execution_count": 31,
   "id": "57a8d4e2-9f65-4af2-96fa-beb8706f4815",
   "metadata": {},
   "outputs": [
    {
     "name": "stdout",
     "output_type": "stream",
     "text": [
      "              precision    recall  f1-score   support\n",
      "\n",
      "         0.0       0.99      0.88      0.93    225378\n",
      "         1.0       0.43      0.88      0.57     22202\n",
      "\n",
      "    accuracy                           0.88    247580\n",
      "   macro avg       0.71      0.88      0.75    247580\n",
      "weighted avg       0.94      0.88      0.90    247580\n",
      "\n"
     ]
    }
   ],
   "source": [
    "print(classification_report(y_val, train_preds[:, 1] >= best_threshold))"
   ]
  },
  {
   "cell_type": "code",
   "execution_count": 32,
   "id": "3404f9c9-de7f-4963-af22-a5e76f383087",
   "metadata": {},
   "outputs": [
    {
     "data": {
      "text/plain": [
       "<AxesSubplot:title={'center':'Feature importance'}, xlabel='Feature importance', ylabel='Features'>"
      ]
     },
     "execution_count": 32,
     "metadata": {},
     "output_type": "execute_result"
    },
    {
     "data": {
      "image/png": "[encoded data removed]",
      "text/plain": [
       "<Figure size 432x144 with 1 Axes>"
      ]
     },
     "metadata": {},
     "output_type": "display_data"
    }
   ],
   "source": [
    "lightgbm.plot_importance(lgb, figsize=(6, 2))"
   ]
  },
  {
   "cell_type": "markdown",
   "id": "9fe61273-a00a-48f5-b6c6-6e833d047219",
   "metadata": {},
   "source": [
    "Look at the `vas_id` feature"
   ]
  },
  {
   "cell_type": "code",
   "execution_count": 33,
   "id": "17d523c8-225b-4dd8-b5a2-c239d7e8b926",
   "metadata": {},
   "outputs": [],
   "source": [
    "vas_buy = train[train['target'] == 1].groupby('vas_id')['vas_id'].agg('count')\n",
    "vas_notbuy = train[train['target'] == 0].groupby('vas_id')['vas_id'].agg('count')"
   ]
  },
  {
   "cell_type": "code",
   "execution_count": 34,
   "id": "1d631d9b-eec1-4684-87ad-3fa6a68bd81e",
   "metadata": {},
   "outputs": [
    {
     "data": {
      "image/png": "[encoded data removed]",
      "text/plain": [
       "<Figure size 720x360 with 1 Axes>"
      ]
     },
     "metadata": {},
     "output_type": "display_data"
    }
   ],
   "source": [
    "plot_distribution(vas_buy, vas_notbuy, fig_size=(10, 5), width=0.4, \n",
    "                      set_axis=True, modifided_axis=[0.0, 10.5, 0.0, 105000.0],\n",
    "                      title='Distribution of purchases by vas_id', xlabel='vas_id')"
   ]
  },
  {
   "cell_type": "markdown",
   "id": "5eeabada-3d04-439e-b1a3-85c8a4fd335b",
   "metadata": {},
   "source": [
    "`vas_id` can still be explained by the **influence** of services **4** and **6**, because they are **most** often connected. But how **interestingly** the `id` affects the model."
   ]
  },
  {
   "cell_type": "markdown",
   "id": "79eaf4c4-716c-469d-9fac-efe286477dbb",
   "metadata": {},
   "source": [
    "#### Visualisation. ROC Curve, PR Curve"
   ]
  },
  {
   "cell_type": "code",
   "execution_count": 3,
   "id": "b695d722-5991-4ae6-9981-b047195b62cf",
   "metadata": {},
   "outputs": [],
   "source": [
    "def plot_roc_pr_curve(y_true, y_pred, model_name=\"Noname\", color='b'):\n",
    "    fig, (ax1, ax2) = plt.subplots(1, 2, figsize=(14, 5))\n",
    "\n",
    "    # plot ROC Curve\n",
    "    fpr, tpr, roc_thresholds = roc_curve(y_true, y_pred)\n",
    "    ax1.plot(fpr, tpr, label='%s: ROC Curve (area = %0.3f)' %\n",
    "             (model_name, auc(fpr, tpr)), color=color)\n",
    "    ax1.axis([0.0, 1.0, 0.0, 1.05])\n",
    "    ax1.plot([0, 1], [0, 1], 'r--')  # diagonal\n",
    "    ax1.set_xlabel('False Positive Rate')\n",
    "    ax1.set_ylabel('True Positive Rate')\n",
    "    ax1.set_title('ROC Curve')\n",
    "    ax1.legend(loc=\"lower right\")\n",
    "    \n",
    "    # plot Precision-Recall Curve\n",
    "    precision, recall, thresholds = precision_recall_curve(y_true, y_pred)\n",
    "    ax2.plot(recall, precision, label='%s: Precision-Recall curve (area = %0.3f)' %\n",
    "             (model_name, auc(recall, precision)), color=color)\n",
    "    ax2.axis([-0.05, 1.05, 0.0, 1.05])\n",
    "    # ax2.plot([0.8, 0.8], [0, 1], 'g--')  # best Recall\n",
    "    ax2.set_xlabel('Recall')\n",
    "    ax2.set_ylabel('Precision')\n",
    "    ax2.set_title(\"Precision-Recall curve\")\n",
    "    ax2.legend(loc=\"lower left\")"
   ]
  },
  {
   "cell_type": "code",
   "execution_count": 36,
   "id": "415a0a9d-9c67-417f-a17c-4c9bfe874b1d",
   "metadata": {},
   "outputs": [
    {
     "data": {
      "image/png": "[encoded data removed]",
      "text/plain": [
       "<Figure size 1008x360 with 2 Axes>"
      ]
     },
     "metadata": {},
     "output_type": "display_data"
    }
   ],
   "source": [
    "plot_roc_pr_curve(y_val, train_preds[:, 1], \"Baseline\", color='b')"
   ]
  },
  {
   "cell_type": "markdown",
   "id": "a4a79d8e-b36f-4e93-944f-255aa8c37fc4",
   "metadata": {
    "tags": []
   },
   "source": [
    "#### Conclusion for baseline:\n",
    "\n",
    "Not so bad performance for the baseline. As can be seen from the plot of the **PR Curve**, it is easy to find ~90% **Recall** for this model without compromising the **Precision**."
   ]
  },
  {
   "cell_type": "markdown",
   "id": "04184662-cab1-4a65-bee1-e8bcef435fbd",
   "metadata": {},
   "source": [
    "### Features\n",
    "\n",
    "Let's look at the **features** and process them"
   ]
  },
  {
   "cell_type": "markdown",
   "id": "abadb633-27ee-403c-bba4-6810f6a8931a",
   "metadata": {
    "tags": []
   },
   "source": [
    "#### Perform an asof merge."
   ]
  },
  {
   "cell_type": "code",
   "execution_count": 29,
   "id": "ccc95114-9869-4643-87bb-42208e77a130",
   "metadata": {},
   "outputs": [],
   "source": [
    "# feature time it's time of update information about client\n",
    "features.rename( columns={'buy_time':'update_info_time' } ,inplace=True) "
   ]
  },
  {
   "cell_type": "code",
   "execution_count": 38,
   "id": "340812df-e93d-45d9-8111-1de86aeeb7f0",
   "metadata": {},
   "outputs": [],
   "source": [
    "def merge_asof(left, right, ids):\n",
    "    left = pd.merge_asof(left.sort_values(by=['buy_time']), \n",
    "                         right[features.id.isin(ids)].sort_values(by=['update_info_time']), \n",
    "                         left_on='buy_time', \n",
    "                         right_on='update_info_time', \n",
    "                         by='id',\n",
    "                         direction='nearest'  # with nearest time\n",
    "                         )\n",
    "    return left"
   ]
  },
  {
   "cell_type": "code",
   "execution_count": 39,
   "id": "79120a33-6af5-4a12-bd87-30bf382f6cf4",
   "metadata": {},
   "outputs": [
    {
     "name": "stdout",
     "output_type": "stream",
     "text": [
      "CPU times: user 7.07 s, sys: 13.7 s, total: 20.8 s\n",
      "Wall time: 30.6 s\n"
     ]
    },
    {
     "data": {
      "text/html": [
       "<div>\n",
       "<style scoped>\n",
       "    .dataframe tbody tr th:only-of-type {\n",
       "        vertical-align: middle;\n",
       "    }\n",
       "\n",
       "    .dataframe tbody tr th {\n",
       "        vertical-align: top;\n",
       "    }\n",
       "\n",
       "    .dataframe thead th {\n",
       "        text-align: right;\n",
       "    }\n",
       "</style>\n",
       "<table border=\"1\" class=\"dataframe\">\n",
       "  <thead>\n",
       "    <tr style=\"text-align: right;\">\n",
       "      <th></th>\n",
       "      <th>id</th>\n",
       "      <th>vas_id</th>\n",
       "      <th>buy_time</th>\n",
       "      <th>target</th>\n",
       "      <th>update_info_time</th>\n",
       "      <th>0</th>\n",
       "      <th>1</th>\n",
       "      <th>2</th>\n",
       "      <th>3</th>\n",
       "      <th>4</th>\n",
       "      <th>...</th>\n",
       "      <th>243</th>\n",
       "      <th>244</th>\n",
       "      <th>245</th>\n",
       "      <th>246</th>\n",
       "      <th>247</th>\n",
       "      <th>248</th>\n",
       "      <th>249</th>\n",
       "      <th>250</th>\n",
       "      <th>251</th>\n",
       "      <th>252</th>\n",
       "    </tr>\n",
       "  </thead>\n",
       "  <tbody>\n",
       "    <tr>\n",
       "      <th>0</th>\n",
       "      <td>2582523</td>\n",
       "      <td>2.0</td>\n",
       "      <td>1531083600</td>\n",
       "      <td>0.0</td>\n",
       "      <td>1544994000</td>\n",
       "      <td>314.560029</td>\n",
       "      <td>9.290888</td>\n",
       "      <td>342.989214</td>\n",
       "      <td>7.523202</td>\n",
       "      <td>337.571754</td>\n",
       "      <td>...</td>\n",
       "      <td>6488.626154</td>\n",
       "      <td>-574.770792</td>\n",
       "      <td>-24.996269</td>\n",
       "      <td>121.369552</td>\n",
       "      <td>142.252276</td>\n",
       "      <td>-16.832889</td>\n",
       "      <td>-0.694428</td>\n",
       "      <td>-11.175933</td>\n",
       "      <td>-0.45614</td>\n",
       "      <td>0.0</td>\n",
       "    </tr>\n",
       "    <tr>\n",
       "      <th>1</th>\n",
       "      <td>1292549</td>\n",
       "      <td>2.0</td>\n",
       "      <td>1531083600</td>\n",
       "      <td>0.0</td>\n",
       "      <td>1537131600</td>\n",
       "      <td>93.880029</td>\n",
       "      <td>-217.499112</td>\n",
       "      <td>79.939214</td>\n",
       "      <td>-270.106798</td>\n",
       "      <td>74.521754</td>\n",
       "      <td>...</td>\n",
       "      <td>-977.373846</td>\n",
       "      <td>-613.770792</td>\n",
       "      <td>-25.996269</td>\n",
       "      <td>-37.630448</td>\n",
       "      <td>-306.747724</td>\n",
       "      <td>-25.832889</td>\n",
       "      <td>-0.694428</td>\n",
       "      <td>-12.175933</td>\n",
       "      <td>-0.45614</td>\n",
       "      <td>0.0</td>\n",
       "    </tr>\n",
       "  </tbody>\n",
       "</table>\n",
       "<p>2 rows × 258 columns</p>\n",
       "</div>"
      ],
      "text/plain": [
       "        id  vas_id    buy_time  target  update_info_time           0  \\\n",
       "0  2582523     2.0  1531083600     0.0        1544994000  314.560029   \n",
       "1  1292549     2.0  1531083600     0.0        1537131600   93.880029   \n",
       "\n",
       "            1           2           3           4  ...          243  \\\n",
       "0    9.290888  342.989214    7.523202  337.571754  ...  6488.626154   \n",
       "1 -217.499112   79.939214 -270.106798   74.521754  ...  -977.373846   \n",
       "\n",
       "          244        245         246         247        248       249  \\\n",
       "0 -574.770792 -24.996269  121.369552  142.252276 -16.832889 -0.694428   \n",
       "1 -613.770792 -25.996269  -37.630448 -306.747724 -25.832889 -0.694428   \n",
       "\n",
       "         250      251  252  \n",
       "0 -11.175933 -0.45614  0.0  \n",
       "1 -12.175933 -0.45614  0.0  \n",
       "\n",
       "[2 rows x 258 columns]"
      ]
     },
     "execution_count": 39,
     "metadata": {},
     "output_type": "execute_result"
    }
   ],
   "source": [
    "%%time\n",
    "train = merge_asof(train, features, train_ids)\n",
    "train.head(2)"
   ]
  },
  {
   "cell_type": "code",
   "execution_count": 40,
   "id": "f288a0de-c256-49fe-85bb-1815bf129f61",
   "metadata": {},
   "outputs": [
    {
     "name": "stdout",
     "output_type": "stream",
     "text": [
      "CPU times: user 791 ms, sys: 2.64 s, total: 3.43 s\n",
      "Wall time: 5.09 s\n"
     ]
    },
    {
     "data": {
      "text/html": [
       "<div>\n",
       "<style scoped>\n",
       "    .dataframe tbody tr th:only-of-type {\n",
       "        vertical-align: middle;\n",
       "    }\n",
       "\n",
       "    .dataframe tbody tr th {\n",
       "        vertical-align: top;\n",
       "    }\n",
       "\n",
       "    .dataframe thead th {\n",
       "        text-align: right;\n",
       "    }\n",
       "</style>\n",
       "<table border=\"1\" class=\"dataframe\">\n",
       "  <thead>\n",
       "    <tr style=\"text-align: right;\">\n",
       "      <th></th>\n",
       "      <th>id</th>\n",
       "      <th>vas_id</th>\n",
       "      <th>buy_time</th>\n",
       "      <th>update_info_time</th>\n",
       "      <th>0</th>\n",
       "      <th>1</th>\n",
       "      <th>2</th>\n",
       "      <th>3</th>\n",
       "      <th>4</th>\n",
       "      <th>5</th>\n",
       "      <th>...</th>\n",
       "      <th>243</th>\n",
       "      <th>244</th>\n",
       "      <th>245</th>\n",
       "      <th>246</th>\n",
       "      <th>247</th>\n",
       "      <th>248</th>\n",
       "      <th>249</th>\n",
       "      <th>250</th>\n",
       "      <th>251</th>\n",
       "      <th>252</th>\n",
       "    </tr>\n",
       "  </thead>\n",
       "  <tbody>\n",
       "    <tr>\n",
       "      <th>0</th>\n",
       "      <td>2905850</td>\n",
       "      <td>5.0</td>\n",
       "      <td>1546808400</td>\n",
       "      <td>1536526800</td>\n",
       "      <td>326.930029</td>\n",
       "      <td>227.410888</td>\n",
       "      <td>312.989214</td>\n",
       "      <td>200.223202</td>\n",
       "      <td>307.571754</td>\n",
       "      <td>179.11821</td>\n",
       "      <td>...</td>\n",
       "      <td>-464.373846</td>\n",
       "      <td>-104.770792</td>\n",
       "      <td>-25.996269</td>\n",
       "      <td>-18.630448</td>\n",
       "      <td>-209.747724</td>\n",
       "      <td>-15.832889</td>\n",
       "      <td>-0.694428</td>\n",
       "      <td>-2.175933</td>\n",
       "      <td>-0.45614</td>\n",
       "      <td>0.0</td>\n",
       "    </tr>\n",
       "    <tr>\n",
       "      <th>1</th>\n",
       "      <td>31619</td>\n",
       "      <td>2.0</td>\n",
       "      <td>1546808400</td>\n",
       "      <td>1536526800</td>\n",
       "      <td>-96.799971</td>\n",
       "      <td>100.290888</td>\n",
       "      <td>-62.040786</td>\n",
       "      <td>250.953202</td>\n",
       "      <td>-67.458246</td>\n",
       "      <td>229.84821</td>\n",
       "      <td>...</td>\n",
       "      <td>-977.373846</td>\n",
       "      <td>-613.770792</td>\n",
       "      <td>-25.996269</td>\n",
       "      <td>-37.630448</td>\n",
       "      <td>-306.747724</td>\n",
       "      <td>-25.832889</td>\n",
       "      <td>-0.694428</td>\n",
       "      <td>-12.175933</td>\n",
       "      <td>-0.45614</td>\n",
       "      <td>0.0</td>\n",
       "    </tr>\n",
       "  </tbody>\n",
       "</table>\n",
       "<p>2 rows × 257 columns</p>\n",
       "</div>"
      ],
      "text/plain": [
       "        id  vas_id    buy_time  update_info_time           0           1  \\\n",
       "0  2905850     5.0  1546808400        1536526800  326.930029  227.410888   \n",
       "1    31619     2.0  1546808400        1536526800  -96.799971  100.290888   \n",
       "\n",
       "            2           3           4          5  ...         243         244  \\\n",
       "0  312.989214  200.223202  307.571754  179.11821  ... -464.373846 -104.770792   \n",
       "1  -62.040786  250.953202  -67.458246  229.84821  ... -977.373846 -613.770792   \n",
       "\n",
       "         245        246         247        248       249        250      251  \\\n",
       "0 -25.996269 -18.630448 -209.747724 -15.832889 -0.694428  -2.175933 -0.45614   \n",
       "1 -25.996269 -37.630448 -306.747724 -25.832889 -0.694428 -12.175933 -0.45614   \n",
       "\n",
       "   252  \n",
       "0  0.0  \n",
       "1  0.0  \n",
       "\n",
       "[2 rows x 257 columns]"
      ]
     },
     "execution_count": 40,
     "metadata": {},
     "output_type": "execute_result"
    }
   ],
   "source": [
    "%%time\n",
    "test = merge_asof(test, features, test_ids)\n",
    "test.head(2)"
   ]
  },
  {
   "cell_type": "code",
   "execution_count": 34,
   "id": "e07e2308-8442-469a-b0d7-a6e0d5e1a187",
   "metadata": {},
   "outputs": [],
   "source": [
    "# train.to_parquet('data/train.parquet')\n",
    "# test.to_parquet('data/test.parquet')"
   ]
  },
  {
   "cell_type": "code",
   "execution_count": 30,
   "id": "25de9726-0b31-49b8-99b3-de0ad8498eed",
   "metadata": {},
   "outputs": [],
   "source": [
    "train = pd.read_parquet('data/train.parquet')\n",
    "test = pd.read_parquet('data/test.parquet')"
   ]
  },
  {
   "cell_type": "markdown",
   "id": "e38df8c8-d243-42c5-a7a3-6fec2bee67a4",
   "metadata": {},
   "source": [
    "#### Run learn function\n",
    "\n",
    "Let's try to learn model with `features` and without feature engineering"
   ]
  },
  {
   "cell_type": "code",
   "execution_count": 31,
   "id": "50a90633-054b-4a07-bd2e-140320e5654d",
   "metadata": {},
   "outputs": [
    {
     "name": "stdout",
     "output_type": "stream",
     "text": [
      "CPU times: user 2.48 s, sys: 8.39 s, total: 10.9 s\n",
      "Wall time: 16.1 s\n"
     ]
    }
   ],
   "source": [
    "%%time\n",
    "X_train, y_train, X_val, y_val = train_valid_split(train, SPLIT_DATE)"
   ]
  },
  {
   "cell_type": "code",
   "execution_count": 32,
   "id": "d31065cf-942c-41a0-8bb3-1cc45eeaa4ca",
   "metadata": {},
   "outputs": [],
   "source": [
    "def run_learn(X_train, y_train, X_val, y_val, model, slpit_date=SPLIT_DATE, plot_name='Noname'):\n",
    "    # models\n",
    "    model.fit(X_train, y_train)\n",
    "    train_preds = model.predict_proba(X_val)\n",
    "\n",
    "    # metrics\n",
    "    best_threshold = find_best_threshold(y_val, train_preds[:, 1], do_print=True)\n",
    "    f1_best = f1_score(y_val, train_preds[:, 1] >= best_threshold, average='macro')\n",
    "    f1 = f1_score(y_val, train_preds[:, 1] > 0.5, average='macro')\n",
    "    \n",
    "    print(f'F1-Score (average=\"macro\") best threshold = {f1_best}')\n",
    "    print(f'F1-Score (average=\"macro\") threshold - 0.5 = {f1}\\n')\n",
    "    \n",
    "    plot_roc_pr_curve(y_val, train_preds[:, 1], plot_name, color='b')\n",
    "    \n",
    "    return model"
   ]
  },
  {
   "cell_type": "code",
   "execution_count": 33,
   "id": "ab600a0b-bea8-44a5-915a-a383043cba0e",
   "metadata": {},
   "outputs": [],
   "source": [
    "lgb = lightgbm.LGBMClassifier(objective='binary', random_state=1)"
   ]
  },
  {
   "cell_type": "code",
   "execution_count": 47,
   "id": "b755217e-63df-41f3-8a46-da9d04fc8808",
   "metadata": {},
   "outputs": [
    {
     "name": "stdout",
     "output_type": "stream",
     "text": [
      "Best Threshold = 0.260, F-Score = 0.576, Precision = 0.421, Recall = 0.910\n",
      "F1-Score (average=\"macro\") best threshold = 0.7526978806388435\n",
      "F1-Score (average=\"macro\") threshold - 0.5 = 0.7123943450736683\n",
      "\n",
      "CPU times: user 1min 10s, sys: 10.1 s, total: 1min 20s\n",
      "Wall time: 26.5 s\n"
     ]
    },
    {
     "data": {
      "image/png": "[encoded data removed]",
      "text/plain": [
       "<Figure size 1008x360 with 2 Axes>"
      ]
     },
     "metadata": {},
     "output_type": "display_data"
    }
   ],
   "source": [
    "%%time\n",
    "lgb = run_learn(X_train, y_train, X_val, y_val, lgb, slpit_date=SPLIT_DATE, plot_name='Baseline with features')"
   ]
  },
  {
   "cell_type": "code",
   "execution_count": 48,
   "id": "537036b8-98cb-40a3-99f3-cca8932afbbc",
   "metadata": {},
   "outputs": [
    {
     "data": {
      "text/plain": [
       "<AxesSubplot:title={'center':'Feature importance'}, xlabel='Feature importance', ylabel='Features'>"
      ]
     },
     "execution_count": 48,
     "metadata": {},
     "output_type": "execute_result"
    },
    {
     "data": {
      "image/png": "[encoded data removed]",
      "text/plain": [
       "<Figure size 576x432 with 1 Axes>"
      ]
     },
     "metadata": {},
     "output_type": "display_data"
    }
   ],
   "source": [
    "lightgbm.plot_importance(lgb, figsize=(8, 6) , max_num_features=30)"
   ]
  },
  {
   "cell_type": "markdown",
   "id": "4a878e19-f380-4b00-9018-e4d2de19388a",
   "metadata": {},
   "source": [
    "The scores **haven't changed** much. There is no strong influence of `features`."
   ]
  },
  {
   "cell_type": "markdown",
   "id": "99703e33-adca-4567-8ce1-373e85d00714",
   "metadata": {},
   "source": [
    "#### Dublicates"
   ]
  },
  {
   "cell_type": "code",
   "execution_count": 35,
   "id": "e2d26425-dedd-4ee2-ac9c-274a69d49656",
   "metadata": {
    "id": "rHsYgSlYHJMR",
    "outputId": "9ed12b27-9f8d-426c-9cf5-d1cb8147ba04"
   },
   "outputs": [
    {
     "name": "stdout",
     "output_type": "stream",
     "text": [
      "Are there duplicates in the rows? -->  1422\n",
      "What percentage features can be Null? --> 0%\n",
      "CPU times: user 9.49 s, sys: 10.8 s, total: 20.2 s\n",
      "Wall time: 27.2 s\n"
     ]
    }
   ],
   "source": [
    "%%time\n",
    "f = features.copy()\n",
    "f.set_index('id', inplace=True)\n",
    "\n",
    "print(\"Are there duplicates in the rows? --> \", f.duplicated().sum())\n",
    "print(\"What percentage features can be Null? --> %d%%\" % float((f.isnull().sum() > 0).sum()/f.shape[1]*100))"
   ]
  },
  {
   "cell_type": "code",
   "execution_count": 36,
   "id": "7bc86f60-619f-421f-99eb-a1e9e5463674",
   "metadata": {},
   "outputs": [
    {
     "name": "stdout",
     "output_type": "stream",
     "text": [
      "CPU times: user 7.08 s, sys: 3.32 s, total: 10.4 s\n",
      "Wall time: 11.3 s\n"
     ]
    },
    {
     "data": {
      "text/plain": [
       "(1422, 254)"
      ]
     },
     "execution_count": 36,
     "metadata": {},
     "output_type": "execute_result"
    }
   ],
   "source": [
    "%%time\n",
    "f_duplicated = f[f.duplicated()]\n",
    "f_duplicated.shape"
   ]
  },
  {
   "cell_type": "code",
   "execution_count": 37,
   "id": "a81f03e1-cbcb-44a8-873c-a2cb7025114d",
   "metadata": {},
   "outputs": [
    {
     "data": {
      "text/plain": [
       "1418"
      ]
     },
     "execution_count": 37,
     "metadata": {},
     "output_type": "execute_result"
    }
   ],
   "source": [
    "f_dupl_ids = set(f_duplicated.index.tolist())\n",
    "len(f_dupl_ids)"
   ]
  },
  {
   "cell_type": "code",
   "execution_count": 38,
   "id": "d8762db1-26df-45a7-859e-ee488751343d",
   "metadata": {},
   "outputs": [
    {
     "name": "stdout",
     "output_type": "stream",
     "text": [
      "There are duplicate indexes for the train dataset: 1318\n"
     ]
    }
   ],
   "source": [
    "print(f'There are duplicate indexes for the train dataset: {len(f_dupl_ids.intersection(train_ids))}')"
   ]
  },
  {
   "cell_type": "code",
   "execution_count": 39,
   "id": "24ae7ba2-1a96-455e-af99-ff743ac0ca16",
   "metadata": {},
   "outputs": [
    {
     "name": "stdout",
     "output_type": "stream",
     "text": [
      "There are duplicate indexes for the test dataset: 103\n"
     ]
    }
   ],
   "source": [
    "print(f'There are duplicate indexes for the test dataset: {len(f_dupl_ids.intersection(test_ids))}')"
   ]
  },
  {
   "cell_type": "code",
   "execution_count": 54,
   "id": "8df354e5-d61a-4da1-9db6-7652bc5f1d02",
   "metadata": {},
   "outputs": [
    {
     "data": {
      "text/html": [
       "<div>\n",
       "<style scoped>\n",
       "    .dataframe tbody tr th:only-of-type {\n",
       "        vertical-align: middle;\n",
       "    }\n",
       "\n",
       "    .dataframe tbody tr th {\n",
       "        vertical-align: top;\n",
       "    }\n",
       "\n",
       "    .dataframe thead th {\n",
       "        text-align: right;\n",
       "    }\n",
       "</style>\n",
       "<table border=\"1\" class=\"dataframe\">\n",
       "  <thead>\n",
       "    <tr style=\"text-align: right;\">\n",
       "      <th></th>\n",
       "      <th>update_info_time</th>\n",
       "      <th>0</th>\n",
       "      <th>1</th>\n",
       "      <th>2</th>\n",
       "      <th>3</th>\n",
       "      <th>4</th>\n",
       "      <th>5</th>\n",
       "      <th>6</th>\n",
       "      <th>7</th>\n",
       "      <th>8</th>\n",
       "      <th>...</th>\n",
       "      <th>243</th>\n",
       "      <th>244</th>\n",
       "      <th>245</th>\n",
       "      <th>246</th>\n",
       "      <th>247</th>\n",
       "      <th>248</th>\n",
       "      <th>249</th>\n",
       "      <th>250</th>\n",
       "      <th>251</th>\n",
       "      <th>252</th>\n",
       "    </tr>\n",
       "    <tr>\n",
       "      <th>id</th>\n",
       "      <th></th>\n",
       "      <th></th>\n",
       "      <th></th>\n",
       "      <th></th>\n",
       "      <th></th>\n",
       "      <th></th>\n",
       "      <th></th>\n",
       "      <th></th>\n",
       "      <th></th>\n",
       "      <th></th>\n",
       "      <th></th>\n",
       "      <th></th>\n",
       "      <th></th>\n",
       "      <th></th>\n",
       "      <th></th>\n",
       "      <th></th>\n",
       "      <th></th>\n",
       "      <th></th>\n",
       "      <th></th>\n",
       "      <th></th>\n",
       "      <th></th>\n",
       "    </tr>\n",
       "  </thead>\n",
       "  <tbody>\n",
       "    <tr>\n",
       "      <th>3121327</th>\n",
       "      <td>1545598800</td>\n",
       "      <td>-96.799971</td>\n",
       "      <td>-408.179112</td>\n",
       "      <td>-110.740786</td>\n",
       "      <td>-460.786798</td>\n",
       "      <td>-116.158246</td>\n",
       "      <td>-481.89179</td>\n",
       "      <td>-16.08618</td>\n",
       "      <td>-65.076097</td>\n",
       "      <td>-6.78366</td>\n",
       "      <td>...</td>\n",
       "      <td>-977.373846</td>\n",
       "      <td>-613.770792</td>\n",
       "      <td>-25.996269</td>\n",
       "      <td>-37.630448</td>\n",
       "      <td>-306.747724</td>\n",
       "      <td>-25.832889</td>\n",
       "      <td>-0.694428</td>\n",
       "      <td>-12.175933</td>\n",
       "      <td>-0.45614</td>\n",
       "      <td>0.0</td>\n",
       "    </tr>\n",
       "    <tr>\n",
       "      <th>1638049</th>\n",
       "      <td>1545598800</td>\n",
       "      <td>-96.799971</td>\n",
       "      <td>-408.179112</td>\n",
       "      <td>-110.740786</td>\n",
       "      <td>-460.786798</td>\n",
       "      <td>-116.158246</td>\n",
       "      <td>-481.89179</td>\n",
       "      <td>-16.08618</td>\n",
       "      <td>-65.076097</td>\n",
       "      <td>-6.78366</td>\n",
       "      <td>...</td>\n",
       "      <td>-977.373846</td>\n",
       "      <td>-613.770792</td>\n",
       "      <td>-25.996269</td>\n",
       "      <td>-37.630448</td>\n",
       "      <td>-306.747724</td>\n",
       "      <td>-25.832889</td>\n",
       "      <td>-0.694428</td>\n",
       "      <td>-12.175933</td>\n",
       "      <td>-0.45614</td>\n",
       "      <td>0.0</td>\n",
       "    </tr>\n",
       "    <tr>\n",
       "      <th>3494546</th>\n",
       "      <td>1546808400</td>\n",
       "      <td>-96.799971</td>\n",
       "      <td>-408.179112</td>\n",
       "      <td>-110.740786</td>\n",
       "      <td>-460.786798</td>\n",
       "      <td>-116.158246</td>\n",
       "      <td>-481.89179</td>\n",
       "      <td>-16.08618</td>\n",
       "      <td>-65.076097</td>\n",
       "      <td>-6.78366</td>\n",
       "      <td>...</td>\n",
       "      <td>-977.373846</td>\n",
       "      <td>-613.770792</td>\n",
       "      <td>-25.996269</td>\n",
       "      <td>-37.630448</td>\n",
       "      <td>-306.747724</td>\n",
       "      <td>-25.832889</td>\n",
       "      <td>-0.694428</td>\n",
       "      <td>-12.175933</td>\n",
       "      <td>-0.45614</td>\n",
       "      <td>0.0</td>\n",
       "    </tr>\n",
       "  </tbody>\n",
       "</table>\n",
       "<p>3 rows × 254 columns</p>\n",
       "</div>"
      ],
      "text/plain": [
       "         update_info_time          0           1           2           3  \\\n",
       "id                                                                         \n",
       "3121327        1545598800 -96.799971 -408.179112 -110.740786 -460.786798   \n",
       "1638049        1545598800 -96.799971 -408.179112 -110.740786 -460.786798   \n",
       "3494546        1546808400 -96.799971 -408.179112 -110.740786 -460.786798   \n",
       "\n",
       "                  4          5         6          7        8  ...         243  \\\n",
       "id                                                            ...               \n",
       "3121327 -116.158246 -481.89179 -16.08618 -65.076097 -6.78366  ... -977.373846   \n",
       "1638049 -116.158246 -481.89179 -16.08618 -65.076097 -6.78366  ... -977.373846   \n",
       "3494546 -116.158246 -481.89179 -16.08618 -65.076097 -6.78366  ... -977.373846   \n",
       "\n",
       "                244        245        246         247        248       249  \\\n",
       "id                                                                           \n",
       "3121327 -613.770792 -25.996269 -37.630448 -306.747724 -25.832889 -0.694428   \n",
       "1638049 -613.770792 -25.996269 -37.630448 -306.747724 -25.832889 -0.694428   \n",
       "3494546 -613.770792 -25.996269 -37.630448 -306.747724 -25.832889 -0.694428   \n",
       "\n",
       "               250      251  252  \n",
       "id                                \n",
       "3121327 -12.175933 -0.45614  0.0  \n",
       "1638049 -12.175933 -0.45614  0.0  \n",
       "3494546 -12.175933 -0.45614  0.0  \n",
       "\n",
       "[3 rows x 254 columns]"
      ]
     },
     "execution_count": 54,
     "metadata": {},
     "output_type": "execute_result"
    }
   ],
   "source": [
    "f_duplicated.head(3)"
   ]
  },
  {
   "cell_type": "code",
   "execution_count": 55,
   "id": "8effe6ef-1edb-4e53-9a0b-4cb7085c52b5",
   "metadata": {},
   "outputs": [
    {
     "data": {
      "text/html": [
       "<div>\n",
       "<style scoped>\n",
       "    .dataframe tbody tr th:only-of-type {\n",
       "        vertical-align: middle;\n",
       "    }\n",
       "\n",
       "    .dataframe tbody tr th {\n",
       "        vertical-align: top;\n",
       "    }\n",
       "\n",
       "    .dataframe thead th {\n",
       "        text-align: right;\n",
       "    }\n",
       "</style>\n",
       "<table border=\"1\" class=\"dataframe\">\n",
       "  <thead>\n",
       "    <tr style=\"text-align: right;\">\n",
       "      <th></th>\n",
       "      <th>id</th>\n",
       "      <th>vas_id</th>\n",
       "      <th>buy_time</th>\n",
       "      <th>target</th>\n",
       "      <th>update_info_time</th>\n",
       "      <th>0</th>\n",
       "      <th>1</th>\n",
       "      <th>2</th>\n",
       "      <th>3</th>\n",
       "      <th>4</th>\n",
       "      <th>...</th>\n",
       "      <th>243</th>\n",
       "      <th>244</th>\n",
       "      <th>245</th>\n",
       "      <th>246</th>\n",
       "      <th>247</th>\n",
       "      <th>248</th>\n",
       "      <th>249</th>\n",
       "      <th>250</th>\n",
       "      <th>251</th>\n",
       "      <th>252</th>\n",
       "    </tr>\n",
       "  </thead>\n",
       "  <tbody>\n",
       "    <tr>\n",
       "      <th>171499</th>\n",
       "      <td>1638049</td>\n",
       "      <td>1.0</td>\n",
       "      <td>1533502800</td>\n",
       "      <td>0.0</td>\n",
       "      <td>1545598800</td>\n",
       "      <td>-96.799971</td>\n",
       "      <td>-408.179112</td>\n",
       "      <td>-110.740786</td>\n",
       "      <td>-460.786798</td>\n",
       "      <td>-116.158246</td>\n",
       "      <td>...</td>\n",
       "      <td>-977.373846</td>\n",
       "      <td>-613.770792</td>\n",
       "      <td>-25.996269</td>\n",
       "      <td>-37.630448</td>\n",
       "      <td>-306.747724</td>\n",
       "      <td>-25.832889</td>\n",
       "      <td>-0.694428</td>\n",
       "      <td>-12.175933</td>\n",
       "      <td>-0.45614</td>\n",
       "      <td>0.0</td>\n",
       "    </tr>\n",
       "    <tr>\n",
       "      <th>172919</th>\n",
       "      <td>3121327</td>\n",
       "      <td>1.0</td>\n",
       "      <td>1533502800</td>\n",
       "      <td>0.0</td>\n",
       "      <td>1545598800</td>\n",
       "      <td>-96.799971</td>\n",
       "      <td>-408.179112</td>\n",
       "      <td>-110.740786</td>\n",
       "      <td>-460.786798</td>\n",
       "      <td>-116.158246</td>\n",
       "      <td>...</td>\n",
       "      <td>-977.373846</td>\n",
       "      <td>-613.770792</td>\n",
       "      <td>-25.996269</td>\n",
       "      <td>-37.630448</td>\n",
       "      <td>-306.747724</td>\n",
       "      <td>-25.832889</td>\n",
       "      <td>-0.694428</td>\n",
       "      <td>-12.175933</td>\n",
       "      <td>-0.45614</td>\n",
       "      <td>0.0</td>\n",
       "    </tr>\n",
       "  </tbody>\n",
       "</table>\n",
       "<p>2 rows × 258 columns</p>\n",
       "</div>"
      ],
      "text/plain": [
       "             id  vas_id    buy_time  target  update_info_time          0  \\\n",
       "171499  1638049     1.0  1533502800     0.0        1545598800 -96.799971   \n",
       "172919  3121327     1.0  1533502800     0.0        1545598800 -96.799971   \n",
       "\n",
       "                 1           2           3           4  ...         243  \\\n",
       "171499 -408.179112 -110.740786 -460.786798 -116.158246  ... -977.373846   \n",
       "172919 -408.179112 -110.740786 -460.786798 -116.158246  ... -977.373846   \n",
       "\n",
       "               244        245        246         247        248       249  \\\n",
       "171499 -613.770792 -25.996269 -37.630448 -306.747724 -25.832889 -0.694428   \n",
       "172919 -613.770792 -25.996269 -37.630448 -306.747724 -25.832889 -0.694428   \n",
       "\n",
       "              250      251  252  \n",
       "171499 -12.175933 -0.45614  0.0  \n",
       "172919 -12.175933 -0.45614  0.0  \n",
       "\n",
       "[2 rows x 258 columns]"
      ]
     },
     "execution_count": 55,
     "metadata": {},
     "output_type": "execute_result"
    }
   ],
   "source": [
    "train[train['id'].isin([3121327, 1638049])]"
   ]
  },
  {
   "cell_type": "code",
   "execution_count": 56,
   "id": "4b8ad750-816a-4acf-83b8-d7b40d2db701",
   "metadata": {},
   "outputs": [
    {
     "data": {
      "text/plain": [
       "(1353, 258)"
      ]
     },
     "execution_count": 56,
     "metadata": {},
     "output_type": "execute_result"
    }
   ],
   "source": [
    "train[train['id'].isin(list(f_dupl_ids.intersection(train_ids)))].shape"
   ]
  },
  {
   "cell_type": "code",
   "execution_count": 57,
   "id": "39652133-8947-4caa-ab45-29510d8ea182",
   "metadata": {},
   "outputs": [
    {
     "data": {
      "text/plain": [
       "(106, 257)"
      ]
     },
     "execution_count": 57,
     "metadata": {},
     "output_type": "execute_result"
    }
   ],
   "source": [
    "test[test['id'].isin(list(f_dupl_ids.intersection(test_ids)))].shape"
   ]
  },
  {
   "cell_type": "markdown",
   "id": "9d11c288-d465-4aa4-b679-ec97441cae90",
   "metadata": {},
   "source": [
    "This looks very **strange**. How can two persons be exactly the same? There is **1422** that rows - **1353** for **train** and **106** for **test** datasets!\n",
    "\n",
    "But ok, we can't **remove** data from the **test**. Let's look at data types."
   ]
  },
  {
   "cell_type": "markdown",
   "id": "013e3b7d-9569-4046-812d-d9fd8d33883b",
   "metadata": {},
   "source": [
    "#### Data type of features"
   ]
  },
  {
   "cell_type": "code",
   "execution_count": 40,
   "id": "dab6194c-1b99-406a-8adf-0eff33eb9e2b",
   "metadata": {},
   "outputs": [],
   "source": [
    "# these steps don't need a date\n",
    "f.drop(columns='update_info_time', inplace=True) \n",
    "F_nunique = f.apply(lambda x: x.nunique())"
   ]
  },
  {
   "cell_type": "code",
   "execution_count": 41,
   "id": "c4789528-26ba-44d3-a04f-9bf46c9c1802",
   "metadata": {},
   "outputs": [
    {
     "data": {
      "text/plain": [
       "81     1\n",
       "85     1\n",
       "139    1\n",
       "75     1\n",
       "203    1\n",
       "197    2\n",
       "196    2\n",
       "26     2\n",
       "27     2\n",
       "31     2\n",
       "dtype: int64"
      ]
     },
     "execution_count": 41,
     "metadata": {},
     "output_type": "execute_result"
    }
   ],
   "source": [
    "F_nunique.sort_values().head(10)"
   ]
  },
  {
   "cell_type": "code",
   "execution_count": 60,
   "id": "2cc5ce39-d3df-4b18-aa14-755bdd947796",
   "metadata": {},
   "outputs": [
    {
     "data": {
      "image/png": "[encoded data removed]",
      "text/plain": [
       "<Figure size 720x360 with 1 Axes>"
      ]
     },
     "metadata": {},
     "output_type": "display_data"
    }
   ],
   "source": [
    "plt.title(\"Distribution of unique feature values\");\n",
    "F_nunique.hist(bins=100, figsize=(10, 5), color='b');"
   ]
  },
  {
   "cell_type": "code",
   "execution_count": 42,
   "id": "d2d0e99f-b91b-41ac-a876-251bb70bb27a",
   "metadata": {},
   "outputs": [
    {
     "data": {
      "text/plain": [
       "253"
      ]
     },
     "execution_count": 42,
     "metadata": {},
     "output_type": "execute_result"
    }
   ],
   "source": [
    "f_all = set(F_nunique.index.tolist())\n",
    "len(f_all)"
   ]
  },
  {
   "cell_type": "markdown",
   "id": "a5a4ed19-2903-4ae7-8ea0-3cc557cab16f",
   "metadata": {},
   "source": [
    "#### Constant features"
   ]
  },
  {
   "cell_type": "code",
   "execution_count": 43,
   "id": "8ca82729-0045-41f8-a86d-5a53de623175",
   "metadata": {},
   "outputs": [
    {
     "data": {
      "text/plain": [
       "5"
      ]
     },
     "execution_count": 43,
     "metadata": {},
     "output_type": "execute_result"
    }
   ],
   "source": [
    "f_const = set(F_nunique[F_nunique == 1].index.tolist())\n",
    "len(f_const)"
   ]
  },
  {
   "cell_type": "code",
   "execution_count": 44,
   "id": "498f2462-dcd4-4216-b991-d8d7b33508fc",
   "metadata": {},
   "outputs": [
    {
     "data": {
      "text/plain": [
       "{'139', '203', '75', '81', '85'}"
      ]
     },
     "execution_count": 44,
     "metadata": {},
     "output_type": "execute_result"
    }
   ],
   "source": [
    "f_const"
   ]
  },
  {
   "cell_type": "code",
   "execution_count": 45,
   "id": "3299b8b7-d82d-4b4c-940e-6f5fce8a09f7",
   "metadata": {},
   "outputs": [
    {
     "data": {
      "text/html": [
       "<div>\n",
       "<style scoped>\n",
       "    .dataframe tbody tr th:only-of-type {\n",
       "        vertical-align: middle;\n",
       "    }\n",
       "\n",
       "    .dataframe tbody tr th {\n",
       "        vertical-align: top;\n",
       "    }\n",
       "\n",
       "    .dataframe thead th {\n",
       "        text-align: right;\n",
       "    }\n",
       "</style>\n",
       "<table border=\"1\" class=\"dataframe\">\n",
       "  <thead>\n",
       "    <tr style=\"text-align: right;\">\n",
       "      <th></th>\n",
       "      <th>81</th>\n",
       "      <th>85</th>\n",
       "      <th>203</th>\n",
       "      <th>75</th>\n",
       "      <th>139</th>\n",
       "    </tr>\n",
       "    <tr>\n",
       "      <th>id</th>\n",
       "      <th></th>\n",
       "      <th></th>\n",
       "      <th></th>\n",
       "      <th></th>\n",
       "      <th></th>\n",
       "    </tr>\n",
       "  </thead>\n",
       "  <tbody>\n",
       "    <tr>\n",
       "      <th>2046132</th>\n",
       "      <td>0.0</td>\n",
       "      <td>0.0</td>\n",
       "      <td>0.0</td>\n",
       "      <td>0.0</td>\n",
       "      <td>0.0</td>\n",
       "    </tr>\n",
       "    <tr>\n",
       "      <th>2050810</th>\n",
       "      <td>0.0</td>\n",
       "      <td>0.0</td>\n",
       "      <td>0.0</td>\n",
       "      <td>0.0</td>\n",
       "      <td>0.0</td>\n",
       "    </tr>\n",
       "  </tbody>\n",
       "</table>\n",
       "</div>"
      ],
      "text/plain": [
       "          81   85  203   75  139\n",
       "id                              \n",
       "2046132  0.0  0.0  0.0  0.0  0.0\n",
       "2050810  0.0  0.0  0.0  0.0  0.0"
      ]
     },
     "execution_count": 45,
     "metadata": {},
     "output_type": "execute_result"
    }
   ],
   "source": [
    "f[list(f_const)].head(2)"
   ]
  },
  {
   "cell_type": "markdown",
   "id": "8ade96c2-78de-4114-b83d-accd4a04467d",
   "metadata": {},
   "source": [
    "Constant features aren't needed. Let's **delete** them"
   ]
  },
  {
   "cell_type": "markdown",
   "id": "34ee31d5-2042-4378-afd6-e1f85f397984",
   "metadata": {},
   "source": [
    "#### Binary features"
   ]
  },
  {
   "cell_type": "code",
   "execution_count": 46,
   "id": "10d49fa0-d641-41a1-93f1-0598bf40dcf9",
   "metadata": {},
   "outputs": [
    {
     "data": {
      "text/plain": [
       "20"
      ]
     },
     "execution_count": 46,
     "metadata": {},
     "output_type": "execute_result"
    }
   ],
   "source": [
    "f_binary = set(F_nunique[F_nunique == 2].index.tolist())\n",
    "len(f_binary)"
   ]
  },
  {
   "cell_type": "code",
   "execution_count": 47,
   "id": "f9283947-1b47-477f-bfed-370aedcd03c3",
   "metadata": {},
   "outputs": [
    {
     "data": {
      "text/plain": [
       "-0.00003    831632\n",
       " 0.99997        21\n",
       "Name: 33, dtype: int64"
      ]
     },
     "execution_count": 47,
     "metadata": {},
     "output_type": "execute_result"
    }
   ],
   "source": [
    "train[list(f_binary)][list(f_binary)[0]].value_counts()"
   ]
  },
  {
   "cell_type": "code",
   "execution_count": 48,
   "id": "0d30ff14-06e1-4bef-bed0-b95e0d6c185c",
   "metadata": {},
   "outputs": [
    {
     "data": {
      "text/plain": [
       "-0.251959    620625\n",
       " 0.748041    211028\n",
       "Name: 196, dtype: int64"
      ]
     },
     "execution_count": 48,
     "metadata": {},
     "output_type": "execute_result"
    }
   ],
   "source": [
    "train[list(f_binary)][list(f_binary)[1]].value_counts()"
   ]
  },
  {
   "cell_type": "markdown",
   "id": "8a202f0e-8bc7-43c2-af54-024462b18946",
   "metadata": {},
   "source": [
    "It's like **normalized** data with an offset. Let's not touch them."
   ]
  },
  {
   "cell_type": "code",
   "execution_count": 49,
   "id": "7ccbd602-e1ac-42b0-9e38-906e6944e055",
   "metadata": {},
   "outputs": [
    {
     "data": {
      "text/plain": [
       "228"
      ]
     },
     "execution_count": 49,
     "metadata": {},
     "output_type": "execute_result"
    }
   ],
   "source": [
    "f_other = f_all - (f_const | f_binary)\n",
    "len(f_other)"
   ]
  },
  {
   "cell_type": "markdown",
   "id": "532f7a98-0419-4159-99fa-db12a734166a",
   "metadata": {},
   "source": [
    "#### Categorical features"
   ]
  },
  {
   "cell_type": "code",
   "execution_count": 50,
   "id": "e21bdffc-3d10-4eea-9360-70a249175f10",
   "metadata": {},
   "outputs": [
    {
     "data": {
      "text/plain": [
       "9"
      ]
     },
     "execution_count": 50,
     "metadata": {},
     "output_type": "execute_result"
    }
   ],
   "source": [
    "f_categorical = set(F_nunique.loc[list(f_other)][F_nunique.loc[list(f_other)] <= 10].index.tolist())\n",
    "len(f_categorical)"
   ]
  },
  {
   "cell_type": "code",
   "execution_count": 51,
   "id": "8e8f5f31-6c2e-4598-b01b-0ac4c72db471",
   "metadata": {},
   "outputs": [
    {
     "data": {
      "text/plain": [
       "-0.00004    831646\n",
       " 0.99996         3\n",
       " 7.99996         1\n",
       " 3.99996         1\n",
       " 1.99996         1\n",
       " 2.99996         1\n",
       "Name: 218, dtype: int64"
      ]
     },
     "execution_count": 51,
     "metadata": {},
     "output_type": "execute_result"
    }
   ],
   "source": [
    "train[list(f_categorical)][list(f_categorical)[0]].value_counts()"
   ]
  },
  {
   "cell_type": "code",
   "execution_count": 52,
   "id": "4a00b375-326d-4dbd-a842-570e08800109",
   "metadata": {},
   "outputs": [
    {
     "data": {
      "text/plain": [
       "219"
      ]
     },
     "execution_count": 52,
     "metadata": {},
     "output_type": "execute_result"
    }
   ],
   "source": [
    "f_other = f_other - f_categorical\n",
    "len(f_other)"
   ]
  },
  {
   "cell_type": "markdown",
   "id": "88c0aefa-a99c-4fdc-a0e8-7e3f2fb0fd7b",
   "metadata": {
    "tags": []
   },
   "source": [
    "#### Numeric features"
   ]
  },
  {
   "cell_type": "code",
   "execution_count": 53,
   "id": "5c8a2bf9-ea90-44e0-93a1-2ca8a4bcda34",
   "metadata": {},
   "outputs": [
    {
     "data": {
      "text/plain": [
       "218"
      ]
     },
     "execution_count": 53,
     "metadata": {},
     "output_type": "execute_result"
    }
   ],
   "source": [
    "f_numeric = (f[list(f_other)].astype(int).sum() - f[list(f_other)].sum()).abs()\n",
    "f_numeric = set(f_numeric[f_numeric > 0].index.tolist())\n",
    "len(f_numeric)"
   ]
  },
  {
   "cell_type": "markdown",
   "id": "9536f413-62b8-4db4-bc20-cbf6cb4d0fbe",
   "metadata": {},
   "source": [
    "#### Other features"
   ]
  },
  {
   "cell_type": "code",
   "execution_count": 54,
   "id": "59ffc7d6-bf35-4dd5-8511-fced5e06dbe6",
   "metadata": {},
   "outputs": [
    {
     "data": {
      "text/plain": [
       "(1, {'252'})"
      ]
     },
     "execution_count": 54,
     "metadata": {},
     "output_type": "execute_result"
    }
   ],
   "source": [
    "f_other = f_other - f_numeric\n",
    "len(f_other), f_other"
   ]
  },
  {
   "cell_type": "code",
   "execution_count": 55,
   "id": "cfeadb14-b24d-4820-9bba-191b1d9649a3",
   "metadata": {},
   "outputs": [],
   "source": [
    "assert(F_nunique.shape[0] == len(f_const) + len(f_binary) + len(f_numeric) + len(f_categorical) + len(f_other))"
   ]
  },
  {
   "cell_type": "code",
   "execution_count": 56,
   "id": "e4f449c0-69fb-4f99-9b9b-d8b00027fadc",
   "metadata": {},
   "outputs": [
    {
     "name": "stdout",
     "output_type": "stream",
     "text": [
      "f_all: 253\n",
      "\n",
      "f_const: 5\n",
      "f_binary: 20\n",
      "f_categorical: 9\n",
      "f_numeric: 218\n",
      "f_other: 1\n"
     ]
    }
   ],
   "source": [
    "print(f'f_all: {len(f_all)}\\n')\n",
    "print('f_const:', len(f_const))\n",
    "print('f_binary:', len(f_binary))\n",
    "print('f_categorical:', len(f_categorical))\n",
    "print('f_numeric:', len(f_numeric))\n",
    "print('f_other:', len(f_other))\n",
    "\n",
    "f_ok = list(f_binary | f_categorical | f_numeric | f_other)\n",
    "f_binary, f_categorical, f_numeric, f_other = list(f_binary), list(f_categorical), list(f_numeric), list(f_other)"
   ]
  },
  {
   "cell_type": "markdown",
   "id": "fa7f9dba-4575-42de-af8b-31560e1242bb",
   "metadata": {},
   "source": [
    "Let's look at this last feature"
   ]
  },
  {
   "cell_type": "code",
   "execution_count": 57,
   "id": "418e90fa-b2a2-47a5-9902-00166d441730",
   "metadata": {},
   "outputs": [
    {
     "data": {
      "text/plain": [
       "(34,)"
      ]
     },
     "execution_count": 57,
     "metadata": {},
     "output_type": "execute_result"
    }
   ],
   "source": [
    "f[list(f_other)].value_counts().shape"
   ]
  },
  {
   "cell_type": "code",
   "execution_count": 58,
   "id": "c09fa012-0a12-4b69-8383-3c6906407bcc",
   "metadata": {},
   "outputs": [
    {
     "data": {
      "text/plain": [
       "252   \n",
       "0.0       674453\n",
       "1.0       227888\n",
       "2.0            5\n",
       "8.0            3\n",
       "3.0            3\n",
       "4.0            3\n",
       "10.0           3\n",
       "11.0           2\n",
       "13.0           2\n",
       "7.0            2\n",
       "5.0            2\n",
       "446.0          1\n",
       "77.0           1\n",
       "299.0          1\n",
       "284.0          1\n",
       "283.0          1\n",
       "251.0          1\n",
       "223.0          1\n",
       "195.0          1\n",
       "182.0          1\n",
       "84.0           1\n",
       "82.0           1\n",
       "24.0           1\n",
       "68.0           1\n",
       "44.0           1\n",
       "42.0           1\n",
       "36.0           1\n",
       "23.0           1\n",
       "22.0           1\n",
       "19.0           1\n",
       "18.0           1\n",
       "16.0           1\n",
       "6.0            1\n",
       "1743.0         1\n",
       "dtype: int64"
      ]
     },
     "execution_count": 58,
     "metadata": {},
     "output_type": "execute_result"
    }
   ],
   "source": [
    "f[list(f_other)].value_counts()"
   ]
  },
  {
   "cell_type": "markdown",
   "id": "b55fe8e1-aadb-47a5-85fe-3152b6ecc0c1",
   "metadata": {},
   "source": [
    "It **looks like** a categorical feature, with some very **rare** objects."
   ]
  },
  {
   "cell_type": "code",
   "execution_count": 78,
   "id": "151550df-e122-412a-9342-2f5cb7258c71",
   "metadata": {},
   "outputs": [
    {
     "data": {
      "text/plain": [
       "0.0    39\n",
       "1.0     4\n",
       "Name: target, dtype: int64"
      ]
     },
     "execution_count": 78,
     "metadata": {},
     "output_type": "execute_result"
    }
   ],
   "source": [
    "train[train['252'] >= 2].target.value_counts()"
   ]
  },
  {
   "cell_type": "code",
   "execution_count": 79,
   "id": "92f5a008-fd93-41dd-9bf4-d9308f4bb71f",
   "metadata": {},
   "outputs": [
    {
     "data": {
      "text/html": [
       "<div>\n",
       "<style scoped>\n",
       "    .dataframe tbody tr th:only-of-type {\n",
       "        vertical-align: middle;\n",
       "    }\n",
       "\n",
       "    .dataframe tbody tr th {\n",
       "        vertical-align: top;\n",
       "    }\n",
       "\n",
       "    .dataframe thead th {\n",
       "        text-align: right;\n",
       "    }\n",
       "</style>\n",
       "<table border=\"1\" class=\"dataframe\">\n",
       "  <thead>\n",
       "    <tr style=\"text-align: right;\">\n",
       "      <th></th>\n",
       "      <th>id</th>\n",
       "      <th>vas_id</th>\n",
       "      <th>buy_time</th>\n",
       "      <th>target</th>\n",
       "      <th>update_info_time</th>\n",
       "      <th>0</th>\n",
       "      <th>1</th>\n",
       "      <th>2</th>\n",
       "      <th>3</th>\n",
       "      <th>4</th>\n",
       "      <th>...</th>\n",
       "      <th>243</th>\n",
       "      <th>244</th>\n",
       "      <th>245</th>\n",
       "      <th>246</th>\n",
       "      <th>247</th>\n",
       "      <th>248</th>\n",
       "      <th>249</th>\n",
       "      <th>250</th>\n",
       "      <th>251</th>\n",
       "      <th>252</th>\n",
       "    </tr>\n",
       "  </thead>\n",
       "  <tbody>\n",
       "    <tr>\n",
       "      <th>320995</th>\n",
       "      <td>4123710</td>\n",
       "      <td>2.0</td>\n",
       "      <td>1536526800</td>\n",
       "      <td>1.0</td>\n",
       "      <td>1531688400</td>\n",
       "      <td>-96.799971</td>\n",
       "      <td>-24.699112</td>\n",
       "      <td>-110.740786</td>\n",
       "      <td>-77.306798</td>\n",
       "      <td>-116.158246</td>\n",
       "      <td>...</td>\n",
       "      <td>-977.373846</td>\n",
       "      <td>-613.770792</td>\n",
       "      <td>-25.996269</td>\n",
       "      <td>-37.630448</td>\n",
       "      <td>-306.747724</td>\n",
       "      <td>-25.832889</td>\n",
       "      <td>-0.694428</td>\n",
       "      <td>-12.175933</td>\n",
       "      <td>-0.45614</td>\n",
       "      <td>2.0</td>\n",
       "    </tr>\n",
       "    <tr>\n",
       "      <th>412050</th>\n",
       "      <td>1809707</td>\n",
       "      <td>6.0</td>\n",
       "      <td>1538341200</td>\n",
       "      <td>1.0</td>\n",
       "      <td>1535922000</td>\n",
       "      <td>495.570029</td>\n",
       "      <td>186.730888</td>\n",
       "      <td>481.629214</td>\n",
       "      <td>134.123202</td>\n",
       "      <td>476.211754</td>\n",
       "      <td>...</td>\n",
       "      <td>-977.373846</td>\n",
       "      <td>-613.770792</td>\n",
       "      <td>-25.996269</td>\n",
       "      <td>-37.630448</td>\n",
       "      <td>-306.747724</td>\n",
       "      <td>-25.832889</td>\n",
       "      <td>-0.694428</td>\n",
       "      <td>-12.175933</td>\n",
       "      <td>-0.45614</td>\n",
       "      <td>3.0</td>\n",
       "    </tr>\n",
       "    <tr>\n",
       "      <th>536191</th>\n",
       "      <td>3906738</td>\n",
       "      <td>4.0</td>\n",
       "      <td>1541970000</td>\n",
       "      <td>1.0</td>\n",
       "      <td>1536526800</td>\n",
       "      <td>540.910029</td>\n",
       "      <td>233.770888</td>\n",
       "      <td>526.969214</td>\n",
       "      <td>181.163202</td>\n",
       "      <td>521.551754</td>\n",
       "      <td>...</td>\n",
       "      <td>-977.373846</td>\n",
       "      <td>-613.770792</td>\n",
       "      <td>-25.996269</td>\n",
       "      <td>-37.630448</td>\n",
       "      <td>-306.747724</td>\n",
       "      <td>-25.832889</td>\n",
       "      <td>-0.694428</td>\n",
       "      <td>-12.175933</td>\n",
       "      <td>-0.45614</td>\n",
       "      <td>11.0</td>\n",
       "    </tr>\n",
       "    <tr>\n",
       "      <th>651830</th>\n",
       "      <td>2215612</td>\n",
       "      <td>6.0</td>\n",
       "      <td>1544994000</td>\n",
       "      <td>1.0</td>\n",
       "      <td>1540155600</td>\n",
       "      <td>-96.799971</td>\n",
       "      <td>-399.699112</td>\n",
       "      <td>-110.740786</td>\n",
       "      <td>-452.306798</td>\n",
       "      <td>-114.038246</td>\n",
       "      <td>...</td>\n",
       "      <td>-977.373846</td>\n",
       "      <td>-613.770792</td>\n",
       "      <td>-25.996269</td>\n",
       "      <td>-37.630448</td>\n",
       "      <td>-306.747724</td>\n",
       "      <td>-25.832889</td>\n",
       "      <td>-0.694428</td>\n",
       "      <td>-12.175933</td>\n",
       "      <td>-0.45614</td>\n",
       "      <td>182.0</td>\n",
       "    </tr>\n",
       "  </tbody>\n",
       "</table>\n",
       "<p>4 rows × 258 columns</p>\n",
       "</div>"
      ],
      "text/plain": [
       "             id  vas_id    buy_time  target  update_info_time           0  \\\n",
       "320995  4123710     2.0  1536526800     1.0        1531688400  -96.799971   \n",
       "412050  1809707     6.0  1538341200     1.0        1535922000  495.570029   \n",
       "536191  3906738     4.0  1541970000     1.0        1536526800  540.910029   \n",
       "651830  2215612     6.0  1544994000     1.0        1540155600  -96.799971   \n",
       "\n",
       "                 1           2           3           4  ...         243  \\\n",
       "320995  -24.699112 -110.740786  -77.306798 -116.158246  ... -977.373846   \n",
       "412050  186.730888  481.629214  134.123202  476.211754  ... -977.373846   \n",
       "536191  233.770888  526.969214  181.163202  521.551754  ... -977.373846   \n",
       "651830 -399.699112 -110.740786 -452.306798 -114.038246  ... -977.373846   \n",
       "\n",
       "               244        245        246         247        248       249  \\\n",
       "320995 -613.770792 -25.996269 -37.630448 -306.747724 -25.832889 -0.694428   \n",
       "412050 -613.770792 -25.996269 -37.630448 -306.747724 -25.832889 -0.694428   \n",
       "536191 -613.770792 -25.996269 -37.630448 -306.747724 -25.832889 -0.694428   \n",
       "651830 -613.770792 -25.996269 -37.630448 -306.747724 -25.832889 -0.694428   \n",
       "\n",
       "              250      251    252  \n",
       "320995 -12.175933 -0.45614    2.0  \n",
       "412050 -12.175933 -0.45614    3.0  \n",
       "536191 -12.175933 -0.45614   11.0  \n",
       "651830 -12.175933 -0.45614  182.0  \n",
       "\n",
       "[4 rows x 258 columns]"
      ]
     },
     "execution_count": 79,
     "metadata": {},
     "output_type": "execute_result"
    }
   ],
   "source": [
    "train[(train['252'] >= 2) & (train['target'] == 1)]"
   ]
  },
  {
   "cell_type": "markdown",
   "id": "ea326229-6ec8-4c24-b029-9e4e83e5ae54",
   "metadata": {},
   "source": [
    "Since there are **~10%** of targets equal to **1**, then we cannot easily equate these categories with the largest strata **[0, 1]**. If this column is divided into categories, then the matrix will be **too sparse**. It will be possible to try to remove outliers and make a **binary** feature."
   ]
  },
  {
   "cell_type": "markdown",
   "id": "5b3d1b2d-431a-4341-bb25-ec437642f933",
   "metadata": {},
   "source": [
    "#### Importances feature"
   ]
  },
  {
   "cell_type": "markdown",
   "id": "09b2eb04-df8d-4281-a75b-068b2c0d4241",
   "metadata": {},
   "source": [
    "Let's make **30 important** `features` for feature engineering from the LGBM model."
   ]
  },
  {
   "cell_type": "code",
   "execution_count": 60,
   "id": "0887a260-a86b-4d87-b1c6-ac4742428f62",
   "metadata": {},
   "outputs": [],
   "source": [
    "feature_imp = pd.DataFrame(zip(X_train.columns, lgb.feature_importances_,), \n",
    "                           columns=['feature', 'weight']).sort_values(by='weight', ascending=False)"
   ]
  },
  {
   "cell_type": "code",
   "execution_count": 81,
   "id": "d2f4b87c-c297-4c55-9fe4-fefc4575207b",
   "metadata": {},
   "outputs": [],
   "source": [
    "f_imp = feature_imp.head(33).iloc[3:, :]['feature'].values.tolist()"
   ]
  },
  {
   "cell_type": "code",
   "execution_count": 82,
   "id": "e39a6614-4f09-4e74-bc60-bf7fa1b3bb88",
   "metadata": {},
   "outputs": [],
   "source": [
    "assert len(set(f_imp) & set(f_binary + f_categorical + f_other)) == 0"
   ]
  },
  {
   "cell_type": "markdown",
   "id": "26aa9798-0b19-4cbe-9b59-90387f616868",
   "metadata": {},
   "source": [
    "### Pipeline"
   ]
  },
  {
   "cell_type": "code",
   "execution_count": 4,
   "id": "f66f9a45-5002-4523-9aee-827b71e7f7bc",
   "metadata": {},
   "outputs": [],
   "source": [
    "from sklearn.base import BaseEstimator, TransformerMixin\n",
    "\n",
    "from sklearn.pipeline import FeatureUnion, make_pipeline\n",
    "from sklearn.preprocessing import StandardScaler, OneHotEncoder"
   ]
  },
  {
   "cell_type": "markdown",
   "id": "80f306ce-fa91-4e0a-9bec-ee0dba416d47",
   "metadata": {},
   "source": [
    "#### Make pipeline"
   ]
  },
  {
   "cell_type": "code",
   "execution_count": 5,
   "id": "a83df39b-88c2-470a-a1ef-b2dc9e89bbe0",
   "metadata": {},
   "outputs": [],
   "source": [
    "class ColumnSelector(BaseEstimator, TransformerMixin):\n",
    "    def __init__(self, columns):\n",
    "        self.columns = columns\n",
    "\n",
    "    def fit(self, X, y=None):\n",
    "        return self\n",
    "    \n",
    "    def transform(self, X):\n",
    "        assert isinstance(X, pd.DataFrame)\n",
    "\n",
    "        try:\n",
    "            return X[self.columns]\n",
    "        except KeyError:\n",
    "            cols_error = list(set(self.columns) - set(X.columns))\n",
    "            raise KeyError(\"DataFrame does not have next columns: %s\" % cols_error)"
   ]
  },
  {
   "cell_type": "code",
   "execution_count": 6,
   "id": "3f091052-a782-4027-9f72-c7fe98e2d5ad",
   "metadata": {},
   "outputs": [],
   "source": [
    "f_main = ['id', 'vas_id', 'buy_time', 'update_info_time']"
   ]
  },
  {
   "cell_type": "code",
   "execution_count": 65,
   "id": "94b1151a-de5f-43db-b29b-5a13969fc880",
   "metadata": {},
   "outputs": [],
   "source": [
    "f_prep_pipeline = make_pipeline(\n",
    "    FeatureUnion(transformer_list=[\n",
    "        (\"main_features\", make_pipeline(\n",
    "            ColumnSelector(f_main),\n",
    "        )),\n",
    "        (\"numeric_features\", make_pipeline(\n",
    "            ColumnSelector(f_numeric),\n",
    "        )),\n",
    "        (\"boolean_features\", make_pipeline(\n",
    "            ColumnSelector(f_binary),\n",
    "        )),\n",
    "        (\"other_features\", make_pipeline(\n",
    "            ColumnSelector(f_other),\n",
    "        )),\n",
    "        (\"categorical_features\", make_pipeline(\n",
    "            ColumnSelector(f_categorical),\n",
    "            OneHotEncoder(handle_unknown='ignore')\n",
    "        ))\n",
    "    ])\n",
    ")"
   ]
  },
  {
   "cell_type": "markdown",
   "id": "7963e230-a893-4e83-b40e-b7985023ce88",
   "metadata": {},
   "source": [
    "Save the feature pipeline since the kernel is dying due to large files"
   ]
  },
  {
   "cell_type": "code",
   "execution_count": 7,
   "id": "f8664f8f-9691-4fd7-b6fe-abc6adf6a175",
   "metadata": {},
   "outputs": [],
   "source": [
    "# with open('data/features_pipeline.dill', 'wb') as f:\n",
    "#     dill.dump(f_prep_pipeline, f)"
   ]
  },
  {
   "cell_type": "markdown",
   "id": "66cec856-cdec-49f2-886e-25f853443962",
   "metadata": {
    "tags": []
   },
   "source": [
    "#### LGBM"
   ]
  },
  {
   "cell_type": "code",
   "execution_count": 66,
   "id": "3950d3ce-cca2-40e5-8aeb-4433b73049c2",
   "metadata": {},
   "outputs": [],
   "source": [
    "lgb_pipe = make_pipeline(\n",
    "    f_prep_pipeline,\n",
    "    lightgbm.LGBMClassifier(objective='binary', random_state=1)\n",
    ")"
   ]
  },
  {
   "cell_type": "code",
   "execution_count": 88,
   "id": "21893266-5485-414a-ba8b-41431788ccfb",
   "metadata": {},
   "outputs": [
    {
     "name": "stdout",
     "output_type": "stream",
     "text": [
      "Best Threshold = 0.253, F-Score = 0.576, Precision = 0.420, Recall = 0.917\n",
      "F1-Score (average=\"macro\") best threshold = 0.7525469090834258\n",
      "F1-Score (average=\"macro\") threshold - 0.5 = 0.7094544362330713\n",
      "\n",
      "CPU times: user 1min 30s, sys: 46.4 s, total: 2min 16s\n",
      "Wall time: 1min 55s\n"
     ]
    },
    {
     "data": {
      "image/png": "[encoded data removed]",
      "text/plain": [
       "<Figure size 1008x360 with 2 Axes>"
      ]
     },
     "metadata": {},
     "output_type": "display_data"
    }
   ],
   "source": [
    "%%time\n",
    "lgb_pipe = run_learn(X_train, y_train, X_val, y_val, lgb_pipe, slpit_date=SPLIT_DATE, plot_name='Features LGBM')"
   ]
  },
  {
   "cell_type": "code",
   "execution_count": 89,
   "id": "3510cd8c-6a8e-4b9e-8075-1380bb87fc4a",
   "metadata": {},
   "outputs": [
    {
     "data": {
      "text/plain": [
       "<AxesSubplot:title={'center':'Feature importance'}, xlabel='Feature importance', ylabel='Features'>"
      ]
     },
     "execution_count": 89,
     "metadata": {},
     "output_type": "execute_result"
    },
    {
     "data": {
      "image/png": "[encoded data removed]",
      "text/plain": [
       "<Figure size 576x432 with 1 Axes>"
      ]
     },
     "metadata": {},
     "output_type": "display_data"
    }
   ],
   "source": [
    "lightgbm.plot_importance(lgb_pipe[1], figsize=(8, 6) , max_num_features=30)"
   ]
  },
  {
   "cell_type": "markdown",
   "id": "de4fb73b-5ddb-4c76-967d-252172f6fd09",
   "metadata": {},
   "source": [
    "baseline shows **better** results"
   ]
  },
  {
   "cell_type": "code",
   "execution_count": 90,
   "id": "ac63eb74-9bc9-4c32-9ec7-9cb848a8cc81",
   "metadata": {},
   "outputs": [],
   "source": [
    "# [k for k in lgb_pipe.get_params().keys() if 'lgbmclassifier' in k]"
   ]
  },
  {
   "cell_type": "markdown",
   "id": "90b118d7-d6ce-4256-b61a-97f72f1fcadf",
   "metadata": {
    "tags": []
   },
   "source": [
    "#### Cat Boost"
   ]
  },
  {
   "cell_type": "code",
   "execution_count": 91,
   "id": "08aa75b5-47a1-4b0d-bd93-a84595b04ef5",
   "metadata": {},
   "outputs": [],
   "source": [
    "from catboost import CatBoostClassifier"
   ]
  },
  {
   "cell_type": "code",
   "execution_count": 92,
   "id": "16ce3d18-bae9-4ac0-8463-c8fa2da995f7",
   "metadata": {},
   "outputs": [],
   "source": [
    "catboost_pipe = make_pipeline(\n",
    "    f_prep_pipeline,\n",
    "    CatBoostClassifier(iterations=100, random_state=1)\n",
    ")"
   ]
  },
  {
   "cell_type": "code",
   "execution_count": 93,
   "id": "c42d40fa-92c5-458e-b9bf-0ee7209dad92",
   "metadata": {},
   "outputs": [],
   "source": [
    "# [k for k in catboost_pipe.get_params().keys() if 'verbose' in k]"
   ]
  },
  {
   "cell_type": "code",
   "execution_count": 94,
   "id": "43b4c1a4-34b7-4e13-a5b8-d44cca14a68b",
   "metadata": {},
   "outputs": [],
   "source": [
    "# params = {'verbose': True,\n",
    "#           'pipeline__verbose': True,\n",
    "#           'catboostclassifier__iterations': 100\n",
    "#          }"
   ]
  },
  {
   "cell_type": "code",
   "execution_count": 95,
   "id": "2dc0183a-fa69-44ed-8448-f242854ca45c",
   "metadata": {
    "tags": []
   },
   "outputs": [],
   "source": [
    "# catboost_pipe.set_params(**params)"
   ]
  },
  {
   "cell_type": "code",
   "execution_count": 96,
   "id": "ada346c1-5a11-40a3-8d7a-889bc92ba259",
   "metadata": {},
   "outputs": [
    {
     "name": "stdout",
     "output_type": "stream",
     "text": [
      "Learning rate set to 0.5\n",
      "0:\tlearn: 0.2091548\ttotal: 251ms\tremaining: 24.9s\n",
      "1:\tlearn: 0.1539980\ttotal: 463ms\tremaining: 22.7s\n",
      "2:\tlearn: 0.1422695\ttotal: 669ms\tremaining: 21.6s\n",
      "3:\tlearn: 0.1402910\ttotal: 874ms\tremaining: 21s\n",
      "4:\tlearn: 0.1386464\ttotal: 1.01s\tremaining: 19.3s\n",
      "5:\tlearn: 0.1379822\ttotal: 1.16s\tremaining: 18.2s\n",
      "6:\tlearn: 0.1377790\ttotal: 1.29s\tremaining: 17.1s\n",
      "7:\tlearn: 0.1375881\ttotal: 1.41s\tremaining: 16.3s\n",
      "8:\tlearn: 0.1374404\ttotal: 1.54s\tremaining: 15.6s\n",
      "9:\tlearn: 0.1373471\ttotal: 1.7s\tremaining: 15.3s\n",
      "10:\tlearn: 0.1373180\ttotal: 1.82s\tremaining: 14.7s\n",
      "11:\tlearn: 0.1372517\ttotal: 1.93s\tremaining: 14.2s\n",
      "12:\tlearn: 0.1371674\ttotal: 2.06s\tremaining: 13.8s\n",
      "13:\tlearn: 0.1371049\ttotal: 2.18s\tremaining: 13.4s\n",
      "14:\tlearn: 0.1370545\ttotal: 2.3s\tremaining: 13s\n",
      "15:\tlearn: 0.1370071\ttotal: 2.44s\tremaining: 12.8s\n",
      "16:\tlearn: 0.1369935\ttotal: 2.55s\tremaining: 12.5s\n",
      "17:\tlearn: 0.1369209\ttotal: 2.72s\tremaining: 12.4s\n",
      "18:\tlearn: 0.1368788\ttotal: 2.85s\tremaining: 12.2s\n",
      "19:\tlearn: 0.1368350\ttotal: 3.06s\tremaining: 12.2s\n",
      "20:\tlearn: 0.1367993\ttotal: 3.37s\tremaining: 12.7s\n",
      "21:\tlearn: 0.1367330\ttotal: 3.6s\tremaining: 12.8s\n",
      "22:\tlearn: 0.1366814\ttotal: 3.81s\tremaining: 12.8s\n",
      "23:\tlearn: 0.1366309\ttotal: 3.99s\tremaining: 12.6s\n",
      "24:\tlearn: 0.1366142\ttotal: 4.12s\tremaining: 12.4s\n",
      "25:\tlearn: 0.1365796\ttotal: 4.23s\tremaining: 12s\n",
      "26:\tlearn: 0.1365287\ttotal: 4.45s\tremaining: 12s\n",
      "27:\tlearn: 0.1365050\ttotal: 4.59s\tremaining: 11.8s\n",
      "28:\tlearn: 0.1364734\ttotal: 4.73s\tremaining: 11.6s\n",
      "29:\tlearn: 0.1364646\ttotal: 4.85s\tremaining: 11.3s\n",
      "30:\tlearn: 0.1364136\ttotal: 5.09s\tremaining: 11.3s\n",
      "31:\tlearn: 0.1363695\ttotal: 5.24s\tremaining: 11.1s\n",
      "32:\tlearn: 0.1362198\ttotal: 5.46s\tremaining: 11.1s\n",
      "33:\tlearn: 0.1361985\ttotal: 5.76s\tremaining: 11.2s\n",
      "34:\tlearn: 0.1361380\ttotal: 5.93s\tremaining: 11s\n",
      "35:\tlearn: 0.1360761\ttotal: 6.09s\tremaining: 10.8s\n",
      "36:\tlearn: 0.1360132\ttotal: 6.24s\tremaining: 10.6s\n",
      "37:\tlearn: 0.1359896\ttotal: 6.36s\tremaining: 10.4s\n",
      "38:\tlearn: 0.1359558\ttotal: 6.5s\tremaining: 10.2s\n",
      "39:\tlearn: 0.1359507\ttotal: 6.63s\tremaining: 9.95s\n",
      "40:\tlearn: 0.1359134\ttotal: 6.76s\tremaining: 9.73s\n",
      "41:\tlearn: 0.1358887\ttotal: 6.88s\tremaining: 9.5s\n",
      "42:\tlearn: 0.1358654\ttotal: 7s\tremaining: 9.28s\n",
      "43:\tlearn: 0.1358611\ttotal: 7.11s\tremaining: 9.05s\n",
      "44:\tlearn: 0.1358100\ttotal: 7.34s\tremaining: 8.97s\n",
      "45:\tlearn: 0.1357598\ttotal: 7.49s\tremaining: 8.79s\n",
      "46:\tlearn: 0.1356924\ttotal: 7.69s\tremaining: 8.67s\n",
      "47:\tlearn: 0.1356290\ttotal: 7.86s\tremaining: 8.52s\n",
      "48:\tlearn: 0.1355719\ttotal: 8.03s\tremaining: 8.36s\n",
      "49:\tlearn: 0.1355389\ttotal: 8.19s\tremaining: 8.19s\n",
      "50:\tlearn: 0.1354839\ttotal: 8.34s\tremaining: 8.01s\n",
      "51:\tlearn: 0.1354460\ttotal: 8.49s\tremaining: 7.84s\n",
      "52:\tlearn: 0.1354363\ttotal: 8.63s\tremaining: 7.65s\n",
      "53:\tlearn: 0.1353642\ttotal: 8.8s\tremaining: 7.5s\n",
      "54:\tlearn: 0.1352989\ttotal: 8.95s\tremaining: 7.33s\n",
      "55:\tlearn: 0.1352690\ttotal: 9.09s\tremaining: 7.14s\n",
      "56:\tlearn: 0.1352198\ttotal: 9.29s\tremaining: 7s\n",
      "57:\tlearn: 0.1351622\ttotal: 9.44s\tremaining: 6.83s\n",
      "58:\tlearn: 0.1351093\ttotal: 9.58s\tremaining: 6.66s\n",
      "59:\tlearn: 0.1350727\ttotal: 9.77s\tremaining: 6.51s\n",
      "60:\tlearn: 0.1350605\ttotal: 10.1s\tremaining: 6.43s\n",
      "61:\tlearn: 0.1350294\ttotal: 10.2s\tremaining: 6.26s\n",
      "62:\tlearn: 0.1349584\ttotal: 10.4s\tremaining: 6.1s\n",
      "63:\tlearn: 0.1349552\ttotal: 10.5s\tremaining: 5.9s\n",
      "64:\tlearn: 0.1348986\ttotal: 10.7s\tremaining: 5.74s\n",
      "65:\tlearn: 0.1348395\ttotal: 10.8s\tremaining: 5.56s\n",
      "66:\tlearn: 0.1347961\ttotal: 10.9s\tremaining: 5.38s\n",
      "67:\tlearn: 0.1347507\ttotal: 11.1s\tremaining: 5.2s\n",
      "68:\tlearn: 0.1346884\ttotal: 11.2s\tremaining: 5.03s\n",
      "69:\tlearn: 0.1346122\ttotal: 11.3s\tremaining: 4.85s\n",
      "70:\tlearn: 0.1345649\ttotal: 11.5s\tremaining: 4.68s\n",
      "71:\tlearn: 0.1345018\ttotal: 11.6s\tremaining: 4.5s\n",
      "72:\tlearn: 0.1344644\ttotal: 11.7s\tremaining: 4.33s\n",
      "73:\tlearn: 0.1344089\ttotal: 11.9s\tremaining: 4.16s\n",
      "74:\tlearn: 0.1343423\ttotal: 12s\tremaining: 4s\n",
      "75:\tlearn: 0.1343076\ttotal: 12.1s\tremaining: 3.83s\n",
      "76:\tlearn: 0.1342366\ttotal: 12.3s\tremaining: 3.68s\n",
      "77:\tlearn: 0.1341920\ttotal: 12.4s\tremaining: 3.5s\n",
      "78:\tlearn: 0.1341395\ttotal: 12.6s\tremaining: 3.35s\n",
      "79:\tlearn: 0.1340861\ttotal: 12.8s\tremaining: 3.19s\n",
      "80:\tlearn: 0.1340613\ttotal: 12.9s\tremaining: 3.03s\n",
      "81:\tlearn: 0.1340580\ttotal: 13s\tremaining: 2.86s\n",
      "82:\tlearn: 0.1340036\ttotal: 13.2s\tremaining: 2.7s\n",
      "83:\tlearn: 0.1339807\ttotal: 13.3s\tremaining: 2.53s\n",
      "84:\tlearn: 0.1339169\ttotal: 13.4s\tremaining: 2.37s\n",
      "85:\tlearn: 0.1339049\ttotal: 13.5s\tremaining: 2.2s\n",
      "86:\tlearn: 0.1338748\ttotal: 13.7s\tremaining: 2.04s\n",
      "87:\tlearn: 0.1338120\ttotal: 13.8s\tremaining: 1.89s\n",
      "88:\tlearn: 0.1337702\ttotal: 14s\tremaining: 1.73s\n",
      "89:\tlearn: 0.1337438\ttotal: 14.1s\tremaining: 1.57s\n",
      "90:\tlearn: 0.1336827\ttotal: 14.3s\tremaining: 1.41s\n",
      "91:\tlearn: 0.1336580\ttotal: 14.5s\tremaining: 1.26s\n",
      "92:\tlearn: 0.1335908\ttotal: 14.7s\tremaining: 1.1s\n",
      "93:\tlearn: 0.1335300\ttotal: 14.8s\tremaining: 948ms\n",
      "94:\tlearn: 0.1334814\ttotal: 15s\tremaining: 790ms\n",
      "95:\tlearn: 0.1334575\ttotal: 15.2s\tremaining: 632ms\n",
      "96:\tlearn: 0.1334140\ttotal: 15.3s\tremaining: 474ms\n",
      "97:\tlearn: 0.1333773\ttotal: 15.5s\tremaining: 316ms\n",
      "98:\tlearn: 0.1333185\ttotal: 15.6s\tremaining: 158ms\n",
      "99:\tlearn: 0.1332667\ttotal: 15.8s\tremaining: 0us\n",
      "Best Threshold = 0.237, F-Score = 0.572, Precision = 0.420, Recall = 0.895\n",
      "F1-Score (average=\"macro\") best threshold = 0.7507734804639472\n",
      "F1-Score (average=\"macro\") threshold - 0.5 = 0.700201311754135\n",
      "\n",
      "CPU times: user 2min 1s, sys: 1min 1s, total: 3min 2s\n",
      "Wall time: 2min 15s\n"
     ]
    },
    {
     "data": {
      "image/png": "[encoded data removed]",
      "text/plain": [
       "<Figure size 1008x360 with 2 Axes>"
      ]
     },
     "metadata": {},
     "output_type": "display_data"
    }
   ],
   "source": [
    "%%time\n",
    "catboost_pipe = run_learn(X_train, y_train, X_val, y_val, catboost_pipe, \n",
    "                          slpit_date=SPLIT_DATE, plot_name='Features CatBoost')"
   ]
  },
  {
   "cell_type": "markdown",
   "id": "c1278791-8bde-4b95-86b5-ff7d08bfd4ca",
   "metadata": {},
   "source": [
    "No significant changes."
   ]
  },
  {
   "cell_type": "markdown",
   "id": "cb7a6987-5cbe-4b40-a5cb-d0c74a43092d",
   "metadata": {
    "tags": []
   },
   "source": [
    "#### Logreg"
   ]
  },
  {
   "cell_type": "code",
   "execution_count": 97,
   "id": "b39af474-5cd4-4b0c-8924-8f7033a77fdf",
   "metadata": {},
   "outputs": [],
   "source": [
    "from sklearn.linear_model import LogisticRegression"
   ]
  },
  {
   "cell_type": "code",
   "execution_count": 98,
   "id": "109e1049-839b-48f5-9fee-9dfec685185f",
   "metadata": {},
   "outputs": [],
   "source": [
    "f_prep_pipeline_logreg = make_pipeline(\n",
    "    FeatureUnion(transformer_list=[\n",
    "        (\"main_features\", make_pipeline(\n",
    "            ColumnSelector(f_main),\n",
    "        )),\n",
    "        (\"numeric_features\", make_pipeline(\n",
    "            ColumnSelector(f_numeric),\n",
    "            StandardScaler()  # for logreg need scaler\n",
    "        )),\n",
    "        (\"boolean_features\", make_pipeline(\n",
    "            ColumnSelector(f_binary),\n",
    "        )),\n",
    "        (\"other_features\", make_pipeline(\n",
    "            ColumnSelector(f_other),\n",
    "        )),\n",
    "        (\"categorical_features\", make_pipeline(\n",
    "            ColumnSelector(f_categorical),\n",
    "            OneHotEncoder(handle_unknown='ignore')\n",
    "        ))\n",
    "    ])\n",
    ")"
   ]
  },
  {
   "cell_type": "code",
   "execution_count": 99,
   "id": "db91243d-52b2-4617-9c61-257a2c4c73cc",
   "metadata": {},
   "outputs": [],
   "source": [
    "logreg_pipe = make_pipeline(\n",
    "    f_prep_pipeline_logreg,\n",
    "    LogisticRegression(random_state=1)\n",
    ")"
   ]
  },
  {
   "cell_type": "code",
   "execution_count": 100,
   "id": "d1ec32fe-0280-4c28-a422-78c1a0fe7eb8",
   "metadata": {},
   "outputs": [
    {
     "name": "stdout",
     "output_type": "stream",
     "text": [
      "Best Threshold = 0.066, F-Score = 0.166, Precision = 0.092, Recall = 0.834\n",
      "F1-Score (average=\"macro\") best threshold = 0.23918025448966912\n",
      "F1-Score (average=\"macro\") threshold - 0.5 = 0.4765285712473412\n",
      "\n",
      "CPU times: user 43.2 s, sys: 25 s, total: 1min 8s\n",
      "Wall time: 1min 21s\n"
     ]
    },
    {
     "data": {
      "image/png": "[encoded data removed]",
      "text/plain": [
       "<Figure size 1008x360 with 2 Axes>"
      ]
     },
     "metadata": {},
     "output_type": "display_data"
    }
   ],
   "source": [
    "%%time\n",
    "logreg_pipe = run_learn(X_train, y_train, X_val, y_val, logreg_pipe, slpit_date=SPLIT_DATE, plot_name='Features Logreg')"
   ]
  },
  {
   "cell_type": "markdown",
   "id": "0a561f79-7a48-4f14-9195-485c03dbd49c",
   "metadata": {},
   "source": [
    "LogisticRegression not working **at all**. Let's see correlations with main `features`"
   ]
  },
  {
   "cell_type": "code",
   "execution_count": 101,
   "id": "91b3d3bc-d8d7-45c4-9887-51e1d759c3f5",
   "metadata": {},
   "outputs": [],
   "source": [
    "import seaborn as sns"
   ]
  },
  {
   "cell_type": "code",
   "execution_count": 104,
   "id": "2aeca4ec-c09b-4158-9b40-7b088d17acc5",
   "metadata": {},
   "outputs": [
    {
     "data": {
      "text/plain": [
       "<AxesSubplot:>"
      ]
     },
     "execution_count": 104,
     "metadata": {},
     "output_type": "execute_result"
    },
    {
     "data": {
      "image/png": "[encoded data removed]",
      "text/plain": [
       "<Figure size 864x720 with 2 Axes>"
      ]
     },
     "metadata": {},
     "output_type": "display_data"
    }
   ],
   "source": [
    "plt.figure(figsize=(12, 10))\n",
    "sns.heatmap(train[['target'] + f_main + f_imp].corr())"
   ]
  },
  {
   "cell_type": "markdown",
   "id": "2b0b6126-efd2-4d0b-be51-6fcabe5ecb96",
   "metadata": {},
   "source": [
    "Yes, very **weak correlation** with the `target`. Logreg in such cases does not work very well. There is also multicolleniality in the data."
   ]
  },
  {
   "cell_type": "markdown",
   "id": "44927bbc-0f5d-4bb1-96f1-4a0cbe47b0a7",
   "metadata": {
    "tags": []
   },
   "source": [
    "### Feature engineering"
   ]
  },
  {
   "cell_type": "markdown",
   "id": "47d24102-ed7a-40f4-aa69-c90e394c2194",
   "metadata": {},
   "source": [
    "#### Pairwise features"
   ]
  },
  {
   "cell_type": "markdown",
   "id": "40d2f59d-5205-40d1-927d-09b23a7393f0",
   "metadata": {
    "tags": []
   },
   "source": [
    "##### $H_1$  uset-item"
   ]
  },
  {
   "cell_type": "markdown",
   "id": "8316e72d-c213-41dd-a66d-1d5a5440ef22",
   "metadata": {
    "tags": []
   },
   "source": [
    "Ok. Let's try make new features. Since the condition of the task is to find the probability for **user-item pairs**, the creation of paired `features` will probably help.\n",
    "\n",
    "Let's call it hypothesis $H_1$"
   ]
  },
  {
   "cell_type": "code",
   "execution_count": 230,
   "id": "5e52a46c-acb8-4a1e-ba44-4607abac2013",
   "metadata": {},
   "outputs": [],
   "source": [
    "# Get new feature \n",
    "def get_feature(df, group_by, agg_col, agg_func, denominator_flag=False, denominator_num='column_name'):\n",
    "    # base value of denominator\n",
    "    denominator = 1\n",
    "    \n",
    "    # if flag == true then calculate number of unique value for denominator\n",
    "    if denominator_flag:\n",
    "        denominator = df[denominator_num].nunique()\n",
    "    \n",
    "    # return new column as Series \n",
    "    return df.merge(df.groupby(by=group_by)[agg_col].agg(agg_func)\\\n",
    "                         .rename('new_feature')/denominator, \n",
    "                         how='left', \n",
    "                         on=group_by).iloc[:, -1].fillna(0).to_numpy()"
   ]
  },
  {
   "cell_type": "code",
   "execution_count": 190,
   "id": "1bffea26-eea4-452d-b2e8-7be4bc6868f4",
   "metadata": {},
   "outputs": [
    {
     "data": {
      "text/html": [
       "<div>\n",
       "<style scoped>\n",
       "    .dataframe tbody tr th:only-of-type {\n",
       "        vertical-align: middle;\n",
       "    }\n",
       "\n",
       "    .dataframe tbody tr th {\n",
       "        vertical-align: top;\n",
       "    }\n",
       "\n",
       "    .dataframe thead th {\n",
       "        text-align: right;\n",
       "    }\n",
       "</style>\n",
       "<table border=\"1\" class=\"dataframe\">\n",
       "  <thead>\n",
       "    <tr style=\"text-align: right;\">\n",
       "      <th></th>\n",
       "      <th>241</th>\n",
       "      <th>58</th>\n",
       "      <th>226</th>\n",
       "      <th>207</th>\n",
       "      <th>128</th>\n",
       "      <th>61</th>\n",
       "      <th>164</th>\n",
       "      <th>229</th>\n",
       "      <th>145</th>\n",
       "      <th>64</th>\n",
       "      <th>...</th>\n",
       "      <th>53</th>\n",
       "      <th>127</th>\n",
       "      <th>247</th>\n",
       "      <th>117</th>\n",
       "      <th>111</th>\n",
       "      <th>144</th>\n",
       "      <th>47</th>\n",
       "      <th>50</th>\n",
       "      <th>248</th>\n",
       "      <th>3</th>\n",
       "    </tr>\n",
       "  </thead>\n",
       "  <tbody>\n",
       "    <tr>\n",
       "      <th>0</th>\n",
       "      <td>508.382022</td>\n",
       "      <td>2.318354</td>\n",
       "      <td>5.613617</td>\n",
       "      <td>1482.274176</td>\n",
       "      <td>0.244871</td>\n",
       "      <td>-0.178162</td>\n",
       "      <td>0.090492</td>\n",
       "      <td>193.871014</td>\n",
       "      <td>43.03637</td>\n",
       "      <td>-0.265662</td>\n",
       "      <td>...</td>\n",
       "      <td>-25.331295</td>\n",
       "      <td>0.039549</td>\n",
       "      <td>142.252276</td>\n",
       "      <td>-2298.725139</td>\n",
       "      <td>-0.62084</td>\n",
       "      <td>-64.720802</td>\n",
       "      <td>-4.418641</td>\n",
       "      <td>-2.130284</td>\n",
       "      <td>-16.832889</td>\n",
       "      <td>7.523202</td>\n",
       "    </tr>\n",
       "    <tr>\n",
       "      <th>1</th>\n",
       "      <td>-106.617978</td>\n",
       "      <td>-10.681646</td>\n",
       "      <td>14.399332</td>\n",
       "      <td>-11953.712824</td>\n",
       "      <td>-0.575129</td>\n",
       "      <td>-0.028162</td>\n",
       "      <td>-0.089508</td>\n",
       "      <td>-266.128986</td>\n",
       "      <td>-20.96363</td>\n",
       "      <td>-0.005662</td>\n",
       "      <td>...</td>\n",
       "      <td>-24.331295</td>\n",
       "      <td>-0.060451</td>\n",
       "      <td>-306.747724</td>\n",
       "      <td>-2298.725139</td>\n",
       "      <td>5.37916</td>\n",
       "      <td>-51.754142</td>\n",
       "      <td>-5.785383</td>\n",
       "      <td>-25.130284</td>\n",
       "      <td>-25.832889</td>\n",
       "      <td>-270.106798</td>\n",
       "    </tr>\n",
       "  </tbody>\n",
       "</table>\n",
       "<p>2 rows × 30 columns</p>\n",
       "</div>"
      ],
      "text/plain": [
       "          241         58        226           207       128        61  \\\n",
       "0  508.382022   2.318354   5.613617   1482.274176  0.244871 -0.178162   \n",
       "1 -106.617978 -10.681646  14.399332 -11953.712824 -0.575129 -0.028162   \n",
       "\n",
       "        164         229       145        64  ...         53       127  \\\n",
       "0  0.090492  193.871014  43.03637 -0.265662  ... -25.331295  0.039549   \n",
       "1 -0.089508 -266.128986 -20.96363 -0.005662  ... -24.331295 -0.060451   \n",
       "\n",
       "          247          117      111        144        47         50  \\\n",
       "0  142.252276 -2298.725139 -0.62084 -64.720802 -4.418641  -2.130284   \n",
       "1 -306.747724 -2298.725139  5.37916 -51.754142 -5.785383 -25.130284   \n",
       "\n",
       "         248           3  \n",
       "0 -16.832889    7.523202  \n",
       "1 -25.832889 -270.106798  \n",
       "\n",
       "[2 rows x 30 columns]"
      ]
     },
     "execution_count": 190,
     "metadata": {},
     "output_type": "execute_result"
    }
   ],
   "source": [
    "X_train[f_imp].head(2)"
   ]
  },
  {
   "cell_type": "code",
   "execution_count": 161,
   "id": "bf410eba-8d0e-4a68-912c-b0be23bde150",
   "metadata": {
    "tags": []
   },
   "outputs": [],
   "source": [
    "train['user_item_241_sum'] = get_feature(train, ['id', 'vas_id'], '241', 'sum')"
   ]
  },
  {
   "cell_type": "code",
   "execution_count": 163,
   "id": "03b7cba7-180b-4504-a4f2-b7b27bd7e104",
   "metadata": {},
   "outputs": [],
   "source": [
    "train['user_item_241_cnt'] = get_feature(train, ['id', 'vas_id'], 'id', 'count')"
   ]
  },
  {
   "cell_type": "code",
   "execution_count": 167,
   "id": "78ed88ec-73a1-4135-b1f3-aa818c77b0e5",
   "metadata": {},
   "outputs": [
    {
     "data": {
      "text/plain": [
       "-106.617978     386370\n",
       "-105.617978      21129\n",
       "-104.617978      14854\n",
       "-103.617978       9245\n",
       "-92.617978        8705\n",
       "                 ...  \n",
       " 3847.382022         1\n",
       " 2905.382022         1\n",
       " 5451.382022         1\n",
       " 3272.382022         1\n",
       " 4091.382022         1\n",
       "Name: 241, Length: 4706, dtype: int64"
      ]
     },
     "execution_count": 167,
     "metadata": {},
     "output_type": "execute_result"
    }
   ],
   "source": [
    "train['241'].value_counts()"
   ]
  },
  {
   "cell_type": "code",
   "execution_count": 168,
   "id": "08f5b03f-eb35-4c58-ad1a-706ef92a8d77",
   "metadata": {},
   "outputs": [
    {
     "data": {
      "text/plain": [
       "-106.617978     380458\n",
       "-105.617978      20783\n",
       "-104.617978      14641\n",
       "-103.617978       9093\n",
       "-92.617978        8586\n",
       "                 ...  \n",
       " 3963.382022         1\n",
       " 5526.382022         1\n",
       " 5272.382022         1\n",
       " 2187.382022         1\n",
       " 4091.382022         1\n",
       "Name: user_item_241_sum, Length: 5407, dtype: int64"
      ]
     },
     "execution_count": 168,
     "metadata": {},
     "output_type": "execute_result"
    }
   ],
   "source": [
    "train['user_item_241_sum'].value_counts()"
   ]
  },
  {
   "cell_type": "code",
   "execution_count": 165,
   "id": "5332cc40-1b42-4b23-9cc2-eba4cb458f73",
   "metadata": {},
   "outputs": [
    {
     "data": {
      "text/plain": [
       "1.0    819155\n",
       "2.0     12498\n",
       "Name: user_item_241_cnt, dtype: int64"
      ]
     },
     "execution_count": 165,
     "metadata": {},
     "output_type": "execute_result"
    }
   ],
   "source": [
    "train['user_item_241_cnt'].value_counts()"
   ]
  },
  {
   "cell_type": "code",
   "execution_count": 164,
   "id": "6de0a9d8-fda4-4bcb-8aa3-33c80c985796",
   "metadata": {},
   "outputs": [
    {
     "data": {
      "text/html": [
       "<div>\n",
       "<style scoped>\n",
       "    .dataframe tbody tr th:only-of-type {\n",
       "        vertical-align: middle;\n",
       "    }\n",
       "\n",
       "    .dataframe tbody tr th {\n",
       "        vertical-align: top;\n",
       "    }\n",
       "\n",
       "    .dataframe thead th {\n",
       "        text-align: right;\n",
       "    }\n",
       "</style>\n",
       "<table border=\"1\" class=\"dataframe\">\n",
       "  <thead>\n",
       "    <tr style=\"text-align: right;\">\n",
       "      <th></th>\n",
       "      <th>241</th>\n",
       "      <th>user_item_241_sum</th>\n",
       "      <th>user_item_241_cnt</th>\n",
       "    </tr>\n",
       "  </thead>\n",
       "  <tbody>\n",
       "    <tr>\n",
       "      <th>0</th>\n",
       "      <td>508.382022</td>\n",
       "      <td>508.382022</td>\n",
       "      <td>1.0</td>\n",
       "    </tr>\n",
       "    <tr>\n",
       "      <th>1</th>\n",
       "      <td>-106.617978</td>\n",
       "      <td>-106.617978</td>\n",
       "      <td>1.0</td>\n",
       "    </tr>\n",
       "    <tr>\n",
       "      <th>2</th>\n",
       "      <td>80.382022</td>\n",
       "      <td>80.382022</td>\n",
       "      <td>1.0</td>\n",
       "    </tr>\n",
       "    <tr>\n",
       "      <th>3</th>\n",
       "      <td>-35.617978</td>\n",
       "      <td>-35.617978</td>\n",
       "      <td>1.0</td>\n",
       "    </tr>\n",
       "    <tr>\n",
       "      <th>4</th>\n",
       "      <td>-106.617978</td>\n",
       "      <td>-106.617978</td>\n",
       "      <td>1.0</td>\n",
       "    </tr>\n",
       "    <tr>\n",
       "      <th>...</th>\n",
       "      <td>...</td>\n",
       "      <td>...</td>\n",
       "      <td>...</td>\n",
       "    </tr>\n",
       "    <tr>\n",
       "      <th>831648</th>\n",
       "      <td>-106.617978</td>\n",
       "      <td>-106.617978</td>\n",
       "      <td>1.0</td>\n",
       "    </tr>\n",
       "    <tr>\n",
       "      <th>831649</th>\n",
       "      <td>-106.617978</td>\n",
       "      <td>-106.617978</td>\n",
       "      <td>1.0</td>\n",
       "    </tr>\n",
       "    <tr>\n",
       "      <th>831650</th>\n",
       "      <td>-106.617978</td>\n",
       "      <td>-106.617978</td>\n",
       "      <td>1.0</td>\n",
       "    </tr>\n",
       "    <tr>\n",
       "      <th>831651</th>\n",
       "      <td>-106.617978</td>\n",
       "      <td>-106.617978</td>\n",
       "      <td>1.0</td>\n",
       "    </tr>\n",
       "    <tr>\n",
       "      <th>831652</th>\n",
       "      <td>-106.617978</td>\n",
       "      <td>-106.617978</td>\n",
       "      <td>1.0</td>\n",
       "    </tr>\n",
       "  </tbody>\n",
       "</table>\n",
       "<p>831653 rows × 3 columns</p>\n",
       "</div>"
      ],
      "text/plain": [
       "               241  user_item_241_sum  user_item_241_cnt\n",
       "0       508.382022         508.382022                1.0\n",
       "1      -106.617978        -106.617978                1.0\n",
       "2        80.382022          80.382022                1.0\n",
       "3       -35.617978         -35.617978                1.0\n",
       "4      -106.617978        -106.617978                1.0\n",
       "...            ...                ...                ...\n",
       "831648 -106.617978        -106.617978                1.0\n",
       "831649 -106.617978        -106.617978                1.0\n",
       "831650 -106.617978        -106.617978                1.0\n",
       "831651 -106.617978        -106.617978                1.0\n",
       "831652 -106.617978        -106.617978                1.0\n",
       "\n",
       "[831653 rows x 3 columns]"
      ]
     },
     "execution_count": 164,
     "metadata": {},
     "output_type": "execute_result"
    }
   ],
   "source": [
    "train[['241', 'user_item_241_sum', 'user_item_241_cnt']]"
   ]
  },
  {
   "cell_type": "code",
   "execution_count": 154,
   "id": "86da7e69-7a27-4ed7-a20c-ea07c3c0e42b",
   "metadata": {},
   "outputs": [
    {
     "data": {
      "text/plain": [
       "1    781611\n",
       "2     24964\n",
       "3        38\n",
       "Name: id, dtype: int64"
      ]
     },
     "execution_count": 154,
     "metadata": {},
     "output_type": "execute_result"
    }
   ],
   "source": [
    "train['id'].value_counts().value_counts()"
   ]
  },
  {
   "cell_type": "code",
   "execution_count": 152,
   "id": "3fd3a4d2-b5b4-4ad0-aca0-8766702f3291",
   "metadata": {},
   "outputs": [
    {
     "data": {
      "text/plain": [
       "target\n",
       "0.0    771467\n",
       "1.0     60186\n",
       "Name: target, dtype: int64"
      ]
     },
     "execution_count": 152,
     "metadata": {},
     "output_type": "execute_result"
    }
   ],
   "source": [
    "train[['id', 'target']].groupby('target')['target'].count()"
   ]
  },
  {
   "cell_type": "code",
   "execution_count": 160,
   "id": "92ad06e1-f142-40eb-a8ae-d5d7b21dc9b8",
   "metadata": {},
   "outputs": [
    {
     "data": {
      "text/plain": [
       "1    59990\n",
       "2       98\n",
       "dtype: int64"
      ]
     },
     "execution_count": 160,
     "metadata": {},
     "output_type": "execute_result"
    }
   ],
   "source": [
    "train[['id', 'target']][train['target'] == 1].value_counts().value_counts()"
   ]
  },
  {
   "cell_type": "markdown",
   "id": "be244adf-ae0d-47ca-a80e-f02fde600846",
   "metadata": {},
   "source": [
    "Almost all `id`s have **unique** values, so pairing doesn't work.\n",
    "\n",
    "For reliability, we will create a few more features and try to train the model"
   ]
  },
  {
   "cell_type": "code",
   "execution_count": 169,
   "id": "60ec2360-c612-4998-9d3c-05dd993ac9b4",
   "metadata": {},
   "outputs": [
    {
     "name": "stdout",
     "output_type": "stream",
     "text": [
      "CPU times: user 11.9 s, sys: 23 s, total: 34.9 s\n",
      "Wall time: 51.5 s\n"
     ]
    }
   ],
   "source": [
    "%%time\n",
    "X_train['user_item_cnt'] = get_feature(X_train, ['id', 'vas_id'], 'id', 'count')\n",
    "\n",
    "X_train['user_item_241_sum'] = get_feature(X_train, ['id', 'vas_id'], '241', 'sum')\n",
    "X_train['user_item_58_sum'] = get_feature(X_train, ['id', 'vas_id'], '58', 'sum')\n",
    "X_train['user_item_226_sum'] = get_feature(X_train, ['id', 'vas_id'], '226', 'sum')\n",
    "X_train['user_item_207_sum'] = get_feature(X_train, ['id', 'vas_id'], '207', 'sum')\n",
    "X_train['user_item_128_sum'] = get_feature(X_train, ['id', 'vas_id'], '128', 'sum')"
   ]
  },
  {
   "cell_type": "markdown",
   "id": "648b5e00-969a-41af-b994-3e039c729a2f",
   "metadata": {},
   "source": [
    "It should be separate to avoid **dataleak**"
   ]
  },
  {
   "cell_type": "code",
   "execution_count": 231,
   "id": "70158c04-ef81-487c-8fde-f1f7cca2f083",
   "metadata": {},
   "outputs": [
    {
     "name": "stdout",
     "output_type": "stream",
     "text": [
      "CPU times: user 5.22 s, sys: 4 s, total: 9.22 s\n",
      "Wall time: 9.46 s\n"
     ]
    }
   ],
   "source": [
    "%%time\n",
    "X_val['user_item_cnt'] = get_feature(X_val, ['id', 'vas_id'], 'id', 'count')\n",
    "\n",
    "X_val['user_item_241_sum'] = get_feature(X_val, ['id', 'vas_id'], '241', 'sum')\n",
    "X_val['user_item_58_sum'] = get_feature(X_val, ['id', 'vas_id'], '58', 'sum')\n",
    "X_val['user_item_226_sum'] = get_feature(X_val, ['id', 'vas_id'], '226', 'sum')\n",
    "X_val['user_item_207_sum'] = get_feature(X_val, ['id', 'vas_id'], '207', 'sum')\n",
    "X_val['user_item_128_sum'] = get_feature(X_val, ['id', 'vas_id'], '128', 'sum')"
   ]
  },
  {
   "cell_type": "code",
   "execution_count": 239,
   "id": "ed1596da-d254-4dd4-840b-3b2bfdef4345",
   "metadata": {},
   "outputs": [
    {
     "data": {
      "text/html": [
       "<div>\n",
       "<style scoped>\n",
       "    .dataframe tbody tr th:only-of-type {\n",
       "        vertical-align: middle;\n",
       "    }\n",
       "\n",
       "    .dataframe tbody tr th {\n",
       "        vertical-align: top;\n",
       "    }\n",
       "\n",
       "    .dataframe thead th {\n",
       "        text-align: right;\n",
       "    }\n",
       "</style>\n",
       "<table border=\"1\" class=\"dataframe\">\n",
       "  <thead>\n",
       "    <tr style=\"text-align: right;\">\n",
       "      <th></th>\n",
       "      <th>id</th>\n",
       "      <th>vas_id</th>\n",
       "      <th>buy_time</th>\n",
       "      <th>update_info_time</th>\n",
       "      <th>0</th>\n",
       "      <th>1</th>\n",
       "      <th>2</th>\n",
       "      <th>3</th>\n",
       "      <th>4</th>\n",
       "      <th>5</th>\n",
       "      <th>...</th>\n",
       "      <th>249</th>\n",
       "      <th>250</th>\n",
       "      <th>251</th>\n",
       "      <th>252</th>\n",
       "      <th>user_item_cnt</th>\n",
       "      <th>user_item_241_sum</th>\n",
       "      <th>user_item_58_sum</th>\n",
       "      <th>user_item_226_sum</th>\n",
       "      <th>user_item_207_sum</th>\n",
       "      <th>user_item_128_sum</th>\n",
       "    </tr>\n",
       "  </thead>\n",
       "  <tbody>\n",
       "    <tr>\n",
       "      <th>0</th>\n",
       "      <td>2582523</td>\n",
       "      <td>2.0</td>\n",
       "      <td>1531083600</td>\n",
       "      <td>1544994000</td>\n",
       "      <td>314.560029</td>\n",
       "      <td>9.290888</td>\n",
       "      <td>342.989214</td>\n",
       "      <td>7.523202</td>\n",
       "      <td>337.571754</td>\n",
       "      <td>-13.58179</td>\n",
       "      <td>...</td>\n",
       "      <td>-0.694428</td>\n",
       "      <td>-11.175933</td>\n",
       "      <td>-0.45614</td>\n",
       "      <td>0.0</td>\n",
       "      <td>1.0</td>\n",
       "      <td>508.382022</td>\n",
       "      <td>2.318354</td>\n",
       "      <td>5.613617</td>\n",
       "      <td>1482.274176</td>\n",
       "      <td>0.244871</td>\n",
       "    </tr>\n",
       "    <tr>\n",
       "      <th>1</th>\n",
       "      <td>1292549</td>\n",
       "      <td>2.0</td>\n",
       "      <td>1531083600</td>\n",
       "      <td>1537131600</td>\n",
       "      <td>93.880029</td>\n",
       "      <td>-217.499112</td>\n",
       "      <td>79.939214</td>\n",
       "      <td>-270.106798</td>\n",
       "      <td>74.521754</td>\n",
       "      <td>-291.21179</td>\n",
       "      <td>...</td>\n",
       "      <td>-0.694428</td>\n",
       "      <td>-12.175933</td>\n",
       "      <td>-0.45614</td>\n",
       "      <td>0.0</td>\n",
       "      <td>1.0</td>\n",
       "      <td>-106.617978</td>\n",
       "      <td>-10.681646</td>\n",
       "      <td>14.399332</td>\n",
       "      <td>-11953.712824</td>\n",
       "      <td>-0.575129</td>\n",
       "    </tr>\n",
       "  </tbody>\n",
       "</table>\n",
       "<p>2 rows × 263 columns</p>\n",
       "</div>"
      ],
      "text/plain": [
       "        id  vas_id    buy_time  update_info_time           0           1  \\\n",
       "0  2582523     2.0  1531083600        1544994000  314.560029    9.290888   \n",
       "1  1292549     2.0  1531083600        1537131600   93.880029 -217.499112   \n",
       "\n",
       "            2           3           4          5  ...       249        250  \\\n",
       "0  342.989214    7.523202  337.571754  -13.58179  ... -0.694428 -11.175933   \n",
       "1   79.939214 -270.106798   74.521754 -291.21179  ... -0.694428 -12.175933   \n",
       "\n",
       "       251  252  user_item_cnt  user_item_241_sum  user_item_58_sum  \\\n",
       "0 -0.45614  0.0            1.0         508.382022          2.318354   \n",
       "1 -0.45614  0.0            1.0        -106.617978        -10.681646   \n",
       "\n",
       "   user_item_226_sum  user_item_207_sum  user_item_128_sum  \n",
       "0           5.613617        1482.274176           0.244871  \n",
       "1          14.399332      -11953.712824          -0.575129  \n",
       "\n",
       "[2 rows x 263 columns]"
      ]
     },
     "execution_count": 239,
     "metadata": {},
     "output_type": "execute_result"
    }
   ],
   "source": [
    "X_train.head(2)"
   ]
  },
  {
   "cell_type": "code",
   "execution_count": 240,
   "id": "8ba1ec19-77a7-4870-8420-377f44e07f40",
   "metadata": {},
   "outputs": [
    {
     "name": "stdout",
     "output_type": "stream",
     "text": [
      "Best Threshold = 0.235, F-Score = 0.575, Precision = 0.415, Recall = 0.936\n",
      "F1-Score (average=\"macro\") best threshold = 0.7514568751655348\n",
      "F1-Score (average=\"macro\") threshold - 0.5 = 0.7120371038602866\n",
      "\n",
      "CPU times: user 1min 12s, sys: 11.7 s, total: 1min 24s\n",
      "Wall time: 30.6 s\n"
     ]
    },
    {
     "data": {
      "image/png": "[encoded data removed]",
      "text/plain": [
       "<Figure size 1008x360 with 2 Axes>"
      ]
     },
     "metadata": {},
     "output_type": "display_data"
    }
   ],
   "source": [
    "%%time\n",
    "lgb = run_learn(X_train, y_train, X_val, y_val, lgb, slpit_date=SPLIT_DATE, plot_name='Baseline with features')"
   ]
  },
  {
   "cell_type": "code",
   "execution_count": 241,
   "id": "c0251876-aacc-4364-a823-220ebc79753b",
   "metadata": {},
   "outputs": [
    {
     "data": {
      "text/plain": [
       "<AxesSubplot:title={'center':'Feature importance'}, xlabel='Feature importance', ylabel='Features'>"
      ]
     },
     "execution_count": 241,
     "metadata": {},
     "output_type": "execute_result"
    },
    {
     "data": {
      "image/png": "[encoded data removed]",
      "text/plain": [
       "<Figure size 576x432 with 1 Axes>"
      ]
     },
     "metadata": {},
     "output_type": "display_data"
    }
   ],
   "source": [
    "lightgbm.plot_importance(lgb, figsize=(8, 6) , max_num_features=30)"
   ]
  },
  {
   "cell_type": "markdown",
   "id": "d32c2bac-a344-4c63-b6f4-b9bf8f80300d",
   "metadata": {},
   "source": [
    "The metrics **did not change**. We reject the hypothesis $H_1$. \n",
    "\n",
    "We can try **power multiplication**, but this usually does not affect tree-based models because the **order** of the objects will remain the same."
   ]
  },
  {
   "cell_type": "markdown",
   "id": "82c83db0-b8f6-4e4d-8e22-bd04badf0b60",
   "metadata": {
    "tags": []
   },
   "source": [
    "##### $H_2$ time"
   ]
  },
  {
   "cell_type": "markdown",
   "id": "2c1a5b04-1bf5-44ea-9c7f-d60342e1f84e",
   "metadata": {
    "tags": []
   },
   "source": [
    "Ok. Let's try to create some dependencies on `buy_time`. This feature has a strong impact and perhaps there is a deeper meaning. Modular arithmetic calculations: e.g. converting a timestamp into day of the month.\n",
    "\n",
    "Let's call it hypothesis $H_2$"
   ]
  },
  {
   "cell_type": "code",
   "execution_count": 244,
   "id": "fcfe18f3-84fc-4e4f-9cee-8f1accb6d44b",
   "metadata": {},
   "outputs": [],
   "source": [
    "train['day'] = pd.to_datetime(train['buy_time'], unit='s').dt.day"
   ]
  },
  {
   "cell_type": "code",
   "execution_count": 245,
   "id": "a6a7f02e-0b05-4a24-b2b5-8f5cca6e53c8",
   "metadata": {},
   "outputs": [],
   "source": [
    "X_train['day'] = pd.to_datetime(X_train['buy_time'], unit='s').dt.day\n",
    "X_val['day'] = pd.to_datetime(X_val['buy_time'], unit='s').dt.day"
   ]
  },
  {
   "cell_type": "code",
   "execution_count": 247,
   "id": "6fa87b77-cb82-4ca0-b89e-fe35f69ca0b2",
   "metadata": {},
   "outputs": [
    {
     "data": {
      "text/html": [
       "<div>\n",
       "<style scoped>\n",
       "    .dataframe tbody tr th:only-of-type {\n",
       "        vertical-align: middle;\n",
       "    }\n",
       "\n",
       "    .dataframe tbody tr th {\n",
       "        vertical-align: top;\n",
       "    }\n",
       "\n",
       "    .dataframe thead th {\n",
       "        text-align: right;\n",
       "    }\n",
       "</style>\n",
       "<table border=\"1\" class=\"dataframe\">\n",
       "  <thead>\n",
       "    <tr style=\"text-align: right;\">\n",
       "      <th></th>\n",
       "      <th>id</th>\n",
       "      <th>vas_id</th>\n",
       "      <th>buy_time</th>\n",
       "      <th>update_info_time</th>\n",
       "      <th>0</th>\n",
       "      <th>1</th>\n",
       "      <th>2</th>\n",
       "      <th>3</th>\n",
       "      <th>4</th>\n",
       "      <th>5</th>\n",
       "      <th>...</th>\n",
       "      <th>250</th>\n",
       "      <th>251</th>\n",
       "      <th>252</th>\n",
       "      <th>user_item_cnt</th>\n",
       "      <th>user_item_241_sum</th>\n",
       "      <th>user_item_58_sum</th>\n",
       "      <th>user_item_226_sum</th>\n",
       "      <th>user_item_207_sum</th>\n",
       "      <th>user_item_128_sum</th>\n",
       "      <th>day</th>\n",
       "    </tr>\n",
       "  </thead>\n",
       "  <tbody>\n",
       "    <tr>\n",
       "      <th>0</th>\n",
       "      <td>2582523</td>\n",
       "      <td>2.0</td>\n",
       "      <td>1531083600</td>\n",
       "      <td>1544994000</td>\n",
       "      <td>314.560029</td>\n",
       "      <td>9.290888</td>\n",
       "      <td>342.989214</td>\n",
       "      <td>7.523202</td>\n",
       "      <td>337.571754</td>\n",
       "      <td>-13.58179</td>\n",
       "      <td>...</td>\n",
       "      <td>-11.175933</td>\n",
       "      <td>-0.45614</td>\n",
       "      <td>0.0</td>\n",
       "      <td>1.0</td>\n",
       "      <td>508.382022</td>\n",
       "      <td>2.318354</td>\n",
       "      <td>5.613617</td>\n",
       "      <td>1482.274176</td>\n",
       "      <td>0.244871</td>\n",
       "      <td>8</td>\n",
       "    </tr>\n",
       "    <tr>\n",
       "      <th>1</th>\n",
       "      <td>1292549</td>\n",
       "      <td>2.0</td>\n",
       "      <td>1531083600</td>\n",
       "      <td>1537131600</td>\n",
       "      <td>93.880029</td>\n",
       "      <td>-217.499112</td>\n",
       "      <td>79.939214</td>\n",
       "      <td>-270.106798</td>\n",
       "      <td>74.521754</td>\n",
       "      <td>-291.21179</td>\n",
       "      <td>...</td>\n",
       "      <td>-12.175933</td>\n",
       "      <td>-0.45614</td>\n",
       "      <td>0.0</td>\n",
       "      <td>1.0</td>\n",
       "      <td>-106.617978</td>\n",
       "      <td>-10.681646</td>\n",
       "      <td>14.399332</td>\n",
       "      <td>-11953.712824</td>\n",
       "      <td>-0.575129</td>\n",
       "      <td>8</td>\n",
       "    </tr>\n",
       "  </tbody>\n",
       "</table>\n",
       "<p>2 rows × 264 columns</p>\n",
       "</div>"
      ],
      "text/plain": [
       "        id  vas_id    buy_time  update_info_time           0           1  \\\n",
       "0  2582523     2.0  1531083600        1544994000  314.560029    9.290888   \n",
       "1  1292549     2.0  1531083600        1537131600   93.880029 -217.499112   \n",
       "\n",
       "            2           3           4          5  ...        250      251  \\\n",
       "0  342.989214    7.523202  337.571754  -13.58179  ... -11.175933 -0.45614   \n",
       "1   79.939214 -270.106798   74.521754 -291.21179  ... -12.175933 -0.45614   \n",
       "\n",
       "   252  user_item_cnt  user_item_241_sum  user_item_58_sum  user_item_226_sum  \\\n",
       "0  0.0            1.0         508.382022          2.318354           5.613617   \n",
       "1  0.0            1.0        -106.617978        -10.681646          14.399332   \n",
       "\n",
       "   user_item_207_sum  user_item_128_sum  day  \n",
       "0        1482.274176           0.244871    8  \n",
       "1      -11953.712824          -0.575129    8  \n",
       "\n",
       "[2 rows x 264 columns]"
      ]
     },
     "execution_count": 247,
     "metadata": {},
     "output_type": "execute_result"
    }
   ],
   "source": [
    "X_train.head(2)"
   ]
  },
  {
   "cell_type": "code",
   "execution_count": 248,
   "id": "8a6ae7fc-2be5-4ee4-aabf-c0354bb95bde",
   "metadata": {},
   "outputs": [
    {
     "name": "stdout",
     "output_type": "stream",
     "text": [
      "Best Threshold = 0.238, F-Score = 0.575, Precision = 0.415, Recall = 0.936\n",
      "F1-Score (average=\"macro\") best threshold = 0.7511984977375817\n",
      "F1-Score (average=\"macro\") threshold - 0.5 = 0.7016916632078252\n",
      "\n",
      "CPU times: user 1min 8s, sys: 11.4 s, total: 1min 20s\n",
      "Wall time: 30.3 s\n"
     ]
    },
    {
     "data": {
      "image/png": "[encoded data removed]",
      "text/plain": [
       "<Figure size 1008x360 with 2 Axes>"
      ]
     },
     "metadata": {},
     "output_type": "display_data"
    }
   ],
   "source": [
    "%%time\n",
    "lgb = run_learn(X_train, y_train, X_val, y_val, lgb, slpit_date=SPLIT_DATE, plot_name='Baseline with features')"
   ]
  },
  {
   "cell_type": "code",
   "execution_count": 249,
   "id": "5cf443b4-9d0f-4d15-aa9f-09a55a3fb6e2",
   "metadata": {},
   "outputs": [
    {
     "data": {
      "text/plain": [
       "<AxesSubplot:title={'center':'Feature importance'}, xlabel='Feature importance', ylabel='Features'>"
      ]
     },
     "execution_count": 249,
     "metadata": {},
     "output_type": "execute_result"
    },
    {
     "data": {
      "image/png": "[encoded data removed]",
      "text/plain": [
       "<Figure size 576x432 with 1 Axes>"
      ]
     },
     "metadata": {},
     "output_type": "display_data"
    }
   ],
   "source": [
    "lightgbm.plot_importance(lgb, figsize=(8, 6) , max_num_features=30)"
   ]
  },
  {
   "cell_type": "markdown",
   "id": "64ba265c-26c4-4e99-b979-7bf80a5132b6",
   "metadata": {},
   "source": [
    "The metrics **did not change**. We reject the hypothesis $H_2$. "
   ]
  },
  {
   "cell_type": "markdown",
   "id": "2874ac4c-a18f-48b6-8aec-817efd1715a2",
   "metadata": {},
   "source": [
    "#### Conclusion"
   ]
  },
  {
   "cell_type": "markdown",
   "id": "fbab4e17-0e93-481a-9b37-eba041085011",
   "metadata": {},
   "source": [
    "Feuture engineering does not affect metrics, so let's just take a **lgbm pipeline**."
   ]
  },
  {
   "cell_type": "markdown",
   "id": "0418502e-99ad-4e00-830a-e9b5d48b0f80",
   "metadata": {},
   "source": [
    "### GridSearchCV"
   ]
  },
  {
   "cell_type": "code",
   "execution_count": 7,
   "id": "38a8468a-a7b7-4d9d-af9e-3cde03035d54",
   "metadata": {
    "tags": []
   },
   "outputs": [],
   "source": [
    "train = pd.read_parquet('data/train.parquet')"
   ]
  },
  {
   "cell_type": "code",
   "execution_count": 8,
   "id": "97bd85cb-e969-44ab-9800-c73bd98b7074",
   "metadata": {},
   "outputs": [],
   "source": [
    "X = train.drop(columns='target')\n",
    "y = train['target']"
   ]
  },
  {
   "cell_type": "code",
   "execution_count": 9,
   "id": "e35f6dc7-652f-4c69-a42b-b7a77e89341d",
   "metadata": {},
   "outputs": [],
   "source": [
    "with open('data/features_pipeline.dill', 'rb') as f:\n",
    "    f_prep_pipeline = dill.load(f)"
   ]
  },
  {
   "cell_type": "code",
   "execution_count": 10,
   "id": "78e3b746-2af3-4e3f-90bd-106bd556bf94",
   "metadata": {},
   "outputs": [],
   "source": [
    "lgb_pipe = make_pipeline(\n",
    "    f_prep_pipeline,\n",
    "    lightgbm.LGBMClassifier(objective='binary', random_state=1)\n",
    ")"
   ]
  },
  {
   "cell_type": "markdown",
   "id": "57ef7fb8-6a93-45c3-afb8-97921ad6cfe1",
   "metadata": {},
   "source": [
    "#### GridSearch function"
   ]
  },
  {
   "cell_type": "code",
   "execution_count": 11,
   "id": "384dea33-25eb-4a44-b9c2-a6981be70e22",
   "metadata": {},
   "outputs": [],
   "source": [
    "from sklearn.model_selection import TimeSeriesSplit\n",
    "from sklearn.model_selection import GridSearchCV"
   ]
  },
  {
   "cell_type": "markdown",
   "id": "cce697ee-9a7c-47c0-8cfc-03d095361884",
   "metadata": {},
   "source": [
    "Time series data requires special cross-validation class"
   ]
  },
  {
   "cell_type": "code",
   "execution_count": 16,
   "id": "adeb4628-5f91-4b19-9f1f-0013ab22cbd8",
   "metadata": {},
   "outputs": [
    {
     "data": {
      "text/plain": [
       "(831653, 257)"
      ]
     },
     "execution_count": 16,
     "metadata": {},
     "output_type": "execute_result"
    }
   ],
   "source": [
    "X.shape"
   ]
  },
  {
   "cell_type": "code",
   "execution_count": 49,
   "id": "4f6100cf-0a23-41cc-84af-615a27a7b255",
   "metadata": {},
   "outputs": [],
   "source": [
    "tscv = TimeSeriesSplit(n_splits=3)"
   ]
  },
  {
   "cell_type": "code",
   "execution_count": 50,
   "id": "dac743ce-b381-47aa-8a7e-8354b8161e4f",
   "metadata": {
    "id": "JS9rF4e8HJNm"
   },
   "outputs": [],
   "source": [
    "def run_grid_search(estimator, X, y, params_grid, cv, scoring='f1_macro'):\n",
    "    gsc = GridSearchCV(estimator, params_grid, scoring=scoring, cv=cv, verbose=2)\n",
    "\n",
    "    gsc.fit(X, y)\n",
    "    print(f\"Best {scoring} score: {gsc.best_score_:.2f}\\n\")\n",
    "    print(\"Best parameters set found on development set:\\n\")\n",
    "    print(gsc.best_params_, '\\n')\n",
    "    print(\"Grid scores on development set:\\n\")\n",
    "\n",
    "    for i, params in enumerate(gsc.cv_results_['params']):\n",
    "        print(\"%0.3f (+/-%0.03f) for %r\"\n",
    "              % (gsc.cv_results_['mean_test_score'][i], gsc.cv_results_['std_test_score'][i] * 2, params))\n",
    "        \n",
    "        print(f\"{gsc.cv_results_['mean_test_score'][i]:.3f} \\\n",
    "(+/-{gsc.cv_results_['std_test_score'][i] * 2:.03f}) for {params}\\n\")\n",
    "    \n",
    "    return gsc"
   ]
  },
  {
   "cell_type": "code",
   "execution_count": 48,
   "id": "b829ffac-a36f-4183-8b62-883f4cba8e17",
   "metadata": {},
   "outputs": [
    {
     "data": {
      "text/plain": [
       "['lgbmclassifier',\n",
       " 'lgbmclassifier__boosting_type',\n",
       " 'lgbmclassifier__class_weight',\n",
       " 'lgbmclassifier__colsample_bytree',\n",
       " 'lgbmclassifier__importance_type',\n",
       " 'lgbmclassifier__learning_rate',\n",
       " 'lgbmclassifier__max_depth',\n",
       " 'lgbmclassifier__min_child_samples',\n",
       " 'lgbmclassifier__min_child_weight',\n",
       " 'lgbmclassifier__min_split_gain',\n",
       " 'lgbmclassifier__n_estimators',\n",
       " 'lgbmclassifier__n_jobs',\n",
       " 'lgbmclassifier__num_leaves',\n",
       " 'lgbmclassifier__objective',\n",
       " 'lgbmclassifier__random_state',\n",
       " 'lgbmclassifier__reg_alpha',\n",
       " 'lgbmclassifier__reg_lambda',\n",
       " 'lgbmclassifier__silent',\n",
       " 'lgbmclassifier__subsample',\n",
       " 'lgbmclassifier__subsample_for_bin',\n",
       " 'lgbmclassifier__subsample_freq']"
      ]
     },
     "execution_count": 48,
     "metadata": {},
     "output_type": "execute_result"
    }
   ],
   "source": [
    "[k for k in lgb_pipe.get_params().keys() if 'lgbm' in k]"
   ]
  },
  {
   "cell_type": "code",
   "execution_count": 51,
   "id": "831771db-06e8-426c-99ff-4f773f76e6ae",
   "metadata": {},
   "outputs": [],
   "source": [
    "param_grid = {\n",
    "    \"lgbmclassifier__n_estimators\": [100, 200],\n",
    "    \"lgbmclassifier__max_depth\": [8, -1],\n",
    "    'lgbmclassifier__reg_alpha': [0, 0.1]\n",
    "}"
   ]
  },
  {
   "cell_type": "code",
   "execution_count": 52,
   "id": "926a7518-1879-455c-845e-b7bb8ae7abf0",
   "metadata": {},
   "outputs": [
    {
     "name": "stdout",
     "output_type": "stream",
     "text": [
      "Fitting 3 folds for each of 8 candidates, totalling 24 fits\n",
      "[CV] END lgbmclassifier__max_depth=8, lgbmclassifier__n_estimators=100, lgbmclassifier__reg_alpha=0; total time=  24.8s\n",
      "[CV] END lgbmclassifier__max_depth=8, lgbmclassifier__n_estimators=100, lgbmclassifier__reg_alpha=0; total time=  38.3s\n",
      "[CV] END lgbmclassifier__max_depth=8, lgbmclassifier__n_estimators=100, lgbmclassifier__reg_alpha=0; total time= 1.0min\n",
      "[CV] END lgbmclassifier__max_depth=8, lgbmclassifier__n_estimators=100, lgbmclassifier__reg_alpha=0.1; total time=  22.6s\n",
      "[CV] END lgbmclassifier__max_depth=8, lgbmclassifier__n_estimators=100, lgbmclassifier__reg_alpha=0.1; total time=  38.3s\n",
      "[CV] END lgbmclassifier__max_depth=8, lgbmclassifier__n_estimators=100, lgbmclassifier__reg_alpha=0.1; total time= 1.0min\n",
      "[CV] END lgbmclassifier__max_depth=8, lgbmclassifier__n_estimators=200, lgbmclassifier__reg_alpha=0; total time=  22.9s\n",
      "[CV] END lgbmclassifier__max_depth=8, lgbmclassifier__n_estimators=200, lgbmclassifier__reg_alpha=0; total time=  41.6s\n",
      "[CV] END lgbmclassifier__max_depth=8, lgbmclassifier__n_estimators=200, lgbmclassifier__reg_alpha=0; total time= 1.1min\n",
      "[CV] END lgbmclassifier__max_depth=8, lgbmclassifier__n_estimators=200, lgbmclassifier__reg_alpha=0.1; total time=  23.1s\n",
      "[CV] END lgbmclassifier__max_depth=8, lgbmclassifier__n_estimators=200, lgbmclassifier__reg_alpha=0.1; total time=  40.2s\n",
      "[CV] END lgbmclassifier__max_depth=8, lgbmclassifier__n_estimators=200, lgbmclassifier__reg_alpha=0.1; total time= 1.1min\n",
      "[CV] END lgbmclassifier__max_depth=-1, lgbmclassifier__n_estimators=100, lgbmclassifier__reg_alpha=0; total time=  21.7s\n",
      "[CV] END lgbmclassifier__max_depth=-1, lgbmclassifier__n_estimators=100, lgbmclassifier__reg_alpha=0; total time=  37.2s\n",
      "[CV] END lgbmclassifier__max_depth=-1, lgbmclassifier__n_estimators=100, lgbmclassifier__reg_alpha=0; total time= 1.1min\n",
      "[CV] END lgbmclassifier__max_depth=-1, lgbmclassifier__n_estimators=100, lgbmclassifier__reg_alpha=0.1; total time=  22.6s\n",
      "[CV] END lgbmclassifier__max_depth=-1, lgbmclassifier__n_estimators=100, lgbmclassifier__reg_alpha=0.1; total time=  37.4s\n",
      "[CV] END lgbmclassifier__max_depth=-1, lgbmclassifier__n_estimators=100, lgbmclassifier__reg_alpha=0.1; total time= 1.0min\n",
      "[CV] END lgbmclassifier__max_depth=-1, lgbmclassifier__n_estimators=200, lgbmclassifier__reg_alpha=0; total time=  22.5s\n",
      "[CV] END lgbmclassifier__max_depth=-1, lgbmclassifier__n_estimators=200, lgbmclassifier__reg_alpha=0; total time=  42.5s\n",
      "[CV] END lgbmclassifier__max_depth=-1, lgbmclassifier__n_estimators=200, lgbmclassifier__reg_alpha=0; total time= 1.1min\n",
      "[CV] END lgbmclassifier__max_depth=-1, lgbmclassifier__n_estimators=200, lgbmclassifier__reg_alpha=0.1; total time=  23.4s\n",
      "[CV] END lgbmclassifier__max_depth=-1, lgbmclassifier__n_estimators=200, lgbmclassifier__reg_alpha=0.1; total time=  40.2s\n",
      "[CV] END lgbmclassifier__max_depth=-1, lgbmclassifier__n_estimators=200, lgbmclassifier__reg_alpha=0.1; total time= 1.1min\n",
      "Best f1_macro score: 0.54\n",
      "\n",
      "Best parameters set found on development set:\n",
      "\n",
      "{'lgbmclassifier__max_depth': -1, 'lgbmclassifier__n_estimators': 200, 'lgbmclassifier__reg_alpha': 0.1} \n",
      "\n",
      "Grid scores on development set:\n",
      "\n",
      "0.533 (+/-0.159) for {'lgbmclassifier__max_depth': 8, 'lgbmclassifier__n_estimators': 100, 'lgbmclassifier__reg_alpha': 0}\n",
      "0.533 (+/-0.159) for {'lgbmclassifier__max_depth': 8, 'lgbmclassifier__n_estimators': 100, 'lgbmclassifier__reg_alpha': 0}\n",
      "\n",
      "0.534 (+/-0.156) for {'lgbmclassifier__max_depth': 8, 'lgbmclassifier__n_estimators': 100, 'lgbmclassifier__reg_alpha': 0.1}\n",
      "0.534 (+/-0.156) for {'lgbmclassifier__max_depth': 8, 'lgbmclassifier__n_estimators': 100, 'lgbmclassifier__reg_alpha': 0.1}\n",
      "\n",
      "0.536 (+/-0.162) for {'lgbmclassifier__max_depth': 8, 'lgbmclassifier__n_estimators': 200, 'lgbmclassifier__reg_alpha': 0}\n",
      "0.536 (+/-0.162) for {'lgbmclassifier__max_depth': 8, 'lgbmclassifier__n_estimators': 200, 'lgbmclassifier__reg_alpha': 0}\n",
      "\n",
      "0.534 (+/-0.157) for {'lgbmclassifier__max_depth': 8, 'lgbmclassifier__n_estimators': 200, 'lgbmclassifier__reg_alpha': 0.1}\n",
      "0.534 (+/-0.157) for {'lgbmclassifier__max_depth': 8, 'lgbmclassifier__n_estimators': 200, 'lgbmclassifier__reg_alpha': 0.1}\n",
      "\n",
      "0.536 (+/-0.154) for {'lgbmclassifier__max_depth': -1, 'lgbmclassifier__n_estimators': 100, 'lgbmclassifier__reg_alpha': 0}\n",
      "0.536 (+/-0.154) for {'lgbmclassifier__max_depth': -1, 'lgbmclassifier__n_estimators': 100, 'lgbmclassifier__reg_alpha': 0}\n",
      "\n",
      "0.536 (+/-0.156) for {'lgbmclassifier__max_depth': -1, 'lgbmclassifier__n_estimators': 100, 'lgbmclassifier__reg_alpha': 0.1}\n",
      "0.536 (+/-0.156) for {'lgbmclassifier__max_depth': -1, 'lgbmclassifier__n_estimators': 100, 'lgbmclassifier__reg_alpha': 0.1}\n",
      "\n",
      "0.538 (+/-0.157) for {'lgbmclassifier__max_depth': -1, 'lgbmclassifier__n_estimators': 200, 'lgbmclassifier__reg_alpha': 0}\n",
      "0.538 (+/-0.157) for {'lgbmclassifier__max_depth': -1, 'lgbmclassifier__n_estimators': 200, 'lgbmclassifier__reg_alpha': 0}\n",
      "\n",
      "0.538 (+/-0.158) for {'lgbmclassifier__max_depth': -1, 'lgbmclassifier__n_estimators': 200, 'lgbmclassifier__reg_alpha': 0.1}\n",
      "0.538 (+/-0.158) for {'lgbmclassifier__max_depth': -1, 'lgbmclassifier__n_estimators': 200, 'lgbmclassifier__reg_alpha': 0.1}\n",
      "\n",
      "CPU times: user 32min 23s, sys: 6min 24s, total: 38min 47s\n",
      "Wall time: 18min 16s\n"
     ]
    }
   ],
   "source": [
    "%%time\n",
    "lgb_gsc = run_grid_search(lgb_pipe, X, y, param_grid, tscv)"
   ]
  },
  {
   "cell_type": "markdown",
   "id": "639b8b8f-0754-4c28-90ef-8ecaa182528b",
   "metadata": {},
   "source": [
    "Save final pipeline"
   ]
  },
  {
   "cell_type": "code",
   "execution_count": 53,
   "id": "76cbdba5-452c-40e3-9ce7-bd75349ff088",
   "metadata": {},
   "outputs": [],
   "source": [
    "with open('data/lgb_gsc.dill', 'wb') as f:\n",
    "    dill.dump(lgb_gsc, f)"
   ]
  },
  {
   "cell_type": "code",
   "execution_count": 59,
   "id": "4d5092e6-8f38-41e4-8063-e8d3d046a913",
   "metadata": {},
   "outputs": [],
   "source": [
    "with open('data/lgb_gsc.dill', 'rb') as f:\n",
    "    lgb_gsc = dill.load(f)"
   ]
  },
  {
   "cell_type": "markdown",
   "id": "b84fbdfe-b5ca-4a8d-b31e-3de55b79df77",
   "metadata": {},
   "source": [
    "#### Final check"
   ]
  },
  {
   "cell_type": "code",
   "execution_count": 27,
   "id": "3850b963-2b1e-49fc-ae80-889e08d3e2de",
   "metadata": {},
   "outputs": [
    {
     "name": "stdout",
     "output_type": "stream",
     "text": [
      "CPU times: user 2.4 s, sys: 6.9 s, total: 9.29 s\n",
      "Wall time: 12.1 s\n"
     ]
    }
   ],
   "source": [
    "%%time\n",
    "X_train, y_train, X_val, y_val = train_valid_split(train, SPLIT_DATE)"
   ]
  },
  {
   "cell_type": "code",
   "execution_count": 54,
   "id": "c85fe1c9-d5e9-4e9d-9e29-cc75884d1c25",
   "metadata": {},
   "outputs": [],
   "source": [
    "train_preds = lgb_gsc.predict_proba(X_val)"
   ]
  },
  {
   "cell_type": "code",
   "execution_count": 55,
   "id": "491ac81f-dcca-472f-b1a9-fe8b23640b01",
   "metadata": {},
   "outputs": [
    {
     "data": {
      "text/plain": [
       "0.577270517801237"
      ]
     },
     "execution_count": 55,
     "metadata": {},
     "output_type": "execute_result"
    }
   ],
   "source": [
    "f1_score(y_val, train_preds[:, 1] > 0.5, average='macro')"
   ]
  },
  {
   "cell_type": "code",
   "execution_count": 56,
   "id": "dcb01e61-eed1-46e5-915a-afd6b9b24d9d",
   "metadata": {},
   "outputs": [
    {
     "name": "stdout",
     "output_type": "stream",
     "text": [
      "Best Threshold = 0.352, F-Score = 0.594, Precision = 0.451, Recall = 0.869\n"
     ]
    }
   ],
   "source": [
    "# average='binary'\n",
    "best_threshold = find_best_threshold(y_val, train_preds[:, 1], do_print=True)"
   ]
  },
  {
   "cell_type": "code",
   "execution_count": 57,
   "id": "572a2833-ee6b-4a3d-a991-2d5b5430a1d9",
   "metadata": {},
   "outputs": [
    {
     "data": {
      "text/plain": [
       "0.7660697707840967"
      ]
     },
     "execution_count": 57,
     "metadata": {},
     "output_type": "execute_result"
    }
   ],
   "source": [
    "f1_score(y_val, train_preds[:, 1] >= best_threshold, average='macro')"
   ]
  },
  {
   "cell_type": "code",
   "execution_count": 70,
   "id": "881efe20-1963-453d-a30a-575ccc084f3c",
   "metadata": {},
   "outputs": [
    {
     "name": "stdout",
     "output_type": "stream",
     "text": [
      "Best Threshold = 0.006, F-Score = 0.767, Precision = 0.239, Recall = 1.000\n",
      "CPU times: user 10.8 s, sys: 307 ms, total: 11.2 s\n",
      "Wall time: 11.2 s\n"
     ]
    }
   ],
   "source": [
    "%%time\n",
    "\n",
    "# # average='macro'\n",
    "best_threshold = find_best_threshold(y_val, train_preds[:, 1], do_print=True, macro=True)"
   ]
  },
  {
   "cell_type": "code",
   "execution_count": 71,
   "id": "f5829355-9a16-4d13-b4d2-5aa7a065e479",
   "metadata": {},
   "outputs": [
    {
     "data": {
      "text/plain": [
       "0.6001667837288863"
      ]
     },
     "execution_count": 71,
     "metadata": {},
     "output_type": "execute_result"
    }
   ],
   "source": [
    "f1_score(y_val, train_preds[:, 1] >= best_threshold, average='macro')"
   ]
  },
  {
   "cell_type": "code",
   "execution_count": 88,
   "id": "715095f6-f175-466f-b8c4-5f18f114b822",
   "metadata": {},
   "outputs": [
    {
     "data": {
      "image/png": "[encoded data removed]",
      "text/plain": [
       "<Figure size 1008x360 with 2 Axes>"
      ]
     },
     "metadata": {},
     "output_type": "display_data"
    }
   ],
   "source": [
    "plot_roc_pr_curve(y_val, train_preds[:, 1], \"LGMB GridSearchCV\", color='b')"
   ]
  },
  {
   "cell_type": "code",
   "execution_count": 81,
   "id": "09bab246-431b-4ec5-98d0-9ef95bdd61de",
   "metadata": {},
   "outputs": [
    {
     "data": {
      "text/plain": [
       "<AxesSubplot:title={'center':'Feature importance'}, xlabel='Feature importance', ylabel='Features'>"
      ]
     },
     "execution_count": 81,
     "metadata": {},
     "output_type": "execute_result"
    },
    {
     "data": {
      "image/png": "[encoded data removed]",
      "text/plain": [
       "<Figure size 576x432 with 1 Axes>"
      ]
     },
     "metadata": {},
     "output_type": "display_data"
    }
   ],
   "source": [
    "lightgbm.plot_importance(lgb_gsc.best_estimator_[1], figsize=(8, 6) , max_num_features=30)"
   ]
  },
  {
   "cell_type": "markdown",
   "id": "3c841383-6f74-4dbd-85bf-040df343daff",
   "metadata": {},
   "source": [
    "#### Test.csv"
   ]
  },
  {
   "cell_type": "code",
   "execution_count": 104,
   "id": "3ffdda47-471d-4252-a519-5a2651ac200e",
   "metadata": {},
   "outputs": [],
   "source": [
    "# test data with features\n",
    "test_feats = pd.read_parquet('data/test.parquet')"
   ]
  },
  {
   "cell_type": "code",
   "execution_count": 105,
   "id": "9ed753f4-ff47-4fb3-8b20-ab0c3a92ac19",
   "metadata": {},
   "outputs": [],
   "source": [
    "train_preds = lgb_gsc.predict_proba(test_feats)"
   ]
  },
  {
   "cell_type": "code",
   "execution_count": 108,
   "id": "5c800be9-40a9-4a76-b070-edfb7bd23ad7",
   "metadata": {},
   "outputs": [],
   "source": [
    "answers = test_feats.iloc[:, :3]"
   ]
  },
  {
   "cell_type": "code",
   "execution_count": 119,
   "id": "cb7b3fb4-bc66-466b-b047-72be16babcfb",
   "metadata": {},
   "outputs": [],
   "source": [
    "answers['target'] = train_preds[:, -1]"
   ]
  },
  {
   "cell_type": "code",
   "execution_count": 122,
   "id": "0b05431b-c0d3-4ce8-adcd-5c688377c307",
   "metadata": {},
   "outputs": [
    {
     "data": {
      "text/html": [
       "<div>\n",
       "<style scoped>\n",
       "    .dataframe tbody tr th:only-of-type {\n",
       "        vertical-align: middle;\n",
       "    }\n",
       "\n",
       "    .dataframe tbody tr th {\n",
       "        vertical-align: top;\n",
       "    }\n",
       "\n",
       "    .dataframe thead th {\n",
       "        text-align: right;\n",
       "    }\n",
       "</style>\n",
       "<table border=\"1\" class=\"dataframe\">\n",
       "  <thead>\n",
       "    <tr style=\"text-align: right;\">\n",
       "      <th></th>\n",
       "      <th>id</th>\n",
       "      <th>vas_id</th>\n",
       "      <th>buy_time</th>\n",
       "      <th>target</th>\n",
       "    </tr>\n",
       "  </thead>\n",
       "  <tbody>\n",
       "    <tr>\n",
       "      <th>0</th>\n",
       "      <td>2905850</td>\n",
       "      <td>5.0</td>\n",
       "      <td>1546808400</td>\n",
       "      <td>0.000967</td>\n",
       "    </tr>\n",
       "    <tr>\n",
       "      <th>1</th>\n",
       "      <td>31619</td>\n",
       "      <td>2.0</td>\n",
       "      <td>1546808400</td>\n",
       "      <td>0.000194</td>\n",
       "    </tr>\n",
       "  </tbody>\n",
       "</table>\n",
       "</div>"
      ],
      "text/plain": [
       "        id  vas_id    buy_time    target\n",
       "0  2905850     5.0  1546808400  0.000967\n",
       "1    31619     2.0  1546808400  0.000194"
      ]
     },
     "execution_count": 122,
     "metadata": {},
     "output_type": "execute_result"
    }
   ],
   "source": [
    "answers.head(2)"
   ]
  },
  {
   "cell_type": "code",
   "execution_count": 123,
   "id": "73e88e54-cc17-4fee-bb0d-39443baaaa04",
   "metadata": {},
   "outputs": [],
   "source": [
    "answers.to_csv('data/answers_test.csv', index=False)"
   ]
  },
  {
   "cell_type": "code",
   "execution_count": 125,
   "id": "70ed2366-dbc0-45af-9097-6eb9183ff250",
   "metadata": {},
   "outputs": [
    {
     "data": {
      "text/html": [
       "<div>\n",
       "<style scoped>\n",
       "    .dataframe tbody tr th:only-of-type {\n",
       "        vertical-align: middle;\n",
       "    }\n",
       "\n",
       "    .dataframe tbody tr th {\n",
       "        vertical-align: top;\n",
       "    }\n",
       "\n",
       "    .dataframe thead th {\n",
       "        text-align: right;\n",
       "    }\n",
       "</style>\n",
       "<table border=\"1\" class=\"dataframe\">\n",
       "  <thead>\n",
       "    <tr style=\"text-align: right;\">\n",
       "      <th></th>\n",
       "      <th>id</th>\n",
       "      <th>vas_id</th>\n",
       "      <th>buy_time</th>\n",
       "      <th>target</th>\n",
       "    </tr>\n",
       "  </thead>\n",
       "  <tbody>\n",
       "    <tr>\n",
       "      <th>0</th>\n",
       "      <td>2905850</td>\n",
       "      <td>5.0</td>\n",
       "      <td>1546808400</td>\n",
       "      <td>0.000967</td>\n",
       "    </tr>\n",
       "    <tr>\n",
       "      <th>1</th>\n",
       "      <td>31619</td>\n",
       "      <td>2.0</td>\n",
       "      <td>1546808400</td>\n",
       "      <td>0.000194</td>\n",
       "    </tr>\n",
       "  </tbody>\n",
       "</table>\n",
       "</div>"
      ],
      "text/plain": [
       "        id  vas_id    buy_time    target\n",
       "0  2905850     5.0  1546808400  0.000967\n",
       "1    31619     2.0  1546808400  0.000194"
      ]
     },
     "execution_count": 125,
     "metadata": {},
     "output_type": "execute_result"
    }
   ],
   "source": [
    "pd.read_csv('data/answers_test.csv').head(2)"
   ]
  },
  {
   "cell_type": "markdown",
   "id": "88867695-22b5-445d-9a1c-adfc251cbf71",
   "metadata": {},
   "source": [
    "### Conclusion"
   ]
  },
  {
   "cell_type": "markdown",
   "id": "6b6da48a-c881-476d-bd64-3add7d919bb3",
   "metadata": {},
   "source": [
    "- GridSearch and cross-validation increased the **F-score** by 5% absolute percent.\n",
    "\n",
    "- GridSearchCV also increased **Precision**. Now it is possible to get higher precision relative to **threshold**.\n",
    "\n",
    "- By changing the **threshold**, it is possible to get a better **business** metric\n",
    "\n",
    "- I didn't find any sense in `features`. The main **influence** is `buy_time` and `vas_id`.\n",
    "\n",
    "- Logistic regression **failed**. Maybe this is due to the low correlation of `features` with the `target`.\n",
    "\n",
    "- Feature engineering such as user-item grouping or time grouping does not provide improvements."
   ]
  },
  {
   "cell_type": "code",
   "execution_count": null,
   "id": "346beedf-0f03-4e3e-8896-89c03cbf88a5",
   "metadata": {},
   "outputs": [],
   "source": []
  }
 ],
 "metadata": {
  "kernelspec": {
   "display_name": "Python 3 (ipykernel)",
   "language": "python",
   "name": "python3"
  },
  "language_info": {
   "codemirror_mode": {
    "name": "ipython",
    "version": 3
   },
   "file_extension": ".py",
   "mimetype": "text/x-python",
   "name": "python",
   "nbconvert_exporter": "python",
   "pygments_lexer": "ipython3",
   "version": "3.9.12"
  }
 },
 "nbformat": 4,
 "nbformat_minor": 5
}
