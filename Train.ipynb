{
 "cells": [
  {
   "cell_type": "markdown",
   "id": "2d4596b9-4da8-43ce-8b14-8734c65758dd",
   "metadata": {},
   "source": [
    "# Megafon "
   ]
  },
  {
   "cell_type": "markdown",
   "id": "5889dcd7-7ab3-4c7a-8b19-44b19d7414c6",
   "metadata": {},
   "source": [
    "## Steps\n",
    "\n",
    "1. First look at data\n",
    "    - read train test\n",
    "    - common ids\n",
    "    - read features (20 GB)\n",
    "    - \n",
    "\n"
   ]
  },
  {
   "cell_type": "markdown",
   "id": "1189ddac-8d47-4b35-a7b3-8b6792f53099",
   "metadata": {},
   "source": [
    "### First look at data\n",
    "\n",
    "#### Read train test"
   ]
  },
  {
   "cell_type": "code",
   "execution_count": 1,
   "id": "e5a3931b-d88b-44f7-91fb-83acac9dd6f7",
   "metadata": {},
   "outputs": [],
   "source": [
    "import pandas as pd\n",
    "import numpy as np\n",
    "import dask.dataframe as dd  # for big file feature.csv ~20 Gb\n",
    "import matplotlib.pyplot as plt\n",
    "import datetime\n",
    "\n",
    "plt.style.use('ggplot')\n",
    "pd.options.mode.chained_assignment = None  # avoid warning"
   ]
  },
  {
   "cell_type": "code",
   "execution_count": 185,
   "id": "b563d3e9-6770-4bba-b35a-21b169b6c8e4",
   "metadata": {},
   "outputs": [
    {
     "data": {
      "text/html": [
       "<div>\n",
       "<style scoped>\n",
       "    .dataframe tbody tr th:only-of-type {\n",
       "        vertical-align: middle;\n",
       "    }\n",
       "\n",
       "    .dataframe tbody tr th {\n",
       "        vertical-align: top;\n",
       "    }\n",
       "\n",
       "    .dataframe thead th {\n",
       "        text-align: right;\n",
       "    }\n",
       "</style>\n",
       "<table border=\"1\" class=\"dataframe\">\n",
       "  <thead>\n",
       "    <tr style=\"text-align: right;\">\n",
       "      <th></th>\n",
       "      <th>id</th>\n",
       "      <th>vas_id</th>\n",
       "      <th>buy_time</th>\n",
       "      <th>target</th>\n",
       "    </tr>\n",
       "  </thead>\n",
       "  <tbody>\n",
       "    <tr>\n",
       "      <th>0</th>\n",
       "      <td>540968</td>\n",
       "      <td>8.0</td>\n",
       "      <td>1537131600</td>\n",
       "      <td>0.0</td>\n",
       "    </tr>\n",
       "    <tr>\n",
       "      <th>1</th>\n",
       "      <td>1454121</td>\n",
       "      <td>4.0</td>\n",
       "      <td>1531688400</td>\n",
       "      <td>0.0</td>\n",
       "    </tr>\n",
       "  </tbody>\n",
       "</table>\n",
       "</div>"
      ],
      "text/plain": [
       "        id  vas_id    buy_time  target\n",
       "0   540968     8.0  1537131600     0.0\n",
       "1  1454121     4.0  1531688400     0.0"
      ]
     },
     "execution_count": 185,
     "metadata": {},
     "output_type": "execute_result"
    }
   ],
   "source": [
    "train = pd.read_csv('data/data_train.csv', index_col=0)\n",
    "train.head(2)"
   ]
  },
  {
   "cell_type": "code",
   "execution_count": 186,
   "id": "511d959f-95d7-4f86-bdb0-31d067b8fb38",
   "metadata": {},
   "outputs": [
    {
     "name": "stdout",
     "output_type": "stream",
     "text": [
      "<class 'pandas.core.frame.DataFrame'>\n",
      "Int64Index: 831653 entries, 0 to 831652\n",
      "Data columns (total 4 columns):\n",
      " #   Column    Non-Null Count   Dtype  \n",
      "---  ------    --------------   -----  \n",
      " 0   id        831653 non-null  int64  \n",
      " 1   vas_id    831653 non-null  float64\n",
      " 2   buy_time  831653 non-null  int64  \n",
      " 3   target    831653 non-null  float64\n",
      "dtypes: float64(2), int64(2)\n",
      "memory usage: 31.7 MB\n"
     ]
    }
   ],
   "source": [
    "train.info()"
   ]
  },
  {
   "cell_type": "markdown",
   "id": "aef21352-f9b2-4dc1-bca7-02bfc211114b",
   "metadata": {},
   "source": [
    "#### Look at Target distribution"
   ]
  },
  {
   "cell_type": "code",
   "execution_count": 4,
   "id": "33687b01-4eac-48fc-a0e6-5586bf34284c",
   "metadata": {},
   "outputs": [
    {
     "data": {
      "text/plain": [
       "0.0    0.927631\n",
       "1.0    0.072369\n",
       "Name: target, dtype: float64"
      ]
     },
     "execution_count": 4,
     "metadata": {},
     "output_type": "execute_result"
    },
    {
     "data": {
      "image/png": "[encoded data removed]",
      "text/plain": [
       "<Figure size 432x288 with 1 Axes>"
      ]
     },
     "metadata": {},
     "output_type": "display_data"
    }
   ],
   "source": [
    "(train['target'].value_counts()/train['target'].shape[0]).\\\n",
    "    plot(kind='bar', title='Target distribution', color = ['grey', 'blue']);\n",
    "train['target'].value_counts()/train['target'].shape"
   ]
  },
  {
   "cell_type": "markdown",
   "id": "6678ac21-2db0-4b45-9b9b-a45f387e38d8",
   "metadata": {},
   "source": [
    "Not very balanced sample"
   ]
  },
  {
   "cell_type": "code",
   "execution_count": 187,
   "id": "dc037b18-6d7a-446d-87e7-4d1855a54a32",
   "metadata": {},
   "outputs": [
    {
     "data": {
      "text/html": [
       "<div>\n",
       "<style scoped>\n",
       "    .dataframe tbody tr th:only-of-type {\n",
       "        vertical-align: middle;\n",
       "    }\n",
       "\n",
       "    .dataframe tbody tr th {\n",
       "        vertical-align: top;\n",
       "    }\n",
       "\n",
       "    .dataframe thead th {\n",
       "        text-align: right;\n",
       "    }\n",
       "</style>\n",
       "<table border=\"1\" class=\"dataframe\">\n",
       "  <thead>\n",
       "    <tr style=\"text-align: right;\">\n",
       "      <th></th>\n",
       "      <th>id</th>\n",
       "      <th>vas_id</th>\n",
       "      <th>buy_time</th>\n",
       "    </tr>\n",
       "  </thead>\n",
       "  <tbody>\n",
       "    <tr>\n",
       "      <th>0</th>\n",
       "      <td>3130519</td>\n",
       "      <td>2.0</td>\n",
       "      <td>1548018000</td>\n",
       "    </tr>\n",
       "    <tr>\n",
       "      <th>1</th>\n",
       "      <td>2000860</td>\n",
       "      <td>4.0</td>\n",
       "      <td>1548018000</td>\n",
       "    </tr>\n",
       "  </tbody>\n",
       "</table>\n",
       "</div>"
      ],
      "text/plain": [
       "        id  vas_id    buy_time\n",
       "0  3130519     2.0  1548018000\n",
       "1  2000860     4.0  1548018000"
      ]
     },
     "execution_count": 187,
     "metadata": {},
     "output_type": "execute_result"
    }
   ],
   "source": [
    "test = pd.read_csv('data/data_test.csv', index_col=0)\n",
    "test.head(2)"
   ]
  },
  {
   "cell_type": "code",
   "execution_count": 188,
   "id": "327f82e6-5492-485a-85a3-cb8d7ca79ba0",
   "metadata": {},
   "outputs": [
    {
     "name": "stdout",
     "output_type": "stream",
     "text": [
      "<class 'pandas.core.frame.DataFrame'>\n",
      "Int64Index: 71231 entries, 0 to 71230\n",
      "Data columns (total 3 columns):\n",
      " #   Column    Non-Null Count  Dtype  \n",
      "---  ------    --------------  -----  \n",
      " 0   id        71231 non-null  int64  \n",
      " 1   vas_id    71231 non-null  float64\n",
      " 2   buy_time  71231 non-null  int64  \n",
      "dtypes: float64(1), int64(2)\n",
      "memory usage: 2.2 MB\n"
     ]
    }
   ],
   "source": [
    "test.info()"
   ]
  },
  {
   "cell_type": "markdown",
   "id": "7692c491-62bc-46d4-a3a2-6ca681f31321",
   "metadata": {},
   "source": [
    "#### Common ids\n",
    "\n",
    "There are extra indexes in the `feature.csv` file. Need to select rows without them."
   ]
  },
  {
   "cell_type": "code",
   "execution_count": 189,
   "id": "e8740ed9-81f3-4754-b49f-220ad0bbc25b",
   "metadata": {},
   "outputs": [
    {
     "name": "stdout",
     "output_type": "stream",
     "text": [
      "Number train indexes: 806613 \n",
      "Number test indexes: 70152 \n",
      "Number common indexes: 872577\n"
     ]
    }
   ],
   "source": [
    "train_ids = set(train.id.tolist())\n",
    "test_ids = set(test.id.tolist())\n",
    "common_ids = train_ids.union(test_ids)\n",
    "\n",
    "print(f'Number train indexes: {len(train_ids)} \\n\\\n",
    "Number test indexes: {len(test_ids)} \\nNumber common indexes: {len(common_ids)}')"
   ]
  },
  {
   "cell_type": "markdown",
   "id": "0b6816b0-e81f-4685-a8a9-86c91dce2936",
   "metadata": {},
   "source": [
    "#### Read features (~20 GB)"
   ]
  },
  {
   "cell_type": "code",
   "execution_count": 8,
   "id": "2cd5794f-7c28-4b4a-a35e-dd63ac151d15",
   "metadata": {},
   "outputs": [
    {
     "data": {
      "text/html": [
       "<div><strong>Dask DataFrame Structure:</strong></div>\n",
       "<div>\n",
       "<style scoped>\n",
       "    .dataframe tbody tr th:only-of-type {\n",
       "        vertical-align: middle;\n",
       "    }\n",
       "\n",
       "    .dataframe tbody tr th {\n",
       "        vertical-align: top;\n",
       "    }\n",
       "\n",
       "    .dataframe thead th {\n",
       "        text-align: right;\n",
       "    }\n",
       "</style>\n",
       "<table border=\"1\" class=\"dataframe\">\n",
       "  <thead>\n",
       "    <tr style=\"text-align: right;\">\n",
       "      <th></th>\n",
       "      <th>Unnamed: 0</th>\n",
       "      <th>id</th>\n",
       "      <th>buy_time</th>\n",
       "      <th>0</th>\n",
       "      <th>1</th>\n",
       "      <th>2</th>\n",
       "      <th>3</th>\n",
       "      <th>4</th>\n",
       "      <th>5</th>\n",
       "      <th>6</th>\n",
       "      <th>7</th>\n",
       "      <th>8</th>\n",
       "      <th>9</th>\n",
       "      <th>10</th>\n",
       "      <th>11</th>\n",
       "      <th>12</th>\n",
       "      <th>13</th>\n",
       "      <th>14</th>\n",
       "      <th>15</th>\n",
       "      <th>16</th>\n",
       "      <th>17</th>\n",
       "      <th>18</th>\n",
       "      <th>19</th>\n",
       "      <th>20</th>\n",
       "      <th>21</th>\n",
       "      <th>22</th>\n",
       "      <th>23</th>\n",
       "      <th>24</th>\n",
       "      <th>25</th>\n",
       "      <th>26</th>\n",
       "      <th>27</th>\n",
       "      <th>28</th>\n",
       "      <th>29</th>\n",
       "      <th>30</th>\n",
       "      <th>31</th>\n",
       "      <th>32</th>\n",
       "      <th>33</th>\n",
       "      <th>34</th>\n",
       "      <th>35</th>\n",
       "      <th>36</th>\n",
       "      <th>37</th>\n",
       "      <th>38</th>\n",
       "      <th>39</th>\n",
       "      <th>40</th>\n",
       "      <th>41</th>\n",
       "      <th>42</th>\n",
       "      <th>43</th>\n",
       "      <th>44</th>\n",
       "      <th>45</th>\n",
       "      <th>46</th>\n",
       "      <th>47</th>\n",
       "      <th>48</th>\n",
       "      <th>49</th>\n",
       "      <th>50</th>\n",
       "      <th>51</th>\n",
       "      <th>52</th>\n",
       "      <th>53</th>\n",
       "      <th>54</th>\n",
       "      <th>55</th>\n",
       "      <th>56</th>\n",
       "      <th>57</th>\n",
       "      <th>58</th>\n",
       "      <th>59</th>\n",
       "      <th>60</th>\n",
       "      <th>61</th>\n",
       "      <th>62</th>\n",
       "      <th>63</th>\n",
       "      <th>64</th>\n",
       "      <th>65</th>\n",
       "      <th>66</th>\n",
       "      <th>67</th>\n",
       "      <th>68</th>\n",
       "      <th>69</th>\n",
       "      <th>70</th>\n",
       "      <th>71</th>\n",
       "      <th>72</th>\n",
       "      <th>73</th>\n",
       "      <th>74</th>\n",
       "      <th>75</th>\n",
       "      <th>76</th>\n",
       "      <th>77</th>\n",
       "      <th>78</th>\n",
       "      <th>79</th>\n",
       "      <th>80</th>\n",
       "      <th>81</th>\n",
       "      <th>82</th>\n",
       "      <th>83</th>\n",
       "      <th>84</th>\n",
       "      <th>85</th>\n",
       "      <th>86</th>\n",
       "      <th>87</th>\n",
       "      <th>88</th>\n",
       "      <th>89</th>\n",
       "      <th>90</th>\n",
       "      <th>91</th>\n",
       "      <th>92</th>\n",
       "      <th>93</th>\n",
       "      <th>94</th>\n",
       "      <th>95</th>\n",
       "      <th>96</th>\n",
       "      <th>97</th>\n",
       "      <th>98</th>\n",
       "      <th>99</th>\n",
       "      <th>100</th>\n",
       "      <th>101</th>\n",
       "      <th>102</th>\n",
       "      <th>103</th>\n",
       "      <th>104</th>\n",
       "      <th>105</th>\n",
       "      <th>106</th>\n",
       "      <th>107</th>\n",
       "      <th>108</th>\n",
       "      <th>109</th>\n",
       "      <th>110</th>\n",
       "      <th>111</th>\n",
       "      <th>112</th>\n",
       "      <th>113</th>\n",
       "      <th>114</th>\n",
       "      <th>115</th>\n",
       "      <th>116</th>\n",
       "      <th>117</th>\n",
       "      <th>118</th>\n",
       "      <th>119</th>\n",
       "      <th>120</th>\n",
       "      <th>121</th>\n",
       "      <th>122</th>\n",
       "      <th>123</th>\n",
       "      <th>124</th>\n",
       "      <th>125</th>\n",
       "      <th>126</th>\n",
       "      <th>127</th>\n",
       "      <th>128</th>\n",
       "      <th>129</th>\n",
       "      <th>130</th>\n",
       "      <th>131</th>\n",
       "      <th>132</th>\n",
       "      <th>133</th>\n",
       "      <th>134</th>\n",
       "      <th>135</th>\n",
       "      <th>136</th>\n",
       "      <th>137</th>\n",
       "      <th>138</th>\n",
       "      <th>139</th>\n",
       "      <th>140</th>\n",
       "      <th>141</th>\n",
       "      <th>142</th>\n",
       "      <th>143</th>\n",
       "      <th>144</th>\n",
       "      <th>145</th>\n",
       "      <th>146</th>\n",
       "      <th>147</th>\n",
       "      <th>148</th>\n",
       "      <th>149</th>\n",
       "      <th>150</th>\n",
       "      <th>151</th>\n",
       "      <th>152</th>\n",
       "      <th>153</th>\n",
       "      <th>154</th>\n",
       "      <th>155</th>\n",
       "      <th>156</th>\n",
       "      <th>157</th>\n",
       "      <th>158</th>\n",
       "      <th>159</th>\n",
       "      <th>160</th>\n",
       "      <th>161</th>\n",
       "      <th>162</th>\n",
       "      <th>163</th>\n",
       "      <th>164</th>\n",
       "      <th>165</th>\n",
       "      <th>166</th>\n",
       "      <th>167</th>\n",
       "      <th>168</th>\n",
       "      <th>169</th>\n",
       "      <th>170</th>\n",
       "      <th>171</th>\n",
       "      <th>172</th>\n",
       "      <th>173</th>\n",
       "      <th>174</th>\n",
       "      <th>175</th>\n",
       "      <th>176</th>\n",
       "      <th>177</th>\n",
       "      <th>178</th>\n",
       "      <th>179</th>\n",
       "      <th>180</th>\n",
       "      <th>181</th>\n",
       "      <th>182</th>\n",
       "      <th>183</th>\n",
       "      <th>184</th>\n",
       "      <th>185</th>\n",
       "      <th>186</th>\n",
       "      <th>187</th>\n",
       "      <th>188</th>\n",
       "      <th>189</th>\n",
       "      <th>190</th>\n",
       "      <th>191</th>\n",
       "      <th>192</th>\n",
       "      <th>193</th>\n",
       "      <th>194</th>\n",
       "      <th>195</th>\n",
       "      <th>196</th>\n",
       "      <th>197</th>\n",
       "      <th>198</th>\n",
       "      <th>199</th>\n",
       "      <th>200</th>\n",
       "      <th>201</th>\n",
       "      <th>202</th>\n",
       "      <th>203</th>\n",
       "      <th>204</th>\n",
       "      <th>205</th>\n",
       "      <th>206</th>\n",
       "      <th>207</th>\n",
       "      <th>208</th>\n",
       "      <th>209</th>\n",
       "      <th>210</th>\n",
       "      <th>211</th>\n",
       "      <th>212</th>\n",
       "      <th>213</th>\n",
       "      <th>214</th>\n",
       "      <th>215</th>\n",
       "      <th>216</th>\n",
       "      <th>217</th>\n",
       "      <th>218</th>\n",
       "      <th>219</th>\n",
       "      <th>220</th>\n",
       "      <th>221</th>\n",
       "      <th>222</th>\n",
       "      <th>223</th>\n",
       "      <th>224</th>\n",
       "      <th>225</th>\n",
       "      <th>226</th>\n",
       "      <th>227</th>\n",
       "      <th>228</th>\n",
       "      <th>229</th>\n",
       "      <th>230</th>\n",
       "      <th>231</th>\n",
       "      <th>232</th>\n",
       "      <th>233</th>\n",
       "      <th>234</th>\n",
       "      <th>235</th>\n",
       "      <th>236</th>\n",
       "      <th>237</th>\n",
       "      <th>238</th>\n",
       "      <th>239</th>\n",
       "      <th>240</th>\n",
       "      <th>241</th>\n",
       "      <th>242</th>\n",
       "      <th>243</th>\n",
       "      <th>244</th>\n",
       "      <th>245</th>\n",
       "      <th>246</th>\n",
       "      <th>247</th>\n",
       "      <th>248</th>\n",
       "      <th>249</th>\n",
       "      <th>250</th>\n",
       "      <th>251</th>\n",
       "      <th>252</th>\n",
       "    </tr>\n",
       "    <tr>\n",
       "      <th>npartitions=351</th>\n",
       "      <th></th>\n",
       "      <th></th>\n",
       "      <th></th>\n",
       "      <th></th>\n",
       "      <th></th>\n",
       "      <th></th>\n",
       "      <th></th>\n",
       "      <th></th>\n",
       "      <th></th>\n",
       "      <th></th>\n",
       "      <th></th>\n",
       "      <th></th>\n",
       "      <th></th>\n",
       "      <th></th>\n",
       "      <th></th>\n",
       "      <th></th>\n",
       "      <th></th>\n",
       "      <th></th>\n",
       "      <th></th>\n",
       "      <th></th>\n",
       "      <th></th>\n",
       "      <th></th>\n",
       "      <th></th>\n",
       "      <th></th>\n",
       "      <th></th>\n",
       "      <th></th>\n",
       "      <th></th>\n",
       "      <th></th>\n",
       "      <th></th>\n",
       "      <th></th>\n",
       "      <th></th>\n",
       "      <th></th>\n",
       "      <th></th>\n",
       "      <th></th>\n",
       "      <th></th>\n",
       "      <th></th>\n",
       "      <th></th>\n",
       "      <th></th>\n",
       "      <th></th>\n",
       "      <th></th>\n",
       "      <th></th>\n",
       "      <th></th>\n",
       "      <th></th>\n",
       "      <th></th>\n",
       "      <th></th>\n",
       "      <th></th>\n",
       "      <th></th>\n",
       "      <th></th>\n",
       "      <th></th>\n",
       "      <th></th>\n",
       "      <th></th>\n",
       "      <th></th>\n",
       "      <th></th>\n",
       "      <th></th>\n",
       "      <th></th>\n",
       "      <th></th>\n",
       "      <th></th>\n",
       "      <th></th>\n",
       "      <th></th>\n",
       "      <th></th>\n",
       "      <th></th>\n",
       "      <th></th>\n",
       "      <th></th>\n",
       "      <th></th>\n",
       "      <th></th>\n",
       "      <th></th>\n",
       "      <th></th>\n",
       "      <th></th>\n",
       "      <th></th>\n",
       "      <th></th>\n",
       "      <th></th>\n",
       "      <th></th>\n",
       "      <th></th>\n",
       "      <th></th>\n",
       "      <th></th>\n",
       "      <th></th>\n",
       "      <th></th>\n",
       "      <th></th>\n",
       "      <th></th>\n",
       "      <th></th>\n",
       "      <th></th>\n",
       "      <th></th>\n",
       "      <th></th>\n",
       "      <th></th>\n",
       "      <th></th>\n",
       "      <th></th>\n",
       "      <th></th>\n",
       "      <th></th>\n",
       "      <th></th>\n",
       "      <th></th>\n",
       "      <th></th>\n",
       "      <th></th>\n",
       "      <th></th>\n",
       "      <th></th>\n",
       "      <th></th>\n",
       "      <th></th>\n",
       "      <th></th>\n",
       "      <th></th>\n",
       "      <th></th>\n",
       "      <th></th>\n",
       "      <th></th>\n",
       "      <th></th>\n",
       "      <th></th>\n",
       "      <th></th>\n",
       "      <th></th>\n",
       "      <th></th>\n",
       "      <th></th>\n",
       "      <th></th>\n",
       "      <th></th>\n",
       "      <th></th>\n",
       "      <th></th>\n",
       "      <th></th>\n",
       "      <th></th>\n",
       "      <th></th>\n",
       "      <th></th>\n",
       "      <th></th>\n",
       "      <th></th>\n",
       "      <th></th>\n",
       "      <th></th>\n",
       "      <th></th>\n",
       "      <th></th>\n",
       "      <th></th>\n",
       "      <th></th>\n",
       "      <th></th>\n",
       "      <th></th>\n",
       "      <th></th>\n",
       "      <th></th>\n",
       "      <th></th>\n",
       "      <th></th>\n",
       "      <th></th>\n",
       "      <th></th>\n",
       "      <th></th>\n",
       "      <th></th>\n",
       "      <th></th>\n",
       "      <th></th>\n",
       "      <th></th>\n",
       "      <th></th>\n",
       "      <th></th>\n",
       "      <th></th>\n",
       "      <th></th>\n",
       "      <th></th>\n",
       "      <th></th>\n",
       "      <th></th>\n",
       "      <th></th>\n",
       "      <th></th>\n",
       "      <th></th>\n",
       "      <th></th>\n",
       "      <th></th>\n",
       "      <th></th>\n",
       "      <th></th>\n",
       "      <th></th>\n",
       "      <th></th>\n",
       "      <th></th>\n",
       "      <th></th>\n",
       "      <th></th>\n",
       "      <th></th>\n",
       "      <th></th>\n",
       "      <th></th>\n",
       "      <th></th>\n",
       "      <th></th>\n",
       "      <th></th>\n",
       "      <th></th>\n",
       "      <th></th>\n",
       "      <th></th>\n",
       "      <th></th>\n",
       "      <th></th>\n",
       "      <th></th>\n",
       "      <th></th>\n",
       "      <th></th>\n",
       "      <th></th>\n",
       "      <th></th>\n",
       "      <th></th>\n",
       "      <th></th>\n",
       "      <th></th>\n",
       "      <th></th>\n",
       "      <th></th>\n",
       "      <th></th>\n",
       "      <th></th>\n",
       "      <th></th>\n",
       "      <th></th>\n",
       "      <th></th>\n",
       "      <th></th>\n",
       "      <th></th>\n",
       "      <th></th>\n",
       "      <th></th>\n",
       "      <th></th>\n",
       "      <th></th>\n",
       "      <th></th>\n",
       "      <th></th>\n",
       "      <th></th>\n",
       "      <th></th>\n",
       "      <th></th>\n",
       "      <th></th>\n",
       "      <th></th>\n",
       "      <th></th>\n",
       "      <th></th>\n",
       "      <th></th>\n",
       "      <th></th>\n",
       "      <th></th>\n",
       "      <th></th>\n",
       "      <th></th>\n",
       "      <th></th>\n",
       "      <th></th>\n",
       "      <th></th>\n",
       "      <th></th>\n",
       "      <th></th>\n",
       "      <th></th>\n",
       "      <th></th>\n",
       "      <th></th>\n",
       "      <th></th>\n",
       "      <th></th>\n",
       "      <th></th>\n",
       "      <th></th>\n",
       "      <th></th>\n",
       "      <th></th>\n",
       "      <th></th>\n",
       "      <th></th>\n",
       "      <th></th>\n",
       "      <th></th>\n",
       "      <th></th>\n",
       "      <th></th>\n",
       "      <th></th>\n",
       "      <th></th>\n",
       "      <th></th>\n",
       "      <th></th>\n",
       "      <th></th>\n",
       "      <th></th>\n",
       "      <th></th>\n",
       "      <th></th>\n",
       "      <th></th>\n",
       "      <th></th>\n",
       "      <th></th>\n",
       "      <th></th>\n",
       "      <th></th>\n",
       "      <th></th>\n",
       "      <th></th>\n",
       "      <th></th>\n",
       "      <th></th>\n",
       "      <th></th>\n",
       "      <th></th>\n",
       "      <th></th>\n",
       "      <th></th>\n",
       "      <th></th>\n",
       "      <th></th>\n",
       "      <th></th>\n",
       "      <th></th>\n",
       "      <th></th>\n",
       "      <th></th>\n",
       "      <th></th>\n",
       "      <th></th>\n",
       "      <th></th>\n",
       "      <th></th>\n",
       "      <th></th>\n",
       "      <th></th>\n",
       "      <th></th>\n",
       "      <th></th>\n",
       "    </tr>\n",
       "  </thead>\n",
       "  <tbody>\n",
       "    <tr>\n",
       "      <th></th>\n",
       "      <td>int64</td>\n",
       "      <td>int64</td>\n",
       "      <td>int64</td>\n",
       "      <td>float64</td>\n",
       "      <td>float64</td>\n",
       "      <td>float64</td>\n",
       "      <td>float64</td>\n",
       "      <td>float64</td>\n",
       "      <td>float64</td>\n",
       "      <td>float64</td>\n",
       "      <td>float64</td>\n",
       "      <td>float64</td>\n",
       "      <td>float64</td>\n",
       "      <td>float64</td>\n",
       "      <td>float64</td>\n",
       "      <td>float64</td>\n",
       "      <td>float64</td>\n",
       "      <td>float64</td>\n",
       "      <td>float64</td>\n",
       "      <td>float64</td>\n",
       "      <td>float64</td>\n",
       "      <td>float64</td>\n",
       "      <td>float64</td>\n",
       "      <td>float64</td>\n",
       "      <td>float64</td>\n",
       "      <td>float64</td>\n",
       "      <td>float64</td>\n",
       "      <td>float64</td>\n",
       "      <td>float64</td>\n",
       "      <td>float64</td>\n",
       "      <td>float64</td>\n",
       "      <td>float64</td>\n",
       "      <td>float64</td>\n",
       "      <td>float64</td>\n",
       "      <td>float64</td>\n",
       "      <td>float64</td>\n",
       "      <td>float64</td>\n",
       "      <td>float64</td>\n",
       "      <td>float64</td>\n",
       "      <td>float64</td>\n",
       "      <td>float64</td>\n",
       "      <td>float64</td>\n",
       "      <td>float64</td>\n",
       "      <td>float64</td>\n",
       "      <td>float64</td>\n",
       "      <td>float64</td>\n",
       "      <td>float64</td>\n",
       "      <td>float64</td>\n",
       "      <td>float64</td>\n",
       "      <td>float64</td>\n",
       "      <td>float64</td>\n",
       "      <td>float64</td>\n",
       "      <td>float64</td>\n",
       "      <td>float64</td>\n",
       "      <td>float64</td>\n",
       "      <td>float64</td>\n",
       "      <td>float64</td>\n",
       "      <td>float64</td>\n",
       "      <td>float64</td>\n",
       "      <td>float64</td>\n",
       "      <td>float64</td>\n",
       "      <td>float64</td>\n",
       "      <td>float64</td>\n",
       "      <td>float64</td>\n",
       "      <td>float64</td>\n",
       "      <td>float64</td>\n",
       "      <td>float64</td>\n",
       "      <td>float64</td>\n",
       "      <td>float64</td>\n",
       "      <td>float64</td>\n",
       "      <td>float64</td>\n",
       "      <td>float64</td>\n",
       "      <td>float64</td>\n",
       "      <td>float64</td>\n",
       "      <td>float64</td>\n",
       "      <td>float64</td>\n",
       "      <td>float64</td>\n",
       "      <td>float64</td>\n",
       "      <td>float64</td>\n",
       "      <td>float64</td>\n",
       "      <td>float64</td>\n",
       "      <td>float64</td>\n",
       "      <td>float64</td>\n",
       "      <td>float64</td>\n",
       "      <td>float64</td>\n",
       "      <td>float64</td>\n",
       "      <td>float64</td>\n",
       "      <td>float64</td>\n",
       "      <td>float64</td>\n",
       "      <td>float64</td>\n",
       "      <td>float64</td>\n",
       "      <td>float64</td>\n",
       "      <td>float64</td>\n",
       "      <td>float64</td>\n",
       "      <td>float64</td>\n",
       "      <td>float64</td>\n",
       "      <td>float64</td>\n",
       "      <td>float64</td>\n",
       "      <td>float64</td>\n",
       "      <td>float64</td>\n",
       "      <td>float64</td>\n",
       "      <td>float64</td>\n",
       "      <td>float64</td>\n",
       "      <td>float64</td>\n",
       "      <td>float64</td>\n",
       "      <td>float64</td>\n",
       "      <td>float64</td>\n",
       "      <td>float64</td>\n",
       "      <td>float64</td>\n",
       "      <td>float64</td>\n",
       "      <td>float64</td>\n",
       "      <td>float64</td>\n",
       "      <td>float64</td>\n",
       "      <td>float64</td>\n",
       "      <td>float64</td>\n",
       "      <td>float64</td>\n",
       "      <td>float64</td>\n",
       "      <td>float64</td>\n",
       "      <td>float64</td>\n",
       "      <td>float64</td>\n",
       "      <td>float64</td>\n",
       "      <td>float64</td>\n",
       "      <td>float64</td>\n",
       "      <td>float64</td>\n",
       "      <td>float64</td>\n",
       "      <td>float64</td>\n",
       "      <td>float64</td>\n",
       "      <td>float64</td>\n",
       "      <td>float64</td>\n",
       "      <td>float64</td>\n",
       "      <td>float64</td>\n",
       "      <td>float64</td>\n",
       "      <td>float64</td>\n",
       "      <td>float64</td>\n",
       "      <td>float64</td>\n",
       "      <td>float64</td>\n",
       "      <td>float64</td>\n",
       "      <td>float64</td>\n",
       "      <td>float64</td>\n",
       "      <td>float64</td>\n",
       "      <td>float64</td>\n",
       "      <td>float64</td>\n",
       "      <td>float64</td>\n",
       "      <td>float64</td>\n",
       "      <td>float64</td>\n",
       "      <td>float64</td>\n",
       "      <td>float64</td>\n",
       "      <td>float64</td>\n",
       "      <td>float64</td>\n",
       "      <td>float64</td>\n",
       "      <td>float64</td>\n",
       "      <td>float64</td>\n",
       "      <td>float64</td>\n",
       "      <td>float64</td>\n",
       "      <td>float64</td>\n",
       "      <td>float64</td>\n",
       "      <td>float64</td>\n",
       "      <td>float64</td>\n",
       "      <td>float64</td>\n",
       "      <td>float64</td>\n",
       "      <td>float64</td>\n",
       "      <td>float64</td>\n",
       "      <td>float64</td>\n",
       "      <td>float64</td>\n",
       "      <td>float64</td>\n",
       "      <td>float64</td>\n",
       "      <td>float64</td>\n",
       "      <td>float64</td>\n",
       "      <td>float64</td>\n",
       "      <td>float64</td>\n",
       "      <td>float64</td>\n",
       "      <td>float64</td>\n",
       "      <td>float64</td>\n",
       "      <td>float64</td>\n",
       "      <td>float64</td>\n",
       "      <td>float64</td>\n",
       "      <td>float64</td>\n",
       "      <td>float64</td>\n",
       "      <td>float64</td>\n",
       "      <td>float64</td>\n",
       "      <td>float64</td>\n",
       "      <td>float64</td>\n",
       "      <td>float64</td>\n",
       "      <td>float64</td>\n",
       "      <td>float64</td>\n",
       "      <td>float64</td>\n",
       "      <td>float64</td>\n",
       "      <td>float64</td>\n",
       "      <td>float64</td>\n",
       "      <td>float64</td>\n",
       "      <td>float64</td>\n",
       "      <td>float64</td>\n",
       "      <td>float64</td>\n",
       "      <td>float64</td>\n",
       "      <td>float64</td>\n",
       "      <td>float64</td>\n",
       "      <td>float64</td>\n",
       "      <td>float64</td>\n",
       "      <td>float64</td>\n",
       "      <td>float64</td>\n",
       "      <td>float64</td>\n",
       "      <td>float64</td>\n",
       "      <td>float64</td>\n",
       "      <td>float64</td>\n",
       "      <td>float64</td>\n",
       "      <td>float64</td>\n",
       "      <td>float64</td>\n",
       "      <td>float64</td>\n",
       "      <td>float64</td>\n",
       "      <td>float64</td>\n",
       "      <td>float64</td>\n",
       "      <td>float64</td>\n",
       "      <td>float64</td>\n",
       "      <td>float64</td>\n",
       "      <td>float64</td>\n",
       "      <td>float64</td>\n",
       "      <td>float64</td>\n",
       "      <td>float64</td>\n",
       "      <td>float64</td>\n",
       "      <td>float64</td>\n",
       "      <td>float64</td>\n",
       "      <td>float64</td>\n",
       "      <td>float64</td>\n",
       "      <td>float64</td>\n",
       "      <td>float64</td>\n",
       "      <td>float64</td>\n",
       "      <td>float64</td>\n",
       "      <td>float64</td>\n",
       "      <td>float64</td>\n",
       "      <td>float64</td>\n",
       "      <td>float64</td>\n",
       "      <td>float64</td>\n",
       "      <td>float64</td>\n",
       "      <td>float64</td>\n",
       "      <td>float64</td>\n",
       "      <td>float64</td>\n",
       "      <td>float64</td>\n",
       "      <td>float64</td>\n",
       "      <td>float64</td>\n",
       "      <td>float64</td>\n",
       "      <td>float64</td>\n",
       "      <td>float64</td>\n",
       "      <td>float64</td>\n",
       "      <td>float64</td>\n",
       "      <td>float64</td>\n",
       "      <td>float64</td>\n",
       "      <td>float64</td>\n",
       "      <td>float64</td>\n",
       "      <td>float64</td>\n",
       "      <td>float64</td>\n",
       "      <td>float64</td>\n",
       "      <td>float64</td>\n",
       "      <td>float64</td>\n",
       "      <td>float64</td>\n",
       "      <td>float64</td>\n",
       "      <td>float64</td>\n",
       "    </tr>\n",
       "    <tr>\n",
       "      <th></th>\n",
       "      <td>...</td>\n",
       "      <td>...</td>\n",
       "      <td>...</td>\n",
       "      <td>...</td>\n",
       "      <td>...</td>\n",
       "      <td>...</td>\n",
       "      <td>...</td>\n",
       "      <td>...</td>\n",
       "      <td>...</td>\n",
       "      <td>...</td>\n",
       "      <td>...</td>\n",
       "      <td>...</td>\n",
       "      <td>...</td>\n",
       "      <td>...</td>\n",
       "      <td>...</td>\n",
       "      <td>...</td>\n",
       "      <td>...</td>\n",
       "      <td>...</td>\n",
       "      <td>...</td>\n",
       "      <td>...</td>\n",
       "      <td>...</td>\n",
       "      <td>...</td>\n",
       "      <td>...</td>\n",
       "      <td>...</td>\n",
       "      <td>...</td>\n",
       "      <td>...</td>\n",
       "      <td>...</td>\n",
       "      <td>...</td>\n",
       "      <td>...</td>\n",
       "      <td>...</td>\n",
       "      <td>...</td>\n",
       "      <td>...</td>\n",
       "      <td>...</td>\n",
       "      <td>...</td>\n",
       "      <td>...</td>\n",
       "      <td>...</td>\n",
       "      <td>...</td>\n",
       "      <td>...</td>\n",
       "      <td>...</td>\n",
       "      <td>...</td>\n",
       "      <td>...</td>\n",
       "      <td>...</td>\n",
       "      <td>...</td>\n",
       "      <td>...</td>\n",
       "      <td>...</td>\n",
       "      <td>...</td>\n",
       "      <td>...</td>\n",
       "      <td>...</td>\n",
       "      <td>...</td>\n",
       "      <td>...</td>\n",
       "      <td>...</td>\n",
       "      <td>...</td>\n",
       "      <td>...</td>\n",
       "      <td>...</td>\n",
       "      <td>...</td>\n",
       "      <td>...</td>\n",
       "      <td>...</td>\n",
       "      <td>...</td>\n",
       "      <td>...</td>\n",
       "      <td>...</td>\n",
       "      <td>...</td>\n",
       "      <td>...</td>\n",
       "      <td>...</td>\n",
       "      <td>...</td>\n",
       "      <td>...</td>\n",
       "      <td>...</td>\n",
       "      <td>...</td>\n",
       "      <td>...</td>\n",
       "      <td>...</td>\n",
       "      <td>...</td>\n",
       "      <td>...</td>\n",
       "      <td>...</td>\n",
       "      <td>...</td>\n",
       "      <td>...</td>\n",
       "      <td>...</td>\n",
       "      <td>...</td>\n",
       "      <td>...</td>\n",
       "      <td>...</td>\n",
       "      <td>...</td>\n",
       "      <td>...</td>\n",
       "      <td>...</td>\n",
       "      <td>...</td>\n",
       "      <td>...</td>\n",
       "      <td>...</td>\n",
       "      <td>...</td>\n",
       "      <td>...</td>\n",
       "      <td>...</td>\n",
       "      <td>...</td>\n",
       "      <td>...</td>\n",
       "      <td>...</td>\n",
       "      <td>...</td>\n",
       "      <td>...</td>\n",
       "      <td>...</td>\n",
       "      <td>...</td>\n",
       "      <td>...</td>\n",
       "      <td>...</td>\n",
       "      <td>...</td>\n",
       "      <td>...</td>\n",
       "      <td>...</td>\n",
       "      <td>...</td>\n",
       "      <td>...</td>\n",
       "      <td>...</td>\n",
       "      <td>...</td>\n",
       "      <td>...</td>\n",
       "      <td>...</td>\n",
       "      <td>...</td>\n",
       "      <td>...</td>\n",
       "      <td>...</td>\n",
       "      <td>...</td>\n",
       "      <td>...</td>\n",
       "      <td>...</td>\n",
       "      <td>...</td>\n",
       "      <td>...</td>\n",
       "      <td>...</td>\n",
       "      <td>...</td>\n",
       "      <td>...</td>\n",
       "      <td>...</td>\n",
       "      <td>...</td>\n",
       "      <td>...</td>\n",
       "      <td>...</td>\n",
       "      <td>...</td>\n",
       "      <td>...</td>\n",
       "      <td>...</td>\n",
       "      <td>...</td>\n",
       "      <td>...</td>\n",
       "      <td>...</td>\n",
       "      <td>...</td>\n",
       "      <td>...</td>\n",
       "      <td>...</td>\n",
       "      <td>...</td>\n",
       "      <td>...</td>\n",
       "      <td>...</td>\n",
       "      <td>...</td>\n",
       "      <td>...</td>\n",
       "      <td>...</td>\n",
       "      <td>...</td>\n",
       "      <td>...</td>\n",
       "      <td>...</td>\n",
       "      <td>...</td>\n",
       "      <td>...</td>\n",
       "      <td>...</td>\n",
       "      <td>...</td>\n",
       "      <td>...</td>\n",
       "      <td>...</td>\n",
       "      <td>...</td>\n",
       "      <td>...</td>\n",
       "      <td>...</td>\n",
       "      <td>...</td>\n",
       "      <td>...</td>\n",
       "      <td>...</td>\n",
       "      <td>...</td>\n",
       "      <td>...</td>\n",
       "      <td>...</td>\n",
       "      <td>...</td>\n",
       "      <td>...</td>\n",
       "      <td>...</td>\n",
       "      <td>...</td>\n",
       "      <td>...</td>\n",
       "      <td>...</td>\n",
       "      <td>...</td>\n",
       "      <td>...</td>\n",
       "      <td>...</td>\n",
       "      <td>...</td>\n",
       "      <td>...</td>\n",
       "      <td>...</td>\n",
       "      <td>...</td>\n",
       "      <td>...</td>\n",
       "      <td>...</td>\n",
       "      <td>...</td>\n",
       "      <td>...</td>\n",
       "      <td>...</td>\n",
       "      <td>...</td>\n",
       "      <td>...</td>\n",
       "      <td>...</td>\n",
       "      <td>...</td>\n",
       "      <td>...</td>\n",
       "      <td>...</td>\n",
       "      <td>...</td>\n",
       "      <td>...</td>\n",
       "      <td>...</td>\n",
       "      <td>...</td>\n",
       "      <td>...</td>\n",
       "      <td>...</td>\n",
       "      <td>...</td>\n",
       "      <td>...</td>\n",
       "      <td>...</td>\n",
       "      <td>...</td>\n",
       "      <td>...</td>\n",
       "      <td>...</td>\n",
       "      <td>...</td>\n",
       "      <td>...</td>\n",
       "      <td>...</td>\n",
       "      <td>...</td>\n",
       "      <td>...</td>\n",
       "      <td>...</td>\n",
       "      <td>...</td>\n",
       "      <td>...</td>\n",
       "      <td>...</td>\n",
       "      <td>...</td>\n",
       "      <td>...</td>\n",
       "      <td>...</td>\n",
       "      <td>...</td>\n",
       "      <td>...</td>\n",
       "      <td>...</td>\n",
       "      <td>...</td>\n",
       "      <td>...</td>\n",
       "      <td>...</td>\n",
       "      <td>...</td>\n",
       "      <td>...</td>\n",
       "      <td>...</td>\n",
       "      <td>...</td>\n",
       "      <td>...</td>\n",
       "      <td>...</td>\n",
       "      <td>...</td>\n",
       "      <td>...</td>\n",
       "      <td>...</td>\n",
       "      <td>...</td>\n",
       "      <td>...</td>\n",
       "      <td>...</td>\n",
       "      <td>...</td>\n",
       "      <td>...</td>\n",
       "      <td>...</td>\n",
       "      <td>...</td>\n",
       "      <td>...</td>\n",
       "      <td>...</td>\n",
       "      <td>...</td>\n",
       "      <td>...</td>\n",
       "      <td>...</td>\n",
       "      <td>...</td>\n",
       "      <td>...</td>\n",
       "      <td>...</td>\n",
       "      <td>...</td>\n",
       "      <td>...</td>\n",
       "      <td>...</td>\n",
       "      <td>...</td>\n",
       "      <td>...</td>\n",
       "      <td>...</td>\n",
       "      <td>...</td>\n",
       "      <td>...</td>\n",
       "      <td>...</td>\n",
       "      <td>...</td>\n",
       "      <td>...</td>\n",
       "      <td>...</td>\n",
       "      <td>...</td>\n",
       "      <td>...</td>\n",
       "      <td>...</td>\n",
       "      <td>...</td>\n",
       "      <td>...</td>\n",
       "      <td>...</td>\n",
       "      <td>...</td>\n",
       "      <td>...</td>\n",
       "      <td>...</td>\n",
       "      <td>...</td>\n",
       "      <td>...</td>\n",
       "      <td>...</td>\n",
       "      <td>...</td>\n",
       "    </tr>\n",
       "    <tr>\n",
       "      <th>...</th>\n",
       "      <td>...</td>\n",
       "      <td>...</td>\n",
       "      <td>...</td>\n",
       "      <td>...</td>\n",
       "      <td>...</td>\n",
       "      <td>...</td>\n",
       "      <td>...</td>\n",
       "      <td>...</td>\n",
       "      <td>...</td>\n",
       "      <td>...</td>\n",
       "      <td>...</td>\n",
       "      <td>...</td>\n",
       "      <td>...</td>\n",
       "      <td>...</td>\n",
       "      <td>...</td>\n",
       "      <td>...</td>\n",
       "      <td>...</td>\n",
       "      <td>...</td>\n",
       "      <td>...</td>\n",
       "      <td>...</td>\n",
       "      <td>...</td>\n",
       "      <td>...</td>\n",
       "      <td>...</td>\n",
       "      <td>...</td>\n",
       "      <td>...</td>\n",
       "      <td>...</td>\n",
       "      <td>...</td>\n",
       "      <td>...</td>\n",
       "      <td>...</td>\n",
       "      <td>...</td>\n",
       "      <td>...</td>\n",
       "      <td>...</td>\n",
       "      <td>...</td>\n",
       "      <td>...</td>\n",
       "      <td>...</td>\n",
       "      <td>...</td>\n",
       "      <td>...</td>\n",
       "      <td>...</td>\n",
       "      <td>...</td>\n",
       "      <td>...</td>\n",
       "      <td>...</td>\n",
       "      <td>...</td>\n",
       "      <td>...</td>\n",
       "      <td>...</td>\n",
       "      <td>...</td>\n",
       "      <td>...</td>\n",
       "      <td>...</td>\n",
       "      <td>...</td>\n",
       "      <td>...</td>\n",
       "      <td>...</td>\n",
       "      <td>...</td>\n",
       "      <td>...</td>\n",
       "      <td>...</td>\n",
       "      <td>...</td>\n",
       "      <td>...</td>\n",
       "      <td>...</td>\n",
       "      <td>...</td>\n",
       "      <td>...</td>\n",
       "      <td>...</td>\n",
       "      <td>...</td>\n",
       "      <td>...</td>\n",
       "      <td>...</td>\n",
       "      <td>...</td>\n",
       "      <td>...</td>\n",
       "      <td>...</td>\n",
       "      <td>...</td>\n",
       "      <td>...</td>\n",
       "      <td>...</td>\n",
       "      <td>...</td>\n",
       "      <td>...</td>\n",
       "      <td>...</td>\n",
       "      <td>...</td>\n",
       "      <td>...</td>\n",
       "      <td>...</td>\n",
       "      <td>...</td>\n",
       "      <td>...</td>\n",
       "      <td>...</td>\n",
       "      <td>...</td>\n",
       "      <td>...</td>\n",
       "      <td>...</td>\n",
       "      <td>...</td>\n",
       "      <td>...</td>\n",
       "      <td>...</td>\n",
       "      <td>...</td>\n",
       "      <td>...</td>\n",
       "      <td>...</td>\n",
       "      <td>...</td>\n",
       "      <td>...</td>\n",
       "      <td>...</td>\n",
       "      <td>...</td>\n",
       "      <td>...</td>\n",
       "      <td>...</td>\n",
       "      <td>...</td>\n",
       "      <td>...</td>\n",
       "      <td>...</td>\n",
       "      <td>...</td>\n",
       "      <td>...</td>\n",
       "      <td>...</td>\n",
       "      <td>...</td>\n",
       "      <td>...</td>\n",
       "      <td>...</td>\n",
       "      <td>...</td>\n",
       "      <td>...</td>\n",
       "      <td>...</td>\n",
       "      <td>...</td>\n",
       "      <td>...</td>\n",
       "      <td>...</td>\n",
       "      <td>...</td>\n",
       "      <td>...</td>\n",
       "      <td>...</td>\n",
       "      <td>...</td>\n",
       "      <td>...</td>\n",
       "      <td>...</td>\n",
       "      <td>...</td>\n",
       "      <td>...</td>\n",
       "      <td>...</td>\n",
       "      <td>...</td>\n",
       "      <td>...</td>\n",
       "      <td>...</td>\n",
       "      <td>...</td>\n",
       "      <td>...</td>\n",
       "      <td>...</td>\n",
       "      <td>...</td>\n",
       "      <td>...</td>\n",
       "      <td>...</td>\n",
       "      <td>...</td>\n",
       "      <td>...</td>\n",
       "      <td>...</td>\n",
       "      <td>...</td>\n",
       "      <td>...</td>\n",
       "      <td>...</td>\n",
       "      <td>...</td>\n",
       "      <td>...</td>\n",
       "      <td>...</td>\n",
       "      <td>...</td>\n",
       "      <td>...</td>\n",
       "      <td>...</td>\n",
       "      <td>...</td>\n",
       "      <td>...</td>\n",
       "      <td>...</td>\n",
       "      <td>...</td>\n",
       "      <td>...</td>\n",
       "      <td>...</td>\n",
       "      <td>...</td>\n",
       "      <td>...</td>\n",
       "      <td>...</td>\n",
       "      <td>...</td>\n",
       "      <td>...</td>\n",
       "      <td>...</td>\n",
       "      <td>...</td>\n",
       "      <td>...</td>\n",
       "      <td>...</td>\n",
       "      <td>...</td>\n",
       "      <td>...</td>\n",
       "      <td>...</td>\n",
       "      <td>...</td>\n",
       "      <td>...</td>\n",
       "      <td>...</td>\n",
       "      <td>...</td>\n",
       "      <td>...</td>\n",
       "      <td>...</td>\n",
       "      <td>...</td>\n",
       "      <td>...</td>\n",
       "      <td>...</td>\n",
       "      <td>...</td>\n",
       "      <td>...</td>\n",
       "      <td>...</td>\n",
       "      <td>...</td>\n",
       "      <td>...</td>\n",
       "      <td>...</td>\n",
       "      <td>...</td>\n",
       "      <td>...</td>\n",
       "      <td>...</td>\n",
       "      <td>...</td>\n",
       "      <td>...</td>\n",
       "      <td>...</td>\n",
       "      <td>...</td>\n",
       "      <td>...</td>\n",
       "      <td>...</td>\n",
       "      <td>...</td>\n",
       "      <td>...</td>\n",
       "      <td>...</td>\n",
       "      <td>...</td>\n",
       "      <td>...</td>\n",
       "      <td>...</td>\n",
       "      <td>...</td>\n",
       "      <td>...</td>\n",
       "      <td>...</td>\n",
       "      <td>...</td>\n",
       "      <td>...</td>\n",
       "      <td>...</td>\n",
       "      <td>...</td>\n",
       "      <td>...</td>\n",
       "      <td>...</td>\n",
       "      <td>...</td>\n",
       "      <td>...</td>\n",
       "      <td>...</td>\n",
       "      <td>...</td>\n",
       "      <td>...</td>\n",
       "      <td>...</td>\n",
       "      <td>...</td>\n",
       "      <td>...</td>\n",
       "      <td>...</td>\n",
       "      <td>...</td>\n",
       "      <td>...</td>\n",
       "      <td>...</td>\n",
       "      <td>...</td>\n",
       "      <td>...</td>\n",
       "      <td>...</td>\n",
       "      <td>...</td>\n",
       "      <td>...</td>\n",
       "      <td>...</td>\n",
       "      <td>...</td>\n",
       "      <td>...</td>\n",
       "      <td>...</td>\n",
       "      <td>...</td>\n",
       "      <td>...</td>\n",
       "      <td>...</td>\n",
       "      <td>...</td>\n",
       "      <td>...</td>\n",
       "      <td>...</td>\n",
       "      <td>...</td>\n",
       "      <td>...</td>\n",
       "      <td>...</td>\n",
       "      <td>...</td>\n",
       "      <td>...</td>\n",
       "      <td>...</td>\n",
       "      <td>...</td>\n",
       "      <td>...</td>\n",
       "      <td>...</td>\n",
       "      <td>...</td>\n",
       "      <td>...</td>\n",
       "      <td>...</td>\n",
       "      <td>...</td>\n",
       "      <td>...</td>\n",
       "      <td>...</td>\n",
       "      <td>...</td>\n",
       "      <td>...</td>\n",
       "      <td>...</td>\n",
       "      <td>...</td>\n",
       "      <td>...</td>\n",
       "      <td>...</td>\n",
       "      <td>...</td>\n",
       "      <td>...</td>\n",
       "      <td>...</td>\n",
       "      <td>...</td>\n",
       "      <td>...</td>\n",
       "      <td>...</td>\n",
       "      <td>...</td>\n",
       "      <td>...</td>\n",
       "      <td>...</td>\n",
       "      <td>...</td>\n",
       "      <td>...</td>\n",
       "      <td>...</td>\n",
       "      <td>...</td>\n",
       "      <td>...</td>\n",
       "    </tr>\n",
       "    <tr>\n",
       "      <th></th>\n",
       "      <td>...</td>\n",
       "      <td>...</td>\n",
       "      <td>...</td>\n",
       "      <td>...</td>\n",
       "      <td>...</td>\n",
       "      <td>...</td>\n",
       "      <td>...</td>\n",
       "      <td>...</td>\n",
       "      <td>...</td>\n",
       "      <td>...</td>\n",
       "      <td>...</td>\n",
       "      <td>...</td>\n",
       "      <td>...</td>\n",
       "      <td>...</td>\n",
       "      <td>...</td>\n",
       "      <td>...</td>\n",
       "      <td>...</td>\n",
       "      <td>...</td>\n",
       "      <td>...</td>\n",
       "      <td>...</td>\n",
       "      <td>...</td>\n",
       "      <td>...</td>\n",
       "      <td>...</td>\n",
       "      <td>...</td>\n",
       "      <td>...</td>\n",
       "      <td>...</td>\n",
       "      <td>...</td>\n",
       "      <td>...</td>\n",
       "      <td>...</td>\n",
       "      <td>...</td>\n",
       "      <td>...</td>\n",
       "      <td>...</td>\n",
       "      <td>...</td>\n",
       "      <td>...</td>\n",
       "      <td>...</td>\n",
       "      <td>...</td>\n",
       "      <td>...</td>\n",
       "      <td>...</td>\n",
       "      <td>...</td>\n",
       "      <td>...</td>\n",
       "      <td>...</td>\n",
       "      <td>...</td>\n",
       "      <td>...</td>\n",
       "      <td>...</td>\n",
       "      <td>...</td>\n",
       "      <td>...</td>\n",
       "      <td>...</td>\n",
       "      <td>...</td>\n",
       "      <td>...</td>\n",
       "      <td>...</td>\n",
       "      <td>...</td>\n",
       "      <td>...</td>\n",
       "      <td>...</td>\n",
       "      <td>...</td>\n",
       "      <td>...</td>\n",
       "      <td>...</td>\n",
       "      <td>...</td>\n",
       "      <td>...</td>\n",
       "      <td>...</td>\n",
       "      <td>...</td>\n",
       "      <td>...</td>\n",
       "      <td>...</td>\n",
       "      <td>...</td>\n",
       "      <td>...</td>\n",
       "      <td>...</td>\n",
       "      <td>...</td>\n",
       "      <td>...</td>\n",
       "      <td>...</td>\n",
       "      <td>...</td>\n",
       "      <td>...</td>\n",
       "      <td>...</td>\n",
       "      <td>...</td>\n",
       "      <td>...</td>\n",
       "      <td>...</td>\n",
       "      <td>...</td>\n",
       "      <td>...</td>\n",
       "      <td>...</td>\n",
       "      <td>...</td>\n",
       "      <td>...</td>\n",
       "      <td>...</td>\n",
       "      <td>...</td>\n",
       "      <td>...</td>\n",
       "      <td>...</td>\n",
       "      <td>...</td>\n",
       "      <td>...</td>\n",
       "      <td>...</td>\n",
       "      <td>...</td>\n",
       "      <td>...</td>\n",
       "      <td>...</td>\n",
       "      <td>...</td>\n",
       "      <td>...</td>\n",
       "      <td>...</td>\n",
       "      <td>...</td>\n",
       "      <td>...</td>\n",
       "      <td>...</td>\n",
       "      <td>...</td>\n",
       "      <td>...</td>\n",
       "      <td>...</td>\n",
       "      <td>...</td>\n",
       "      <td>...</td>\n",
       "      <td>...</td>\n",
       "      <td>...</td>\n",
       "      <td>...</td>\n",
       "      <td>...</td>\n",
       "      <td>...</td>\n",
       "      <td>...</td>\n",
       "      <td>...</td>\n",
       "      <td>...</td>\n",
       "      <td>...</td>\n",
       "      <td>...</td>\n",
       "      <td>...</td>\n",
       "      <td>...</td>\n",
       "      <td>...</td>\n",
       "      <td>...</td>\n",
       "      <td>...</td>\n",
       "      <td>...</td>\n",
       "      <td>...</td>\n",
       "      <td>...</td>\n",
       "      <td>...</td>\n",
       "      <td>...</td>\n",
       "      <td>...</td>\n",
       "      <td>...</td>\n",
       "      <td>...</td>\n",
       "      <td>...</td>\n",
       "      <td>...</td>\n",
       "      <td>...</td>\n",
       "      <td>...</td>\n",
       "      <td>...</td>\n",
       "      <td>...</td>\n",
       "      <td>...</td>\n",
       "      <td>...</td>\n",
       "      <td>...</td>\n",
       "      <td>...</td>\n",
       "      <td>...</td>\n",
       "      <td>...</td>\n",
       "      <td>...</td>\n",
       "      <td>...</td>\n",
       "      <td>...</td>\n",
       "      <td>...</td>\n",
       "      <td>...</td>\n",
       "      <td>...</td>\n",
       "      <td>...</td>\n",
       "      <td>...</td>\n",
       "      <td>...</td>\n",
       "      <td>...</td>\n",
       "      <td>...</td>\n",
       "      <td>...</td>\n",
       "      <td>...</td>\n",
       "      <td>...</td>\n",
       "      <td>...</td>\n",
       "      <td>...</td>\n",
       "      <td>...</td>\n",
       "      <td>...</td>\n",
       "      <td>...</td>\n",
       "      <td>...</td>\n",
       "      <td>...</td>\n",
       "      <td>...</td>\n",
       "      <td>...</td>\n",
       "      <td>...</td>\n",
       "      <td>...</td>\n",
       "      <td>...</td>\n",
       "      <td>...</td>\n",
       "      <td>...</td>\n",
       "      <td>...</td>\n",
       "      <td>...</td>\n",
       "      <td>...</td>\n",
       "      <td>...</td>\n",
       "      <td>...</td>\n",
       "      <td>...</td>\n",
       "      <td>...</td>\n",
       "      <td>...</td>\n",
       "      <td>...</td>\n",
       "      <td>...</td>\n",
       "      <td>...</td>\n",
       "      <td>...</td>\n",
       "      <td>...</td>\n",
       "      <td>...</td>\n",
       "      <td>...</td>\n",
       "      <td>...</td>\n",
       "      <td>...</td>\n",
       "      <td>...</td>\n",
       "      <td>...</td>\n",
       "      <td>...</td>\n",
       "      <td>...</td>\n",
       "      <td>...</td>\n",
       "      <td>...</td>\n",
       "      <td>...</td>\n",
       "      <td>...</td>\n",
       "      <td>...</td>\n",
       "      <td>...</td>\n",
       "      <td>...</td>\n",
       "      <td>...</td>\n",
       "      <td>...</td>\n",
       "      <td>...</td>\n",
       "      <td>...</td>\n",
       "      <td>...</td>\n",
       "      <td>...</td>\n",
       "      <td>...</td>\n",
       "      <td>...</td>\n",
       "      <td>...</td>\n",
       "      <td>...</td>\n",
       "      <td>...</td>\n",
       "      <td>...</td>\n",
       "      <td>...</td>\n",
       "      <td>...</td>\n",
       "      <td>...</td>\n",
       "      <td>...</td>\n",
       "      <td>...</td>\n",
       "      <td>...</td>\n",
       "      <td>...</td>\n",
       "      <td>...</td>\n",
       "      <td>...</td>\n",
       "      <td>...</td>\n",
       "      <td>...</td>\n",
       "      <td>...</td>\n",
       "      <td>...</td>\n",
       "      <td>...</td>\n",
       "      <td>...</td>\n",
       "      <td>...</td>\n",
       "      <td>...</td>\n",
       "      <td>...</td>\n",
       "      <td>...</td>\n",
       "      <td>...</td>\n",
       "      <td>...</td>\n",
       "      <td>...</td>\n",
       "      <td>...</td>\n",
       "      <td>...</td>\n",
       "      <td>...</td>\n",
       "      <td>...</td>\n",
       "      <td>...</td>\n",
       "      <td>...</td>\n",
       "      <td>...</td>\n",
       "      <td>...</td>\n",
       "      <td>...</td>\n",
       "      <td>...</td>\n",
       "      <td>...</td>\n",
       "      <td>...</td>\n",
       "      <td>...</td>\n",
       "      <td>...</td>\n",
       "      <td>...</td>\n",
       "      <td>...</td>\n",
       "      <td>...</td>\n",
       "      <td>...</td>\n",
       "      <td>...</td>\n",
       "      <td>...</td>\n",
       "      <td>...</td>\n",
       "      <td>...</td>\n",
       "      <td>...</td>\n",
       "      <td>...</td>\n",
       "      <td>...</td>\n",
       "      <td>...</td>\n",
       "      <td>...</td>\n",
       "      <td>...</td>\n",
       "      <td>...</td>\n",
       "      <td>...</td>\n",
       "      <td>...</td>\n",
       "    </tr>\n",
       "    <tr>\n",
       "      <th></th>\n",
       "      <td>...</td>\n",
       "      <td>...</td>\n",
       "      <td>...</td>\n",
       "      <td>...</td>\n",
       "      <td>...</td>\n",
       "      <td>...</td>\n",
       "      <td>...</td>\n",
       "      <td>...</td>\n",
       "      <td>...</td>\n",
       "      <td>...</td>\n",
       "      <td>...</td>\n",
       "      <td>...</td>\n",
       "      <td>...</td>\n",
       "      <td>...</td>\n",
       "      <td>...</td>\n",
       "      <td>...</td>\n",
       "      <td>...</td>\n",
       "      <td>...</td>\n",
       "      <td>...</td>\n",
       "      <td>...</td>\n",
       "      <td>...</td>\n",
       "      <td>...</td>\n",
       "      <td>...</td>\n",
       "      <td>...</td>\n",
       "      <td>...</td>\n",
       "      <td>...</td>\n",
       "      <td>...</td>\n",
       "      <td>...</td>\n",
       "      <td>...</td>\n",
       "      <td>...</td>\n",
       "      <td>...</td>\n",
       "      <td>...</td>\n",
       "      <td>...</td>\n",
       "      <td>...</td>\n",
       "      <td>...</td>\n",
       "      <td>...</td>\n",
       "      <td>...</td>\n",
       "      <td>...</td>\n",
       "      <td>...</td>\n",
       "      <td>...</td>\n",
       "      <td>...</td>\n",
       "      <td>...</td>\n",
       "      <td>...</td>\n",
       "      <td>...</td>\n",
       "      <td>...</td>\n",
       "      <td>...</td>\n",
       "      <td>...</td>\n",
       "      <td>...</td>\n",
       "      <td>...</td>\n",
       "      <td>...</td>\n",
       "      <td>...</td>\n",
       "      <td>...</td>\n",
       "      <td>...</td>\n",
       "      <td>...</td>\n",
       "      <td>...</td>\n",
       "      <td>...</td>\n",
       "      <td>...</td>\n",
       "      <td>...</td>\n",
       "      <td>...</td>\n",
       "      <td>...</td>\n",
       "      <td>...</td>\n",
       "      <td>...</td>\n",
       "      <td>...</td>\n",
       "      <td>...</td>\n",
       "      <td>...</td>\n",
       "      <td>...</td>\n",
       "      <td>...</td>\n",
       "      <td>...</td>\n",
       "      <td>...</td>\n",
       "      <td>...</td>\n",
       "      <td>...</td>\n",
       "      <td>...</td>\n",
       "      <td>...</td>\n",
       "      <td>...</td>\n",
       "      <td>...</td>\n",
       "      <td>...</td>\n",
       "      <td>...</td>\n",
       "      <td>...</td>\n",
       "      <td>...</td>\n",
       "      <td>...</td>\n",
       "      <td>...</td>\n",
       "      <td>...</td>\n",
       "      <td>...</td>\n",
       "      <td>...</td>\n",
       "      <td>...</td>\n",
       "      <td>...</td>\n",
       "      <td>...</td>\n",
       "      <td>...</td>\n",
       "      <td>...</td>\n",
       "      <td>...</td>\n",
       "      <td>...</td>\n",
       "      <td>...</td>\n",
       "      <td>...</td>\n",
       "      <td>...</td>\n",
       "      <td>...</td>\n",
       "      <td>...</td>\n",
       "      <td>...</td>\n",
       "      <td>...</td>\n",
       "      <td>...</td>\n",
       "      <td>...</td>\n",
       "      <td>...</td>\n",
       "      <td>...</td>\n",
       "      <td>...</td>\n",
       "      <td>...</td>\n",
       "      <td>...</td>\n",
       "      <td>...</td>\n",
       "      <td>...</td>\n",
       "      <td>...</td>\n",
       "      <td>...</td>\n",
       "      <td>...</td>\n",
       "      <td>...</td>\n",
       "      <td>...</td>\n",
       "      <td>...</td>\n",
       "      <td>...</td>\n",
       "      <td>...</td>\n",
       "      <td>...</td>\n",
       "      <td>...</td>\n",
       "      <td>...</td>\n",
       "      <td>...</td>\n",
       "      <td>...</td>\n",
       "      <td>...</td>\n",
       "      <td>...</td>\n",
       "      <td>...</td>\n",
       "      <td>...</td>\n",
       "      <td>...</td>\n",
       "      <td>...</td>\n",
       "      <td>...</td>\n",
       "      <td>...</td>\n",
       "      <td>...</td>\n",
       "      <td>...</td>\n",
       "      <td>...</td>\n",
       "      <td>...</td>\n",
       "      <td>...</td>\n",
       "      <td>...</td>\n",
       "      <td>...</td>\n",
       "      <td>...</td>\n",
       "      <td>...</td>\n",
       "      <td>...</td>\n",
       "      <td>...</td>\n",
       "      <td>...</td>\n",
       "      <td>...</td>\n",
       "      <td>...</td>\n",
       "      <td>...</td>\n",
       "      <td>...</td>\n",
       "      <td>...</td>\n",
       "      <td>...</td>\n",
       "      <td>...</td>\n",
       "      <td>...</td>\n",
       "      <td>...</td>\n",
       "      <td>...</td>\n",
       "      <td>...</td>\n",
       "      <td>...</td>\n",
       "      <td>...</td>\n",
       "      <td>...</td>\n",
       "      <td>...</td>\n",
       "      <td>...</td>\n",
       "      <td>...</td>\n",
       "      <td>...</td>\n",
       "      <td>...</td>\n",
       "      <td>...</td>\n",
       "      <td>...</td>\n",
       "      <td>...</td>\n",
       "      <td>...</td>\n",
       "      <td>...</td>\n",
       "      <td>...</td>\n",
       "      <td>...</td>\n",
       "      <td>...</td>\n",
       "      <td>...</td>\n",
       "      <td>...</td>\n",
       "      <td>...</td>\n",
       "      <td>...</td>\n",
       "      <td>...</td>\n",
       "      <td>...</td>\n",
       "      <td>...</td>\n",
       "      <td>...</td>\n",
       "      <td>...</td>\n",
       "      <td>...</td>\n",
       "      <td>...</td>\n",
       "      <td>...</td>\n",
       "      <td>...</td>\n",
       "      <td>...</td>\n",
       "      <td>...</td>\n",
       "      <td>...</td>\n",
       "      <td>...</td>\n",
       "      <td>...</td>\n",
       "      <td>...</td>\n",
       "      <td>...</td>\n",
       "      <td>...</td>\n",
       "      <td>...</td>\n",
       "      <td>...</td>\n",
       "      <td>...</td>\n",
       "      <td>...</td>\n",
       "      <td>...</td>\n",
       "      <td>...</td>\n",
       "      <td>...</td>\n",
       "      <td>...</td>\n",
       "      <td>...</td>\n",
       "      <td>...</td>\n",
       "      <td>...</td>\n",
       "      <td>...</td>\n",
       "      <td>...</td>\n",
       "      <td>...</td>\n",
       "      <td>...</td>\n",
       "      <td>...</td>\n",
       "      <td>...</td>\n",
       "      <td>...</td>\n",
       "      <td>...</td>\n",
       "      <td>...</td>\n",
       "      <td>...</td>\n",
       "      <td>...</td>\n",
       "      <td>...</td>\n",
       "      <td>...</td>\n",
       "      <td>...</td>\n",
       "      <td>...</td>\n",
       "      <td>...</td>\n",
       "      <td>...</td>\n",
       "      <td>...</td>\n",
       "      <td>...</td>\n",
       "      <td>...</td>\n",
       "      <td>...</td>\n",
       "      <td>...</td>\n",
       "      <td>...</td>\n",
       "      <td>...</td>\n",
       "      <td>...</td>\n",
       "      <td>...</td>\n",
       "      <td>...</td>\n",
       "      <td>...</td>\n",
       "      <td>...</td>\n",
       "      <td>...</td>\n",
       "      <td>...</td>\n",
       "      <td>...</td>\n",
       "      <td>...</td>\n",
       "      <td>...</td>\n",
       "      <td>...</td>\n",
       "      <td>...</td>\n",
       "      <td>...</td>\n",
       "      <td>...</td>\n",
       "      <td>...</td>\n",
       "      <td>...</td>\n",
       "      <td>...</td>\n",
       "      <td>...</td>\n",
       "      <td>...</td>\n",
       "      <td>...</td>\n",
       "      <td>...</td>\n",
       "      <td>...</td>\n",
       "      <td>...</td>\n",
       "      <td>...</td>\n",
       "      <td>...</td>\n",
       "      <td>...</td>\n",
       "      <td>...</td>\n",
       "      <td>...</td>\n",
       "      <td>...</td>\n",
       "      <td>...</td>\n",
       "      <td>...</td>\n",
       "      <td>...</td>\n",
       "      <td>...</td>\n",
       "    </tr>\n",
       "  </tbody>\n",
       "</table>\n",
       "</div>\n",
       "<div>Dask Name: read-csv, 351 tasks</div>"
      ],
      "text/plain": [
       "Dask DataFrame Structure:\n",
       "                Unnamed: 0     id buy_time        0        1        2        3        4        5        6        7        8        9       10       11       12       13       14       15       16       17       18       19       20       21       22       23       24       25       26       27       28       29       30       31       32       33       34       35       36       37       38       39       40       41       42       43       44       45       46       47       48       49       50       51       52       53       54       55       56       57       58       59       60       61       62       63       64       65       66       67       68       69       70       71       72       73       74       75       76       77       78       79       80       81       82       83       84       85       86       87       88       89       90       91       92       93       94       95       96       97       98       99      100      101      102      103      104      105      106      107      108      109      110      111      112      113      114      115      116      117      118      119      120      121      122      123      124      125      126      127      128      129      130      131      132      133      134      135      136      137      138      139      140      141      142      143      144      145      146      147      148      149      150      151      152      153      154      155      156      157      158      159      160      161      162      163      164      165      166      167      168      169      170      171      172      173      174      175      176      177      178      179      180      181      182      183      184      185      186      187      188      189      190      191      192      193      194      195      196      197      198      199      200      201      202      203      204      205      206      207      208      209      210      211      212      213      214      215      216      217      218      219      220      221      222      223      224      225      226      227      228      229      230      231      232      233      234      235      236      237      238      239      240      241      242      243      244      245      246      247      248      249      250      251      252\n",
       "npartitions=351                                                                                                                                                                                                                                                                                                                                                                                                                                                                                                                                                                                                                                                                                                                                                                                                                                                                                                                                                                                                                                                                                                                                                                                                                                                                                                                                                                                                                                                                                                                                                                                                                                                                                                                                                                                                                                                                                                                                                                                                                                                                                                                                                                                                                                                                                                                                                                                                \n",
       "                     int64  int64    int64  float64  float64  float64  float64  float64  float64  float64  float64  float64  float64  float64  float64  float64  float64  float64  float64  float64  float64  float64  float64  float64  float64  float64  float64  float64  float64  float64  float64  float64  float64  float64  float64  float64  float64  float64  float64  float64  float64  float64  float64  float64  float64  float64  float64  float64  float64  float64  float64  float64  float64  float64  float64  float64  float64  float64  float64  float64  float64  float64  float64  float64  float64  float64  float64  float64  float64  float64  float64  float64  float64  float64  float64  float64  float64  float64  float64  float64  float64  float64  float64  float64  float64  float64  float64  float64  float64  float64  float64  float64  float64  float64  float64  float64  float64  float64  float64  float64  float64  float64  float64  float64  float64  float64  float64  float64  float64  float64  float64  float64  float64  float64  float64  float64  float64  float64  float64  float64  float64  float64  float64  float64  float64  float64  float64  float64  float64  float64  float64  float64  float64  float64  float64  float64  float64  float64  float64  float64  float64  float64  float64  float64  float64  float64  float64  float64  float64  float64  float64  float64  float64  float64  float64  float64  float64  float64  float64  float64  float64  float64  float64  float64  float64  float64  float64  float64  float64  float64  float64  float64  float64  float64  float64  float64  float64  float64  float64  float64  float64  float64  float64  float64  float64  float64  float64  float64  float64  float64  float64  float64  float64  float64  float64  float64  float64  float64  float64  float64  float64  float64  float64  float64  float64  float64  float64  float64  float64  float64  float64  float64  float64  float64  float64  float64  float64  float64  float64  float64  float64  float64  float64  float64  float64  float64  float64  float64  float64  float64  float64  float64  float64  float64  float64  float64  float64  float64  float64  float64  float64  float64  float64  float64  float64  float64  float64  float64  float64  float64  float64  float64  float64  float64  float64  float64\n",
       "                       ...    ...      ...      ...      ...      ...      ...      ...      ...      ...      ...      ...      ...      ...      ...      ...      ...      ...      ...      ...      ...      ...      ...      ...      ...      ...      ...      ...      ...      ...      ...      ...      ...      ...      ...      ...      ...      ...      ...      ...      ...      ...      ...      ...      ...      ...      ...      ...      ...      ...      ...      ...      ...      ...      ...      ...      ...      ...      ...      ...      ...      ...      ...      ...      ...      ...      ...      ...      ...      ...      ...      ...      ...      ...      ...      ...      ...      ...      ...      ...      ...      ...      ...      ...      ...      ...      ...      ...      ...      ...      ...      ...      ...      ...      ...      ...      ...      ...      ...      ...      ...      ...      ...      ...      ...      ...      ...      ...      ...      ...      ...      ...      ...      ...      ...      ...      ...      ...      ...      ...      ...      ...      ...      ...      ...      ...      ...      ...      ...      ...      ...      ...      ...      ...      ...      ...      ...      ...      ...      ...      ...      ...      ...      ...      ...      ...      ...      ...      ...      ...      ...      ...      ...      ...      ...      ...      ...      ...      ...      ...      ...      ...      ...      ...      ...      ...      ...      ...      ...      ...      ...      ...      ...      ...      ...      ...      ...      ...      ...      ...      ...      ...      ...      ...      ...      ...      ...      ...      ...      ...      ...      ...      ...      ...      ...      ...      ...      ...      ...      ...      ...      ...      ...      ...      ...      ...      ...      ...      ...      ...      ...      ...      ...      ...      ...      ...      ...      ...      ...      ...      ...      ...      ...      ...      ...      ...      ...      ...      ...      ...      ...      ...      ...      ...      ...      ...      ...      ...      ...      ...      ...      ...      ...      ...      ...      ...      ...      ...      ...      ...      ...      ...      ...      ...      ...      ...\n",
       "...                    ...    ...      ...      ...      ...      ...      ...      ...      ...      ...      ...      ...      ...      ...      ...      ...      ...      ...      ...      ...      ...      ...      ...      ...      ...      ...      ...      ...      ...      ...      ...      ...      ...      ...      ...      ...      ...      ...      ...      ...      ...      ...      ...      ...      ...      ...      ...      ...      ...      ...      ...      ...      ...      ...      ...      ...      ...      ...      ...      ...      ...      ...      ...      ...      ...      ...      ...      ...      ...      ...      ...      ...      ...      ...      ...      ...      ...      ...      ...      ...      ...      ...      ...      ...      ...      ...      ...      ...      ...      ...      ...      ...      ...      ...      ...      ...      ...      ...      ...      ...      ...      ...      ...      ...      ...      ...      ...      ...      ...      ...      ...      ...      ...      ...      ...      ...      ...      ...      ...      ...      ...      ...      ...      ...      ...      ...      ...      ...      ...      ...      ...      ...      ...      ...      ...      ...      ...      ...      ...      ...      ...      ...      ...      ...      ...      ...      ...      ...      ...      ...      ...      ...      ...      ...      ...      ...      ...      ...      ...      ...      ...      ...      ...      ...      ...      ...      ...      ...      ...      ...      ...      ...      ...      ...      ...      ...      ...      ...      ...      ...      ...      ...      ...      ...      ...      ...      ...      ...      ...      ...      ...      ...      ...      ...      ...      ...      ...      ...      ...      ...      ...      ...      ...      ...      ...      ...      ...      ...      ...      ...      ...      ...      ...      ...      ...      ...      ...      ...      ...      ...      ...      ...      ...      ...      ...      ...      ...      ...      ...      ...      ...      ...      ...      ...      ...      ...      ...      ...      ...      ...      ...      ...      ...      ...      ...      ...      ...      ...      ...      ...      ...      ...      ...      ...      ...      ...\n",
       "                       ...    ...      ...      ...      ...      ...      ...      ...      ...      ...      ...      ...      ...      ...      ...      ...      ...      ...      ...      ...      ...      ...      ...      ...      ...      ...      ...      ...      ...      ...      ...      ...      ...      ...      ...      ...      ...      ...      ...      ...      ...      ...      ...      ...      ...      ...      ...      ...      ...      ...      ...      ...      ...      ...      ...      ...      ...      ...      ...      ...      ...      ...      ...      ...      ...      ...      ...      ...      ...      ...      ...      ...      ...      ...      ...      ...      ...      ...      ...      ...      ...      ...      ...      ...      ...      ...      ...      ...      ...      ...      ...      ...      ...      ...      ...      ...      ...      ...      ...      ...      ...      ...      ...      ...      ...      ...      ...      ...      ...      ...      ...      ...      ...      ...      ...      ...      ...      ...      ...      ...      ...      ...      ...      ...      ...      ...      ...      ...      ...      ...      ...      ...      ...      ...      ...      ...      ...      ...      ...      ...      ...      ...      ...      ...      ...      ...      ...      ...      ...      ...      ...      ...      ...      ...      ...      ...      ...      ...      ...      ...      ...      ...      ...      ...      ...      ...      ...      ...      ...      ...      ...      ...      ...      ...      ...      ...      ...      ...      ...      ...      ...      ...      ...      ...      ...      ...      ...      ...      ...      ...      ...      ...      ...      ...      ...      ...      ...      ...      ...      ...      ...      ...      ...      ...      ...      ...      ...      ...      ...      ...      ...      ...      ...      ...      ...      ...      ...      ...      ...      ...      ...      ...      ...      ...      ...      ...      ...      ...      ...      ...      ...      ...      ...      ...      ...      ...      ...      ...      ...      ...      ...      ...      ...      ...      ...      ...      ...      ...      ...      ...      ...      ...      ...      ...      ...      ...\n",
       "                       ...    ...      ...      ...      ...      ...      ...      ...      ...      ...      ...      ...      ...      ...      ...      ...      ...      ...      ...      ...      ...      ...      ...      ...      ...      ...      ...      ...      ...      ...      ...      ...      ...      ...      ...      ...      ...      ...      ...      ...      ...      ...      ...      ...      ...      ...      ...      ...      ...      ...      ...      ...      ...      ...      ...      ...      ...      ...      ...      ...      ...      ...      ...      ...      ...      ...      ...      ...      ...      ...      ...      ...      ...      ...      ...      ...      ...      ...      ...      ...      ...      ...      ...      ...      ...      ...      ...      ...      ...      ...      ...      ...      ...      ...      ...      ...      ...      ...      ...      ...      ...      ...      ...      ...      ...      ...      ...      ...      ...      ...      ...      ...      ...      ...      ...      ...      ...      ...      ...      ...      ...      ...      ...      ...      ...      ...      ...      ...      ...      ...      ...      ...      ...      ...      ...      ...      ...      ...      ...      ...      ...      ...      ...      ...      ...      ...      ...      ...      ...      ...      ...      ...      ...      ...      ...      ...      ...      ...      ...      ...      ...      ...      ...      ...      ...      ...      ...      ...      ...      ...      ...      ...      ...      ...      ...      ...      ...      ...      ...      ...      ...      ...      ...      ...      ...      ...      ...      ...      ...      ...      ...      ...      ...      ...      ...      ...      ...      ...      ...      ...      ...      ...      ...      ...      ...      ...      ...      ...      ...      ...      ...      ...      ...      ...      ...      ...      ...      ...      ...      ...      ...      ...      ...      ...      ...      ...      ...      ...      ...      ...      ...      ...      ...      ...      ...      ...      ...      ...      ...      ...      ...      ...      ...      ...      ...      ...      ...      ...      ...      ...      ...      ...      ...      ...      ...      ...\n",
       "Dask Name: read-csv, 351 tasks"
      ]
     },
     "execution_count": 8,
     "metadata": {},
     "output_type": "execute_result"
    }
   ],
   "source": [
    "# features = dd.read_csv('data/features.csv', sep='\\t')\n",
    "# features"
   ]
  },
  {
   "cell_type": "code",
   "execution_count": 9,
   "id": "c252adf4-8833-44f8-85d3-9046dffc1381",
   "metadata": {},
   "outputs": [
    {
     "name": "stdout",
     "output_type": "stream",
     "text": [
      "CPU times: user 8min 41s, sys: 1min 20s, total: 10min 2s\n",
      "Wall time: 3min 53s\n"
     ]
    },
    {
     "data": {
      "text/html": [
       "<div>\n",
       "<style scoped>\n",
       "    .dataframe tbody tr th:only-of-type {\n",
       "        vertical-align: middle;\n",
       "    }\n",
       "\n",
       "    .dataframe tbody tr th {\n",
       "        vertical-align: top;\n",
       "    }\n",
       "\n",
       "    .dataframe thead th {\n",
       "        text-align: right;\n",
       "    }\n",
       "</style>\n",
       "<table border=\"1\" class=\"dataframe\">\n",
       "  <thead>\n",
       "    <tr style=\"text-align: right;\">\n",
       "      <th></th>\n",
       "      <th>Unnamed: 0</th>\n",
       "      <th>id</th>\n",
       "      <th>buy_time</th>\n",
       "      <th>0</th>\n",
       "      <th>1</th>\n",
       "      <th>2</th>\n",
       "      <th>3</th>\n",
       "      <th>4</th>\n",
       "      <th>5</th>\n",
       "      <th>6</th>\n",
       "      <th>...</th>\n",
       "      <th>243</th>\n",
       "      <th>244</th>\n",
       "      <th>245</th>\n",
       "      <th>246</th>\n",
       "      <th>247</th>\n",
       "      <th>248</th>\n",
       "      <th>249</th>\n",
       "      <th>250</th>\n",
       "      <th>251</th>\n",
       "      <th>252</th>\n",
       "    </tr>\n",
       "  </thead>\n",
       "  <tbody>\n",
       "    <tr>\n",
       "      <th>13</th>\n",
       "      <td>13</td>\n",
       "      <td>2046132</td>\n",
       "      <td>1534712400</td>\n",
       "      <td>300.820029</td>\n",
       "      <td>1599.480888</td>\n",
       "      <td>286.879214</td>\n",
       "      <td>1585.013202</td>\n",
       "      <td>281.461754</td>\n",
       "      <td>1563.90821</td>\n",
       "      <td>-16.08618</td>\n",
       "      <td>...</td>\n",
       "      <td>-977.373846</td>\n",
       "      <td>-613.770792</td>\n",
       "      <td>-25.996269</td>\n",
       "      <td>-35.630448</td>\n",
       "      <td>-295.747724</td>\n",
       "      <td>-17.832889</td>\n",
       "      <td>-0.694428</td>\n",
       "      <td>-4.175933</td>\n",
       "      <td>-0.45614</td>\n",
       "      <td>0.0</td>\n",
       "    </tr>\n",
       "    <tr>\n",
       "      <th>16</th>\n",
       "      <td>16</td>\n",
       "      <td>2050810</td>\n",
       "      <td>1540760400</td>\n",
       "      <td>-86.209971</td>\n",
       "      <td>91.820888</td>\n",
       "      <td>-84.480786</td>\n",
       "      <td>110.333202</td>\n",
       "      <td>-89.898246</td>\n",
       "      <td>89.22821</td>\n",
       "      <td>-16.08618</td>\n",
       "      <td>...</td>\n",
       "      <td>-977.373846</td>\n",
       "      <td>-613.770792</td>\n",
       "      <td>-23.996269</td>\n",
       "      <td>190.369552</td>\n",
       "      <td>-286.747724</td>\n",
       "      <td>-25.832889</td>\n",
       "      <td>-0.694428</td>\n",
       "      <td>-12.175933</td>\n",
       "      <td>-0.45614</td>\n",
       "      <td>0.0</td>\n",
       "    </tr>\n",
       "  </tbody>\n",
       "</table>\n",
       "<p>2 rows × 256 columns</p>\n",
       "</div>"
      ],
      "text/plain": [
       "    Unnamed: 0       id    buy_time           0            1           2  \\\n",
       "13          13  2046132  1534712400  300.820029  1599.480888  286.879214   \n",
       "16          16  2050810  1540760400  -86.209971    91.820888  -84.480786   \n",
       "\n",
       "              3           4           5         6  ...         243  \\\n",
       "13  1585.013202  281.461754  1563.90821 -16.08618  ... -977.373846   \n",
       "16   110.333202  -89.898246    89.22821 -16.08618  ... -977.373846   \n",
       "\n",
       "           244        245         246         247        248       249  \\\n",
       "13 -613.770792 -25.996269  -35.630448 -295.747724 -17.832889 -0.694428   \n",
       "16 -613.770792 -23.996269  190.369552 -286.747724 -25.832889 -0.694428   \n",
       "\n",
       "          250      251  252  \n",
       "13  -4.175933 -0.45614  0.0  \n",
       "16 -12.175933 -0.45614  0.0  \n",
       "\n",
       "[2 rows x 256 columns]"
      ]
     },
     "execution_count": 9,
     "metadata": {},
     "output_type": "execute_result"
    }
   ],
   "source": [
    "# %%time\n",
    "# features = features[features.id.isin(common_ids)].compute()\n",
    "# features.head(2)"
   ]
  },
  {
   "cell_type": "code",
   "execution_count": 10,
   "id": "0332b99c-dbe8-40b4-a47c-509ef10b6e06",
   "metadata": {},
   "outputs": [
    {
     "name": "stdout",
     "output_type": "stream",
     "text": [
      "<class 'pandas.core.frame.DataFrame'>\n",
      "Int64Index: 902389 entries, 13 to 12844\n",
      "Columns: 255 entries, id to 252\n",
      "dtypes: float64(253), int64(2)\n",
      "memory usage: 1.7 GB\n"
     ]
    }
   ],
   "source": [
    "# features.drop(columns='Unnamed: 0', inplace=True)\n",
    "# features.info()"
   ]
  },
  {
   "cell_type": "markdown",
   "id": "d14200c3-85f8-4be9-a201-961c5f90ac0e",
   "metadata": {},
   "source": [
    "#### Save to parquet\n",
    "\n",
    "Now we can save `features` in a binary file format - `Parquet`, and we can also delete large `CSV` files."
   ]
  },
  {
   "cell_type": "code",
   "execution_count": 13,
   "id": "25852d1b-a1fe-4c0e-b77f-0a674a4e8960",
   "metadata": {},
   "outputs": [
    {
     "name": "stdout",
     "output_type": "stream",
     "text": [
      "CPU times: user 6.53 s, sys: 1.84 s, total: 8.37 s\n",
      "Wall time: 5.97 s\n"
     ]
    }
   ],
   "source": [
    "# %%time\n",
    "# features.to_parquet('data/features_common_ids.parquet')"
   ]
  },
  {
   "cell_type": "markdown",
   "id": "54cbe231-ac37-4a9b-a0ed-75f150d3a6ec",
   "metadata": {},
   "source": [
    "File size of `features_common_ids.parquet` ~200 Mb."
   ]
  },
  {
   "cell_type": "code",
   "execution_count": 8,
   "id": "3555c338-6a7f-42d9-a70c-850cbff37817",
   "metadata": {},
   "outputs": [
    {
     "name": "stdout",
     "output_type": "stream",
     "text": [
      "<class 'pandas.core.frame.DataFrame'>\n",
      "Int64Index: 902389 entries, 13 to 12844\n",
      "Columns: 255 entries, id to 252\n",
      "dtypes: float64(253), int64(2)\n",
      "memory usage: 1.7 GB\n",
      "CPU times: user 3.38 s, sys: 8.98 s, total: 12.4 s\n",
      "Wall time: 5.16 s\n"
     ]
    }
   ],
   "source": [
    "%%time\n",
    "features = pd.read_parquet('data/features_common_ids.parquet')\n",
    "features.info()"
   ]
  },
  {
   "cell_type": "markdown",
   "id": "fa2a4bdf-875f-4ade-8697-18b9ce82c45a",
   "metadata": {},
   "source": [
    "#### Communication"
   ]
  },
  {
   "cell_type": "code",
   "execution_count": 10,
   "id": "2f247b14-adaf-427e-8b1a-46b6c4e0ceda",
   "metadata": {},
   "outputs": [],
   "source": [
    "def unique_ids(df):\n",
    "    return df.groupby(by='id')['id'].agg('count').value_counts()"
   ]
  },
  {
   "cell_type": "code",
   "execution_count": 11,
   "id": "7a2e5f8d-df6e-4f96-bab8-b96d143ab7aa",
   "metadata": {},
   "outputs": [
    {
     "data": {
      "text/plain": [
       "1    781611\n",
       "2     24964\n",
       "3        38\n",
       "Name: id, dtype: int64"
      ]
     },
     "execution_count": 11,
     "metadata": {},
     "output_type": "execute_result"
    }
   ],
   "source": [
    "unique_ids(train)"
   ]
  },
  {
   "cell_type": "code",
   "execution_count": 12,
   "id": "3c5aee1e-1f93-4e3d-a0d2-dfa2183bb15d",
   "metadata": {},
   "outputs": [
    {
     "data": {
      "text/plain": [
       "1    69092\n",
       "2     1041\n",
       "3       19\n",
       "Name: id, dtype: int64"
      ]
     },
     "execution_count": 12,
     "metadata": {},
     "output_type": "execute_result"
    }
   ],
   "source": [
    "unique_ids(test)"
   ]
  },
  {
   "cell_type": "code",
   "execution_count": 13,
   "id": "1b997403-eecc-4d59-b0ed-c5b28b41958d",
   "metadata": {},
   "outputs": [
    {
     "data": {
      "text/plain": [
       "1    842765\n",
       "2     29812\n",
       "Name: id, dtype: int64"
      ]
     },
     "execution_count": 13,
     "metadata": {},
     "output_type": "execute_result"
    }
   ],
   "source": [
    "unique_ids(features)"
   ]
  },
  {
   "cell_type": "markdown",
   "id": "5ad6348f-d3c6-4b20-a53c-0b9cb638c2db",
   "metadata": {},
   "source": [
    "Most of the indices are unique, but there are those that occur two or three times."
   ]
  },
  {
   "cell_type": "code",
   "execution_count": 14,
   "id": "125a1c8a-e894-43b2-80ee-200452dedb15",
   "metadata": {},
   "outputs": [],
   "source": [
    "thrice_ids = train.groupby(by='id')['id'].agg('count')[train.groupby(by='id')['id'].agg('count') == 3].index.tolist()"
   ]
  },
  {
   "cell_type": "code",
   "execution_count": 15,
   "id": "e8949f42-a80b-4fad-80a4-3328873eee54",
   "metadata": {},
   "outputs": [
    {
     "data": {
      "text/html": [
       "<div>\n",
       "<style scoped>\n",
       "    .dataframe tbody tr th:only-of-type {\n",
       "        vertical-align: middle;\n",
       "    }\n",
       "\n",
       "    .dataframe tbody tr th {\n",
       "        vertical-align: top;\n",
       "    }\n",
       "\n",
       "    .dataframe thead th {\n",
       "        text-align: right;\n",
       "    }\n",
       "</style>\n",
       "<table border=\"1\" class=\"dataframe\">\n",
       "  <thead>\n",
       "    <tr style=\"text-align: right;\">\n",
       "      <th></th>\n",
       "      <th>id</th>\n",
       "      <th>vas_id</th>\n",
       "      <th>buy_time</th>\n",
       "      <th>target</th>\n",
       "    </tr>\n",
       "  </thead>\n",
       "  <tbody>\n",
       "    <tr>\n",
       "      <th>21564</th>\n",
       "      <td>1144355</td>\n",
       "      <td>4.0</td>\n",
       "      <td>1544994000</td>\n",
       "      <td>0.0</td>\n",
       "    </tr>\n",
       "    <tr>\n",
       "      <th>21565</th>\n",
       "      <td>1144355</td>\n",
       "      <td>4.0</td>\n",
       "      <td>1545598800</td>\n",
       "      <td>0.0</td>\n",
       "    </tr>\n",
       "    <tr>\n",
       "      <th>21566</th>\n",
       "      <td>1144355</td>\n",
       "      <td>6.0</td>\n",
       "      <td>1544994000</td>\n",
       "      <td>1.0</td>\n",
       "    </tr>\n",
       "    <tr>\n",
       "      <th>24239</th>\n",
       "      <td>3475168</td>\n",
       "      <td>1.0</td>\n",
       "      <td>1544994000</td>\n",
       "      <td>0.0</td>\n",
       "    </tr>\n",
       "    <tr>\n",
       "      <th>24240</th>\n",
       "      <td>3475168</td>\n",
       "      <td>4.0</td>\n",
       "      <td>1542574800</td>\n",
       "      <td>0.0</td>\n",
       "    </tr>\n",
       "    <tr>\n",
       "      <th>24241</th>\n",
       "      <td>3475168</td>\n",
       "      <td>6.0</td>\n",
       "      <td>1542574800</td>\n",
       "      <td>1.0</td>\n",
       "    </tr>\n",
       "    <tr>\n",
       "      <th>24631</th>\n",
       "      <td>271692</td>\n",
       "      <td>2.0</td>\n",
       "      <td>1543179600</td>\n",
       "      <td>0.0</td>\n",
       "    </tr>\n",
       "    <tr>\n",
       "      <th>24632</th>\n",
       "      <td>271692</td>\n",
       "      <td>4.0</td>\n",
       "      <td>1546203600</td>\n",
       "      <td>0.0</td>\n",
       "    </tr>\n",
       "    <tr>\n",
       "      <th>24633</th>\n",
       "      <td>271692</td>\n",
       "      <td>6.0</td>\n",
       "      <td>1546203600</td>\n",
       "      <td>1.0</td>\n",
       "    </tr>\n",
       "  </tbody>\n",
       "</table>\n",
       "</div>"
      ],
      "text/plain": [
       "            id  vas_id    buy_time  target\n",
       "21564  1144355     4.0  1544994000     0.0\n",
       "21565  1144355     4.0  1545598800     0.0\n",
       "21566  1144355     6.0  1544994000     1.0\n",
       "24239  3475168     1.0  1544994000     0.0\n",
       "24240  3475168     4.0  1542574800     0.0\n",
       "24241  3475168     6.0  1542574800     1.0\n",
       "24631   271692     2.0  1543179600     0.0\n",
       "24632   271692     4.0  1546203600     0.0\n",
       "24633   271692     6.0  1546203600     1.0"
      ]
     },
     "execution_count": 15,
     "metadata": {},
     "output_type": "execute_result"
    }
   ],
   "source": [
    "tr_temp = train[train['id'].isin(set(thrice_ids) & common_ids)].head(100)\n",
    "tr_temp.head(9)"
   ]
  },
  {
   "cell_type": "markdown",
   "id": "f597ea14-8afe-4da5-943d-4cf36c470f73",
   "metadata": {},
   "source": [
    "There were several communications for these clients. This won't have much effect on our model, so let's leave it as it is."
   ]
  },
  {
   "cell_type": "markdown",
   "id": "12761495-6154-4778-86ff-7bf82b1b14f0",
   "metadata": {},
   "source": [
    "### Baseline - LGBM\n",
    "\n",
    "We use LightGBM for the baseline because it is fast and does not require extensive data preparation."
   ]
  },
  {
   "cell_type": "markdown",
   "id": "b347f2f1-ec6c-4c35-a253-cfc95a143a93",
   "metadata": {
    "tags": []
   },
   "source": [
    "#### Time"
   ]
  },
  {
   "cell_type": "markdown",
   "id": "ea429aab-7174-469f-b00e-4d443a7f5df6",
   "metadata": {},
   "source": [
    "Sorting the target variable by time and visualization"
   ]
  },
  {
   "cell_type": "code",
   "execution_count": 25,
   "id": "98c8677b-38f7-4eba-9472-811df706268e",
   "metadata": {},
   "outputs": [],
   "source": [
    "time_buy = pd.to_datetime(train[train['target'] == 1]['buy_time'], unit='s')\\\n",
    "                                                .sort_values(ascending=False).value_counts(sort=False)\n",
    "time_notbuy = pd.to_datetime(train[train['target'] == 0]['buy_time'], unit='s')\\\n",
    "                                                .sort_values(ascending=False).value_counts(sort=False)\n"
   ]
  },
  {
   "cell_type": "code",
   "execution_count": 125,
   "id": "4eef9010-f74a-45c8-b17c-baad90505a78",
   "metadata": {},
   "outputs": [],
   "source": [
    "def plot_distribution(buy, notbuy, fig_size=(14, 6), width=2, \n",
    "                      set_axis=False, modifided_axis=[0.0, 10.5, 0.0, 105000.0],\n",
    "                      title='Distribution of purchases', ylabel='Count of targets', xlabel='buy_time'):\n",
    "    plt.figure(figsize=fig_size)\n",
    "    plt.bar(notbuy.index, notbuy, width=width, color='grey', alpha=0.9)\n",
    "    plt.bar(buy.index, buy, width=width*2, color='b', alpha=0.6)\n",
    "    if set_axis:\n",
    "        plt.axis(modifided_axis)\n",
    "    plt.title(title)\n",
    "    plt.ylabel(ylabel)\n",
    "    plt.xlabel(xlabel)\n",
    "    # plt.yscale('log')\n",
    "    plt.show()"
   ]
  },
  {
   "cell_type": "code",
   "execution_count": 122,
   "id": "92d40ecd-38c2-4aa8-9679-639fa747a4c3",
   "metadata": {},
   "outputs": [
    {
     "data": {
      "image/png": "[encoded data removed]",
      "text/plain": [
       "<Figure size 1008x432 with 1 Axes>"
      ]
     },
     "metadata": {},
     "output_type": "display_data"
    }
   ],
   "source": [
    "plot_distribution(time_buy, time_notbuy, title='Distribution of purchases over time')"
   ]
  },
  {
   "cell_type": "markdown",
   "id": "20c9ea3a-e417-4cc1-82bd-575661dd1155",
   "metadata": {},
   "source": [
    "Seasonal distribution of purchases and **peak** sales on the same day in November (Sale). Using **incomplete** seasonal data to evaluate the model is not the best solution. But it's a challenge.\n",
    "\n",
    "We can try to make the **last month** (December) as a validation sample"
   ]
  },
  {
   "cell_type": "markdown",
   "id": "a53339b2-d660-431a-bdd8-89e2751e3f54",
   "metadata": {},
   "source": [
    "#### Train valid split\n",
    "\n",
    "As mentioned earlier, let's try to make the last month (December) as a test sample"
   ]
  },
  {
   "cell_type": "code",
   "execution_count": 46,
   "id": "2c81fddc-0cf8-497f-86eb-29ef482c39f4",
   "metadata": {},
   "outputs": [],
   "source": [
    "from sklearn.metrics import precision_recall_curve, roc_curve, classification_report, f1_score, auc\n",
    "\n",
    "import lightgbm"
   ]
  },
  {
   "cell_type": "code",
   "execution_count": 27,
   "id": "8ea6e698-5773-4835-aea7-4a6187e43fdb",
   "metadata": {},
   "outputs": [
    {
     "data": {
      "text/plain": [
       "1543622400"
      ]
     },
     "execution_count": 27,
     "metadata": {},
     "output_type": "execute_result"
    }
   ],
   "source": [
    "SPLIT_DATE = np.datetime64('2018-12-01T00:00:00').astype(np.int64)\n",
    "SPLIT_DATE"
   ]
  },
  {
   "cell_type": "code",
   "execution_count": 28,
   "id": "6930249b-af19-47b1-8aee-1f904ff9d802",
   "metadata": {},
   "outputs": [],
   "source": [
    "# train.set_index('id', inplace=True)\n",
    "# test.set_index('id', inplace=True)"
   ]
  },
  {
   "cell_type": "code",
   "execution_count": 37,
   "id": "b7b47b7a-1aa4-41f9-af1b-b42d6c800a94",
   "metadata": {
    "jupyter": {
     "source_hidden": true
    },
    "tags": []
   },
   "outputs": [],
   "source": [
    "# def train_valid_split(train, split_date):\n",
    "#     X_train = train[train['buy_time'] < split_date]\n",
    "#     X_val = train[train['buy_time'] >= split_date]\n",
    "\n",
    "#     y_train = X_train['target']\n",
    "#     y_val = X_val['target']\n",
    "    \n",
    "#     # convert time to timestamp int64\n",
    "#     X_train.loc[:, 'buy_time'] = X_train.loc[:, 'buy_time'].values.astype(np.int64) // 10 ** 9\n",
    "#     X_train.loc[:, 'update_info_time'] = X_train['update_info_time'].values.astype(np.int64) // 10 ** 9\n",
    "\n",
    "#     X_val.loc[:, 'buy_time'] = X_val.loc[:, 'buy_time'].values.astype(np.int64) // 10 ** 9\n",
    "#     X_val.loc[:, 'update_info_time'] = X_val.loc[:, 'update_info_time'].values.astype(np.int64) // 10 ** 9\n",
    "    \n",
    "#     X_train.set_index('id', inplace=True)\n",
    "#     X_val.set_index('id', inplace=True)\n",
    "    \n",
    "#     return X_train, y_train, X_val, y_val"
   ]
  },
  {
   "cell_type": "code",
   "execution_count": 190,
   "id": "6544d6a8-43fe-4aba-8971-436c8466ed54",
   "metadata": {},
   "outputs": [],
   "source": [
    "def train_valid_split(train, split_date, drop_columns='target'):\n",
    "    X_train = train[train['buy_time'] < split_date].copy(deep=True)\n",
    "    X_val = train[train['buy_time'] >= split_date].copy(deep=True)\n",
    "\n",
    "    y_train = X_train['target']\n",
    "    y_val = X_val['target']\n",
    "\n",
    "    X_train.drop(columns=drop_columns, inplace=True)\n",
    "    X_val.drop(columns=drop_columns, inplace=True)\n",
    "    \n",
    "    # X_train.set_index('id', inplace=True)\n",
    "    # X_val.set_index('id', inplace=True)\n",
    "    \n",
    "    return X_train, y_train, X_val, y_val"
   ]
  },
  {
   "cell_type": "code",
   "execution_count": 191,
   "id": "387eb5dd-4559-420b-9150-cf72b3d285a7",
   "metadata": {},
   "outputs": [
    {
     "name": "stdout",
     "output_type": "stream",
     "text": [
      "CPU times: user 44 ms, sys: 19.4 ms, total: 63.4 ms\n",
      "Wall time: 63.1 ms\n"
     ]
    }
   ],
   "source": [
    "%%time\n",
    "X_train, y_train, X_val, y_val = train_valid_split(train, SPLIT_DATE)"
   ]
  },
  {
   "cell_type": "code",
   "execution_count": 192,
   "id": "bd7e5c57-a300-4ed2-9ceb-50f74ba06b8d",
   "metadata": {},
   "outputs": [
    {
     "data": {
      "text/plain": [
       "((584073, 3), (584073,), (247580, 3), (247580,))"
      ]
     },
     "execution_count": 192,
     "metadata": {},
     "output_type": "execute_result"
    }
   ],
   "source": [
    "X_train.shape, y_train.shape, X_val.shape, y_val.shape"
   ]
  },
  {
   "cell_type": "markdown",
   "id": "9bdd7027-5eae-446b-a0c1-e316fe4b2313",
   "metadata": {},
   "source": [
    "#### Fit"
   ]
  },
  {
   "cell_type": "code",
   "execution_count": 193,
   "id": "68021b36-70ad-4908-82d3-bb3b72ffc234",
   "metadata": {},
   "outputs": [
    {
     "name": "stdout",
     "output_type": "stream",
     "text": [
      "CPU times: user 7.78 s, sys: 164 ms, total: 7.95 s\n",
      "Wall time: 1.24 s\n"
     ]
    }
   ],
   "source": [
    "%%time\n",
    "lgb = lightgbm.LGBMClassifier(objective='binary', random_state=1)\n",
    "\n",
    "lgb.fit(X_train, y_train)\n",
    "\n",
    "train_preds = lgb.predict_proba(X_val)"
   ]
  },
  {
   "cell_type": "code",
   "execution_count": 194,
   "id": "65247cca-e663-4df6-b5d2-efa80559546c",
   "metadata": {},
   "outputs": [
    {
     "data": {
      "text/plain": [
       "array([0.01640412, 0.01091588, 0.01395224, ..., 0.01535436, 0.01161617,\n",
       "       0.01263035])"
      ]
     },
     "execution_count": 194,
     "metadata": {},
     "output_type": "execute_result"
    }
   ],
   "source": [
    "train_preds[:, 1]"
   ]
  },
  {
   "cell_type": "code",
   "execution_count": 211,
   "id": "177eb984-86ce-432e-b9fe-1f0182e5eb28",
   "metadata": {},
   "outputs": [
    {
     "data": {
      "text/plain": [
       "0.7271900451361183"
      ]
     },
     "execution_count": 211,
     "metadata": {},
     "output_type": "execute_result"
    }
   ],
   "source": [
    "f1_score(y_val, train_preds[:, 1] > 0.5, average='macro')"
   ]
  },
  {
   "cell_type": "markdown",
   "id": "2a55ef9a-e599-4465-b8bb-713c22e9152c",
   "metadata": {},
   "source": [
    "#### Best threshold\n",
    "\n",
    "Looking for the best threshold"
   ]
  },
  {
   "cell_type": "code",
   "execution_count": 339,
   "id": "bf6cf46e-b1e7-4e0a-9df9-1877220ff5af",
   "metadata": {},
   "outputs": [
    {
     "data": {
      "text/plain": [
       "array([ 1,  2,  0,  1,  0, -1,  2,  1,  1,  0])"
      ]
     },
     "execution_count": 339,
     "metadata": {},
     "output_type": "execute_result"
    }
   ],
   "source": [
    "a = np.random.randint(-1, 4, 10)\n",
    "a"
   ]
  },
  {
   "cell_type": "code",
   "execution_count": 336,
   "id": "e39ab9a3-e3dd-4b9a-9cda-8f4411410476",
   "metadata": {},
   "outputs": [
    {
     "data": {
      "text/plain": [
       "array([ 1,  1, -1,  2,  1,  1, -1,  2,  1,  3])"
      ]
     },
     "execution_count": 336,
     "metadata": {},
     "output_type": "execute_result"
    }
   ],
   "source": [
    "a[a == 0] = 1e-9\n",
    "a"
   ]
  },
  {
   "cell_type": "code",
   "execution_count": 340,
   "id": "b4282086-653a-44f0-946f-e485515f4272",
   "metadata": {},
   "outputs": [
    {
     "data": {
      "text/plain": [
       "1e-09"
      ]
     },
     "execution_count": 340,
     "metadata": {},
     "output_type": "execute_result"
    }
   ],
   "source": [
    "1e-9"
   ]
  },
  {
   "cell_type": "code",
   "execution_count": 341,
   "id": "62c332bc-a994-430e-ae2c-467a15530bf9",
   "metadata": {},
   "outputs": [],
   "source": [
    "def find_best_threshold(y_true, y_pred, do_print=False, macro=False):\n",
    "    precision, recall, thresholds = precision_recall_curve(y_true, y_pred)\n",
    "    # avoid zeros\n",
    "    precision[precision == 0] = 1e-9\n",
    "    recall[recall == 0] = 1e-9\n",
    "    \n",
    "    if macro:\n",
    "        # average = 'macro'. This work slowly ~ 1.5 min.\n",
    "        fscore = []\n",
    "        for th in thresholds:\n",
    "            fscore.append(f1_score(y_true, y_pred >= th, average='macro'))\n",
    "        fscore = np.asarray(fscore)\n",
    "    else:\n",
    "        # average = 'binary'. This work fast.\n",
    "        fscore = (2 * precision * recall) / (precision + recall)\n",
    "    \n",
    "    # locate the index of the largest f score\n",
    "    ix = np.argmax(fscore)\n",
    "    best_threshold = thresholds[ix]\n",
    "    if do_print:\n",
    "        print(f'Best Threshold = {best_threshold:.3f}, F-Score = {fscore[ix]:.3f}, \\\n",
    "Precision = {precision[ix]:.3f}, Recall = {recall[ix]:.3f}')\n",
    "    return best_threshold"
   ]
  },
  {
   "cell_type": "code",
   "execution_count": 342,
   "id": "f741bef6-0f92-4c58-82fe-ec8ee31cc84a",
   "metadata": {},
   "outputs": [
    {
     "name": "stdout",
     "output_type": "stream",
     "text": [
      "Best Threshold = 0.252, F-Score = 0.575, Precision = 0.420, Recall = 0.914\n"
     ]
    }
   ],
   "source": [
    "best_threshold = find_best_threshold(y_val, train_preds[:, 1], do_print=True)"
   ]
  },
  {
   "cell_type": "code",
   "execution_count": 235,
   "id": "0653b087-4197-47b4-96f8-85f8f14392c7",
   "metadata": {},
   "outputs": [
    {
     "name": "stdout",
     "output_type": "stream",
     "text": [
      "Best Threshold = 0.305, F-Score = 0.753, Precision = 0.426, Recall = 0.880\n",
      "CPU times: user 1min 13s, sys: 2.2 s, total: 1min 15s\n",
      "Wall time: 1min 15s\n"
     ]
    }
   ],
   "source": [
    "%%time\n",
    "best_threshold = find_best_threshold(y_val, train_preds[:, 1], do_print=True, macro=True)"
   ]
  },
  {
   "cell_type": "code",
   "execution_count": 232,
   "id": "f9482ebd-925c-49e0-ba78-423391b2bbcc",
   "metadata": {},
   "outputs": [
    {
     "data": {
      "text/plain": [
       "0.7530341580965332"
      ]
     },
     "execution_count": 232,
     "metadata": {},
     "output_type": "execute_result"
    }
   ],
   "source": [
    "f1_score(y_val, train_preds[:, 1] >= best_threshold, average='macro')"
   ]
  },
  {
   "cell_type": "code",
   "execution_count": 247,
   "id": "57a8d4e2-9f65-4af2-96fa-beb8706f4815",
   "metadata": {},
   "outputs": [
    {
     "name": "stdout",
     "output_type": "stream",
     "text": [
      "              precision    recall  f1-score   support\n",
      "\n",
      "         0.0       0.99      0.88      0.93    225378\n",
      "         1.0       0.42      0.91      0.58     22202\n",
      "\n",
      "    accuracy                           0.88    247580\n",
      "   macro avg       0.71      0.89      0.75    247580\n",
      "weighted avg       0.94      0.88      0.90    247580\n",
      "\n"
     ]
    }
   ],
   "source": [
    "print(classification_report(y_val, train_preds[:, 1] >= best_threshold))"
   ]
  },
  {
   "cell_type": "code",
   "execution_count": 55,
   "id": "3404f9c9-de7f-4963-af22-a5e76f383087",
   "metadata": {},
   "outputs": [
    {
     "data": {
      "text/plain": [
       "<AxesSubplot:title={'center':'Feature importance'}, xlabel='Feature importance', ylabel='Features'>"
      ]
     },
     "execution_count": 55,
     "metadata": {},
     "output_type": "execute_result"
    },
    {
     "data": {
      "image/png": "[encoded data removed]",
      "text/plain": [
       "<Figure size 432x144 with 1 Axes>"
      ]
     },
     "metadata": {},
     "output_type": "display_data"
    }
   ],
   "source": [
    "lightgbm.plot_importance(lgb, figsize=(6, 2))"
   ]
  },
  {
   "cell_type": "markdown",
   "id": "9fe61273-a00a-48f5-b6c6-6e833d047219",
   "metadata": {},
   "source": [
    "Look at the `vas_id` feature"
   ]
  },
  {
   "cell_type": "code",
   "execution_count": 74,
   "id": "17d523c8-225b-4dd8-b5a2-c239d7e8b926",
   "metadata": {},
   "outputs": [],
   "source": [
    "vas_buy = train[train['target'] == 1].groupby('vas_id')['vas_id'].agg('count')\n",
    "vas_notbuy = train[train['target'] == 0].groupby('vas_id')['vas_id'].agg('count')"
   ]
  },
  {
   "cell_type": "code",
   "execution_count": 124,
   "id": "1d631d9b-eec1-4684-87ad-3fa6a68bd81e",
   "metadata": {},
   "outputs": [
    {
     "data": {
      "image/png": "[encoded data removed]",
      "text/plain": [
       "<Figure size 720x360 with 1 Axes>"
      ]
     },
     "metadata": {},
     "output_type": "display_data"
    }
   ],
   "source": [
    "plot_distribution(vas_buy, vas_notbuy, fig_size=(10, 5), width=0.4, \n",
    "                      set_axis=True, modifided_axis=[0.0, 10.5, 0.0, 105000.0],\n",
    "                      title='Distribution of purchases by vas_id', xlabel='vas_id')"
   ]
  },
  {
   "cell_type": "markdown",
   "id": "5eeabada-3d04-439e-b1a3-85c8a4fd335b",
   "metadata": {},
   "source": [
    "`vas_id` can still be explained by the **influence** of services **4** and **6**, because they are **most** often connected. But how **interestingly** the `id` affects the model."
   ]
  },
  {
   "cell_type": "markdown",
   "id": "79eaf4c4-716c-469d-9fac-efe286477dbb",
   "metadata": {},
   "source": [
    "#### Visualisation. ROC Curve, PR Curve"
   ]
  },
  {
   "cell_type": "code",
   "execution_count": 53,
   "id": "ce1795f1-3515-45bb-b302-e6ebf01d8707",
   "metadata": {
    "jupyter": {
     "source_hidden": true
    },
    "tags": []
   },
   "outputs": [],
   "source": [
    "# def plot_roc_curve(y_true, y_pred, model_name=\"Noname\", color='b', ax=None):\n",
    "#     fpr, tpr, roc_thresholds = roc_curve(y_true, y_pred)\n",
    "    \n",
    "#     plt.figure(figsize=(6, 6)) \n",
    "#     plt.plot(fpr, tpr, label='%s: ROC Curve (area = %0.3f)' %\n",
    "#              (model_name, auc(fpr, tpr)), color=color)\n",
    "#     plt.plot([0, 1], [0, 1], 'k--')  # diagonal\n",
    "#     plt.axis([0.0, 1.0, 0.0, 1.05])\n",
    "#     plt.xlabel('False Positive Rate')\n",
    "#     plt.ylabel('True Positive Rate')\n",
    "#     plt.title('ROC Curve')\n",
    "#     plt.legend(loc=\"lower right\")"
   ]
  },
  {
   "cell_type": "code",
   "execution_count": 54,
   "id": "3c7b0494-bd08-4e10-8fd0-fefff3337b4f",
   "metadata": {
    "jupyter": {
     "source_hidden": true
    },
    "tags": []
   },
   "outputs": [],
   "source": [
    "# def plot_precision_recall_curve(y_true, y_pred, model_name=\"Noname\", color='b'):\n",
    "#     precision, recall, thresholds = precision_recall_curve(y_true, y_pred)\n",
    "    \n",
    "#     plt.figure(figsize=(6, 6)) \n",
    "#     plt.plot(recall, precision, label='%s: Precision-Recall curve (area = %0.3f)' %\n",
    "#              (model_name, auc(recall, precision)), color=color)\n",
    "#     plt.axis([0.0, 1.0, 0.0, 1.05])\n",
    "#     plt.xlabel('Recall')\n",
    "#     plt.ylabel('Precision')\n",
    "#     plt.title(\"Precision-Recall curve\")\n",
    "#     plt.legend(loc=\"lower left\")"
   ]
  },
  {
   "cell_type": "code",
   "execution_count": 55,
   "id": "fdcdf035-41f2-4390-a65b-16d3b2e6cec5",
   "metadata": {
    "jupyter": {
     "source_hidden": true
    },
    "tags": []
   },
   "outputs": [],
   "source": [
    "# plot_roc_curve(y_val, train_preds[:, 1], \"Baseline\", color='b')\n",
    "# plot_precision_recall_curve(y_val, train_preds[:, 1], \"Baseline\", color='b')"
   ]
  },
  {
   "cell_type": "code",
   "execution_count": 126,
   "id": "b695d722-5991-4ae6-9981-b047195b62cf",
   "metadata": {},
   "outputs": [],
   "source": [
    "def plot_roc_pr_curve(y_true, y_pred, model_name=\"Noname\", color='b'):\n",
    "    fig, (ax1, ax2) = plt.subplots(1, 2, figsize=(14, 5))\n",
    "\n",
    "    # plot ROC Curve\n",
    "    fpr, tpr, roc_thresholds = roc_curve(y_true, y_pred)\n",
    "    ax1.plot(fpr, tpr, label='%s: ROC Curve (area = %0.3f)' %\n",
    "             (model_name, auc(fpr, tpr)), color=color)\n",
    "    ax1.axis([0.0, 1.0, 0.0, 1.05])\n",
    "    ax1.plot([0, 1], [0, 1], 'r--')  # diagonal\n",
    "    ax1.set_xlabel('False Positive Rate')\n",
    "    ax1.set_ylabel('True Positive Rate')\n",
    "    ax1.set_title('ROC Curve')\n",
    "    ax1.legend(loc=\"lower right\")\n",
    "    \n",
    "    # plot Precision-Recall Curve\n",
    "    precision, recall, thresholds = precision_recall_curve(y_true, y_pred)\n",
    "    ax2.plot(recall, precision, label='%s: Precision-Recall curve (area = %0.3f)' %\n",
    "             (model_name, auc(recall, precision)), color=color)\n",
    "    ax2.axis([-0.05, 1.05, 0.0, 1.05])\n",
    "    # ax2.plot([0.8, 0.8], [0, 1], 'g--')  # best Recall\n",
    "    ax2.set_xlabel('Recall')\n",
    "    ax2.set_ylabel('Precision')\n",
    "    ax2.set_title(\"Precision-Recall curve\")\n",
    "    ax2.legend(loc=\"lower left\")"
   ]
  },
  {
   "cell_type": "code",
   "execution_count": 127,
   "id": "415a0a9d-9c67-417f-a17c-4c9bfe874b1d",
   "metadata": {},
   "outputs": [
    {
     "data": {
      "image/png": "[encoded data removed]",
      "text/plain": [
       "<Figure size 1008x360 with 2 Axes>"
      ]
     },
     "metadata": {},
     "output_type": "display_data"
    }
   ],
   "source": [
    "plot_roc_pr_curve(y_val, train_preds[:, 1], \"Baseline\", color='b')"
   ]
  },
  {
   "cell_type": "markdown",
   "id": "a4a79d8e-b36f-4e93-944f-255aa8c37fc4",
   "metadata": {
    "tags": []
   },
   "source": [
    "#### Conclusion for baseline:\n",
    "\n",
    "Not so bad performance for the baseline. As can be seen from the plot of the **PR Curve**, it is easy to find ~90% **Recall** for this model without compromising the **Precision**."
   ]
  },
  {
   "cell_type": "markdown",
   "id": "04184662-cab1-4a65-bee1-e8bcef435fbd",
   "metadata": {},
   "source": [
    "### Features\n",
    "\n",
    "Let's look at the **features** and process them"
   ]
  },
  {
   "cell_type": "markdown",
   "id": "abadb633-27ee-403c-bba4-6810f6a8931a",
   "metadata": {
    "tags": []
   },
   "source": [
    "#### Perform an asof merge."
   ]
  },
  {
   "cell_type": "code",
   "execution_count": 128,
   "id": "ccc95114-9869-4643-87bb-42208e77a130",
   "metadata": {},
   "outputs": [],
   "source": [
    "# feature time it's time of update information about client\n",
    "features.rename( columns={'buy_time':'update_info_time' } ,inplace=True) "
   ]
  },
  {
   "cell_type": "code",
   "execution_count": 129,
   "id": "340812df-e93d-45d9-8111-1de86aeeb7f0",
   "metadata": {},
   "outputs": [],
   "source": [
    "def merge_asof(left, right, ids):\n",
    "    left = pd.merge_asof(left.sort_values(by=['buy_time']), \n",
    "                         right[features.id.isin(ids)].sort_values(by=['update_info_time']), \n",
    "                         left_on='buy_time', \n",
    "                         right_on='update_info_time', \n",
    "                         by='id',\n",
    "                         direction='nearest'  # with nearest time\n",
    "                         )\n",
    "    return left"
   ]
  },
  {
   "cell_type": "code",
   "execution_count": 201,
   "id": "79120a33-6af5-4a12-bd87-30bf382f6cf4",
   "metadata": {},
   "outputs": [
    {
     "name": "stdout",
     "output_type": "stream",
     "text": [
      "CPU times: user 7.06 s, sys: 12.2 s, total: 19.2 s\n",
      "Wall time: 26.9 s\n"
     ]
    },
    {
     "data": {
      "text/html": [
       "<div>\n",
       "<style scoped>\n",
       "    .dataframe tbody tr th:only-of-type {\n",
       "        vertical-align: middle;\n",
       "    }\n",
       "\n",
       "    .dataframe tbody tr th {\n",
       "        vertical-align: top;\n",
       "    }\n",
       "\n",
       "    .dataframe thead th {\n",
       "        text-align: right;\n",
       "    }\n",
       "</style>\n",
       "<table border=\"1\" class=\"dataframe\">\n",
       "  <thead>\n",
       "    <tr style=\"text-align: right;\">\n",
       "      <th></th>\n",
       "      <th>id</th>\n",
       "      <th>vas_id</th>\n",
       "      <th>buy_time</th>\n",
       "      <th>target</th>\n",
       "      <th>update_info_time</th>\n",
       "      <th>0</th>\n",
       "      <th>1</th>\n",
       "      <th>2</th>\n",
       "      <th>3</th>\n",
       "      <th>4</th>\n",
       "      <th>...</th>\n",
       "      <th>243</th>\n",
       "      <th>244</th>\n",
       "      <th>245</th>\n",
       "      <th>246</th>\n",
       "      <th>247</th>\n",
       "      <th>248</th>\n",
       "      <th>249</th>\n",
       "      <th>250</th>\n",
       "      <th>251</th>\n",
       "      <th>252</th>\n",
       "    </tr>\n",
       "  </thead>\n",
       "  <tbody>\n",
       "    <tr>\n",
       "      <th>0</th>\n",
       "      <td>2582523</td>\n",
       "      <td>2.0</td>\n",
       "      <td>1531083600</td>\n",
       "      <td>0.0</td>\n",
       "      <td>1544994000</td>\n",
       "      <td>314.560029</td>\n",
       "      <td>9.290888</td>\n",
       "      <td>342.989214</td>\n",
       "      <td>7.523202</td>\n",
       "      <td>337.571754</td>\n",
       "      <td>...</td>\n",
       "      <td>6488.626154</td>\n",
       "      <td>-574.770792</td>\n",
       "      <td>-24.996269</td>\n",
       "      <td>121.369552</td>\n",
       "      <td>142.252276</td>\n",
       "      <td>-16.832889</td>\n",
       "      <td>-0.694428</td>\n",
       "      <td>-11.175933</td>\n",
       "      <td>-0.45614</td>\n",
       "      <td>0.0</td>\n",
       "    </tr>\n",
       "    <tr>\n",
       "      <th>1</th>\n",
       "      <td>1292549</td>\n",
       "      <td>2.0</td>\n",
       "      <td>1531083600</td>\n",
       "      <td>0.0</td>\n",
       "      <td>1537131600</td>\n",
       "      <td>93.880029</td>\n",
       "      <td>-217.499112</td>\n",
       "      <td>79.939214</td>\n",
       "      <td>-270.106798</td>\n",
       "      <td>74.521754</td>\n",
       "      <td>...</td>\n",
       "      <td>-977.373846</td>\n",
       "      <td>-613.770792</td>\n",
       "      <td>-25.996269</td>\n",
       "      <td>-37.630448</td>\n",
       "      <td>-306.747724</td>\n",
       "      <td>-25.832889</td>\n",
       "      <td>-0.694428</td>\n",
       "      <td>-12.175933</td>\n",
       "      <td>-0.45614</td>\n",
       "      <td>0.0</td>\n",
       "    </tr>\n",
       "  </tbody>\n",
       "</table>\n",
       "<p>2 rows × 258 columns</p>\n",
       "</div>"
      ],
      "text/plain": [
       "        id  vas_id    buy_time  target  update_info_time           0  \\\n",
       "0  2582523     2.0  1531083600     0.0        1544994000  314.560029   \n",
       "1  1292549     2.0  1531083600     0.0        1537131600   93.880029   \n",
       "\n",
       "            1           2           3           4  ...          243  \\\n",
       "0    9.290888  342.989214    7.523202  337.571754  ...  6488.626154   \n",
       "1 -217.499112   79.939214 -270.106798   74.521754  ...  -977.373846   \n",
       "\n",
       "          244        245         246         247        248       249  \\\n",
       "0 -574.770792 -24.996269  121.369552  142.252276 -16.832889 -0.694428   \n",
       "1 -613.770792 -25.996269  -37.630448 -306.747724 -25.832889 -0.694428   \n",
       "\n",
       "         250      251  252  \n",
       "0 -11.175933 -0.45614  0.0  \n",
       "1 -12.175933 -0.45614  0.0  \n",
       "\n",
       "[2 rows x 258 columns]"
      ]
     },
     "execution_count": 201,
     "metadata": {},
     "output_type": "execute_result"
    }
   ],
   "source": [
    "%%time\n",
    "train = merge_asof(train, features, train_ids)\n",
    "train.head(2)"
   ]
  },
  {
   "cell_type": "code",
   "execution_count": 202,
   "id": "f288a0de-c256-49fe-85bb-1815bf129f61",
   "metadata": {},
   "outputs": [
    {
     "name": "stdout",
     "output_type": "stream",
     "text": [
      "CPU times: user 868 ms, sys: 2.94 s, total: 3.81 s\n",
      "Wall time: 5.34 s\n"
     ]
    },
    {
     "data": {
      "text/html": [
       "<div>\n",
       "<style scoped>\n",
       "    .dataframe tbody tr th:only-of-type {\n",
       "        vertical-align: middle;\n",
       "    }\n",
       "\n",
       "    .dataframe tbody tr th {\n",
       "        vertical-align: top;\n",
       "    }\n",
       "\n",
       "    .dataframe thead th {\n",
       "        text-align: right;\n",
       "    }\n",
       "</style>\n",
       "<table border=\"1\" class=\"dataframe\">\n",
       "  <thead>\n",
       "    <tr style=\"text-align: right;\">\n",
       "      <th></th>\n",
       "      <th>id</th>\n",
       "      <th>vas_id</th>\n",
       "      <th>buy_time</th>\n",
       "      <th>update_info_time</th>\n",
       "      <th>0</th>\n",
       "      <th>1</th>\n",
       "      <th>2</th>\n",
       "      <th>3</th>\n",
       "      <th>4</th>\n",
       "      <th>5</th>\n",
       "      <th>...</th>\n",
       "      <th>243</th>\n",
       "      <th>244</th>\n",
       "      <th>245</th>\n",
       "      <th>246</th>\n",
       "      <th>247</th>\n",
       "      <th>248</th>\n",
       "      <th>249</th>\n",
       "      <th>250</th>\n",
       "      <th>251</th>\n",
       "      <th>252</th>\n",
       "    </tr>\n",
       "  </thead>\n",
       "  <tbody>\n",
       "    <tr>\n",
       "      <th>0</th>\n",
       "      <td>2905850</td>\n",
       "      <td>5.0</td>\n",
       "      <td>1546808400</td>\n",
       "      <td>1536526800</td>\n",
       "      <td>326.930029</td>\n",
       "      <td>227.410888</td>\n",
       "      <td>312.989214</td>\n",
       "      <td>200.223202</td>\n",
       "      <td>307.571754</td>\n",
       "      <td>179.11821</td>\n",
       "      <td>...</td>\n",
       "      <td>-464.373846</td>\n",
       "      <td>-104.770792</td>\n",
       "      <td>-25.996269</td>\n",
       "      <td>-18.630448</td>\n",
       "      <td>-209.747724</td>\n",
       "      <td>-15.832889</td>\n",
       "      <td>-0.694428</td>\n",
       "      <td>-2.175933</td>\n",
       "      <td>-0.45614</td>\n",
       "      <td>0.0</td>\n",
       "    </tr>\n",
       "    <tr>\n",
       "      <th>1</th>\n",
       "      <td>31619</td>\n",
       "      <td>2.0</td>\n",
       "      <td>1546808400</td>\n",
       "      <td>1536526800</td>\n",
       "      <td>-96.799971</td>\n",
       "      <td>100.290888</td>\n",
       "      <td>-62.040786</td>\n",
       "      <td>250.953202</td>\n",
       "      <td>-67.458246</td>\n",
       "      <td>229.84821</td>\n",
       "      <td>...</td>\n",
       "      <td>-977.373846</td>\n",
       "      <td>-613.770792</td>\n",
       "      <td>-25.996269</td>\n",
       "      <td>-37.630448</td>\n",
       "      <td>-306.747724</td>\n",
       "      <td>-25.832889</td>\n",
       "      <td>-0.694428</td>\n",
       "      <td>-12.175933</td>\n",
       "      <td>-0.45614</td>\n",
       "      <td>0.0</td>\n",
       "    </tr>\n",
       "  </tbody>\n",
       "</table>\n",
       "<p>2 rows × 257 columns</p>\n",
       "</div>"
      ],
      "text/plain": [
       "        id  vas_id    buy_time  update_info_time           0           1  \\\n",
       "0  2905850     5.0  1546808400        1536526800  326.930029  227.410888   \n",
       "1    31619     2.0  1546808400        1536526800  -96.799971  100.290888   \n",
       "\n",
       "            2           3           4          5  ...         243         244  \\\n",
       "0  312.989214  200.223202  307.571754  179.11821  ... -464.373846 -104.770792   \n",
       "1  -62.040786  250.953202  -67.458246  229.84821  ... -977.373846 -613.770792   \n",
       "\n",
       "         245        246         247        248       249        250      251  \\\n",
       "0 -25.996269 -18.630448 -209.747724 -15.832889 -0.694428  -2.175933 -0.45614   \n",
       "1 -25.996269 -37.630448 -306.747724 -25.832889 -0.694428 -12.175933 -0.45614   \n",
       "\n",
       "   252  \n",
       "0  0.0  \n",
       "1  0.0  \n",
       "\n",
       "[2 rows x 257 columns]"
      ]
     },
     "execution_count": 202,
     "metadata": {},
     "output_type": "execute_result"
    }
   ],
   "source": [
    "%%time\n",
    "test = merge_asof(test, features, test_ids)\n",
    "test.head(2)"
   ]
  },
  {
   "cell_type": "markdown",
   "id": "e38df8c8-d243-42c5-a7a3-6fec2bee67a4",
   "metadata": {},
   "source": [
    "#### Run function\n",
    "\n",
    "Let's try to learn model with feature and without feature engineering"
   ]
  },
  {
   "cell_type": "code",
   "execution_count": 347,
   "id": "d31065cf-942c-41a0-8bb3-1cc45eeaa4ca",
   "metadata": {},
   "outputs": [],
   "source": [
    "def run_learn(train, model, slpit_date=SPLIT_DATE):\n",
    "    # split\n",
    "    X_train, y_train, X_val, y_val = train_valid_split(train, slpit_date)\n",
    "\n",
    "    # models\n",
    "    # lgb = lightgbm.LGBMClassifier(objective='binary', random_state=1)\n",
    "    model.fit(X_train, y_train)\n",
    "    train_preds = model.predict_proba(X_val)\n",
    "\n",
    "    # metrics\n",
    "    best_threshold = find_best_threshold(y_val, train_preds[:, 1], do_print=True)\n",
    "    f1 = f1_score(y_val, train_preds[:, 1] >= best_threshold, average='macro')\n",
    "    print(f'F1-Score (average=\"macro\") = {f1}')\n",
    "    \n",
    "    plot_roc_pr_curve(y_val, train_preds[:, 1], \"Baseline\", color='b')\n",
    "    \n",
    "    return model"
   ]
  },
  {
   "cell_type": "code",
   "execution_count": 344,
   "id": "ab600a0b-bea8-44a5-915a-a383043cba0e",
   "metadata": {},
   "outputs": [],
   "source": [
    "lgb = lightgbm.LGBMClassifier(objective='binary', random_state=1)"
   ]
  },
  {
   "cell_type": "code",
   "execution_count": 345,
   "id": "b755217e-63df-41f3-8a46-da9d04fc8808",
   "metadata": {},
   "outputs": [
    {
     "name": "stdout",
     "output_type": "stream",
     "text": [
      "Best Threshold = 0.260, F-Score = 0.576, Precision = 0.421, Recall = 0.910\n",
      "F1-Score (average=\"macro\") = 0.7526978806388435\n",
      "CPU times: user 1min 7s, sys: 18 s, total: 1min 25s\n",
      "Wall time: 40.2 s\n"
     ]
    },
    {
     "data": {
      "image/png": "[encoded data removed]",
      "text/plain": [
       "<Figure size 1008x360 with 2 Axes>"
      ]
     },
     "metadata": {},
     "output_type": "display_data"
    }
   ],
   "source": [
    "%%time\n",
    "lgb = run_learn(train, lgb, slpit_date=SPLIT_DATE)"
   ]
  },
  {
   "cell_type": "code",
   "execution_count": 346,
   "id": "537036b8-98cb-40a3-99f3-cca8932afbbc",
   "metadata": {},
   "outputs": [
    {
     "data": {
      "text/plain": [
       "<AxesSubplot:title={'center':'Feature importance'}, xlabel='Feature importance', ylabel='Features'>"
      ]
     },
     "execution_count": 346,
     "metadata": {},
     "output_type": "execute_result"
    },
    {
     "data": {
      "image/png": "[encoded data removed]",
      "text/plain": [
       "<Figure size 576x432 with 1 Axes>"
      ]
     },
     "metadata": {},
     "output_type": "display_data"
    }
   ],
   "source": [
    "lightgbm.plot_importance(lgb, figsize=(8, 6) , max_num_features=30)"
   ]
  },
  {
   "cell_type": "markdown",
   "id": "4a878e19-f380-4b00-9018-e4d2de19388a",
   "metadata": {},
   "source": [
    "The scores haven't changed much. But there is no strong influence of futures."
   ]
  },
  {
   "cell_type": "markdown",
   "id": "99703e33-adca-4567-8ce1-373e85d00714",
   "metadata": {},
   "source": [
    "#### Dublicates"
   ]
  },
  {
   "cell_type": "code",
   "execution_count": 132,
   "id": "e2d26425-dedd-4ee2-ac9c-274a69d49656",
   "metadata": {
    "id": "rHsYgSlYHJMR",
    "outputId": "9ed12b27-9f8d-426c-9cf5-d1cb8147ba04"
   },
   "outputs": [
    {
     "name": "stdout",
     "output_type": "stream",
     "text": [
      "Are there duplicates in the rows? -->  1422\n",
      "What percentage features can be Null? --> 0%\n",
      "CPU times: user 9.16 s, sys: 6.67 s, total: 15.8 s\n",
      "Wall time: 19.6 s\n"
     ]
    }
   ],
   "source": [
    "%%time\n",
    "f = features.copy()\n",
    "f.set_index('id', inplace=True)\n",
    "\n",
    "print(\"Are there duplicates in the rows? --> \", f.duplicated().sum())\n",
    "print(\"What percentage features can be Null? --> %d%%\" % float((f.isnull().sum() > 0).sum()/f.shape[1]*100))"
   ]
  },
  {
   "cell_type": "code",
   "execution_count": 133,
   "id": "7bc86f60-619f-421f-99eb-a1e9e5463674",
   "metadata": {},
   "outputs": [
    {
     "name": "stdout",
     "output_type": "stream",
     "text": [
      "CPU times: user 6.94 s, sys: 2.49 s, total: 9.43 s\n",
      "Wall time: 9.97 s\n"
     ]
    },
    {
     "data": {
      "text/plain": [
       "(1422, 254)"
      ]
     },
     "execution_count": 133,
     "metadata": {},
     "output_type": "execute_result"
    }
   ],
   "source": [
    "%%time\n",
    "f_duplicated = f[f.duplicated()]\n",
    "f_duplicated.shape"
   ]
  },
  {
   "cell_type": "code",
   "execution_count": 134,
   "id": "a81f03e1-cbcb-44a8-873c-a2cb7025114d",
   "metadata": {},
   "outputs": [
    {
     "data": {
      "text/plain": [
       "1418"
      ]
     },
     "execution_count": 134,
     "metadata": {},
     "output_type": "execute_result"
    }
   ],
   "source": [
    "f_dupl_ids = set(f_duplicated.index.tolist())\n",
    "len(f_dupl_ids)"
   ]
  },
  {
   "cell_type": "code",
   "execution_count": 135,
   "id": "d8762db1-26df-45a7-859e-ee488751343d",
   "metadata": {},
   "outputs": [
    {
     "name": "stdout",
     "output_type": "stream",
     "text": [
      "There are duplicate indexes for the train dataset: 1318\n"
     ]
    }
   ],
   "source": [
    "print(f'There are duplicate indexes for the train dataset: {len(f_dupl_ids.intersection(train_ids))}')"
   ]
  },
  {
   "cell_type": "code",
   "execution_count": 136,
   "id": "24ae7ba2-1a96-455e-af99-ff743ac0ca16",
   "metadata": {},
   "outputs": [
    {
     "name": "stdout",
     "output_type": "stream",
     "text": [
      "There are duplicate indexes for the test dataset: 103\n"
     ]
    }
   ],
   "source": [
    "print(f'There are duplicate indexes for the test dataset: {len(f_dupl_ids.intersection(test_ids))}')"
   ]
  },
  {
   "cell_type": "code",
   "execution_count": 137,
   "id": "8df354e5-d61a-4da1-9db6-7652bc5f1d02",
   "metadata": {},
   "outputs": [
    {
     "data": {
      "text/html": [
       "<div>\n",
       "<style scoped>\n",
       "    .dataframe tbody tr th:only-of-type {\n",
       "        vertical-align: middle;\n",
       "    }\n",
       "\n",
       "    .dataframe tbody tr th {\n",
       "        vertical-align: top;\n",
       "    }\n",
       "\n",
       "    .dataframe thead th {\n",
       "        text-align: right;\n",
       "    }\n",
       "</style>\n",
       "<table border=\"1\" class=\"dataframe\">\n",
       "  <thead>\n",
       "    <tr style=\"text-align: right;\">\n",
       "      <th></th>\n",
       "      <th>update_info_time</th>\n",
       "      <th>0</th>\n",
       "      <th>1</th>\n",
       "      <th>2</th>\n",
       "      <th>3</th>\n",
       "      <th>4</th>\n",
       "      <th>5</th>\n",
       "      <th>6</th>\n",
       "      <th>7</th>\n",
       "      <th>8</th>\n",
       "      <th>...</th>\n",
       "      <th>243</th>\n",
       "      <th>244</th>\n",
       "      <th>245</th>\n",
       "      <th>246</th>\n",
       "      <th>247</th>\n",
       "      <th>248</th>\n",
       "      <th>249</th>\n",
       "      <th>250</th>\n",
       "      <th>251</th>\n",
       "      <th>252</th>\n",
       "    </tr>\n",
       "    <tr>\n",
       "      <th>id</th>\n",
       "      <th></th>\n",
       "      <th></th>\n",
       "      <th></th>\n",
       "      <th></th>\n",
       "      <th></th>\n",
       "      <th></th>\n",
       "      <th></th>\n",
       "      <th></th>\n",
       "      <th></th>\n",
       "      <th></th>\n",
       "      <th></th>\n",
       "      <th></th>\n",
       "      <th></th>\n",
       "      <th></th>\n",
       "      <th></th>\n",
       "      <th></th>\n",
       "      <th></th>\n",
       "      <th></th>\n",
       "      <th></th>\n",
       "      <th></th>\n",
       "      <th></th>\n",
       "    </tr>\n",
       "  </thead>\n",
       "  <tbody>\n",
       "    <tr>\n",
       "      <th>3121327</th>\n",
       "      <td>1545598800</td>\n",
       "      <td>-96.799971</td>\n",
       "      <td>-408.179112</td>\n",
       "      <td>-110.740786</td>\n",
       "      <td>-460.786798</td>\n",
       "      <td>-116.158246</td>\n",
       "      <td>-481.89179</td>\n",
       "      <td>-16.08618</td>\n",
       "      <td>-65.076097</td>\n",
       "      <td>-6.78366</td>\n",
       "      <td>...</td>\n",
       "      <td>-977.373846</td>\n",
       "      <td>-613.770792</td>\n",
       "      <td>-25.996269</td>\n",
       "      <td>-37.630448</td>\n",
       "      <td>-306.747724</td>\n",
       "      <td>-25.832889</td>\n",
       "      <td>-0.694428</td>\n",
       "      <td>-12.175933</td>\n",
       "      <td>-0.45614</td>\n",
       "      <td>0.0</td>\n",
       "    </tr>\n",
       "    <tr>\n",
       "      <th>1638049</th>\n",
       "      <td>1545598800</td>\n",
       "      <td>-96.799971</td>\n",
       "      <td>-408.179112</td>\n",
       "      <td>-110.740786</td>\n",
       "      <td>-460.786798</td>\n",
       "      <td>-116.158246</td>\n",
       "      <td>-481.89179</td>\n",
       "      <td>-16.08618</td>\n",
       "      <td>-65.076097</td>\n",
       "      <td>-6.78366</td>\n",
       "      <td>...</td>\n",
       "      <td>-977.373846</td>\n",
       "      <td>-613.770792</td>\n",
       "      <td>-25.996269</td>\n",
       "      <td>-37.630448</td>\n",
       "      <td>-306.747724</td>\n",
       "      <td>-25.832889</td>\n",
       "      <td>-0.694428</td>\n",
       "      <td>-12.175933</td>\n",
       "      <td>-0.45614</td>\n",
       "      <td>0.0</td>\n",
       "    </tr>\n",
       "    <tr>\n",
       "      <th>3494546</th>\n",
       "      <td>1546808400</td>\n",
       "      <td>-96.799971</td>\n",
       "      <td>-408.179112</td>\n",
       "      <td>-110.740786</td>\n",
       "      <td>-460.786798</td>\n",
       "      <td>-116.158246</td>\n",
       "      <td>-481.89179</td>\n",
       "      <td>-16.08618</td>\n",
       "      <td>-65.076097</td>\n",
       "      <td>-6.78366</td>\n",
       "      <td>...</td>\n",
       "      <td>-977.373846</td>\n",
       "      <td>-613.770792</td>\n",
       "      <td>-25.996269</td>\n",
       "      <td>-37.630448</td>\n",
       "      <td>-306.747724</td>\n",
       "      <td>-25.832889</td>\n",
       "      <td>-0.694428</td>\n",
       "      <td>-12.175933</td>\n",
       "      <td>-0.45614</td>\n",
       "      <td>0.0</td>\n",
       "    </tr>\n",
       "  </tbody>\n",
       "</table>\n",
       "<p>3 rows × 254 columns</p>\n",
       "</div>"
      ],
      "text/plain": [
       "         update_info_time          0           1           2           3  \\\n",
       "id                                                                         \n",
       "3121327        1545598800 -96.799971 -408.179112 -110.740786 -460.786798   \n",
       "1638049        1545598800 -96.799971 -408.179112 -110.740786 -460.786798   \n",
       "3494546        1546808400 -96.799971 -408.179112 -110.740786 -460.786798   \n",
       "\n",
       "                  4          5         6          7        8  ...         243  \\\n",
       "id                                                            ...               \n",
       "3121327 -116.158246 -481.89179 -16.08618 -65.076097 -6.78366  ... -977.373846   \n",
       "1638049 -116.158246 -481.89179 -16.08618 -65.076097 -6.78366  ... -977.373846   \n",
       "3494546 -116.158246 -481.89179 -16.08618 -65.076097 -6.78366  ... -977.373846   \n",
       "\n",
       "                244        245        246         247        248       249  \\\n",
       "id                                                                           \n",
       "3121327 -613.770792 -25.996269 -37.630448 -306.747724 -25.832889 -0.694428   \n",
       "1638049 -613.770792 -25.996269 -37.630448 -306.747724 -25.832889 -0.694428   \n",
       "3494546 -613.770792 -25.996269 -37.630448 -306.747724 -25.832889 -0.694428   \n",
       "\n",
       "               250      251  252  \n",
       "id                                \n",
       "3121327 -12.175933 -0.45614  0.0  \n",
       "1638049 -12.175933 -0.45614  0.0  \n",
       "3494546 -12.175933 -0.45614  0.0  \n",
       "\n",
       "[3 rows x 254 columns]"
      ]
     },
     "execution_count": 137,
     "metadata": {},
     "output_type": "execute_result"
    }
   ],
   "source": [
    "f_duplicated.head(3)"
   ]
  },
  {
   "cell_type": "code",
   "execution_count": 144,
   "id": "8effe6ef-1edb-4e53-9a0b-4cb7085c52b5",
   "metadata": {},
   "outputs": [
    {
     "data": {
      "text/html": [
       "<div>\n",
       "<style scoped>\n",
       "    .dataframe tbody tr th:only-of-type {\n",
       "        vertical-align: middle;\n",
       "    }\n",
       "\n",
       "    .dataframe tbody tr th {\n",
       "        vertical-align: top;\n",
       "    }\n",
       "\n",
       "    .dataframe thead th {\n",
       "        text-align: right;\n",
       "    }\n",
       "</style>\n",
       "<table border=\"1\" class=\"dataframe\">\n",
       "  <thead>\n",
       "    <tr style=\"text-align: right;\">\n",
       "      <th></th>\n",
       "      <th>id</th>\n",
       "      <th>vas_id</th>\n",
       "      <th>buy_time</th>\n",
       "      <th>target</th>\n",
       "      <th>update_info_time</th>\n",
       "      <th>0</th>\n",
       "      <th>1</th>\n",
       "      <th>2</th>\n",
       "      <th>3</th>\n",
       "      <th>4</th>\n",
       "      <th>...</th>\n",
       "      <th>243</th>\n",
       "      <th>244</th>\n",
       "      <th>245</th>\n",
       "      <th>246</th>\n",
       "      <th>247</th>\n",
       "      <th>248</th>\n",
       "      <th>249</th>\n",
       "      <th>250</th>\n",
       "      <th>251</th>\n",
       "      <th>252</th>\n",
       "    </tr>\n",
       "  </thead>\n",
       "  <tbody>\n",
       "    <tr>\n",
       "      <th>171499</th>\n",
       "      <td>1638049</td>\n",
       "      <td>1.0</td>\n",
       "      <td>1533502800</td>\n",
       "      <td>0.0</td>\n",
       "      <td>1545598800</td>\n",
       "      <td>-96.799971</td>\n",
       "      <td>-408.179112</td>\n",
       "      <td>-110.740786</td>\n",
       "      <td>-460.786798</td>\n",
       "      <td>-116.158246</td>\n",
       "      <td>...</td>\n",
       "      <td>-977.373846</td>\n",
       "      <td>-613.770792</td>\n",
       "      <td>-25.996269</td>\n",
       "      <td>-37.630448</td>\n",
       "      <td>-306.747724</td>\n",
       "      <td>-25.832889</td>\n",
       "      <td>-0.694428</td>\n",
       "      <td>-12.175933</td>\n",
       "      <td>-0.45614</td>\n",
       "      <td>0.0</td>\n",
       "    </tr>\n",
       "    <tr>\n",
       "      <th>172919</th>\n",
       "      <td>3121327</td>\n",
       "      <td>1.0</td>\n",
       "      <td>1533502800</td>\n",
       "      <td>0.0</td>\n",
       "      <td>1545598800</td>\n",
       "      <td>-96.799971</td>\n",
       "      <td>-408.179112</td>\n",
       "      <td>-110.740786</td>\n",
       "      <td>-460.786798</td>\n",
       "      <td>-116.158246</td>\n",
       "      <td>...</td>\n",
       "      <td>-977.373846</td>\n",
       "      <td>-613.770792</td>\n",
       "      <td>-25.996269</td>\n",
       "      <td>-37.630448</td>\n",
       "      <td>-306.747724</td>\n",
       "      <td>-25.832889</td>\n",
       "      <td>-0.694428</td>\n",
       "      <td>-12.175933</td>\n",
       "      <td>-0.45614</td>\n",
       "      <td>0.0</td>\n",
       "    </tr>\n",
       "  </tbody>\n",
       "</table>\n",
       "<p>2 rows × 258 columns</p>\n",
       "</div>"
      ],
      "text/plain": [
       "             id  vas_id    buy_time  target  update_info_time          0  \\\n",
       "171499  1638049     1.0  1533502800     0.0        1545598800 -96.799971   \n",
       "172919  3121327     1.0  1533502800     0.0        1545598800 -96.799971   \n",
       "\n",
       "                 1           2           3           4  ...         243  \\\n",
       "171499 -408.179112 -110.740786 -460.786798 -116.158246  ... -977.373846   \n",
       "172919 -408.179112 -110.740786 -460.786798 -116.158246  ... -977.373846   \n",
       "\n",
       "               244        245        246         247        248       249  \\\n",
       "171499 -613.770792 -25.996269 -37.630448 -306.747724 -25.832889 -0.694428   \n",
       "172919 -613.770792 -25.996269 -37.630448 -306.747724 -25.832889 -0.694428   \n",
       "\n",
       "              250      251  252  \n",
       "171499 -12.175933 -0.45614  0.0  \n",
       "172919 -12.175933 -0.45614  0.0  \n",
       "\n",
       "[2 rows x 258 columns]"
      ]
     },
     "execution_count": 144,
     "metadata": {},
     "output_type": "execute_result"
    }
   ],
   "source": [
    "train[train['id'].isin([3121327, 1638049])]"
   ]
  },
  {
   "cell_type": "code",
   "execution_count": 141,
   "id": "4b8ad750-816a-4acf-83b8-d7b40d2db701",
   "metadata": {},
   "outputs": [
    {
     "data": {
      "text/plain": [
       "(1353, 258)"
      ]
     },
     "execution_count": 141,
     "metadata": {},
     "output_type": "execute_result"
    }
   ],
   "source": [
    "train[train['id'].isin(list(f_dupl_ids.intersection(train_ids)))].shape"
   ]
  },
  {
   "cell_type": "code",
   "execution_count": 145,
   "id": "39652133-8947-4caa-ab45-29510d8ea182",
   "metadata": {},
   "outputs": [
    {
     "data": {
      "text/plain": [
       "(106, 257)"
      ]
     },
     "execution_count": 145,
     "metadata": {},
     "output_type": "execute_result"
    }
   ],
   "source": [
    "test[test['id'].isin(list(f_dupl_ids.intersection(test_ids)))].shape"
   ]
  },
  {
   "cell_type": "markdown",
   "id": "9d11c288-d465-4aa4-b679-ec97441cae90",
   "metadata": {},
   "source": [
    "This looks very **strange**. How can two persons be exactly the same? There is **1422** that rows - **1353** for **train** and **106** for **test** datasets!\n",
    "\n",
    "But ok, we can't **remove** data from the **test**. Let's look at data types."
   ]
  },
  {
   "cell_type": "markdown",
   "id": "013e3b7d-9569-4046-812d-d9fd8d33883b",
   "metadata": {},
   "source": [
    "#### Data type of features"
   ]
  },
  {
   "cell_type": "code",
   "execution_count": 146,
   "id": "dab6194c-1b99-406a-8adf-0eff33eb9e2b",
   "metadata": {},
   "outputs": [],
   "source": [
    "# these steps don't need a date\n",
    "f.drop(columns='update_info_time', inplace=True) \n",
    "F_nunique = f.apply(lambda x: x.nunique())"
   ]
  },
  {
   "cell_type": "code",
   "execution_count": 305,
   "id": "c4789528-26ba-44d3-a04f-9bf46c9c1802",
   "metadata": {},
   "outputs": [
    {
     "data": {
      "text/plain": [
       "81     1\n",
       "85     1\n",
       "139    1\n",
       "75     1\n",
       "203    1\n",
       "197    2\n",
       "196    2\n",
       "26     2\n",
       "27     2\n",
       "31     2\n",
       "dtype: int64"
      ]
     },
     "execution_count": 305,
     "metadata": {},
     "output_type": "execute_result"
    }
   ],
   "source": [
    "F_nunique.sort_values().head(10)"
   ]
  },
  {
   "cell_type": "code",
   "execution_count": 203,
   "id": "2cc5ce39-d3df-4b18-aa14-755bdd947796",
   "metadata": {},
   "outputs": [
    {
     "data": {
      "image/png": "[encoded data removed]",
      "text/plain": [
       "<Figure size 720x360 with 1 Axes>"
      ]
     },
     "metadata": {},
     "output_type": "display_data"
    }
   ],
   "source": [
    "plt.title(\"Distribution of unique feature values\");\n",
    "F_nunique.hist(bins=100, figsize=(10, 5), color='b');"
   ]
  },
  {
   "cell_type": "code",
   "execution_count": 256,
   "id": "d2d0e99f-b91b-41ac-a876-251bb70bb27a",
   "metadata": {},
   "outputs": [
    {
     "data": {
      "text/plain": [
       "253"
      ]
     },
     "execution_count": 256,
     "metadata": {},
     "output_type": "execute_result"
    }
   ],
   "source": [
    "f_all = set(F_nunique.index.tolist())\n",
    "len(f_all)"
   ]
  },
  {
   "cell_type": "markdown",
   "id": "a5a4ed19-2903-4ae7-8ea0-3cc557cab16f",
   "metadata": {},
   "source": [
    "#### Constant features"
   ]
  },
  {
   "cell_type": "code",
   "execution_count": 257,
   "id": "8ca82729-0045-41f8-a86d-5a53de623175",
   "metadata": {},
   "outputs": [
    {
     "data": {
      "text/plain": [
       "5"
      ]
     },
     "execution_count": 257,
     "metadata": {},
     "output_type": "execute_result"
    }
   ],
   "source": [
    "f_const = set(F_nunique[F_nunique == 1].index.tolist())\n",
    "len(f_const)"
   ]
  },
  {
   "cell_type": "code",
   "execution_count": 258,
   "id": "498f2462-dcd4-4216-b991-d8d7b33508fc",
   "metadata": {},
   "outputs": [
    {
     "data": {
      "text/plain": [
       "{'139', '203', '75', '81', '85'}"
      ]
     },
     "execution_count": 258,
     "metadata": {},
     "output_type": "execute_result"
    }
   ],
   "source": [
    "f_const"
   ]
  },
  {
   "cell_type": "code",
   "execution_count": 151,
   "id": "3299b8b7-d82d-4b4c-940e-6f5fce8a09f7",
   "metadata": {},
   "outputs": [
    {
     "data": {
      "text/html": [
       "<div>\n",
       "<style scoped>\n",
       "    .dataframe tbody tr th:only-of-type {\n",
       "        vertical-align: middle;\n",
       "    }\n",
       "\n",
       "    .dataframe tbody tr th {\n",
       "        vertical-align: top;\n",
       "    }\n",
       "\n",
       "    .dataframe thead th {\n",
       "        text-align: right;\n",
       "    }\n",
       "</style>\n",
       "<table border=\"1\" class=\"dataframe\">\n",
       "  <thead>\n",
       "    <tr style=\"text-align: right;\">\n",
       "      <th></th>\n",
       "      <th>81</th>\n",
       "      <th>75</th>\n",
       "      <th>85</th>\n",
       "      <th>139</th>\n",
       "      <th>203</th>\n",
       "    </tr>\n",
       "    <tr>\n",
       "      <th>id</th>\n",
       "      <th></th>\n",
       "      <th></th>\n",
       "      <th></th>\n",
       "      <th></th>\n",
       "      <th></th>\n",
       "    </tr>\n",
       "  </thead>\n",
       "  <tbody>\n",
       "    <tr>\n",
       "      <th>2046132</th>\n",
       "      <td>0.0</td>\n",
       "      <td>0.0</td>\n",
       "      <td>0.0</td>\n",
       "      <td>0.0</td>\n",
       "      <td>0.0</td>\n",
       "    </tr>\n",
       "    <tr>\n",
       "      <th>2050810</th>\n",
       "      <td>0.0</td>\n",
       "      <td>0.0</td>\n",
       "      <td>0.0</td>\n",
       "      <td>0.0</td>\n",
       "      <td>0.0</td>\n",
       "    </tr>\n",
       "  </tbody>\n",
       "</table>\n",
       "</div>"
      ],
      "text/plain": [
       "          81   75   85  139  203\n",
       "id                              \n",
       "2046132  0.0  0.0  0.0  0.0  0.0\n",
       "2050810  0.0  0.0  0.0  0.0  0.0"
      ]
     },
     "execution_count": 151,
     "metadata": {},
     "output_type": "execute_result"
    }
   ],
   "source": [
    "f[list(f_const)].head(2)"
   ]
  },
  {
   "cell_type": "markdown",
   "id": "8ade96c2-78de-4114-b83d-accd4a04467d",
   "metadata": {},
   "source": [
    "Constant features aren't needed. Let's **delete** them"
   ]
  },
  {
   "cell_type": "code",
   "execution_count": 205,
   "id": "92a25e1f-bc22-44b2-bddc-9a32019f9198",
   "metadata": {},
   "outputs": [],
   "source": [
    "# train.drop(columns=list(f_const), inplace=True)\n",
    "# test.drop(columns=list(f_const), inplace=True)"
   ]
  },
  {
   "cell_type": "markdown",
   "id": "34ee31d5-2042-4378-afd6-e1f85f397984",
   "metadata": {},
   "source": [
    "#### Binary features"
   ]
  },
  {
   "cell_type": "code",
   "execution_count": 259,
   "id": "10d49fa0-d641-41a1-93f1-0598bf40dcf9",
   "metadata": {},
   "outputs": [
    {
     "data": {
      "text/plain": [
       "20"
      ]
     },
     "execution_count": 259,
     "metadata": {},
     "output_type": "execute_result"
    }
   ],
   "source": [
    "f_binary = set(F_nunique[F_nunique == 2].index.tolist())\n",
    "len(f_binary)"
   ]
  },
  {
   "cell_type": "code",
   "execution_count": 291,
   "id": "f9283947-1b47-477f-bfed-370aedcd03c3",
   "metadata": {},
   "outputs": [
    {
     "data": {
      "text/plain": [
       " 0.039208    798909\n",
       "-0.960792     32744\n",
       "Name: 204, dtype: int64"
      ]
     },
     "execution_count": 291,
     "metadata": {},
     "output_type": "execute_result"
    }
   ],
   "source": [
    "train[list(f_binary)][list(f_binary)[0]].value_counts()"
   ]
  },
  {
   "cell_type": "code",
   "execution_count": 292,
   "id": "0d30ff14-06e1-4bef-bed0-b95e0d6c185c",
   "metadata": {},
   "outputs": [
    {
     "data": {
      "text/plain": [
       "-0.334356    551507\n",
       " 0.665644    280146\n",
       "Name: 205, dtype: int64"
      ]
     },
     "execution_count": 292,
     "metadata": {},
     "output_type": "execute_result"
    }
   ],
   "source": [
    "train[list(f_binary)][list(f_binary)[1]].value_counts()"
   ]
  },
  {
   "cell_type": "markdown",
   "id": "8a202f0e-8bc7-43c2-af54-024462b18946",
   "metadata": {},
   "source": [
    "It's like **normalized** data with an offset. Let's not touch them."
   ]
  },
  {
   "cell_type": "code",
   "execution_count": 314,
   "id": "7ccbd602-e1ac-42b0-9e38-906e6944e055",
   "metadata": {},
   "outputs": [
    {
     "data": {
      "text/plain": [
       "228"
      ]
     },
     "execution_count": 314,
     "metadata": {},
     "output_type": "execute_result"
    }
   ],
   "source": [
    "f_other = f_all - (f_const | f_binary)\n",
    "len(f_other)"
   ]
  },
  {
   "cell_type": "markdown",
   "id": "532f7a98-0419-4159-99fa-db12a734166a",
   "metadata": {},
   "source": [
    "#### Categorical features"
   ]
  },
  {
   "cell_type": "code",
   "execution_count": 290,
   "id": "e21bdffc-3d10-4eea-9360-70a249175f10",
   "metadata": {},
   "outputs": [
    {
     "data": {
      "text/plain": [
       "9"
      ]
     },
     "execution_count": 290,
     "metadata": {},
     "output_type": "execute_result"
    }
   ],
   "source": [
    "f_categorical = set(F_nunique.loc[list(f_other)][F_nunique.loc[list(f_other)] <= 10].index.tolist())\n",
    "len(f_categorical)"
   ]
  },
  {
   "cell_type": "code",
   "execution_count": 302,
   "id": "8e8f5f31-6c2e-4598-b01b-0ac4c72db471",
   "metadata": {},
   "outputs": [
    {
     "data": {
      "text/plain": [
       " 1.426717    507859\n",
       "-3.573283    156915\n",
       " 0.426717     44657\n",
       "-0.573283     43606\n",
       "-1.573283     39909\n",
       "-2.573283     38707\n",
       "Name: 131, dtype: int64"
      ]
     },
     "execution_count": 302,
     "metadata": {},
     "output_type": "execute_result"
    }
   ],
   "source": [
    "train[list(f_categorical)][list(f_categorical)[0]].value_counts()"
   ]
  },
  {
   "cell_type": "code",
   "execution_count": 315,
   "id": "4a00b375-326d-4dbd-a842-570e08800109",
   "metadata": {},
   "outputs": [
    {
     "data": {
      "text/plain": [
       "219"
      ]
     },
     "execution_count": 315,
     "metadata": {},
     "output_type": "execute_result"
    }
   ],
   "source": [
    "f_other = f_other - f_categorical\n",
    "len(f_other)"
   ]
  },
  {
   "cell_type": "markdown",
   "id": "88c0aefa-a99c-4fdc-a0e8-7e3f2fb0fd7b",
   "metadata": {
    "tags": []
   },
   "source": [
    "#### Numeric features"
   ]
  },
  {
   "cell_type": "code",
   "execution_count": 308,
   "id": "5c8a2bf9-ea90-44e0-93a1-2ca8a4bcda34",
   "metadata": {},
   "outputs": [
    {
     "data": {
      "text/plain": [
       "218"
      ]
     },
     "execution_count": 308,
     "metadata": {},
     "output_type": "execute_result"
    }
   ],
   "source": [
    "f_numeric = (f[list(f_other)].astype(int).sum() - f[list(f_other)].sum()).abs()\n",
    "f_numeric = set(f_numeric[f_numeric > 0].index.tolist())\n",
    "len(f_numeric)"
   ]
  },
  {
   "cell_type": "markdown",
   "id": "9536f413-62b8-4db4-bc20-cbf6cb4d0fbe",
   "metadata": {},
   "source": [
    "#### Other features"
   ]
  },
  {
   "cell_type": "code",
   "execution_count": 316,
   "id": "59ffc7d6-bf35-4dd5-8511-fced5e06dbe6",
   "metadata": {},
   "outputs": [
    {
     "data": {
      "text/plain": [
       "(1, {'252'})"
      ]
     },
     "execution_count": 316,
     "metadata": {},
     "output_type": "execute_result"
    }
   ],
   "source": [
    "f_other = f_other - f_numeric\n",
    "len(f_other), f_other"
   ]
  },
  {
   "cell_type": "code",
   "execution_count": 317,
   "id": "418e90fa-b2a2-47a5-9902-00166d441730",
   "metadata": {},
   "outputs": [
    {
     "data": {
      "text/plain": [
       "(34,)"
      ]
     },
     "execution_count": 317,
     "metadata": {},
     "output_type": "execute_result"
    }
   ],
   "source": [
    "f[list(f_other)].value_counts().shape"
   ]
  },
  {
   "cell_type": "code",
   "execution_count": 318,
   "id": "c09fa012-0a12-4b69-8383-3c6906407bcc",
   "metadata": {},
   "outputs": [
    {
     "data": {
      "text/plain": [
       "252   \n",
       "0.0       674453\n",
       "1.0       227888\n",
       "2.0            5\n",
       "8.0            3\n",
       "3.0            3\n",
       "4.0            3\n",
       "10.0           3\n",
       "11.0           2\n",
       "13.0           2\n",
       "7.0            2\n",
       "5.0            2\n",
       "446.0          1\n",
       "77.0           1\n",
       "299.0          1\n",
       "284.0          1\n",
       "283.0          1\n",
       "251.0          1\n",
       "223.0          1\n",
       "195.0          1\n",
       "182.0          1\n",
       "84.0           1\n",
       "82.0           1\n",
       "24.0           1\n",
       "68.0           1\n",
       "44.0           1\n",
       "42.0           1\n",
       "36.0           1\n",
       "23.0           1\n",
       "22.0           1\n",
       "19.0           1\n",
       "18.0           1\n",
       "16.0           1\n",
       "6.0            1\n",
       "1743.0         1\n",
       "dtype: int64"
      ]
     },
     "execution_count": 318,
     "metadata": {},
     "output_type": "execute_result"
    }
   ],
   "source": [
    "f[list(f_other)].value_counts()"
   ]
  },
  {
   "cell_type": "markdown",
   "id": "b55fe8e1-aadb-47a5-85fe-3152b6ecc0c1",
   "metadata": {},
   "source": [
    "It **looks like** a categorical feature, with some very **rare** objects."
   ]
  },
  {
   "cell_type": "code",
   "execution_count": 350,
   "id": "7c1c5337-57c2-4927-97bd-90e395fd3a1e",
   "metadata": {},
   "outputs": [
    {
     "data": {
      "text/html": [
       "<div>\n",
       "<style scoped>\n",
       "    .dataframe tbody tr th:only-of-type {\n",
       "        vertical-align: middle;\n",
       "    }\n",
       "\n",
       "    .dataframe tbody tr th {\n",
       "        vertical-align: top;\n",
       "    }\n",
       "\n",
       "    .dataframe thead th {\n",
       "        text-align: right;\n",
       "    }\n",
       "</style>\n",
       "<table border=\"1\" class=\"dataframe\">\n",
       "  <thead>\n",
       "    <tr style=\"text-align: right;\">\n",
       "      <th></th>\n",
       "      <th>252</th>\n",
       "    </tr>\n",
       "  </thead>\n",
       "  <tbody>\n",
       "    <tr>\n",
       "      <th>0</th>\n",
       "      <td>0.0</td>\n",
       "    </tr>\n",
       "    <tr>\n",
       "      <th>1</th>\n",
       "      <td>0.0</td>\n",
       "    </tr>\n",
       "    <tr>\n",
       "      <th>2</th>\n",
       "      <td>1.0</td>\n",
       "    </tr>\n",
       "    <tr>\n",
       "      <th>3</th>\n",
       "      <td>1.0</td>\n",
       "    </tr>\n",
       "    <tr>\n",
       "      <th>4</th>\n",
       "      <td>0.0</td>\n",
       "    </tr>\n",
       "    <tr>\n",
       "      <th>...</th>\n",
       "      <td>...</td>\n",
       "    </tr>\n",
       "    <tr>\n",
       "      <th>831648</th>\n",
       "      <td>0.0</td>\n",
       "    </tr>\n",
       "    <tr>\n",
       "      <th>831649</th>\n",
       "      <td>0.0</td>\n",
       "    </tr>\n",
       "    <tr>\n",
       "      <th>831650</th>\n",
       "      <td>0.0</td>\n",
       "    </tr>\n",
       "    <tr>\n",
       "      <th>831651</th>\n",
       "      <td>0.0</td>\n",
       "    </tr>\n",
       "    <tr>\n",
       "      <th>831652</th>\n",
       "      <td>0.0</td>\n",
       "    </tr>\n",
       "  </tbody>\n",
       "</table>\n",
       "<p>831653 rows × 1 columns</p>\n",
       "</div>"
      ],
      "text/plain": [
       "        252\n",
       "0       0.0\n",
       "1       0.0\n",
       "2       1.0\n",
       "3       1.0\n",
       "4       0.0\n",
       "...     ...\n",
       "831648  0.0\n",
       "831649  0.0\n",
       "831650  0.0\n",
       "831651  0.0\n",
       "831652  0.0\n",
       "\n",
       "[831653 rows x 1 columns]"
      ]
     },
     "execution_count": 350,
     "metadata": {},
     "output_type": "execute_result"
    }
   ],
   "source": [
    "train[list(f_other)]"
   ]
  },
  {
   "cell_type": "code",
   "execution_count": 355,
   "id": "151550df-e122-412a-9342-2f5cb7258c71",
   "metadata": {},
   "outputs": [
    {
     "data": {
      "text/plain": [
       "0.0    39\n",
       "1.0     4\n",
       "Name: target, dtype: int64"
      ]
     },
     "execution_count": 355,
     "metadata": {},
     "output_type": "execute_result"
    }
   ],
   "source": [
    "train[train['252'] >= 2].target.value_counts()"
   ]
  },
  {
   "cell_type": "code",
   "execution_count": 354,
   "id": "92f5a008-fd93-41dd-9bf4-d9308f4bb71f",
   "metadata": {},
   "outputs": [
    {
     "data": {
      "text/html": [
       "<div>\n",
       "<style scoped>\n",
       "    .dataframe tbody tr th:only-of-type {\n",
       "        vertical-align: middle;\n",
       "    }\n",
       "\n",
       "    .dataframe tbody tr th {\n",
       "        vertical-align: top;\n",
       "    }\n",
       "\n",
       "    .dataframe thead th {\n",
       "        text-align: right;\n",
       "    }\n",
       "</style>\n",
       "<table border=\"1\" class=\"dataframe\">\n",
       "  <thead>\n",
       "    <tr style=\"text-align: right;\">\n",
       "      <th></th>\n",
       "      <th>id</th>\n",
       "      <th>vas_id</th>\n",
       "      <th>buy_time</th>\n",
       "      <th>target</th>\n",
       "      <th>update_info_time</th>\n",
       "      <th>0</th>\n",
       "      <th>1</th>\n",
       "      <th>2</th>\n",
       "      <th>3</th>\n",
       "      <th>4</th>\n",
       "      <th>...</th>\n",
       "      <th>243</th>\n",
       "      <th>244</th>\n",
       "      <th>245</th>\n",
       "      <th>246</th>\n",
       "      <th>247</th>\n",
       "      <th>248</th>\n",
       "      <th>249</th>\n",
       "      <th>250</th>\n",
       "      <th>251</th>\n",
       "      <th>252</th>\n",
       "    </tr>\n",
       "  </thead>\n",
       "  <tbody>\n",
       "    <tr>\n",
       "      <th>320995</th>\n",
       "      <td>4123710</td>\n",
       "      <td>2.0</td>\n",
       "      <td>1536526800</td>\n",
       "      <td>1.0</td>\n",
       "      <td>1531688400</td>\n",
       "      <td>-96.799971</td>\n",
       "      <td>-24.699112</td>\n",
       "      <td>-110.740786</td>\n",
       "      <td>-77.306798</td>\n",
       "      <td>-116.158246</td>\n",
       "      <td>...</td>\n",
       "      <td>-977.373846</td>\n",
       "      <td>-613.770792</td>\n",
       "      <td>-25.996269</td>\n",
       "      <td>-37.630448</td>\n",
       "      <td>-306.747724</td>\n",
       "      <td>-25.832889</td>\n",
       "      <td>-0.694428</td>\n",
       "      <td>-12.175933</td>\n",
       "      <td>-0.45614</td>\n",
       "      <td>2.0</td>\n",
       "    </tr>\n",
       "    <tr>\n",
       "      <th>412050</th>\n",
       "      <td>1809707</td>\n",
       "      <td>6.0</td>\n",
       "      <td>1538341200</td>\n",
       "      <td>1.0</td>\n",
       "      <td>1535922000</td>\n",
       "      <td>495.570029</td>\n",
       "      <td>186.730888</td>\n",
       "      <td>481.629214</td>\n",
       "      <td>134.123202</td>\n",
       "      <td>476.211754</td>\n",
       "      <td>...</td>\n",
       "      <td>-977.373846</td>\n",
       "      <td>-613.770792</td>\n",
       "      <td>-25.996269</td>\n",
       "      <td>-37.630448</td>\n",
       "      <td>-306.747724</td>\n",
       "      <td>-25.832889</td>\n",
       "      <td>-0.694428</td>\n",
       "      <td>-12.175933</td>\n",
       "      <td>-0.45614</td>\n",
       "      <td>3.0</td>\n",
       "    </tr>\n",
       "    <tr>\n",
       "      <th>536191</th>\n",
       "      <td>3906738</td>\n",
       "      <td>4.0</td>\n",
       "      <td>1541970000</td>\n",
       "      <td>1.0</td>\n",
       "      <td>1536526800</td>\n",
       "      <td>540.910029</td>\n",
       "      <td>233.770888</td>\n",
       "      <td>526.969214</td>\n",
       "      <td>181.163202</td>\n",
       "      <td>521.551754</td>\n",
       "      <td>...</td>\n",
       "      <td>-977.373846</td>\n",
       "      <td>-613.770792</td>\n",
       "      <td>-25.996269</td>\n",
       "      <td>-37.630448</td>\n",
       "      <td>-306.747724</td>\n",
       "      <td>-25.832889</td>\n",
       "      <td>-0.694428</td>\n",
       "      <td>-12.175933</td>\n",
       "      <td>-0.45614</td>\n",
       "      <td>11.0</td>\n",
       "    </tr>\n",
       "    <tr>\n",
       "      <th>651830</th>\n",
       "      <td>2215612</td>\n",
       "      <td>6.0</td>\n",
       "      <td>1544994000</td>\n",
       "      <td>1.0</td>\n",
       "      <td>1540155600</td>\n",
       "      <td>-96.799971</td>\n",
       "      <td>-399.699112</td>\n",
       "      <td>-110.740786</td>\n",
       "      <td>-452.306798</td>\n",
       "      <td>-114.038246</td>\n",
       "      <td>...</td>\n",
       "      <td>-977.373846</td>\n",
       "      <td>-613.770792</td>\n",
       "      <td>-25.996269</td>\n",
       "      <td>-37.630448</td>\n",
       "      <td>-306.747724</td>\n",
       "      <td>-25.832889</td>\n",
       "      <td>-0.694428</td>\n",
       "      <td>-12.175933</td>\n",
       "      <td>-0.45614</td>\n",
       "      <td>182.0</td>\n",
       "    </tr>\n",
       "  </tbody>\n",
       "</table>\n",
       "<p>4 rows × 253 columns</p>\n",
       "</div>"
      ],
      "text/plain": [
       "             id  vas_id    buy_time  target  update_info_time           0  \\\n",
       "320995  4123710     2.0  1536526800     1.0        1531688400  -96.799971   \n",
       "412050  1809707     6.0  1538341200     1.0        1535922000  495.570029   \n",
       "536191  3906738     4.0  1541970000     1.0        1536526800  540.910029   \n",
       "651830  2215612     6.0  1544994000     1.0        1540155600  -96.799971   \n",
       "\n",
       "                 1           2           3           4  ...         243  \\\n",
       "320995  -24.699112 -110.740786  -77.306798 -116.158246  ... -977.373846   \n",
       "412050  186.730888  481.629214  134.123202  476.211754  ... -977.373846   \n",
       "536191  233.770888  526.969214  181.163202  521.551754  ... -977.373846   \n",
       "651830 -399.699112 -110.740786 -452.306798 -114.038246  ... -977.373846   \n",
       "\n",
       "               244        245        246         247        248       249  \\\n",
       "320995 -613.770792 -25.996269 -37.630448 -306.747724 -25.832889 -0.694428   \n",
       "412050 -613.770792 -25.996269 -37.630448 -306.747724 -25.832889 -0.694428   \n",
       "536191 -613.770792 -25.996269 -37.630448 -306.747724 -25.832889 -0.694428   \n",
       "651830 -613.770792 -25.996269 -37.630448 -306.747724 -25.832889 -0.694428   \n",
       "\n",
       "              250      251    252  \n",
       "320995 -12.175933 -0.45614    2.0  \n",
       "412050 -12.175933 -0.45614    3.0  \n",
       "536191 -12.175933 -0.45614   11.0  \n",
       "651830 -12.175933 -0.45614  182.0  \n",
       "\n",
       "[4 rows x 253 columns]"
      ]
     },
     "execution_count": 354,
     "metadata": {},
     "output_type": "execute_result"
    }
   ],
   "source": [
    "train[(train['252'] >= 2) & (train['target'] == 1)]"
   ]
  },
  {
   "cell_type": "markdown",
   "id": "ea326229-6ec8-4c24-b029-9e4e83e5ae54",
   "metadata": {},
   "source": [
    "Since there are **~10%** of targets equal to **1**, then we cannot easily equate these categories with the largest strata **[0, 1]**. If this column is divided into categories, then the matrix will be **too sparse**. It will be possible to try to remove outliers and make a **binary** feature."
   ]
  },
  {
   "cell_type": "markdown",
   "id": "26aa9798-0b19-4cbe-9b59-90387f616868",
   "metadata": {},
   "source": [
    "### Make pipeline"
   ]
  },
  {
   "cell_type": "code",
   "execution_count": null,
   "id": "f66f9a45-5002-4523-9aee-827b71e7f7bc",
   "metadata": {},
   "outputs": [],
   "source": []
  },
  {
   "cell_type": "code",
   "execution_count": null,
   "id": "a83df39b-88c2-470a-a1ef-b2dc9e89bbe0",
   "metadata": {},
   "outputs": [],
   "source": []
  }
 ],
 "metadata": {
  "kernelspec": {
   "display_name": "Python 3 (ipykernel)",
   "language": "python",
   "name": "python3"
  },
  "language_info": {
   "codemirror_mode": {
    "name": "ipython",
    "version": 3
   },
   "file_extension": ".py",
   "mimetype": "text/x-python",
   "name": "python",
   "nbconvert_exporter": "python",
   "pygments_lexer": "ipython3",
   "version": "3.9.12"
  }
 },
 "nbformat": 4,
 "nbformat_minor": 5
}
