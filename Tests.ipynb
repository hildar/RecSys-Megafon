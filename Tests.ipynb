{
 "cells": [
  {
   "cell_type": "code",
   "execution_count": 1,
   "id": "eab782a8-edfb-4af1-8569-838690180d4b",
   "metadata": {
    "tags": []
   },
   "outputs": [],
   "source": [
    "import pandas as pd"
   ]
  },
  {
   "cell_type": "code",
   "execution_count": 1,
   "id": "12154e3d-2920-4056-8044-42a9333215ab",
   "metadata": {},
   "outputs": [
    {
     "data": {
      "text/plain": [
       "([1, 2, 3, 4, 5, 6, 7, 8, 9, 9],\n",
       " ['c', 'a', 'b', 'c', 'a', 'b', 'c', 'a', 'b', 'c'])"
      ]
     },
     "execution_count": 1,
     "metadata": {},
     "output_type": "execute_result"
    }
   ],
   "source": [
    "A = [1, 2, 3, 4, 5, 6, 7, 8, 9, 9]\n",
    "B = ['c', 'a', 'b', 'c', 'a', 'b', 'c', 'a', 'b', 'c']\n",
    "\n",
    "A, B"
   ]
  },
  {
   "cell_type": "code",
   "execution_count": 3,
   "id": "8666afb6-2627-45b8-bb96-dcd146265470",
   "metadata": {},
   "outputs": [],
   "source": [
    "def groupbysum(A: list, B: list) -> dict:\n",
    "    '''\n",
    "    dict{\n",
    "        'a': sum of a...\n",
    "        }\n",
    "    '''\n",
    "    \n",
    "    dt = dict()\n",
    "    \n",
    "    for a, b in zip(A, B):\n",
    "        # if b not in dt.keys():\n",
    "        #     dt[b] = a\n",
    "        # else:\n",
    "        #     dt[b] += a\n",
    "        dt[b] = dt.get(b, 0) + a\n",
    "        \n",
    "    return dt"
   ]
  },
  {
   "cell_type": "code",
   "execution_count": 4,
   "id": "df6a4e6f-52a1-46fd-9ffa-aab941ef1cf0",
   "metadata": {},
   "outputs": [],
   "source": [
    "# a = groupbysum(A, B)\n",
    "# a"
   ]
  },
  {
   "cell_type": "code",
   "execution_count": null,
   "id": "2abdf124-2c3e-417c-b50a-d1d9aed306a3",
   "metadata": {},
   "outputs": [],
   "source": []
  },
  {
   "cell_type": "code",
   "execution_count": null,
   "id": "d7dfdde8-2685-4f44-91e9-af537b1e647b",
   "metadata": {},
   "outputs": [],
   "source": []
  },
  {
   "cell_type": "code",
   "execution_count": 2,
   "id": "776ea42f-ca1f-4c07-8411-260d55ed5320",
   "metadata": {},
   "outputs": [
    {
     "data": {
      "text/plain": [
       "{1: 'this one'}"
      ]
     },
     "execution_count": 2,
     "metadata": {},
     "output_type": "execute_result"
    }
   ],
   "source": [
    "c = {}\n",
    "c[1] = 'this one'\n",
    "c"
   ]
  },
  {
   "cell_type": "code",
   "execution_count": 3,
   "id": "340c6d62-2d8a-4329-b015-cedb5ed53cbc",
   "metadata": {},
   "outputs": [
    {
     "data": {
      "text/plain": [
       "{1: 'this one', '1': 'this string one'}"
      ]
     },
     "execution_count": 3,
     "metadata": {},
     "output_type": "execute_result"
    }
   ],
   "source": [
    "c['1'] = 'this string one'\n",
    "c"
   ]
  },
  {
   "cell_type": "code",
   "execution_count": 4,
   "id": "e41b5b2a-9f75-4886-971a-b59528d0d618",
   "metadata": {},
   "outputs": [
    {
     "data": {
      "text/plain": [
       "{1: 'this one', '1': 'this string one', (3, 5): 'this tuple'}"
      ]
     },
     "execution_count": 4,
     "metadata": {},
     "output_type": "execute_result"
    }
   ],
   "source": [
    "c[(3, 5)] = 'this tuple'\n",
    "c"
   ]
  },
  {
   "cell_type": "code",
   "execution_count": 3,
   "id": "a15e5e6b-db53-4cb4-8c90-a32834aa7665",
   "metadata": {},
   "outputs": [],
   "source": [
    "# c[[4, 6, 6]] = 'this list'  # this does not work\n",
    "# c"
   ]
  },
  {
   "cell_type": "code",
   "execution_count": 1,
   "id": "407f5185-8e0e-4d26-b91e-2780b8363eea",
   "metadata": {},
   "outputs": [],
   "source": [
    "import numpy as np"
   ]
  },
  {
   "cell_type": "code",
   "execution_count": 75,
   "id": "11a6cb1f-3127-4895-805b-6d26434b0d02",
   "metadata": {},
   "outputs": [],
   "source": [
    "def check_similar(array, k=3):\n",
    "    keys = dict()\n",
    "    for i in range(len(array) - k + 1):\n",
    "        keys[i] = array[i : i + k]\n",
    "        \n",
    "    print(keys)\n",
    "    \n",
    "    for key in keys:\n",
    "        if len(set(keys[key])) < k:\n",
    "            print(keys[key])\n",
    "            return True\n",
    "    \n",
    "    return False"
   ]
  },
  {
   "cell_type": "code",
   "execution_count": 79,
   "id": "d348e3e7-b81f-4c16-96f6-750fa60ed66b",
   "metadata": {},
   "outputs": [
    {
     "name": "stdout",
     "output_type": "stream",
     "text": [
      "{0: [5, 5, 3], 1: [5, 3, 6], 2: [3, 6, 2], 3: [6, 2, 5], 4: [2, 5, 8], 5: [5, 8, 4], 6: [8, 4, 9], 7: [4, 9, 9]}\n",
      "[5, 5, 3]\n"
     ]
    },
    {
     "data": {
      "text/plain": [
       "True"
      ]
     },
     "execution_count": 79,
     "metadata": {},
     "output_type": "execute_result"
    }
   ],
   "source": [
    "l = np.random.randint(0, 10, 10).tolist()\n",
    "check_similar(l, k=3)"
   ]
  },
  {
   "cell_type": "code",
   "execution_count": 88,
   "id": "7f2beb5e-a881-4f58-8776-e96b85ddb948",
   "metadata": {},
   "outputs": [],
   "source": [
    "def check_similar(array, k=3):    \n",
    "    for i in range(len(array) - k + 1):        \n",
    "        sliced = array[i : i + k]        \n",
    "        if len(set(sliced)) < k:            \n",
    "            print(sliced)            \n",
    "            return True        \n",
    "    return False"
   ]
  },
  {
   "cell_type": "code",
   "execution_count": 89,
   "id": "a17f882e-d424-48e6-8853-ee20f576a8b0",
   "metadata": {},
   "outputs": [
    {
     "name": "stdout",
     "output_type": "stream",
     "text": [
      "[9, 3, 5, 3]\n"
     ]
    },
    {
     "data": {
      "text/plain": [
       "True"
      ]
     },
     "execution_count": 89,
     "metadata": {},
     "output_type": "execute_result"
    }
   ],
   "source": [
    "lst = np.random.randint(0, 10, 10).tolist()\n",
    "check_similar(lst, k=4)"
   ]
  },
  {
   "cell_type": "code",
   "execution_count": 183,
   "id": "23748e46-8155-4759-9b19-6f79e3781af5",
   "metadata": {},
   "outputs": [],
   "source": [
    "roman = {'I': 1, 'V': 5, 'X': 10, 'L': 50, 'C': 100, 'D': 500, 'M': 1000}"
   ]
  },
  {
   "cell_type": "code",
   "execution_count": 184,
   "id": "6a85133a-45cc-4097-94d0-e89eaa98c345",
   "metadata": {},
   "outputs": [
    {
     "data": {
      "text/plain": [
       "{'I': 1, 'V': 5, 'X': 10, 'L': 50, 'C': 100, 'D': 500, 'M': 1000}"
      ]
     },
     "execution_count": 184,
     "metadata": {},
     "output_type": "execute_result"
    }
   ],
   "source": [
    "roman"
   ]
  },
  {
   "cell_type": "code",
   "execution_count": 187,
   "id": "44df9ea5-716f-487b-822a-791373b19fde",
   "metadata": {},
   "outputs": [
    {
     "name": "stdout",
     "output_type": "stream",
     "text": [
      "I\n",
      "V\n",
      "X\n",
      "L\n",
      "C\n",
      "D\n",
      "M\n"
     ]
    }
   ],
   "source": [
    "for i in roman:\n",
    "    print(i)"
   ]
  },
  {
   "cell_type": "code",
   "execution_count": 189,
   "id": "9a418743-4bf9-49b2-b452-12a632c2ec6f",
   "metadata": {},
   "outputs": [],
   "source": [
    "stroka = 'itisstring'"
   ]
  },
  {
   "cell_type": "code",
   "execution_count": 193,
   "id": "b2eb9f86-e5ea-4ef6-9be3-9f60291878b2",
   "metadata": {},
   "outputs": [
    {
     "data": {
      "text/plain": [
       "'iss'"
      ]
     },
     "execution_count": 193,
     "metadata": {},
     "output_type": "execute_result"
    }
   ],
   "source": [
    "stroka[2:5]"
   ]
  },
  {
   "cell_type": "code",
   "execution_count": 196,
   "id": "3af4bf3c-eaf6-474e-b813-553e4591083f",
   "metadata": {},
   "outputs": [],
   "source": [
    "lst = ['a', 'g', 's']"
   ]
  },
  {
   "cell_type": "code",
   "execution_count": 211,
   "id": "202d56db-59b0-419f-bd4b-e1a031bc3aa0",
   "metadata": {},
   "outputs": [
    {
     "data": {
      "text/plain": [
       "True"
      ]
     },
     "execution_count": 211,
     "metadata": {},
     "output_type": "execute_result"
    }
   ],
   "source": [
    "a = 12\n",
    "b = 12\n",
    "id(a) == id(b)"
   ]
  },
  {
   "cell_type": "code",
   "execution_count": 212,
   "id": "794ba8ae-0188-4f76-98b6-b2157d0fb31e",
   "metadata": {},
   "outputs": [
    {
     "data": {
      "text/plain": [
       "True"
      ]
     },
     "execution_count": 212,
     "metadata": {},
     "output_type": "execute_result"
    }
   ],
   "source": [
    "a = 'abc'\n",
    "b = 'abc'\n",
    "id(a) == id(b)"
   ]
  },
  {
   "cell_type": "code",
   "execution_count": 213,
   "id": "d84c1d1d-58d3-4e75-bb54-c25ceea1b8f4",
   "metadata": {},
   "outputs": [
    {
     "data": {
      "text/plain": [
       "'a'"
      ]
     },
     "execution_count": 213,
     "metadata": {},
     "output_type": "execute_result"
    }
   ],
   "source": [
    "a[:1]"
   ]
  },
  {
   "cell_type": "code",
   "execution_count": 224,
   "id": "a5642dfc-b6c3-4727-bd8e-4d10d1e890ba",
   "metadata": {},
   "outputs": [
    {
     "data": {
      "text/plain": [
       "[1, 2, 3, 4, 5, 6, 7, 8]"
      ]
     },
     "execution_count": 224,
     "metadata": {},
     "output_type": "execute_result"
    }
   ],
   "source": [
    "a = [1, 2, 3, 4, 5, 6, 7, 8]\n",
    "a"
   ]
  },
  {
   "cell_type": "code",
   "execution_count": 236,
   "id": "856df326-6869-4b2d-8be7-1be7daffbc7d",
   "metadata": {},
   "outputs": [
    {
     "data": {
      "text/plain": [
       "8"
      ]
     },
     "execution_count": 236,
     "metadata": {},
     "output_type": "execute_result"
    }
   ],
   "source": [
    "stop = len(a)\n",
    "stop"
   ]
  },
  {
   "cell_type": "code",
   "execution_count": 237,
   "id": "bc3c06a7-396a-4b7f-b4fd-963b408a72f5",
   "metadata": {},
   "outputs": [
    {
     "name": "stdout",
     "output_type": "stream",
     "text": [
      "8\n",
      "7\n",
      "6\n",
      "5\n",
      "4\n",
      "3\n",
      "2\n",
      "1\n"
     ]
    }
   ],
   "source": [
    "for i in range(stop):\n",
    "    # print(a[i])\n",
    "    print(stop)\n",
    "    stop -= 1"
   ]
  },
  {
   "cell_type": "code",
   "execution_count": 240,
   "id": "9bbcf674-31a3-4d7f-a980-7e30b03f4d8c",
   "metadata": {},
   "outputs": [],
   "source": [
    "a = [1, 2, 3, 4, 5, 6, 7, 8]"
   ]
  },
  {
   "cell_type": "code",
   "execution_count": 241,
   "id": "823fd4ba-0eff-40a2-908a-8bbedf821e00",
   "metadata": {},
   "outputs": [
    {
     "name": "stdout",
     "output_type": "stream",
     "text": [
      "2\n",
      "3\n",
      "4\n",
      "5\n"
     ]
    }
   ],
   "source": [
    "for i, val in enumerate(a, start=1):\n",
    "    print(a[i])\n",
    "    a.pop()"
   ]
  },
  {
   "cell_type": "code",
   "execution_count": 258,
   "id": "2dca5327-d55f-4c23-92ba-b69abb131246",
   "metadata": {},
   "outputs": [
    {
     "data": {
      "text/plain": [
       "False"
      ]
     },
     "execution_count": 258,
     "metadata": {},
     "output_type": "execute_result"
    }
   ],
   "source": [
    "0.1 + 0.2 == 0.3"
   ]
  },
  {
   "cell_type": "code",
   "execution_count": 253,
   "id": "89881efb-088a-42ec-bcaf-16eb48ef6048",
   "metadata": {},
   "outputs": [
    {
     "data": {
      "text/plain": [
       "True"
      ]
     },
     "execution_count": 253,
     "metadata": {},
     "output_type": "execute_result"
    }
   ],
   "source": [
    "0.3 == 0.3"
   ]
  },
  {
   "cell_type": "code",
   "execution_count": 256,
   "id": "a100ea63-1f3f-4016-bc37-88cfb5fa1a6a",
   "metadata": {},
   "outputs": [
    {
     "data": {
      "text/plain": [
       "0.30000000000000004"
      ]
     },
     "execution_count": 256,
     "metadata": {},
     "output_type": "execute_result"
    }
   ],
   "source": [
    "0.1 + 0.2"
   ]
  },
  {
   "cell_type": "code",
   "execution_count": null,
   "id": "1bf693e2-8b98-457e-89a4-f336a6da4ff3",
   "metadata": {},
   "outputs": [],
   "source": []
  },
  {
   "cell_type": "code",
   "execution_count": 8,
   "id": "1bc7634b-d20c-4fe8-b9d7-e52d4dd73a7a",
   "metadata": {},
   "outputs": [
    {
     "data": {
      "text/plain": [
       "({1, 2, 3}, {3, 4, 5}, {3, 5, 6, 7})"
      ]
     },
     "execution_count": 8,
     "metadata": {},
     "output_type": "execute_result"
    }
   ],
   "source": [
    "a = set([1, 2, 3, 3])\n",
    "b = set([3, 4, 4, 5])\n",
    "c = set([5, 6, 7, 3])\n",
    "a, b, c"
   ]
  },
  {
   "cell_type": "code",
   "execution_count": 9,
   "id": "da99cc39-e2af-4646-a7d8-cdf51ac0c238",
   "metadata": {},
   "outputs": [
    {
     "data": {
      "text/plain": [
       "{3}"
      ]
     },
     "execution_count": 9,
     "metadata": {},
     "output_type": "execute_result"
    }
   ],
   "source": [
    "a & b & c"
   ]
  },
  {
   "cell_type": "code",
   "execution_count": 12,
   "id": "be633bd1-5835-4d3a-9bbe-38291a5c0a96",
   "metadata": {},
   "outputs": [
    {
     "data": {
      "text/plain": [
       "{1, 2, 3, 4, 5, 6, 7}"
      ]
     },
     "execution_count": 12,
     "metadata": {},
     "output_type": "execute_result"
    }
   ],
   "source": [
    "a | b | c"
   ]
  },
  {
   "cell_type": "code",
   "execution_count": 13,
   "id": "39300adf-00ea-4b79-86f8-f0f092ba8ade",
   "metadata": {},
   "outputs": [
    {
     "data": {
      "text/plain": [
       "([1, 2, 2], [2, 3, 3])"
      ]
     },
     "execution_count": 13,
     "metadata": {},
     "output_type": "execute_result"
    }
   ],
   "source": [
    "a = [1, 2, 2]\n",
    "b = [2, 3, 3]\n",
    "a, b"
   ]
  },
  {
   "cell_type": "code",
   "execution_count": 14,
   "id": "fc54a8e4-1495-4928-913f-db1f7dd0ae83",
   "metadata": {},
   "outputs": [
    {
     "data": {
      "text/plain": [
       "[1, 2, 2, 2, 3, 3]"
      ]
     },
     "execution_count": 14,
     "metadata": {},
     "output_type": "execute_result"
    }
   ],
   "source": [
    "a + b"
   ]
  },
  {
   "cell_type": "code",
   "execution_count": null,
   "id": "28ecb4b2-b65e-4102-8b22-20be474f3264",
   "metadata": {},
   "outputs": [],
   "source": []
  }
 ],
 "metadata": {
  "kernelspec": {
   "display_name": "Python 3 (ipykernel)",
   "language": "python",
   "name": "python3"
  },
  "language_info": {
   "codemirror_mode": {
    "name": "ipython",
    "version": 3
   },
   "file_extension": ".py",
   "mimetype": "text/x-python",
   "name": "python",
   "nbconvert_exporter": "python",
   "pygments_lexer": "ipython3",
   "version": "3.9.12"
  }
 },
 "nbformat": 4,
 "nbformat_minor": 5
}
