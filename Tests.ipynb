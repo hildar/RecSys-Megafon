{
 "cells": [
  {
   "cell_type": "code",
   "execution_count": 3,
   "id": "12154e3d-2920-4056-8044-42a9333215ab",
   "metadata": {},
   "outputs": [
    {
     "data": {
      "text/plain": [
       "([1, 2, 3, 4, 5, 6, 7, 8, 9, 9],\n",
       " ['c', 'a', 'b', 'c', 'a', 'b', 'c', 'a', 'b', 'c'])"
      ]
     },
     "execution_count": 3,
     "metadata": {},
     "output_type": "execute_result"
    }
   ],
   "source": [
    "A = [1, 2, 3, 4, 5, 6, 7, 8, 9, 9]\n",
    "B = ['c', 'a', 'b', 'c', 'a', 'b', 'c', 'a', 'b', 'c']\n",
    "\n",
    "A, B"
   ]
  },
  {
   "cell_type": "code",
   "execution_count": 20,
   "id": "8666afb6-2627-45b8-bb96-dcd146265470",
   "metadata": {},
   "outputs": [],
   "source": [
    "def groupbysum(A: list, B: list) -> dict:\n",
    "    '''\n",
    "    dict{\n",
    "        'a': sum of a...\n",
    "        }\n",
    "    '''\n",
    "    \n",
    "    dt = dict()\n",
    "    \n",
    "    for a, b in zip(A, B):\n",
    "        # if b not in dt.keys():\n",
    "        #     dt[b] = a\n",
    "        # else:\n",
    "        #     dt[b] += a\n",
    "        dt[b] = dt.get(b, 0) + a\n",
    "        \n",
    "    return dt"
   ]
  },
  {
   "cell_type": "code",
   "execution_count": 21,
   "id": "df6a4e6f-52a1-46fd-9ffa-aab941ef1cf0",
   "metadata": {},
   "outputs": [
    {
     "data": {
      "text/plain": [
       "{'c': 21, 'a': 15, 'b': 18}"
      ]
     },
     "execution_count": 21,
     "metadata": {},
     "output_type": "execute_result"
    }
   ],
   "source": [
    "groupbysum(A, B)"
   ]
  },
  {
   "cell_type": "code",
   "execution_count": null,
   "id": "37b7960b-010b-4863-a6a7-cfded92b53f1",
   "metadata": {},
   "outputs": [],
   "source": []
  },
  {
   "cell_type": "code",
   "execution_count": 22,
   "id": "776ea42f-ca1f-4c07-8411-260d55ed5320",
   "metadata": {},
   "outputs": [
    {
     "data": {
      "text/plain": [
       "{1: 'this one'}"
      ]
     },
     "execution_count": 22,
     "metadata": {},
     "output_type": "execute_result"
    }
   ],
   "source": [
    "c = {}\n",
    "c[1] = 'this one'\n",
    "c"
   ]
  },
  {
   "cell_type": "code",
   "execution_count": 23,
   "id": "340c6d62-2d8a-4329-b015-cedb5ed53cbc",
   "metadata": {},
   "outputs": [
    {
     "data": {
      "text/plain": [
       "{1: 'this one', '1': 'this string one'}"
      ]
     },
     "execution_count": 23,
     "metadata": {},
     "output_type": "execute_result"
    }
   ],
   "source": [
    "c['1'] = 'this string one'\n",
    "c"
   ]
  },
  {
   "cell_type": "code",
   "execution_count": 24,
   "id": "e41b5b2a-9f75-4886-971a-b59528d0d618",
   "metadata": {},
   "outputs": [
    {
     "data": {
      "text/plain": [
       "{1: 'this one', '1': 'this string one', (3, 5): 'this tuple'}"
      ]
     },
     "execution_count": 24,
     "metadata": {},
     "output_type": "execute_result"
    }
   ],
   "source": [
    "c[(3, 5)] = 'this tuple'\n",
    "c"
   ]
  },
  {
   "cell_type": "code",
   "execution_count": 25,
   "id": "a15e5e6b-db53-4cb4-8c90-a32834aa7665",
   "metadata": {},
   "outputs": [
    {
     "ename": "TypeError",
     "evalue": "unhashable type: 'list'",
     "output_type": "error",
     "traceback": [
      "\u001b[0;31m---------------------------------------------------------------------------\u001b[0m",
      "\u001b[0;31mTypeError\u001b[0m                                 Traceback (most recent call last)",
      "Input \u001b[0;32mIn [25]\u001b[0m, in \u001b[0;36m<cell line: 1>\u001b[0;34m()\u001b[0m\n\u001b[0;32m----> 1\u001b[0m c[[\u001b[38;5;241m4\u001b[39m, \u001b[38;5;241m6\u001b[39m, \u001b[38;5;241m6\u001b[39m]] \u001b[38;5;241m=\u001b[39m \u001b[38;5;124m'\u001b[39m\u001b[38;5;124mthis list\u001b[39m\u001b[38;5;124m'\u001b[39m\n\u001b[1;32m      2\u001b[0m c\n",
      "\u001b[0;31mTypeError\u001b[0m: unhashable type: 'list'"
     ]
    }
   ],
   "source": [
    "c[[4, 6, 6]] = 'this list'\n",
    "c"
   ]
  },
  {
   "cell_type": "code",
   "execution_count": null,
   "id": "d348e3e7-b81f-4c16-96f6-750fa60ed66b",
   "metadata": {},
   "outputs": [],
   "source": []
  }
 ],
 "metadata": {
  "kernelspec": {
   "display_name": "Python 3 (ipykernel)",
   "language": "python",
   "name": "python3"
  },
  "language_info": {
   "codemirror_mode": {
    "name": "ipython",
    "version": 3
   },
   "file_extension": ".py",
   "mimetype": "text/x-python",
   "name": "python",
   "nbconvert_exporter": "python",
   "pygments_lexer": "ipython3",
   "version": "3.9.12"
  }
 },
 "nbformat": 4,
 "nbformat_minor": 5
}
