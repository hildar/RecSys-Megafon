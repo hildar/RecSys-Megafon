{
 "cells": [
  {
   "cell_type": "code",
   "execution_count": 3,
   "id": "12154e3d-2920-4056-8044-42a9333215ab",
   "metadata": {},
   "outputs": [
    {
     "data": {
      "text/plain": [
       "([1, 2, 3, 4, 5, 6, 7, 8, 9, 9],\n",
       " ['c', 'a', 'b', 'c', 'a', 'b', 'c', 'a', 'b', 'c'])"
      ]
     },
     "execution_count": 3,
     "metadata": {},
     "output_type": "execute_result"
    }
   ],
   "source": [
    "A = [1, 2, 3, 4, 5, 6, 7, 8, 9, 9]\n",
    "B = ['c', 'a', 'b', 'c', 'a', 'b', 'c', 'a', 'b', 'c']\n",
    "\n",
    "A, B"
   ]
  },
  {
   "cell_type": "code",
   "execution_count": 20,
   "id": "8666afb6-2627-45b8-bb96-dcd146265470",
   "metadata": {},
   "outputs": [],
   "source": [
    "def groupbysum(A: list, B: list) -> dict:\n",
    "    '''\n",
    "    dict{\n",
    "        'a': sum of a...\n",
    "        }\n",
    "    '''\n",
    "    \n",
    "    dt = dict()\n",
    "    \n",
    "    for a, b in zip(A, B):\n",
    "        # if b not in dt.keys():\n",
    "        #     dt[b] = a\n",
    "        # else:\n",
    "        #     dt[b] += a\n",
    "        dt[b] = dt.get(b, 0) + a\n",
    "        \n",
    "    return dt"
   ]
  },
  {
   "cell_type": "code",
   "execution_count": 21,
   "id": "df6a4e6f-52a1-46fd-9ffa-aab941ef1cf0",
   "metadata": {},
   "outputs": [
    {
     "data": {
      "text/plain": [
       "{'c': 21, 'a': 15, 'b': 18}"
      ]
     },
     "execution_count": 21,
     "metadata": {},
     "output_type": "execute_result"
    }
   ],
   "source": [
    "groupbysum(A, B)"
   ]
  },
  {
   "cell_type": "code",
   "execution_count": null,
   "id": "37b7960b-010b-4863-a6a7-cfded92b53f1",
   "metadata": {},
   "outputs": [],
   "source": []
  },
  {
   "cell_type": "code",
   "execution_count": 22,
   "id": "776ea42f-ca1f-4c07-8411-260d55ed5320",
   "metadata": {},
   "outputs": [
    {
     "data": {
      "text/plain": [
       "{1: 'this one'}"
      ]
     },
     "execution_count": 22,
     "metadata": {},
     "output_type": "execute_result"
    }
   ],
   "source": [
    "c = {}\n",
    "c[1] = 'this one'\n",
    "c"
   ]
  },
  {
   "cell_type": "code",
   "execution_count": 23,
   "id": "340c6d62-2d8a-4329-b015-cedb5ed53cbc",
   "metadata": {},
   "outputs": [
    {
     "data": {
      "text/plain": [
       "{1: 'this one', '1': 'this string one'}"
      ]
     },
     "execution_count": 23,
     "metadata": {},
     "output_type": "execute_result"
    }
   ],
   "source": [
    "c['1'] = 'this string one'\n",
    "c"
   ]
  },
  {
   "cell_type": "code",
   "execution_count": 24,
   "id": "e41b5b2a-9f75-4886-971a-b59528d0d618",
   "metadata": {},
   "outputs": [
    {
     "data": {
      "text/plain": [
       "{1: 'this one', '1': 'this string one', (3, 5): 'this tuple'}"
      ]
     },
     "execution_count": 24,
     "metadata": {},
     "output_type": "execute_result"
    }
   ],
   "source": [
    "c[(3, 5)] = 'this tuple'\n",
    "c"
   ]
  },
  {
   "cell_type": "code",
   "execution_count": 3,
   "id": "a15e5e6b-db53-4cb4-8c90-a32834aa7665",
   "metadata": {},
   "outputs": [],
   "source": [
    "# c[[4, 6, 6]] = 'this list'  # this does not work\n",
    "# c"
   ]
  },
  {
   "cell_type": "code",
   "execution_count": 1,
   "id": "407f5185-8e0e-4d26-b91e-2780b8363eea",
   "metadata": {},
   "outputs": [],
   "source": [
    "import numpy as np"
   ]
  },
  {
   "cell_type": "code",
   "execution_count": 75,
   "id": "11a6cb1f-3127-4895-805b-6d26434b0d02",
   "metadata": {},
   "outputs": [],
   "source": [
    "def check_similar(array, k=3):\n",
    "    keys = dict()\n",
    "    for i in range(len(array) - k + 1):\n",
    "        keys[i] = array[i : i + k]\n",
    "        \n",
    "    print(keys)\n",
    "    \n",
    "    for key in keys:\n",
    "        if len(set(keys[key])) < k:\n",
    "            print(keys[key])\n",
    "            return True\n",
    "    \n",
    "    return False"
   ]
  },
  {
   "cell_type": "code",
   "execution_count": 79,
   "id": "d348e3e7-b81f-4c16-96f6-750fa60ed66b",
   "metadata": {},
   "outputs": [
    {
     "name": "stdout",
     "output_type": "stream",
     "text": [
      "{0: [5, 5, 3], 1: [5, 3, 6], 2: [3, 6, 2], 3: [6, 2, 5], 4: [2, 5, 8], 5: [5, 8, 4], 6: [8, 4, 9], 7: [4, 9, 9]}\n",
      "[5, 5, 3]\n"
     ]
    },
    {
     "data": {
      "text/plain": [
       "True"
      ]
     },
     "execution_count": 79,
     "metadata": {},
     "output_type": "execute_result"
    }
   ],
   "source": [
    "l = np.random.randint(0, 10, 10).tolist()\n",
    "check_similar(l, k=3)"
   ]
  },
  {
   "cell_type": "code",
   "execution_count": 88,
   "id": "7f2beb5e-a881-4f58-8776-e96b85ddb948",
   "metadata": {},
   "outputs": [],
   "source": [
    "def check_similar(array, k=3):    \n",
    "    for i in range(len(array) - k + 1):        \n",
    "        sliced = array[i : i + k]        \n",
    "        if len(set(sliced)) < k:            \n",
    "            print(sliced)            \n",
    "            return True        \n",
    "    return False"
   ]
  },
  {
   "cell_type": "code",
   "execution_count": 89,
   "id": "a17f882e-d424-48e6-8853-ee20f576a8b0",
   "metadata": {},
   "outputs": [
    {
     "name": "stdout",
     "output_type": "stream",
     "text": [
      "[9, 3, 5, 3]\n"
     ]
    },
    {
     "data": {
      "text/plain": [
       "True"
      ]
     },
     "execution_count": 89,
     "metadata": {},
     "output_type": "execute_result"
    }
   ],
   "source": [
    "lst = np.random.randint(0, 10, 10).tolist()\n",
    "check_similar(lst, k=4)"
   ]
  },
  {
   "cell_type": "code",
   "execution_count": null,
   "id": "9b68d27b-2091-40c1-87eb-4e369f9cced6",
   "metadata": {},
   "outputs": [],
   "source": []
  }
 ],
 "metadata": {
  "kernelspec": {
   "display_name": "Python 3 (ipykernel)",
   "language": "python",
   "name": "python3"
  },
  "language_info": {
   "codemirror_mode": {
    "name": "ipython",
    "version": 3
   },
   "file_extension": ".py",
   "mimetype": "text/x-python",
   "name": "python",
   "nbconvert_exporter": "python",
   "pygments_lexer": "ipython3",
   "version": "3.9.12"
  }
 },
 "nbformat": 4,
 "nbformat_minor": 5
}
