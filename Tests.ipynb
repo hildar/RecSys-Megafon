{
 "cells": [
  {
   "cell_type": "code",
   "execution_count": 3,
   "id": "12154e3d-2920-4056-8044-42a9333215ab",
   "metadata": {},
   "outputs": [
    {
     "data": {
      "text/plain": [
       "([1, 2, 3, 4, 5, 6, 7, 8, 9, 9],\n",
       " ['c', 'a', 'b', 'c', 'a', 'b', 'c', 'a', 'b', 'c'])"
      ]
     },
     "execution_count": 3,
     "metadata": {},
     "output_type": "execute_result"
    }
   ],
   "source": [
    "A = [1, 2, 3, 4, 5, 6, 7, 8, 9, 9]\n",
    "B = ['c', 'a', 'b', 'c', 'a', 'b', 'c', 'a', 'b', 'c']\n",
    "\n",
    "A, B"
   ]
  },
  {
   "cell_type": "code",
   "execution_count": 20,
   "id": "8666afb6-2627-45b8-bb96-dcd146265470",
   "metadata": {},
   "outputs": [],
   "source": [
    "def groupbysum(A: list, B: list) -> dict:\n",
    "    '''\n",
    "    dict{\n",
    "        'a': sum of a...\n",
    "        }\n",
    "    '''\n",
    "    \n",
    "    dt = dict()\n",
    "    \n",
    "    for a, b in zip(A, B):\n",
    "        # if b not in dt.keys():\n",
    "        #     dt[b] = a\n",
    "        # else:\n",
    "        #     dt[b] += a\n",
    "        dt[b] = dt.get(b, 0) + a\n",
    "        \n",
    "    return dt"
   ]
  },
  {
   "cell_type": "code",
   "execution_count": 21,
   "id": "df6a4e6f-52a1-46fd-9ffa-aab941ef1cf0",
   "metadata": {},
   "outputs": [
    {
     "data": {
      "text/plain": [
       "{'c': 21, 'a': 15, 'b': 18}"
      ]
     },
     "execution_count": 21,
     "metadata": {},
     "output_type": "execute_result"
    }
   ],
   "source": [
    "groupbysum(A, B)"
   ]
  },
  {
   "cell_type": "code",
   "execution_count": null,
   "id": "37b7960b-010b-4863-a6a7-cfded92b53f1",
   "metadata": {},
   "outputs": [],
   "source": []
  }
 ],
 "metadata": {
  "kernelspec": {
   "display_name": "Python 3 (ipykernel)",
   "language": "python",
   "name": "python3"
  },
  "language_info": {
   "codemirror_mode": {
    "name": "ipython",
    "version": 3
   },
   "file_extension": ".py",
   "mimetype": "text/x-python",
   "name": "python",
   "nbconvert_exporter": "python",
   "pygments_lexer": "ipython3",
   "version": "3.9.12"
  }
 },
 "nbformat": 4,
 "nbformat_minor": 5
}
