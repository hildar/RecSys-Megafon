{
 "cells": [
  {
   "cell_type": "code",
   "execution_count": 10,
   "id": "dc36f03c-6968-4638-8aed-a90a6eb24052",
   "metadata": {},
   "outputs": [],
   "source": [
    "a = [4] \n",
    "b = 6"
   ]
  },
  {
   "cell_type": "code",
   "execution_count": 14,
   "id": "25fa06e9-ce73-4c65-b9f5-fc275191c3cf",
   "metadata": {},
   "outputs": [
    {
     "name": "stdout",
     "output_type": "stream",
     "text": [
      "list\n"
     ]
    }
   ],
   "source": [
    "if type(a) == list:\n",
    "    print('list')"
   ]
  },
  {
   "cell_type": "code",
   "execution_count": 15,
   "id": "df926729-552b-4556-bd80-8797119016dd",
   "metadata": {},
   "outputs": [
    {
     "data": {
      "text/plain": [
       "list"
      ]
     },
     "execution_count": 15,
     "metadata": {},
     "output_type": "execute_result"
    }
   ],
   "source": [
    "type(a)"
   ]
  },
  {
   "cell_type": "code",
   "execution_count": 17,
   "id": "d082c249-8004-42ae-9e78-012c008ea922",
   "metadata": {},
   "outputs": [
    {
     "data": {
      "text/plain": [
       "{1, 2, 3, 4, 6}"
      ]
     },
     "execution_count": 17,
     "metadata": {},
     "output_type": "execute_result"
    }
   ],
   "source": [
    "c = {2, 3, 6, 3, 4, 1}\n",
    "c"
   ]
  },
  {
   "cell_type": "code",
   "execution_count": 19,
   "id": "5d4a5383-50f4-4831-8940-9c59bb2626ac",
   "metadata": {},
   "outputs": [
    {
     "data": {
      "text/plain": [
       "140415013616320"
      ]
     },
     "execution_count": 19,
     "metadata": {},
     "output_type": "execute_result"
    }
   ],
   "source": [
    "id(c)"
   ]
  },
  {
   "cell_type": "code",
   "execution_count": 20,
   "id": "e603b655-5be5-4dbb-8d56-66bb6a0f90a5",
   "metadata": {},
   "outputs": [
    {
     "data": {
      "text/plain": [
       "140415013616320"
      ]
     },
     "execution_count": 20,
     "metadata": {},
     "output_type": "execute_result"
    }
   ],
   "source": [
    "c.add(9)\n",
    "id(c)"
   ]
  },
  {
   "cell_type": "code",
   "execution_count": 21,
   "id": "c44273c9-852c-4a17-9755-e3846b45c6ec",
   "metadata": {},
   "outputs": [
    {
     "data": {
      "text/plain": [
       "{1, 2, 3, 4, 6, 9}"
      ]
     },
     "execution_count": 21,
     "metadata": {},
     "output_type": "execute_result"
    }
   ],
   "source": [
    "c"
   ]
  },
  {
   "cell_type": "code",
   "execution_count": 23,
   "id": "2ccc8ded-f216-423d-93fb-4841667ec2fc",
   "metadata": {},
   "outputs": [
    {
     "data": {
      "text/plain": [
       "140415002672096"
      ]
     },
     "execution_count": 23,
     "metadata": {},
     "output_type": "execute_result"
    }
   ],
   "source": [
    "t = (2, 1, 2, 6, 4, 3)\n",
    "id(t)"
   ]
  },
  {
   "cell_type": "code",
   "execution_count": 26,
   "id": "4dd5e537-ac41-4930-8820-6f4bc2901cd1",
   "metadata": {},
   "outputs": [
    {
     "data": {
      "text/plain": [
       "(2, 1, 2, 6, 4, 3)"
      ]
     },
     "execution_count": 26,
     "metadata": {},
     "output_type": "execute_result"
    }
   ],
   "source": [
    "t"
   ]
  },
  {
   "cell_type": "code",
   "execution_count": null,
   "id": "12154e3d-2920-4056-8044-42a9333215ab",
   "metadata": {},
   "outputs": [],
   "source": []
  }
 ],
 "metadata": {
  "kernelspec": {
   "display_name": "Python 3 (ipykernel)",
   "language": "python",
   "name": "python3"
  },
  "language_info": {
   "codemirror_mode": {
    "name": "ipython",
    "version": 3
   },
   "file_extension": ".py",
   "mimetype": "text/x-python",
   "name": "python",
   "nbconvert_exporter": "python",
   "pygments_lexer": "ipython3",
   "version": "3.9.12"
  }
 },
 "nbformat": 4,
 "nbformat_minor": 5
}
