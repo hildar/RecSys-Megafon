{
 "cells": [
  {
   "cell_type": "code",
   "execution_count": 1,
   "metadata": {
    "id": "TX8gUG4eHJLo"
   },
   "outputs": [],
   "source": [
    "%matplotlib inline"
   ]
  },
  {
   "cell_type": "markdown",
   "metadata": {
    "id": "vEqlMPzjHJL-"
   },
   "source": [
    "# 1 Baseline"
   ]
  },
  {
   "cell_type": "markdown",
   "metadata": {
    "id": "Yb1w7gUWHJMA"
   },
   "source": [
    "Считываем данные, строим baseline модель и рассматриваем разные метрики и графики для задачи классификации."
   ]
  },
  {
   "cell_type": "code",
   "execution_count": 2,
   "metadata": {
    "id": "5mqY72dwHJMD"
   },
   "outputs": [],
   "source": [
    "import warnings\n",
    "warnings.filterwarnings(\"ignore\")"
   ]
  },
  {
   "cell_type": "code",
   "execution_count": 3,
   "metadata": {
    "id": "ht5nyN_hHJME",
    "outputId": "6aaa35d0-6a9e-4626-ee1c-bb5ddb417e6b"
   },
   "outputs": [
    {
     "name": "stdout",
     "output_type": "stream",
     "text": [
      "The scikit-learn version is 1.0.2.\n"
     ]
    }
   ],
   "source": [
    "import pandas as pd\n",
    "import numpy as np\n",
    "\n",
    "from matplotlib import pyplot as plt\n",
    "\n",
    "plt.style.use('ggplot')\n",
    "\n",
    "import sklearn\n",
    "print('The scikit-learn version is {}.'.format(sklearn.__version__))"
   ]
  },
  {
   "cell_type": "markdown",
   "metadata": {
    "id": "brPuEocVHJMI"
   },
   "source": [
    "### 1.1 Данные"
   ]
  },
  {
   "cell_type": "code",
   "execution_count": 13,
   "metadata": {
    "id": "3Re4AzZWHJMJ",
    "outputId": "f4af99ed-e15f-425b-d49d-dba3a8086cf4"
   },
   "outputs": [
    {
     "data": {
      "text/plain": [
       "(24521, 262)"
      ]
     },
     "execution_count": 13,
     "metadata": {},
     "output_type": "execute_result"
    }
   ],
   "source": [
    "data = pd.read_csv('binary_project.csv')\n",
    "data.shape"
   ]
  },
  {
   "cell_type": "code",
   "execution_count": 14,
   "metadata": {
    "id": "espxm2-DHJMM",
    "outputId": "a9ddfe31-8df3-4143-8f4c-a31726ee3d0b"
   },
   "outputs": [
    {
     "data": {
      "text/html": [
       "<div>\n",
       "<style scoped>\n",
       "    .dataframe tbody tr th:only-of-type {\n",
       "        vertical-align: middle;\n",
       "    }\n",
       "\n",
       "    .dataframe tbody tr th {\n",
       "        vertical-align: top;\n",
       "    }\n",
       "\n",
       "    .dataframe thead th {\n",
       "        text-align: right;\n",
       "    }\n",
       "</style>\n",
       "<table border=\"1\" class=\"dataframe\">\n",
       "  <thead>\n",
       "    <tr style=\"text-align: right;\">\n",
       "      <th></th>\n",
       "      <th>ID</th>\n",
       "      <th>TARGET</th>\n",
       "      <th>FEATURE_0</th>\n",
       "      <th>FEATURE_1</th>\n",
       "      <th>FEATURE_2</th>\n",
       "      <th>FEATURE_3</th>\n",
       "      <th>FEATURE_4</th>\n",
       "      <th>FEATURE_5</th>\n",
       "      <th>FEATURE_6</th>\n",
       "      <th>FEATURE_7</th>\n",
       "      <th>...</th>\n",
       "      <th>FEATURE_250</th>\n",
       "      <th>FEATURE_251</th>\n",
       "      <th>FEATURE_252</th>\n",
       "      <th>FEATURE_253</th>\n",
       "      <th>FEATURE_254</th>\n",
       "      <th>FEATURE_255</th>\n",
       "      <th>FEATURE_256</th>\n",
       "      <th>FEATURE_257</th>\n",
       "      <th>FEATURE_258</th>\n",
       "      <th>FEATURE_259</th>\n",
       "    </tr>\n",
       "  </thead>\n",
       "  <tbody>\n",
       "    <tr>\n",
       "      <th>0</th>\n",
       "      <td>1053371037</td>\n",
       "      <td>1</td>\n",
       "      <td>2.0</td>\n",
       "      <td>2.0</td>\n",
       "      <td>0.0</td>\n",
       "      <td>0.0</td>\n",
       "      <td>0.0</td>\n",
       "      <td>0.0</td>\n",
       "      <td>0.0</td>\n",
       "      <td>-114.527812</td>\n",
       "      <td>...</td>\n",
       "      <td>39.0</td>\n",
       "      <td>2.0</td>\n",
       "      <td>223.118594</td>\n",
       "      <td>290.015143</td>\n",
       "      <td>1.0</td>\n",
       "      <td>1.0</td>\n",
       "      <td>0.0</td>\n",
       "      <td>1.0</td>\n",
       "      <td>2.0</td>\n",
       "      <td>2.0</td>\n",
       "    </tr>\n",
       "    <tr>\n",
       "      <th>1</th>\n",
       "      <td>76507184</td>\n",
       "      <td>0</td>\n",
       "      <td>1.0</td>\n",
       "      <td>1.0</td>\n",
       "      <td>0.0</td>\n",
       "      <td>0.0</td>\n",
       "      <td>1.0</td>\n",
       "      <td>0.0</td>\n",
       "      <td>0.0</td>\n",
       "      <td>329.828334</td>\n",
       "      <td>...</td>\n",
       "      <td>25.0</td>\n",
       "      <td>82.0</td>\n",
       "      <td>479.616045</td>\n",
       "      <td>611.651594</td>\n",
       "      <td>0.0</td>\n",
       "      <td>1.0</td>\n",
       "      <td>0.0</td>\n",
       "      <td>1.0</td>\n",
       "      <td>1.0</td>\n",
       "      <td>1.0</td>\n",
       "    </tr>\n",
       "    <tr>\n",
       "      <th>2</th>\n",
       "      <td>76753690</td>\n",
       "      <td>1</td>\n",
       "      <td>0.0</td>\n",
       "      <td>0.0</td>\n",
       "      <td>0.0</td>\n",
       "      <td>0.0</td>\n",
       "      <td>0.0</td>\n",
       "      <td>0.0</td>\n",
       "      <td>0.0</td>\n",
       "      <td>17.427338</td>\n",
       "      <td>...</td>\n",
       "      <td>119.0</td>\n",
       "      <td>0.0</td>\n",
       "      <td>352.268014</td>\n",
       "      <td>564.573421</td>\n",
       "      <td>1.0</td>\n",
       "      <td>1.0</td>\n",
       "      <td>0.0</td>\n",
       "      <td>1.0</td>\n",
       "      <td>1.0</td>\n",
       "      <td>1.0</td>\n",
       "    </tr>\n",
       "    <tr>\n",
       "      <th>3</th>\n",
       "      <td>1026167358</td>\n",
       "      <td>0</td>\n",
       "      <td>1.0</td>\n",
       "      <td>1.0</td>\n",
       "      <td>0.0</td>\n",
       "      <td>0.0</td>\n",
       "      <td>0.0</td>\n",
       "      <td>0.0</td>\n",
       "      <td>0.0</td>\n",
       "      <td>23.621397</td>\n",
       "      <td>...</td>\n",
       "      <td>1.0</td>\n",
       "      <td>0.0</td>\n",
       "      <td>410.524985</td>\n",
       "      <td>421.653876</td>\n",
       "      <td>1.0</td>\n",
       "      <td>0.0</td>\n",
       "      <td>0.0</td>\n",
       "      <td>1.0</td>\n",
       "      <td>2.0</td>\n",
       "      <td>2.0</td>\n",
       "    </tr>\n",
       "    <tr>\n",
       "      <th>4</th>\n",
       "      <td>7220095746</td>\n",
       "      <td>0</td>\n",
       "      <td>4.0</td>\n",
       "      <td>3.0</td>\n",
       "      <td>1.0</td>\n",
       "      <td>0.0</td>\n",
       "      <td>1.0</td>\n",
       "      <td>0.0</td>\n",
       "      <td>0.0</td>\n",
       "      <td>677.745861</td>\n",
       "      <td>...</td>\n",
       "      <td>21.0</td>\n",
       "      <td>0.0</td>\n",
       "      <td>439.171356</td>\n",
       "      <td>476.189288</td>\n",
       "      <td>1.0</td>\n",
       "      <td>1.0</td>\n",
       "      <td>0.0</td>\n",
       "      <td>1.0</td>\n",
       "      <td>1.0</td>\n",
       "      <td>1.0</td>\n",
       "    </tr>\n",
       "  </tbody>\n",
       "</table>\n",
       "<p>5 rows × 262 columns</p>\n",
       "</div>"
      ],
      "text/plain": [
       "           ID  TARGET  FEATURE_0  FEATURE_1  FEATURE_2  FEATURE_3  FEATURE_4  \\\n",
       "0  1053371037       1        2.0        2.0        0.0        0.0        0.0   \n",
       "1    76507184       0        1.0        1.0        0.0        0.0        1.0   \n",
       "2    76753690       1        0.0        0.0        0.0        0.0        0.0   \n",
       "3  1026167358       0        1.0        1.0        0.0        0.0        0.0   \n",
       "4  7220095746       0        4.0        3.0        1.0        0.0        1.0   \n",
       "\n",
       "   FEATURE_5  FEATURE_6   FEATURE_7  ...  FEATURE_250  FEATURE_251  \\\n",
       "0        0.0        0.0 -114.527812  ...         39.0          2.0   \n",
       "1        0.0        0.0  329.828334  ...         25.0         82.0   \n",
       "2        0.0        0.0   17.427338  ...        119.0          0.0   \n",
       "3        0.0        0.0   23.621397  ...          1.0          0.0   \n",
       "4        0.0        0.0  677.745861  ...         21.0          0.0   \n",
       "\n",
       "   FEATURE_252  FEATURE_253  FEATURE_254  FEATURE_255  FEATURE_256  \\\n",
       "0   223.118594   290.015143          1.0          1.0          0.0   \n",
       "1   479.616045   611.651594          0.0          1.0          0.0   \n",
       "2   352.268014   564.573421          1.0          1.0          0.0   \n",
       "3   410.524985   421.653876          1.0          0.0          0.0   \n",
       "4   439.171356   476.189288          1.0          1.0          0.0   \n",
       "\n",
       "   FEATURE_257  FEATURE_258  FEATURE_259  \n",
       "0          1.0          2.0          2.0  \n",
       "1          1.0          1.0          1.0  \n",
       "2          1.0          1.0          1.0  \n",
       "3          1.0          2.0          2.0  \n",
       "4          1.0          1.0          1.0  \n",
       "\n",
       "[5 rows x 262 columns]"
      ]
     },
     "execution_count": 14,
     "metadata": {},
     "output_type": "execute_result"
    }
   ],
   "source": [
    "data.head()"
   ]
  },
  {
   "cell_type": "code",
   "execution_count": 15,
   "metadata": {
    "id": "L9p5ujNkHJMN"
   },
   "outputs": [],
   "source": [
    "data = data.set_index('ID')"
   ]
  },
  {
   "cell_type": "code",
   "execution_count": 16,
   "metadata": {
    "id": "jCPh-DSeHJMP"
   },
   "outputs": [],
   "source": [
    "# Разделим признаки и целевую переменную\n",
    "data_prelim = data.copy()\n",
    "\n",
    "X = data_prelim.drop('TARGET', axis=1)\n",
    "y = data_prelim['TARGET']"
   ]
  },
  {
   "cell_type": "markdown",
   "metadata": {
    "id": "EOB643JpHJMQ"
   },
   "source": [
    " "
   ]
  },
  {
   "cell_type": "code",
   "execution_count": 17,
   "metadata": {
    "id": "rHsYgSlYHJMR",
    "outputId": "9ed12b27-9f8d-426c-9cf5-d1cb8147ba04"
   },
   "outputs": [
    {
     "name": "stdout",
     "output_type": "stream",
     "text": [
      "ID уникален?  True\n",
      "Есть ли дубли в строках? 0\n",
      "Сколько процент признаков могут принимать null-значениями? 20%\n"
     ]
    }
   ],
   "source": [
    "print(\"ID уникален? \", X.index.is_unique)\n",
    "print(\"Есть ли дубли в строках?\", X.duplicated().sum())\n",
    "print(\"Сколько процент признаков могут принимать null-значениями? %d%%\" % float((X.isnull().sum() > 0).sum()/X.shape[1]*100))"
   ]
  },
  {
   "cell_type": "markdown",
   "metadata": {
    "id": "ocA4px1THJMT"
   },
   "source": [
    "**У 20% признаков есть прощенные значения**"
   ]
  },
  {
   "cell_type": "markdown",
   "metadata": {
    "id": "RvtQ0-pzHJMT"
   },
   "source": [
    " "
   ]
  },
  {
   "cell_type": "markdown",
   "metadata": {
    "id": "VLnOeIMvHJMU"
   },
   "source": [
    "### 1.2 Разделяем на train и test"
   ]
  },
  {
   "cell_type": "code",
   "execution_count": 20,
   "metadata": {
    "id": "aVCfBjTwHJMV",
    "outputId": "3805dbab-81c0-40b8-cd49-c6854f530119"
   },
   "outputs": [
    {
     "data": {
      "text/plain": [
       "0    0.708454\n",
       "1    0.291546\n",
       "Name: TARGET, dtype: float64"
      ]
     },
     "execution_count": 20,
     "metadata": {},
     "output_type": "execute_result"
    },
    {
     "data": {
      "image/png": "[encoded data removed]",
      "text/plain": [
       "<Figure size 432x288 with 1 Axes>"
      ]
     },
     "metadata": {},
     "output_type": "display_data"
    }
   ],
   "source": [
    "(y.value_counts()/y.shape[0]).plot(kind='bar', title='Распределение целевой переменной', color = ['r', 'b']);\n",
    "y.value_counts()/y.shape"
   ]
  },
  {
   "cell_type": "code",
   "execution_count": 21,
   "metadata": {
    "id": "LB67vtZQHJMW",
    "outputId": "1845ee4a-1f8a-46ca-a8d9-cf217e78fbc5"
   },
   "outputs": [
    {
     "name": "stdout",
     "output_type": "stream",
     "text": [
      "Train\n",
      "0    0.709299\n",
      "1    0.290701\n",
      "Name: TARGET, dtype: float64\n",
      "\n",
      "Test\n",
      "0    0.705921\n",
      "1    0.294079\n",
      "Name: TARGET, dtype: float64\n"
     ]
    }
   ],
   "source": [
    "from sklearn.model_selection import train_test_split\n",
    "\n",
    "# Зафиксируем значение random_state для воспроизводимости результатов.\n",
    "RANDOM_STATE = 888\n",
    "\n",
    "train_idx, test_idx = train_test_split(X.index, test_size=0.25, random_state=RANDOM_STATE)\n",
    "\n",
    "y_train, y_test = y.loc[train_idx], y.loc[test_idx]\n",
    "X_train, X_test = X.loc[train_idx], X.loc[test_idx]\n",
    "\n",
    "print(\"Train\")\n",
    "print(y.loc[train_idx].value_counts()/train_idx.shape[0])\n",
    "print()\n",
    "print(\"Test\")\n",
    "print(y.loc[test_idx].value_counts()/test_idx.shape[0])"
   ]
  },
  {
   "cell_type": "markdown",
   "metadata": {
    "id": "A6BkmECsHJMY"
   },
   "source": [
    " "
   ]
  },
  {
   "cell_type": "markdown",
   "metadata": {
    "id": "0OYYGG9cHJMZ"
   },
   "source": [
    "### 1.3 Pipeline для baseline модели"
   ]
  },
  {
   "cell_type": "markdown",
   "metadata": {
    "id": "8snjrp5uHJMa"
   },
   "source": [
    "Для построения baseline модели будем использовать логистическую регрессию."
   ]
  },
  {
   "cell_type": "code",
   "execution_count": 22,
   "metadata": {
    "id": "nw1YY7DGHJMa"
   },
   "outputs": [],
   "source": [
    "from sklearn.linear_model import LogisticRegression\n",
    "\n",
    "step_log_reg = ('log_reg', LogisticRegression(random_state=RANDOM_STATE, n_jobs=-1))"
   ]
  },
  {
   "cell_type": "markdown",
   "metadata": {
    "id": "1IhMz-kxHJMc"
   },
   "source": [
    "В датасете порядка 20% признаков содержат пропущенные значения. Т.к. логистическая регрессия не умеет обрабатывать пропущенные значения, мы должны заполнить их сами. Для этого воспользуемся классом sklearn.impute.SimpleImputer. У этого класса есть параметр strategy, который определяет способ заполнения пропусков. Он может принимать несколько значений."
   ]
  },
  {
   "cell_type": "code",
   "execution_count": 23,
   "metadata": {
    "id": "Gp2yKXutHJMd"
   },
   "outputs": [],
   "source": [
    "from sklearn.impute import SimpleImputer"
   ]
  },
  {
   "cell_type": "code",
   "execution_count": 24,
   "metadata": {
    "id": "BYm2YYKDHJMe",
    "outputId": "cb660f8c-2b1a-48a6-c889-d7ce56ce691d"
   },
   "outputs": [
    {
     "data": {
      "text/plain": [
       "SimpleImputer()"
      ]
     },
     "execution_count": 24,
     "metadata": {},
     "output_type": "execute_result"
    }
   ],
   "source": [
    "SimpleImputer()"
   ]
  },
  {
   "cell_type": "markdown",
   "metadata": {
    "id": "9-tWj-bWHJMg"
   },
   "source": [
    "Для baseline модели выставим параметр strategy в значение mean."
   ]
  },
  {
   "cell_type": "code",
   "execution_count": 27,
   "metadata": {
    "id": "VbvCiU_yHJMi"
   },
   "outputs": [],
   "source": [
    "step_imputer = (\"imputer\", SimpleImputer(strategy=\"mean\"))"
   ]
  },
  {
   "cell_type": "markdown",
   "metadata": {
    "id": "6KvWcQzlHJMj"
   },
   "source": [
    " "
   ]
  },
  {
   "cell_type": "markdown",
   "metadata": {
    "id": "2-HtzTOtHJMk"
   },
   "source": [
    "Базовый пайплайн будет состоять только из двух шагов:\n",
    "- Заполнение пропусков средним\n",
    "- Логистическая регрессия с базовыми параметрами"
   ]
  },
  {
   "cell_type": "code",
   "execution_count": 28,
   "metadata": {
    "id": "L4xlEV3UHJMl"
   },
   "outputs": [],
   "source": [
    "from sklearn.pipeline import Pipeline\n",
    "\n",
    "bl_estimator = Pipeline([\n",
    "    step_imputer,\n",
    "    step_log_reg\n",
    "])"
   ]
  },
  {
   "cell_type": "markdown",
   "metadata": {
    "id": "_x2XreKSHJMm"
   },
   "source": [
    " "
   ]
  },
  {
   "cell_type": "markdown",
   "metadata": {
    "id": "atnQ-6D0HJMm"
   },
   "source": [
    "### 1.4 Кросс-валидация"
   ]
  },
  {
   "cell_type": "markdown",
   "metadata": {
    "id": "DYXrwAaoHJMn"
   },
   "source": [
    "Для оценки качества модели будем использовать кросс-валидацию по 3-ем фолдам."
   ]
  },
  {
   "cell_type": "markdown",
   "metadata": {
    "id": "gup2iGsCHJMn"
   },
   "source": [
    "* Folds: 1 2 3\n",
    "    * Train: 1,2 Val: 3\n",
    "    * Train: 1,3 Val: 2\n",
    "    * Train: 2,3 Val: 1\n",
    "\n",
    "https://scikit-learn.org/stable/modules/model_evaluation.html#scoring-parameter\n",
    "\n",
    "Варианты:\n",
    "- ‘precision’, ‘recall’, ‘accuracy’, ‘f1’\n",
    "- ‘average_precision’, ‘roc_auc’"
   ]
  },
  {
   "cell_type": "code",
   "execution_count": 29,
   "metadata": {
    "id": "ULBoKIJLHJMp"
   },
   "outputs": [],
   "source": [
    "from sklearn.model_selection import KFold\n",
    "from sklearn.model_selection import cross_validate\n",
    "\n",
    "kfold_cv = KFold(n_splits=3, shuffle=True, random_state=RANDOM_STATE)\n",
    "\n",
    "def run_cv(estimator, cv, X, y, scoring='roc_auc', model_name=\"\"):\n",
    "    cv_res = cross_validate(estimator, X, y, cv=cv, scoring=scoring, n_jobs=-1)\n",
    "    \n",
    "    print(\"%s: %s = %0.2f (+/- %0.2f)\" % (model_name,\n",
    "                                         scoring,\n",
    "                                         cv_res['test_score'].mean(),\n",
    "                                         cv_res['test_score'].std() * 2))"
   ]
  },
  {
   "cell_type": "markdown",
   "metadata": {
    "id": "9KiRnJrmHJMq"
   },
   "source": [
    "Посмотрим на значение метрики на кросс-валидации, оно понадобится для сравнения с последующими моделями."
   ]
  },
  {
   "cell_type": "code",
   "execution_count": 32,
   "metadata": {
    "id": "nqZzBD7JHJMr",
    "outputId": "653abb22-5d7d-4afb-c880-7e793f8650e9"
   },
   "outputs": [
    {
     "name": "stderr",
     "output_type": "stream",
     "text": [
      "/Users/ildar/opt/anaconda3/lib/python3.9/site-packages/sklearn/linear_model/_logistic.py:814: ConvergenceWarning: lbfgs failed to converge (status=1):\n",
      "STOP: TOTAL NO. of ITERATIONS REACHED LIMIT.\n",
      "\n",
      "Increase the number of iterations (max_iter) or scale the data as shown in:\n",
      "    https://scikit-learn.org/stable/modules/preprocessing.html\n",
      "Please also refer to the documentation for alternative solver options:\n",
      "    https://scikit-learn.org/stable/modules/linear_model.html#logistic-regression\n",
      "  n_iter_i = _check_optimize_result(\n"
     ]
    },
    {
     "name": "stdout",
     "output_type": "stream",
     "text": [
      "Baseline: roc_auc = 0.64 (+/- 0.01)\n",
      "CPU times: user 24.6 ms, sys: 27.5 ms, total: 52.1 ms\n",
      "Wall time: 1.81 s\n"
     ]
    },
    {
     "name": "stderr",
     "output_type": "stream",
     "text": [
      "/Users/ildar/opt/anaconda3/lib/python3.9/site-packages/sklearn/linear_model/_logistic.py:814: ConvergenceWarning: lbfgs failed to converge (status=1):\n",
      "STOP: TOTAL NO. of ITERATIONS REACHED LIMIT.\n",
      "\n",
      "Increase the number of iterations (max_iter) or scale the data as shown in:\n",
      "    https://scikit-learn.org/stable/modules/preprocessing.html\n",
      "Please also refer to the documentation for alternative solver options:\n",
      "    https://scikit-learn.org/stable/modules/linear_model.html#logistic-regression\n",
      "  n_iter_i = _check_optimize_result(\n",
      "/Users/ildar/opt/anaconda3/lib/python3.9/site-packages/sklearn/linear_model/_logistic.py:814: ConvergenceWarning: lbfgs failed to converge (status=1):\n",
      "STOP: TOTAL NO. of ITERATIONS REACHED LIMIT.\n",
      "\n",
      "Increase the number of iterations (max_iter) or scale the data as shown in:\n",
      "    https://scikit-learn.org/stable/modules/preprocessing.html\n",
      "Please also refer to the documentation for alternative solver options:\n",
      "    https://scikit-learn.org/stable/modules/linear_model.html#logistic-regression\n",
      "  n_iter_i = _check_optimize_result(\n"
     ]
    }
   ],
   "source": [
    "%%time\n",
    "run_cv(bl_estimator, kfold_cv, X_train, y_train, model_name=\"Baseline\");"
   ]
  },
  {
   "cell_type": "markdown",
   "metadata": {
    "id": "2aowcEeDHJMy"
   },
   "source": [
    "### 1.5 Графики и метрики baseline модели на тесте"
   ]
  },
  {
   "cell_type": "code",
   "execution_count": 33,
   "metadata": {
    "id": "oVijZHkZHJMz"
   },
   "outputs": [
    {
     "name": "stderr",
     "output_type": "stream",
     "text": [
      "/Users/ildar/opt/anaconda3/lib/python3.9/site-packages/sklearn/linear_model/_logistic.py:814: ConvergenceWarning: lbfgs failed to converge (status=1):\n",
      "STOP: TOTAL NO. of ITERATIONS REACHED LIMIT.\n",
      "\n",
      "Increase the number of iterations (max_iter) or scale the data as shown in:\n",
      "    https://scikit-learn.org/stable/modules/preprocessing.html\n",
      "Please also refer to the documentation for alternative solver options:\n",
      "    https://scikit-learn.org/stable/modules/linear_model.html#logistic-regression\n",
      "  n_iter_i = _check_optimize_result(\n"
     ]
    }
   ],
   "source": [
    "bl_estimator.fit(X_train, y_train)\n",
    "\n",
    "bl_y_pred = bl_estimator.predict_proba(X_test)[:,1]"
   ]
  },
  {
   "cell_type": "code",
   "execution_count": 42,
   "metadata": {},
   "outputs": [
    {
     "data": {
      "text/plain": [
       "array([0.15063608, 0.15634581, 0.5030767 , ..., 0.16888887, 0.42362266,\n",
       "       0.38825509])"
      ]
     },
     "execution_count": 42,
     "metadata": {},
     "output_type": "execute_result"
    }
   ],
   "source": [
    "bl_y_pred"
   ]
  },
  {
   "cell_type": "code",
   "execution_count": 41,
   "metadata": {},
   "outputs": [
    {
     "data": {
      "text/plain": [
       "ID\n",
       "58198991      False\n",
       "437075004     False\n",
       "345260526      True\n",
       "749150565     False\n",
       "732888674      True\n",
       "              ...  \n",
       "46621619      False\n",
       "638336816     False\n",
       "1153011751     True\n",
       "5387687654    False\n",
       "526067674     False\n",
       "Name: TARGET, Length: 6131, dtype: bool"
      ]
     },
     "execution_count": 41,
     "metadata": {},
     "output_type": "execute_result"
    }
   ],
   "source": [
    "y_test.astype(bool)"
   ]
  },
  {
   "cell_type": "markdown",
   "metadata": {
    "id": "wsVXBtwOHJMz"
   },
   "source": [
    "#### Распределение предсказаний baseline модели"
   ]
  },
  {
   "cell_type": "code",
   "execution_count": 34,
   "metadata": {
    "id": "5QewxkdoHJM0",
    "outputId": "a95cc585-bf66-4f7c-9423-64ee02e6dcab"
   },
   "outputs": [
    {
     "data": {
      "image/png": "[encoded data removed]",
      "text/plain": [
       "<Figure size 432x288 with 1 Axes>"
      ]
     },
     "metadata": {},
     "output_type": "display_data"
    }
   ],
   "source": [
    "plt.title(\"Baseline: распределение предсказаний модели\")\n",
    "plt.hist(bl_y_pred[~y_test.astype(bool)], bins=100, color='r', alpha=0.7);\n",
    "plt.hist(bl_y_pred[y_test.astype(bool)], bins=100, color='b', alpha=0.7);"
   ]
  },
  {
   "cell_type": "markdown",
   "metadata": {
    "id": "l1hFPpEfHJM1"
   },
   "source": [
    "#### Roc и PR Кривые"
   ]
  },
  {
   "cell_type": "code",
   "execution_count": 43,
   "metadata": {
    "id": "VZ--zJDpHJM1"
   },
   "outputs": [],
   "source": [
    "from sklearn.metrics import precision_recall_curve, roc_curve, auc\n",
    "\n",
    "fpr, tpr, roc_thresholds = roc_curve(y_test, bl_y_pred)\n",
    "precision, recall, pr_thresholds = precision_recall_curve(y_test, bl_y_pred)"
   ]
  },
  {
   "cell_type": "code",
   "execution_count": 44,
   "metadata": {
    "id": "pxv-lAwRHJM2",
    "outputId": "72be62d4-4e55-49de-a44a-9ff26c705bca"
   },
   "outputs": [
    {
     "name": "stdout",
     "output_type": "stream",
     "text": [
      "Baseline: AUC_ROC = 0.625\n"
     ]
    },
    {
     "data": {
      "image/png": "[encoded data removed]",
      "text/plain": [
       "<Figure size 504x504 with 1 Axes>"
      ]
     },
     "metadata": {},
     "output_type": "display_data"
    }
   ],
   "source": [
    "def plot_roc_curve(fpr, tpr, model_name=\"\", color=None):\n",
    "    plt.plot(fpr, tpr, label='%s: ROC curve (area = %0.2f)' %\n",
    "             (model_name, auc(fpr, tpr)), color=color)\n",
    "    plt.plot([0, 1], [0, 1], 'k--')\n",
    "    plt.axis([0.0, 1.0, 0.0, 1.05])\n",
    "    plt.xlabel('False Positive Rate')\n",
    "    plt.ylabel('True Positive Rate')\n",
    "    plt.title('%s: Receiver operating characteristic curve' % model_name)\n",
    "    plt.legend(loc=\"lower right\")\n",
    "\n",
    "plt.figure(figsize=(7, 7))\n",
    "plot_roc_curve(fpr, tpr, \"Baseline\", color='r')\n",
    "print(\"Baseline: AUC_ROC = %.3f\" % auc(fpr, tpr))"
   ]
  },
  {
   "cell_type": "code",
   "execution_count": 45,
   "metadata": {
    "id": "Zgan7hWPHJM5",
    "outputId": "77c7457b-567e-430a-e1c7-662a0cc53ffc"
   },
   "outputs": [
    {
     "name": "stdout",
     "output_type": "stream",
     "text": [
      "Baseline: AUC_PR = 0.406\n"
     ]
    },
    {
     "data": {
      "image/png": "[encoded data removed]",
      "text/plain": [
       "<Figure size 504x504 with 1 Axes>"
      ]
     },
     "metadata": {},
     "output_type": "display_data"
    }
   ],
   "source": [
    "def plot_precision_recall_curve(recall, precision, model_name=\"\", color=None):\n",
    "    plt.plot(recall, precision, label='%s: Precision-Recall curve (area = %0.2f)' %\n",
    "             (model_name, auc(recall, precision)), color=color)\n",
    "    plt.xlabel('Recall')\n",
    "    plt.ylabel('Precision')\n",
    "    plt.title(\"%s: Precision-Recall curve\" % model_name)\n",
    "    plt.axis([0.0, 1.0, 0.0, 1.05])\n",
    "    plt.legend(loc=\"lower left\")\n",
    "\n",
    "plt.figure(figsize=(7, 7))\n",
    "    \n",
    "plot_precision_recall_curve(recall, precision, \"Baseline\", color='r')\n",
    "print(\"Baseline: AUC_PR = %.3f\" % auc(recall, precision))"
   ]
  },
  {
   "cell_type": "markdown",
   "metadata": {
    "id": "S-7vGo1YHJM7"
   },
   "source": [
    "Допустим, мы хотим построить классификатор, который будет находить не менее 80% multisim абонентов. Соответственно, имеем нижнюю границу 80% на полноту. Какую максимальную точность при этом можно получить? При каком значении порога?"
   ]
  },
  {
   "cell_type": "code",
   "execution_count": 46,
   "metadata": {
    "id": "TOS5LsVxHJM7",
    "outputId": "4557f502-dace-4d46-8a3c-5b4bf1d26960"
   },
   "outputs": [
    {
     "name": "stdout",
     "output_type": "stream",
     "text": [
      "Максимальную точность при этом: 0.338\n",
      "При каком пороге: 0.236\n"
     ]
    },
    {
     "data": {
      "image/png": "[encoded data removed]",
      "text/plain": [
       "<Figure size 432x288 with 1 Axes>"
      ]
     },
     "metadata": {},
     "output_type": "display_data"
    }
   ],
   "source": [
    "re80_mask = recall >= 0.8\n",
    "pr_target_idx = np.arange(len(precision))[re80_mask]\n",
    "pr_target = precision[re80_mask]\n",
    "\n",
    "max_pr_idx = pr_target_idx[np.argmax(pr_target)]\n",
    "\n",
    "\n",
    "print(\"Максимальную точность при этом: %.3f\" % precision[max_pr_idx])\n",
    "threshold80 = pr_thresholds[max_pr_idx]\n",
    "print (\"При каком пороге: %.3f\" % threshold80)\n",
    "\n",
    "plot_precision_recall_curve(recall[re80_mask], precision[re80_mask], color='r')"
   ]
  },
  {
   "cell_type": "markdown",
   "metadata": {
    "id": "Vkraeg8BHJM9"
   },
   "source": [
    "#### Матрица смежности"
   ]
  },
  {
   "cell_type": "code",
   "execution_count": 47,
   "metadata": {
    "id": "T873w4IBHJM9"
   },
   "outputs": [],
   "source": [
    "import itertools\n",
    "from sklearn.metrics import confusion_matrix\n",
    "\n",
    "def plot_confusion_matrix(cm, classes,\n",
    "                          model_name=\"\",\n",
    "                          normalize=False,\n",
    "                          cmap=plt.cm.Blues):\n",
    "    \"\"\"\n",
    "    This function prints and plots the confusion matrix.\n",
    "    Normalization can be applied by setting `normalize=True`.\n",
    "    \"\"\"\n",
    "    if normalize:\n",
    "        cm = cm.astype('float') / cm.sum(axis=1)[:, np.newaxis]\n",
    "        print(\"Normalized confusion matrix\")\n",
    "    else:\n",
    "        print('Confusion matrix, without normalization')\n",
    "\n",
    "    print(cm)\n",
    "\n",
    "    plt.imshow(cm, interpolation='nearest',  cmap=cmap)\n",
    "    \n",
    "    plt.grid(False)\n",
    "    plt.title('%s: confusion matrix' % model_name)\n",
    "    tick_marks = np.arange(len(classes))\n",
    "    plt.xticks(tick_marks, classes, rotation=45)\n",
    "    plt.yticks(tick_marks, classes)\n",
    "\n",
    "    fmt = '.2f' if normalize else 'd'\n",
    "    thresh = cm.max() / 2.\n",
    "    for i, j in itertools.product(range(cm.shape[0]), range(cm.shape[1])):\n",
    "        plt.text(j, i, format(cm[i, j], fmt),\n",
    "                 horizontalalignment=\"center\",\n",
    "                 color=\"white\" if cm[i, j] > thresh else \"black\")\n",
    "\n",
    "    plt.ylabel('True label')\n",
    "    plt.xlabel('Predicted label')\n",
    "    plt.tight_layout()"
   ]
  },
  {
   "cell_type": "code",
   "execution_count": 48,
   "metadata": {
    "id": "Gg4DNtL6HJM_",
    "outputId": "5addc521-e211-441a-bc00-446612bbe16c"
   },
   "outputs": [
    {
     "name": "stdout",
     "output_type": "stream",
     "text": [
      "Confusion matrix, without normalization\n",
      "[[4261   67]\n",
      " [1717   86]]\n"
     ]
    },
    {
     "data": {
      "image/png": "[encoded data removed]",
      "text/plain": [
       "<Figure size 432x288 with 1 Axes>"
      ]
     },
     "metadata": {},
     "output_type": "display_data"
    }
   ],
   "source": [
    "# TN                FP(Type II error)\n",
    "# \n",
    "# FN(Type I error)  TP\n",
    "\n",
    "cm = confusion_matrix(y_test, bl_y_pred > 0.5)\n",
    "plot_confusion_matrix(cm, classes=[\"0\", \"1\"], model_name=\"Baseline\");"
   ]
  },
  {
   "cell_type": "markdown",
   "metadata": {
    "id": "uiM6jr8zHJNA"
   },
   "source": [
    "#### classification_report"
   ]
  },
  {
   "cell_type": "code",
   "execution_count": 49,
   "metadata": {
    "id": "WWTxwxzBHJNB",
    "outputId": "b6412f33-27c1-4b29-e714-75dbe69e4753"
   },
   "outputs": [
    {
     "name": "stdout",
     "output_type": "stream",
     "text": [
      "              precision    recall  f1-score   support\n",
      "\n",
      "           0       0.71      0.98      0.83      4328\n",
      "           1       0.56      0.05      0.09      1803\n",
      "\n",
      "    accuracy                           0.71      6131\n",
      "   macro avg       0.64      0.52      0.46      6131\n",
      "weighted avg       0.67      0.71      0.61      6131\n",
      "\n"
     ]
    }
   ],
   "source": [
    "from sklearn.metrics import classification_report\n",
    "\n",
    "print(classification_report(y_test, bl_y_pred > 0.5))"
   ]
  },
  {
   "cell_type": "code",
   "execution_count": 51,
   "metadata": {
    "id": "W2SEx42uHJNC",
    "outputId": "2dbd0d17-ec2d-4ab3-febd-03e766728468"
   },
   "outputs": [
    {
     "name": "stdout",
     "output_type": "stream",
     "text": [
      "              accuracy = 0.71\n",
      "           1 precision = 0.56\n",
      "              1 recall = 0.05\n",
      "   micro avg precision = 0.71 \n",
      "   macro avg precision = 0.64 \n",
      "weighted avg precision = 0.67 \n"
     ]
    }
   ],
   "source": [
    "tn, fp, fn, tp = cm.ravel()\n",
    "\n",
    "precision = tp/(fp + tp)\n",
    "recall = tp/(fn + tp)\n",
    "\n",
    "accuracy = (tp + tn)/(fp + fn + tp + tn)\n",
    "\n",
    "micro_avg_pr    = (tn + tp) / (fn + tn + fp + tp)\n",
    "macro_avg_pr    = (tn/(fn + tn) + tp/(fp + tp))/2\n",
    "\n",
    "n_0 = (y_test == 0).sum()\n",
    "n_1 = (y_test == 1).sum()\n",
    "weighted_avg_pr = (n_0*tn/(fn + tn) + n_1*tp/(fp + tp))/(n_0 + n_1)\n",
    "\n",
    "print(\"              accuracy = %.2f\"   % float(accuracy))\n",
    "print(\"           1 precision = %.2f\"   % float(precision))\n",
    "print(\"              1 recall = %.2f\"   % float(recall))\n",
    "print(\"   micro avg precision = %.2f \"  % float(micro_avg_pr))\n",
    "print(\"   macro avg precision = %.2f \"  % float(macro_avg_pr))\n",
    "print(\"weighted avg precision = %.2f \"  % float(weighted_avg_pr))"
   ]
  },
  {
   "cell_type": "markdown",
   "metadata": {
    "id": "dGpHQ9t4HJNE"
   },
   "source": [
    "# 2 Определение типа признаков"
   ]
  },
  {
   "cell_type": "code",
   "execution_count": 52,
   "metadata": {
    "id": "F3a45eUIHJNE"
   },
   "outputs": [],
   "source": [
    "X_nunique = X.apply(lambda x: x.nunique(dropna=False))"
   ]
  },
  {
   "cell_type": "code",
   "execution_count": 53,
   "metadata": {
    "id": "Y1bIRljjHJNF",
    "outputId": "9c9e5deb-ec58-4e6b-c6d6-4a6d8eab9270"
   },
   "outputs": [
    {
     "data": {
      "text/plain": [
       "(260,)"
      ]
     },
     "execution_count": 53,
     "metadata": {},
     "output_type": "execute_result"
    }
   ],
   "source": [
    "X_nunique.shape"
   ]
  },
  {
   "cell_type": "code",
   "execution_count": 57,
   "metadata": {
    "id": "DLpIW9wcHJNG",
    "outputId": "6fc0818f-ed82-4b9b-90f6-d8fa81d09f2c"
   },
   "outputs": [
    {
     "data": {
      "image/png": "[encoded data removed]",
      "text/plain": [
       "<Figure size 720x360 with 1 Axes>"
      ]
     },
     "metadata": {},
     "output_type": "display_data"
    }
   ],
   "source": [
    "plt.title(\"Распределение уникальных значений признаков\");\n",
    "X_nunique.hist(bins=100, figsize=(10, 5));"
   ]
  },
  {
   "cell_type": "code",
   "execution_count": 58,
   "metadata": {
    "id": "Ro5AaPP8HJNH",
    "outputId": "aaf5a687-98f3-41e2-afff-cac3533fc990"
   },
   "outputs": [
    {
     "data": {
      "text/plain": [
       "260"
      ]
     },
     "execution_count": 58,
     "metadata": {},
     "output_type": "execute_result"
    }
   ],
   "source": [
    "f_all = set(X_nunique.index.tolist())\n",
    "len(f_all)"
   ]
  },
  {
   "cell_type": "markdown",
   "metadata": {
    "id": "7fFpRUo-HJNI"
   },
   "source": [
    "#### константные признаки"
   ]
  },
  {
   "cell_type": "code",
   "execution_count": 59,
   "metadata": {
    "id": "_eNNzR8hHJNJ",
    "outputId": "cfab275f-ab43-416f-b042-92d2228e43e0"
   },
   "outputs": [
    {
     "data": {
      "text/plain": [
       "4"
      ]
     },
     "execution_count": 59,
     "metadata": {},
     "output_type": "execute_result"
    }
   ],
   "source": [
    "f_const = set(X_nunique[X_nunique == 1].index.tolist())\n",
    "len(f_const)"
   ]
  },
  {
   "cell_type": "markdown",
   "metadata": {
    "id": "hWe9J4cZHJNK"
   },
   "source": [
    "#### вещественные признаки"
   ]
  },
  {
   "cell_type": "code",
   "execution_count": 60,
   "metadata": {
    "id": "3YdCKvlkHJNK",
    "outputId": "ef7575ba-2e20-459f-d2f3-735d2a921f68"
   },
   "outputs": [
    {
     "data": {
      "text/plain": [
       "130"
      ]
     },
     "execution_count": 60,
     "metadata": {},
     "output_type": "execute_result"
    }
   ],
   "source": [
    "f_numeric = (X.fillna(0).astype(int).sum() - X.fillna(0).sum()).abs()\n",
    "f_numeric = set(f_numeric[f_numeric > 0].index.tolist())\n",
    "len(f_numeric)"
   ]
  },
  {
   "cell_type": "code",
   "execution_count": 72,
   "metadata": {
    "id": "0OEh1mZnHJNM",
    "outputId": "265b9fe4-cb6c-4e32-93a8-901c4677271d"
   },
   "outputs": [
    {
     "data": {
      "text/plain": [
       "126"
      ]
     },
     "execution_count": 72,
     "metadata": {},
     "output_type": "execute_result"
    }
   ],
   "source": [
    "f_other = f_all - (f_numeric | f_const)\n",
    "len(f_other)"
   ]
  },
  {
   "cell_type": "markdown",
   "metadata": {
    "id": "Xo2npf_cHJNO"
   },
   "source": [
    "#### бинарные"
   ]
  },
  {
   "cell_type": "code",
   "execution_count": 73,
   "metadata": {
    "id": "Btici5llHJNP",
    "outputId": "42ceaa81-f730-44bf-ef96-0b75cf47d9c8"
   },
   "outputs": [
    {
     "data": {
      "text/plain": [
       "14"
      ]
     },
     "execution_count": 73,
     "metadata": {},
     "output_type": "execute_result"
    }
   ],
   "source": [
    "f_binary = set(X.loc[:, f_other].columns[(\n",
    "                      (X.loc[:, f_other].max() == 1) & \\\n",
    "                      (X.loc[:, f_other].min() == 0) & \\\n",
    "                      (X.loc[:, f_other].isnull().sum() == 0))])\n",
    "len(f_binary)"
   ]
  },
  {
   "cell_type": "code",
   "execution_count": 74,
   "metadata": {
    "id": "N0NZtLxwHJNQ",
    "outputId": "38525567-57a9-435a-a32a-72bc70f3ceec"
   },
   "outputs": [
    {
     "data": {
      "text/plain": [
       "112"
      ]
     },
     "execution_count": 74,
     "metadata": {},
     "output_type": "execute_result"
    }
   ],
   "source": [
    "f_other = f_other - f_binary\n",
    "len(f_other)"
   ]
  },
  {
   "cell_type": "markdown",
   "metadata": {
    "id": "BTE98dmHHJNR"
   },
   "source": [
    "#### категориальные"
   ]
  },
  {
   "cell_type": "code",
   "execution_count": 75,
   "metadata": {
    "id": "kH6IpGyLHJNS"
   },
   "outputs": [],
   "source": [
    "f_categorical = set(X_nunique.loc[f_other][X_nunique.loc[f_other] <= 10].index.tolist())\n",
    "f_numeric_extra = f_categorical"
   ]
  },
  {
   "cell_type": "code",
   "execution_count": 76,
   "metadata": {
    "id": "COq2df8cHJNT",
    "outputId": "729070c2-f365-4f11-be83-57c05e07181f"
   },
   "outputs": [
    {
     "data": {
      "text/plain": [
       "86"
      ]
     },
     "execution_count": 76,
     "metadata": {},
     "output_type": "execute_result"
    }
   ],
   "source": [
    "f_other = f_other - f_categorical\n",
    "len(f_other)"
   ]
  },
  {
   "cell_type": "code",
   "execution_count": 77,
   "metadata": {
    "id": "b10q87msHJNU"
   },
   "outputs": [],
   "source": [
    "f_numeric = f_numeric | f_other"
   ]
  },
  {
   "cell_type": "code",
   "execution_count": 78,
   "metadata": {
    "id": "szQkYvduHJNU",
    "outputId": "2de14b2e-508e-4224-f418-d7631e710325"
   },
   "outputs": [
    {
     "data": {
      "text/plain": [
       "0"
      ]
     },
     "execution_count": 78,
     "metadata": {},
     "output_type": "execute_result"
    }
   ],
   "source": [
    "f_other = f_other - f_numeric\n",
    "len(f_other)"
   ]
  },
  {
   "cell_type": "code",
   "execution_count": 79,
   "metadata": {
    "id": "U2Z_MhIAHJNV"
   },
   "outputs": [],
   "source": [
    "assert(X_nunique.shape[0] == len(f_const) + len(f_binary) + len(f_numeric) + len(f_categorical))"
   ]
  },
  {
   "cell_type": "code",
   "execution_count": 80,
   "metadata": {
    "id": "64EL_ocpHJNW",
    "outputId": "49f93cbc-ffcc-4b32-f603-3d47cfbdc7ec"
   },
   "outputs": [
    {
     "name": "stdout",
     "output_type": "stream",
     "text": [
      "f_all: 260\n",
      "\n",
      "f_const: 4\n",
      "f_binary: 14\n",
      "f_categorical: 26\n",
      "f_numeric: 216\n"
     ]
    }
   ],
   "source": [
    "print('f_all:', X.shape[1])\n",
    "print()\n",
    "print('f_const:', len(f_const))\n",
    "print('f_binary:', len(f_binary))\n",
    "print('f_categorical:', len(f_categorical))\n",
    "print('f_numeric:', len(f_numeric))\n",
    "\n",
    "f_ok = list(f_binary | f_categorical | f_numeric)\n",
    "f_binary, f_categorical, f_numeric = list(f_binary), list(f_categorical), list(f_numeric)"
   ]
  },
  {
   "cell_type": "markdown",
   "metadata": {
    "id": "grr64bsuHJNX"
   },
   "source": [
    " "
   ]
  },
  {
   "cell_type": "markdown",
   "metadata": {
    "id": "LCjlwMhDHJNX"
   },
   "source": [
    "# 3 sklearn.Pipeline"
   ]
  },
  {
   "cell_type": "markdown",
   "metadata": {
    "id": "h2IfE5zvHJNY"
   },
   "source": [
    "Pipeline-ы выполняют последовательность transformer-ов и могут завершаться финальным estimator-ом. Все объектов transformer-ы должны иметь два метода - fit и transform. Финальный Estimator должын иметь метод fit."
   ]
  },
  {
   "cell_type": "markdown",
   "metadata": {
    "id": "5RV8ZshzHJNY"
   },
   "source": [
    "### 3.1 Column Selector"
   ]
  },
  {
   "cell_type": "code",
   "execution_count": 81,
   "metadata": {
    "id": "l2WNj6mYHJNZ"
   },
   "outputs": [],
   "source": [
    "from sklearn.base import BaseEstimator, TransformerMixin"
   ]
  },
  {
   "cell_type": "code",
   "execution_count": 82,
   "metadata": {
    "id": "P4wy2pVPHJNa"
   },
   "outputs": [],
   "source": [
    "class ColumnSelector(BaseEstimator, TransformerMixin):\n",
    "    def __init__(self, columns):\n",
    "        self.columns = columns\n",
    "\n",
    "    def fit(self, X, y=None):\n",
    "        return self\n",
    "    \n",
    "    def transform(self, X):\n",
    "        assert isinstance(X, pd.DataFrame)\n",
    "\n",
    "        try:\n",
    "            return X[self.columns]\n",
    "        except KeyError:\n",
    "            cols_error = list(set(self.columns) - set(X.columns))\n",
    "            raise KeyError(\"DataFrame не содердит следующие колонки: %s\" % cols_error)"
   ]
  },
  {
   "cell_type": "code",
   "execution_count": 83,
   "metadata": {
    "id": "E_5UA44NHJNb"
   },
   "outputs": [],
   "source": [
    "cs_pipe = Pipeline([\n",
    "    ('cs', ColumnSelector(columns=['FEATURE_0', 'FEATURE_90', 'FEATURE_193', 'FEATURE_154'])),\n",
    "])"
   ]
  },
  {
   "cell_type": "code",
   "execution_count": 87,
   "metadata": {},
   "outputs": [
    {
     "data": {
      "text/html": [
       "<div>\n",
       "<style scoped>\n",
       "    .dataframe tbody tr th:only-of-type {\n",
       "        vertical-align: middle;\n",
       "    }\n",
       "\n",
       "    .dataframe tbody tr th {\n",
       "        vertical-align: top;\n",
       "    }\n",
       "\n",
       "    .dataframe thead th {\n",
       "        text-align: right;\n",
       "    }\n",
       "</style>\n",
       "<table border=\"1\" class=\"dataframe\">\n",
       "  <thead>\n",
       "    <tr style=\"text-align: right;\">\n",
       "      <th></th>\n",
       "      <th>FEATURE_0</th>\n",
       "      <th>FEATURE_90</th>\n",
       "      <th>FEATURE_193</th>\n",
       "      <th>FEATURE_154</th>\n",
       "    </tr>\n",
       "    <tr>\n",
       "      <th>ID</th>\n",
       "      <th></th>\n",
       "      <th></th>\n",
       "      <th></th>\n",
       "      <th></th>\n",
       "    </tr>\n",
       "  </thead>\n",
       "  <tbody>\n",
       "    <tr>\n",
       "      <th>58198991</th>\n",
       "      <td>0.0</td>\n",
       "      <td>-42.455826</td>\n",
       "      <td>NaN</td>\n",
       "      <td>0.0</td>\n",
       "    </tr>\n",
       "    <tr>\n",
       "      <th>437075004</th>\n",
       "      <td>0.0</td>\n",
       "      <td>41.479563</td>\n",
       "      <td>NaN</td>\n",
       "      <td>1.0</td>\n",
       "    </tr>\n",
       "    <tr>\n",
       "      <th>345260526</th>\n",
       "      <td>0.0</td>\n",
       "      <td>-43.313025</td>\n",
       "      <td>130.395302</td>\n",
       "      <td>1.0</td>\n",
       "    </tr>\n",
       "    <tr>\n",
       "      <th>749150565</th>\n",
       "      <td>3.0</td>\n",
       "      <td>226.743517</td>\n",
       "      <td>1184.360325</td>\n",
       "      <td>0.0</td>\n",
       "    </tr>\n",
       "    <tr>\n",
       "      <th>732888674</th>\n",
       "      <td>0.0</td>\n",
       "      <td>4.720634</td>\n",
       "      <td>NaN</td>\n",
       "      <td>1.0</td>\n",
       "    </tr>\n",
       "  </tbody>\n",
       "</table>\n",
       "</div>"
      ],
      "text/plain": [
       "           FEATURE_0  FEATURE_90  FEATURE_193  FEATURE_154\n",
       "ID                                                        \n",
       "58198991         0.0  -42.455826          NaN          0.0\n",
       "437075004        0.0   41.479563          NaN          1.0\n",
       "345260526        0.0  -43.313025   130.395302          1.0\n",
       "749150565        3.0  226.743517  1184.360325          0.0\n",
       "732888674        0.0    4.720634          NaN          1.0"
      ]
     },
     "execution_count": 87,
     "metadata": {},
     "output_type": "execute_result"
    }
   ],
   "source": [
    "X_test[['FEATURE_0', 'FEATURE_90', 'FEATURE_193', 'FEATURE_154']].head()"
   ]
  },
  {
   "cell_type": "code",
   "execution_count": 88,
   "metadata": {
    "id": "gDLt_FJfHJNc",
    "outputId": "2e910181-489a-42ad-a50c-89ec96692191"
   },
   "outputs": [
    {
     "data": {
      "text/html": [
       "<div>\n",
       "<style scoped>\n",
       "    .dataframe tbody tr th:only-of-type {\n",
       "        vertical-align: middle;\n",
       "    }\n",
       "\n",
       "    .dataframe tbody tr th {\n",
       "        vertical-align: top;\n",
       "    }\n",
       "\n",
       "    .dataframe thead th {\n",
       "        text-align: right;\n",
       "    }\n",
       "</style>\n",
       "<table border=\"1\" class=\"dataframe\">\n",
       "  <thead>\n",
       "    <tr style=\"text-align: right;\">\n",
       "      <th></th>\n",
       "      <th>FEATURE_0</th>\n",
       "      <th>FEATURE_90</th>\n",
       "      <th>FEATURE_193</th>\n",
       "      <th>FEATURE_154</th>\n",
       "    </tr>\n",
       "    <tr>\n",
       "      <th>ID</th>\n",
       "      <th></th>\n",
       "      <th></th>\n",
       "      <th></th>\n",
       "      <th></th>\n",
       "    </tr>\n",
       "  </thead>\n",
       "  <tbody>\n",
       "    <tr>\n",
       "      <th>58198991</th>\n",
       "      <td>0.0</td>\n",
       "      <td>-42.455826</td>\n",
       "      <td>NaN</td>\n",
       "      <td>0.0</td>\n",
       "    </tr>\n",
       "    <tr>\n",
       "      <th>437075004</th>\n",
       "      <td>0.0</td>\n",
       "      <td>41.479563</td>\n",
       "      <td>NaN</td>\n",
       "      <td>1.0</td>\n",
       "    </tr>\n",
       "    <tr>\n",
       "      <th>345260526</th>\n",
       "      <td>0.0</td>\n",
       "      <td>-43.313025</td>\n",
       "      <td>130.395302</td>\n",
       "      <td>1.0</td>\n",
       "    </tr>\n",
       "    <tr>\n",
       "      <th>749150565</th>\n",
       "      <td>3.0</td>\n",
       "      <td>226.743517</td>\n",
       "      <td>1184.360325</td>\n",
       "      <td>0.0</td>\n",
       "    </tr>\n",
       "    <tr>\n",
       "      <th>732888674</th>\n",
       "      <td>0.0</td>\n",
       "      <td>4.720634</td>\n",
       "      <td>NaN</td>\n",
       "      <td>1.0</td>\n",
       "    </tr>\n",
       "  </tbody>\n",
       "</table>\n",
       "</div>"
      ],
      "text/plain": [
       "           FEATURE_0  FEATURE_90  FEATURE_193  FEATURE_154\n",
       "ID                                                        \n",
       "58198991         0.0  -42.455826          NaN          0.0\n",
       "437075004        0.0   41.479563          NaN          1.0\n",
       "345260526        0.0  -43.313025   130.395302          1.0\n",
       "749150565        3.0  226.743517  1184.360325          0.0\n",
       "732888674        0.0    4.720634          NaN          1.0"
      ]
     },
     "execution_count": 88,
     "metadata": {},
     "output_type": "execute_result"
    }
   ],
   "source": [
    "# cs_pipe.fit(X_train)\n",
    "\n",
    "cs_pipe.transform(X_test).head()"
   ]
  },
  {
   "cell_type": "markdown",
   "metadata": {
    "id": "k4QAoZsVHJNd"
   },
   "source": [
    "### 3.2 Пайплайн обработки признаков"
   ]
  },
  {
   "cell_type": "code",
   "execution_count": 89,
   "metadata": {
    "id": "zTOvFxZ-HJNd"
   },
   "outputs": [],
   "source": [
    "from sklearn.pipeline import FeatureUnion, make_pipeline\n",
    "from sklearn.preprocessing import StandardScaler, OneHotEncoder"
   ]
  },
  {
   "cell_type": "code",
   "execution_count": 91,
   "metadata": {
    "id": "bMYL88h3HJNd"
   },
   "outputs": [],
   "source": [
    "f_prep_pipeline = make_pipeline(\n",
    "    ColumnSelector(columns=f_ok),\n",
    "    FeatureUnion(transformer_list=[\n",
    "        (\"numeric_features\", make_pipeline(\n",
    "            ColumnSelector(f_numeric),\n",
    "            SimpleImputer(strategy=\"mean\"),\n",
    "            StandardScaler()\n",
    "        )),\n",
    "        (\"categorical_features\", make_pipeline(\n",
    "            ColumnSelector(f_categorical),\n",
    "            SimpleImputer(strategy=\"most_frequent\"),\n",
    "            OneHotEncoder(handle_unknown='ignore')\n",
    "        )),\n",
    "        (\"boolean_features\", make_pipeline(\n",
    "            ColumnSelector(f_binary),\n",
    "        ))\n",
    "    ])\n",
    ")"
   ]
  },
  {
   "cell_type": "code",
   "execution_count": 92,
   "metadata": {
    "id": "jEJ8vST3HJNe",
    "outputId": "f2c61813-f594-4271-dabc-b80c92d50043"
   },
   "outputs": [
    {
     "data": {
      "text/plain": [
       "[('columnselector',\n",
       "  ColumnSelector(columns=['FEATURE_98', 'FEATURE_156', 'FEATURE_128',\n",
       "                          'FEATURE_241', 'FEATURE_36', 'FEATURE_253',\n",
       "                          'FEATURE_57', 'FEATURE_59', 'FEATURE_94', 'FEATURE_141',\n",
       "                          'FEATURE_242', 'FEATURE_26', 'FEATURE_239',\n",
       "                          'FEATURE_195', 'FEATURE_80', 'FEATURE_171',\n",
       "                          'FEATURE_13', 'FEATURE_219', 'FEATURE_150',\n",
       "                          'FEATURE_149', 'FEATURE_157', 'FEATURE_97',\n",
       "                          'FEATURE_88', 'FEATURE_178', 'FEATURE_42',\n",
       "                          'FEATURE_247', 'FEATURE_218', 'FEATURE_133',\n",
       "                          'FEATURE_102', 'FEATURE_72', ...])),\n",
       " ('featureunion',\n",
       "  FeatureUnion(transformer_list=[('numeric_features',\n",
       "                                  Pipeline(steps=[('columnselector',\n",
       "                                                   ColumnSelector(columns=['FEATURE_98',\n",
       "                                                                           'FEATURE_188',\n",
       "                                                                           'FEATURE_128',\n",
       "                                                                           'FEATURE_241',\n",
       "                                                                           'FEATURE_36',\n",
       "                                                                           'FEATURE_253',\n",
       "                                                                           'FEATURE_57',\n",
       "                                                                           'FEATURE_59',\n",
       "                                                                           'FEATURE_94',\n",
       "                                                                           'FEATURE_192',\n",
       "                                                                           'FEATURE_49',\n",
       "                                                                           'FEATURE_141',\n",
       "                                                                           'FEATURE_242',\n",
       "                                                                           'FEATURE_26',\n",
       "                                                                           'FEATURE_33',\n",
       "                                                                           'FEATURE_104',\n",
       "                                                                           'FEATURE_239',\n",
       "                                                                           'FEATURE_17...\n",
       "                                                   SimpleImputer(strategy='most_frequent')),\n",
       "                                                  ('onehotencoder',\n",
       "                                                   OneHotEncoder(handle_unknown='ignore'))])),\n",
       "                                 ('boolean_features',\n",
       "                                  Pipeline(steps=[('columnselector',\n",
       "                                                   ColumnSelector(columns=['FEATURE_255',\n",
       "                                                                           'FEATURE_6',\n",
       "                                                                           'FEATURE_18',\n",
       "                                                                           'FEATURE_2',\n",
       "                                                                           'FEATURE_19',\n",
       "                                                                           'FEATURE_15',\n",
       "                                                                           'FEATURE_254',\n",
       "                                                                           'FEATURE_16',\n",
       "                                                                           'FEATURE_159',\n",
       "                                                                           'FEATURE_17',\n",
       "                                                                           'FEATURE_5',\n",
       "                                                                           'FEATURE_4',\n",
       "                                                                           'FEATURE_140',\n",
       "                                                                           'FEATURE_11']))]))]))]"
      ]
     },
     "execution_count": 92,
     "metadata": {},
     "output_type": "execute_result"
    }
   ],
   "source": [
    "f_prep_pipeline.steps"
   ]
  },
  {
   "cell_type": "code",
   "execution_count": 93,
   "metadata": {
    "id": "VZ__g4C9HJNg",
    "outputId": "18af7695-af0a-443b-e27b-d1bf99998e5a"
   },
   "outputs": [
    {
     "data": {
      "text/plain": [
       "260"
      ]
     },
     "execution_count": 93,
     "metadata": {},
     "output_type": "execute_result"
    }
   ],
   "source": [
    "X_test.shape[1]"
   ]
  },
  {
   "cell_type": "code",
   "execution_count": 94,
   "metadata": {
    "id": "3tP9_fCXHJNh",
    "outputId": "1d3bada8-a68f-4e2b-e797-3d7d17a96de8"
   },
   "outputs": [
    {
     "data": {
      "text/plain": [
       "357"
      ]
     },
     "execution_count": 94,
     "metadata": {},
     "output_type": "execute_result"
    }
   ],
   "source": [
    "f_prep_pipeline.fit(X_train)\n",
    "\n",
    "n_features = f_prep_pipeline.transform(X_test).shape[1]\n",
    "n_features"
   ]
  },
  {
   "cell_type": "markdown",
   "metadata": {
    "id": "j4Bi-MLUHJNj"
   },
   "source": [
    "### 3.3 Gridsearch для пайплайнов"
   ]
  },
  {
   "cell_type": "code",
   "execution_count": 95,
   "metadata": {
    "id": "0_92Y3-xHJNk"
   },
   "outputs": [],
   "source": [
    "lg_pipe = make_pipeline(\n",
    "    f_prep_pipeline,\n",
    "    LogisticRegression(random_state=RANDOM_STATE)\n",
    ")"
   ]
  },
  {
   "cell_type": "markdown",
   "metadata": {
    "id": "pfqcVQO5HJNl"
   },
   "source": [
    " "
   ]
  },
  {
   "cell_type": "code",
   "execution_count": 96,
   "metadata": {
    "id": "Ht8cI6r5HJNm"
   },
   "outputs": [],
   "source": [
    "from sklearn.model_selection import GridSearchCV"
   ]
  },
  {
   "cell_type": "code",
   "execution_count": 97,
   "metadata": {
    "id": "JS9rF4e8HJNm"
   },
   "outputs": [],
   "source": [
    "def run_grid_search(estimator, X, y, params_grid, cv, scoring='roc_auc'):\n",
    "    gsc = GridSearchCV(estimator, params_grid, scoring=scoring, cv=cv, n_jobs=-1)\n",
    "\n",
    "    gsc.fit(X, y)\n",
    "    print(\"Best %s score: %.2f\" % (scoring, gsc.best_score_))\n",
    "    print()\n",
    "    print(\"Best parameters set found on development set:\")\n",
    "    print()\n",
    "    print(gsc.best_params_)\n",
    "    print()\n",
    "    print(\"Grid scores on development set:\")\n",
    "    print()\n",
    "\n",
    "    for i, params in enumerate(gsc.cv_results_['params']):\n",
    "        print(\"%0.3f (+/-%0.03f) for %r\"\n",
    "              % (gsc.cv_results_['mean_test_score'][i], gsc.cv_results_['std_test_score'][i] * 2, params))\n",
    "\n",
    "    print()\n",
    "    \n",
    "    return gsc"
   ]
  },
  {
   "cell_type": "markdown",
   "metadata": {
    "id": "V2Dzmu1LHJNn"
   },
   "source": [
    "Про поиск имен параметров"
   ]
  },
  {
   "cell_type": "code",
   "execution_count": 98,
   "metadata": {
    "id": "5lE03CEvHJNo",
    "outputId": "9a8d0cad-47a6-4fa8-ec7e-fb51bcf3ac2f"
   },
   "outputs": [
    {
     "data": {
      "text/plain": [
       "['pipeline__featureunion__numeric_features__simpleimputer',\n",
       " 'pipeline__featureunion__numeric_features__simpleimputer__add_indicator',\n",
       " 'pipeline__featureunion__numeric_features__simpleimputer__copy',\n",
       " 'pipeline__featureunion__numeric_features__simpleimputer__fill_value',\n",
       " 'pipeline__featureunion__numeric_features__simpleimputer__missing_values',\n",
       " 'pipeline__featureunion__numeric_features__simpleimputer__strategy',\n",
       " 'pipeline__featureunion__numeric_features__simpleimputer__verbose',\n",
       " 'pipeline__featureunion__categorical_features__simpleimputer',\n",
       " 'pipeline__featureunion__categorical_features__simpleimputer__add_indicator',\n",
       " 'pipeline__featureunion__categorical_features__simpleimputer__copy',\n",
       " 'pipeline__featureunion__categorical_features__simpleimputer__fill_value',\n",
       " 'pipeline__featureunion__categorical_features__simpleimputer__missing_values',\n",
       " 'pipeline__featureunion__categorical_features__simpleimputer__strategy',\n",
       " 'pipeline__featureunion__categorical_features__simpleimputer__verbose']"
      ]
     },
     "execution_count": 98,
     "metadata": {},
     "output_type": "execute_result"
    }
   ],
   "source": [
    "[k for k in lg_pipe.get_params().keys() if 'imputer' in k]"
   ]
  },
  {
   "cell_type": "code",
   "execution_count": 99,
   "metadata": {
    "id": "7Nx8hH8vHJNo",
    "outputId": "570744f2-5820-4807-aa9c-7720398548cb"
   },
   "outputs": [
    {
     "name": "stderr",
     "output_type": "stream",
     "text": [
      "/Users/ildar/opt/anaconda3/lib/python3.9/site-packages/sklearn/linear_model/_logistic.py:814: ConvergenceWarning: lbfgs failed to converge (status=1):\n",
      "STOP: TOTAL NO. of ITERATIONS REACHED LIMIT.\n",
      "\n",
      "Increase the number of iterations (max_iter) or scale the data as shown in:\n",
      "    https://scikit-learn.org/stable/modules/preprocessing.html\n",
      "Please also refer to the documentation for alternative solver options:\n",
      "    https://scikit-learn.org/stable/modules/linear_model.html#logistic-regression\n",
      "  n_iter_i = _check_optimize_result(\n",
      "/Users/ildar/opt/anaconda3/lib/python3.9/site-packages/sklearn/linear_model/_logistic.py:814: ConvergenceWarning: lbfgs failed to converge (status=1):\n",
      "STOP: TOTAL NO. of ITERATIONS REACHED LIMIT.\n",
      "\n",
      "Increase the number of iterations (max_iter) or scale the data as shown in:\n",
      "    https://scikit-learn.org/stable/modules/preprocessing.html\n",
      "Please also refer to the documentation for alternative solver options:\n",
      "    https://scikit-learn.org/stable/modules/linear_model.html#logistic-regression\n",
      "  n_iter_i = _check_optimize_result(\n",
      "/Users/ildar/opt/anaconda3/lib/python3.9/site-packages/sklearn/linear_model/_logistic.py:814: ConvergenceWarning: lbfgs failed to converge (status=1):\n",
      "STOP: TOTAL NO. of ITERATIONS REACHED LIMIT.\n",
      "\n",
      "Increase the number of iterations (max_iter) or scale the data as shown in:\n",
      "    https://scikit-learn.org/stable/modules/preprocessing.html\n",
      "Please also refer to the documentation for alternative solver options:\n",
      "    https://scikit-learn.org/stable/modules/linear_model.html#logistic-regression\n",
      "  n_iter_i = _check_optimize_result(\n",
      "/Users/ildar/opt/anaconda3/lib/python3.9/site-packages/sklearn/linear_model/_logistic.py:814: ConvergenceWarning: lbfgs failed to converge (status=1):\n",
      "STOP: TOTAL NO. of ITERATIONS REACHED LIMIT.\n",
      "\n",
      "Increase the number of iterations (max_iter) or scale the data as shown in:\n",
      "    https://scikit-learn.org/stable/modules/preprocessing.html\n",
      "Please also refer to the documentation for alternative solver options:\n",
      "    https://scikit-learn.org/stable/modules/linear_model.html#logistic-regression\n",
      "  n_iter_i = _check_optimize_result(\n",
      "/Users/ildar/opt/anaconda3/lib/python3.9/site-packages/sklearn/linear_model/_logistic.py:814: ConvergenceWarning: lbfgs failed to converge (status=1):\n",
      "STOP: TOTAL NO. of ITERATIONS REACHED LIMIT.\n",
      "\n",
      "Increase the number of iterations (max_iter) or scale the data as shown in:\n",
      "    https://scikit-learn.org/stable/modules/preprocessing.html\n",
      "Please also refer to the documentation for alternative solver options:\n",
      "    https://scikit-learn.org/stable/modules/linear_model.html#logistic-regression\n",
      "  n_iter_i = _check_optimize_result(\n",
      "/Users/ildar/opt/anaconda3/lib/python3.9/site-packages/sklearn/linear_model/_logistic.py:814: ConvergenceWarning: lbfgs failed to converge (status=1):\n",
      "STOP: TOTAL NO. of ITERATIONS REACHED LIMIT.\n",
      "\n",
      "Increase the number of iterations (max_iter) or scale the data as shown in:\n",
      "    https://scikit-learn.org/stable/modules/preprocessing.html\n",
      "Please also refer to the documentation for alternative solver options:\n",
      "    https://scikit-learn.org/stable/modules/linear_model.html#logistic-regression\n",
      "  n_iter_i = _check_optimize_result(\n"
     ]
    },
    {
     "name": "stdout",
     "output_type": "stream",
     "text": [
      "Best roc_auc score: 0.70\n",
      "\n",
      "Best parameters set found on development set:\n",
      "\n",
      "{'pipeline__featureunion__categorical_features__simpleimputer__fill_value': -1, 'pipeline__featureunion__categorical_features__simpleimputer__strategy': 'constant'}\n",
      "\n",
      "Grid scores on development set:\n",
      "\n",
      "0.701 (+/-0.023) for {'pipeline__featureunion__categorical_features__simpleimputer__fill_value': -1, 'pipeline__featureunion__categorical_features__simpleimputer__strategy': 'most_frequent'}\n",
      "0.701 (+/-0.021) for {'pipeline__featureunion__categorical_features__simpleimputer__fill_value': -1, 'pipeline__featureunion__categorical_features__simpleimputer__strategy': 'constant'}\n",
      "\n"
     ]
    }
   ],
   "source": [
    "param_grid = {\n",
    "    \"pipeline__featureunion__categorical_features__simpleimputer__strategy\": ['most_frequent', 'constant'],\n",
    "    \"pipeline__featureunion__categorical_features__simpleimputer__fill_value\": [-1],\n",
    "}\n",
    "\n",
    "lg_gsc = run_grid_search(lg_pipe, X_train, y_train, param_grid, kfold_cv)"
   ]
  },
  {
   "cell_type": "markdown",
   "metadata": {
    "id": "A3PWWeGpHJNp"
   },
   "source": [
    "Сравним с baseline моделью, у которой roc_auc = 0.67 (+/- 0.02)"
   ]
  },
  {
   "cell_type": "code",
   "execution_count": 100,
   "metadata": {
    "id": "UFOP2tSxHJNq",
    "outputId": "56559a76-6003-45bc-b417-b3edae4996ca"
   },
   "outputs": [
    {
     "name": "stderr",
     "output_type": "stream",
     "text": [
      "/Users/ildar/opt/anaconda3/lib/python3.9/site-packages/sklearn/linear_model/_logistic.py:814: ConvergenceWarning: lbfgs failed to converge (status=1):\n",
      "STOP: TOTAL NO. of ITERATIONS REACHED LIMIT.\n",
      "\n",
      "Increase the number of iterations (max_iter) or scale the data as shown in:\n",
      "    https://scikit-learn.org/stable/modules/preprocessing.html\n",
      "Please also refer to the documentation for alternative solver options:\n",
      "    https://scikit-learn.org/stable/modules/linear_model.html#logistic-regression\n",
      "  n_iter_i = _check_optimize_result(\n",
      "/Users/ildar/opt/anaconda3/lib/python3.9/site-packages/sklearn/linear_model/_logistic.py:814: ConvergenceWarning: lbfgs failed to converge (status=1):\n",
      "STOP: TOTAL NO. of ITERATIONS REACHED LIMIT.\n",
      "\n",
      "Increase the number of iterations (max_iter) or scale the data as shown in:\n",
      "    https://scikit-learn.org/stable/modules/preprocessing.html\n",
      "Please also refer to the documentation for alternative solver options:\n",
      "    https://scikit-learn.org/stable/modules/linear_model.html#logistic-regression\n",
      "  n_iter_i = _check_optimize_result(\n",
      "/Users/ildar/opt/anaconda3/lib/python3.9/site-packages/sklearn/linear_model/_logistic.py:814: ConvergenceWarning: lbfgs failed to converge (status=1):\n",
      "STOP: TOTAL NO. of ITERATIONS REACHED LIMIT.\n",
      "\n",
      "Increase the number of iterations (max_iter) or scale the data as shown in:\n",
      "    https://scikit-learn.org/stable/modules/preprocessing.html\n",
      "Please also refer to the documentation for alternative solver options:\n",
      "    https://scikit-learn.org/stable/modules/linear_model.html#logistic-regression\n",
      "  n_iter_i = _check_optimize_result(\n",
      "/Users/ildar/opt/anaconda3/lib/python3.9/site-packages/sklearn/linear_model/_logistic.py:814: ConvergenceWarning: lbfgs failed to converge (status=1):\n",
      "STOP: TOTAL NO. of ITERATIONS REACHED LIMIT.\n",
      "\n",
      "Increase the number of iterations (max_iter) or scale the data as shown in:\n",
      "    https://scikit-learn.org/stable/modules/preprocessing.html\n",
      "Please also refer to the documentation for alternative solver options:\n",
      "    https://scikit-learn.org/stable/modules/linear_model.html#logistic-regression\n",
      "  n_iter_i = _check_optimize_result(\n",
      "/Users/ildar/opt/anaconda3/lib/python3.9/site-packages/sklearn/linear_model/_logistic.py:814: ConvergenceWarning: lbfgs failed to converge (status=1):\n",
      "STOP: TOTAL NO. of ITERATIONS REACHED LIMIT.\n",
      "\n",
      "Increase the number of iterations (max_iter) or scale the data as shown in:\n",
      "    https://scikit-learn.org/stable/modules/preprocessing.html\n",
      "Please also refer to the documentation for alternative solver options:\n",
      "    https://scikit-learn.org/stable/modules/linear_model.html#logistic-regression\n",
      "  n_iter_i = _check_optimize_result(\n",
      "/Users/ildar/opt/anaconda3/lib/python3.9/site-packages/sklearn/linear_model/_logistic.py:814: ConvergenceWarning: lbfgs failed to converge (status=1):\n",
      "STOP: TOTAL NO. of ITERATIONS REACHED LIMIT.\n",
      "\n",
      "Increase the number of iterations (max_iter) or scale the data as shown in:\n",
      "    https://scikit-learn.org/stable/modules/preprocessing.html\n",
      "Please also refer to the documentation for alternative solver options:\n",
      "    https://scikit-learn.org/stable/modules/linear_model.html#logistic-regression\n",
      "  n_iter_i = _check_optimize_result(\n",
      "/Users/ildar/opt/anaconda3/lib/python3.9/site-packages/sklearn/linear_model/_logistic.py:814: ConvergenceWarning: lbfgs failed to converge (status=1):\n",
      "STOP: TOTAL NO. of ITERATIONS REACHED LIMIT.\n",
      "\n",
      "Increase the number of iterations (max_iter) or scale the data as shown in:\n",
      "    https://scikit-learn.org/stable/modules/preprocessing.html\n",
      "Please also refer to the documentation for alternative solver options:\n",
      "    https://scikit-learn.org/stable/modules/linear_model.html#logistic-regression\n",
      "  n_iter_i = _check_optimize_result(\n",
      "/Users/ildar/opt/anaconda3/lib/python3.9/site-packages/sklearn/linear_model/_logistic.py:814: ConvergenceWarning: lbfgs failed to converge (status=1):\n",
      "STOP: TOTAL NO. of ITERATIONS REACHED LIMIT.\n",
      "\n",
      "Increase the number of iterations (max_iter) or scale the data as shown in:\n",
      "    https://scikit-learn.org/stable/modules/preprocessing.html\n",
      "Please also refer to the documentation for alternative solver options:\n",
      "    https://scikit-learn.org/stable/modules/linear_model.html#logistic-regression\n",
      "  n_iter_i = _check_optimize_result(\n",
      "/Users/ildar/opt/anaconda3/lib/python3.9/site-packages/sklearn/linear_model/_logistic.py:814: ConvergenceWarning: lbfgs failed to converge (status=1):\n",
      "STOP: TOTAL NO. of ITERATIONS REACHED LIMIT.\n",
      "\n",
      "Increase the number of iterations (max_iter) or scale the data as shown in:\n",
      "    https://scikit-learn.org/stable/modules/preprocessing.html\n",
      "Please also refer to the documentation for alternative solver options:\n",
      "    https://scikit-learn.org/stable/modules/linear_model.html#logistic-regression\n",
      "  n_iter_i = _check_optimize_result(\n"
     ]
    },
    {
     "name": "stdout",
     "output_type": "stream",
     "text": [
      "Best roc_auc score: 0.70\n",
      "\n",
      "Best parameters set found on development set:\n",
      "\n",
      "{'logisticregression__C': 0.01, 'logisticregression__penalty': 'l2'}\n",
      "\n",
      "Grid scores on development set:\n",
      "\n",
      "nan (+/-nan) for {'logisticregression__C': 0.01, 'logisticregression__penalty': 'l1'}\n",
      "0.703 (+/-0.023) for {'logisticregression__C': 0.01, 'logisticregression__penalty': 'l2'}\n",
      "nan (+/-nan) for {'logisticregression__C': 0.1, 'logisticregression__penalty': 'l1'}\n",
      "0.702 (+/-0.023) for {'logisticregression__C': 0.1, 'logisticregression__penalty': 'l2'}\n",
      "nan (+/-nan) for {'logisticregression__C': 5.0, 'logisticregression__penalty': 'l1'}\n",
      "0.700 (+/-0.022) for {'logisticregression__C': 5.0, 'logisticregression__penalty': 'l2'}\n",
      "\n",
      "CPU times: user 1.86 s, sys: 208 ms, total: 2.07 s\n",
      "Wall time: 7.7 s\n"
     ]
    }
   ],
   "source": [
    "%%time\n",
    "param_grid = {\n",
    "    \"logisticregression__penalty\": ['l1', 'l2'],\n",
    "    \"logisticregression__C\": [0.01, 0.1, 5.0]\n",
    "}\n",
    "\n",
    "lg_gsc = run_grid_search(lg_pipe, X_train, y_train, param_grid, kfold_cv)"
   ]
  },
  {
   "cell_type": "code",
   "execution_count": 101,
   "metadata": {
    "id": "H7DDeNaVHJNr",
    "outputId": "c1c2cd18-ac55-482a-fb8a-18372c07fbe9"
   },
   "outputs": [
    {
     "data": {
      "text/plain": [
       "{'logisticregression__C': 0.01, 'logisticregression__penalty': 'l2'}"
      ]
     },
     "execution_count": 101,
     "metadata": {},
     "output_type": "execute_result"
    }
   ],
   "source": [
    "lg_gsc.best_params_"
   ]
  },
  {
   "cell_type": "markdown",
   "metadata": {
    "id": "nXaFn7k4HJNt"
   },
   "source": [
    "### 3.4 Отбор признаков в пайплайнах"
   ]
  },
  {
   "cell_type": "code",
   "execution_count": 102,
   "metadata": {
    "id": "AzpwbEo9HJNt"
   },
   "outputs": [],
   "source": [
    "from sklearn.feature_selection import SelectFromModel"
   ]
  },
  {
   "cell_type": "code",
   "execution_count": 112,
   "metadata": {},
   "outputs": [],
   "source": [
    "from sklearn.linear_model import Lasso"
   ]
  },
  {
   "cell_type": "markdown",
   "metadata": {
    "id": "Qz2kip9LHJNu"
   },
   "source": [
    "Атрибут estimator класса SelectFromModel должен иметь хотя бы один из атрибутов feature_importances_ или coef_ после выполнения метода fit."
   ]
  },
  {
   "cell_type": "code",
   "execution_count": 124,
   "metadata": {
    "id": "oCtEBSCyHJNu"
   },
   "outputs": [],
   "source": [
    "fs_pipe = make_pipeline(\n",
    "    f_prep_pipeline,\n",
    "    SelectFromModel(LogisticRegression(penalty='l1', solver='liblinear', random_state=RANDOM_STATE), threshold=1e-5),\n",
    ")"
   ]
  },
  {
   "cell_type": "code",
   "execution_count": 125,
   "metadata": {
    "id": "dBypV_xMHJNv",
    "outputId": "d9058bb2-a105-4b51-dc22-88cc9a571276"
   },
   "outputs": [
    {
     "data": {
      "text/plain": [
       "(6131, 357)"
      ]
     },
     "execution_count": 125,
     "metadata": {},
     "output_type": "execute_result"
    }
   ],
   "source": [
    "f_prep_pipeline.fit(X_train)\n",
    "f_prep_pipeline.transform(X_test).shape"
   ]
  },
  {
   "cell_type": "code",
   "execution_count": 126,
   "metadata": {
    "id": "Ksxmq5j7HJNw",
    "outputId": "a488b111-3490-46c3-96c4-73640f09b6e6"
   },
   "outputs": [
    {
     "name": "stdout",
     "output_type": "stream",
     "text": [
      "CPU times: user 13.7 s, sys: 294 ms, total: 13.9 s\n",
      "Wall time: 14 s\n"
     ]
    },
    {
     "data": {
      "text/plain": [
       "(6131, 274)"
      ]
     },
     "execution_count": 126,
     "metadata": {},
     "output_type": "execute_result"
    }
   ],
   "source": [
    "%%time\n",
    "fs_pipe.fit(X_train, y_train)\n",
    "fs_pipe.transform(X_test).shape"
   ]
  },
  {
   "cell_type": "code",
   "execution_count": 123,
   "metadata": {},
   "outputs": [
    {
     "data": {
      "text/plain": [
       "0.2324929971988795"
      ]
     },
     "execution_count": 123,
     "metadata": {},
     "output_type": "execute_result"
    }
   ],
   "source": [
    "1 - 274 / 357"
   ]
  },
  {
   "cell_type": "markdown",
   "metadata": {
    "id": "eHu8TXqCHJNx"
   },
   "source": [
    "Логистическая регрессия из SelectFromModel обнулила около 23% признаков."
   ]
  },
  {
   "cell_type": "code",
   "execution_count": 127,
   "metadata": {
    "id": "vFYb7XjMHJNy"
   },
   "outputs": [],
   "source": [
    "lg_fs_pipe = make_pipeline(\n",
    "    f_prep_pipeline,\n",
    "    SelectFromModel(LogisticRegression(penalty='l1', solver='liblinear', random_state=RANDOM_STATE), threshold=1e-5),\n",
    "    LogisticRegression(random_state=RANDOM_STATE)\n",
    ")"
   ]
  },
  {
   "cell_type": "code",
   "execution_count": 128,
   "metadata": {
    "id": "ZwRMXHPZHJNz",
    "outputId": "7696f646-055f-4029-d33a-0cfacf1deb05"
   },
   "outputs": [
    {
     "name": "stderr",
     "output_type": "stream",
     "text": [
      "/Users/ildar/opt/anaconda3/lib/python3.9/site-packages/sklearn/linear_model/_logistic.py:814: ConvergenceWarning: lbfgs failed to converge (status=1):\n",
      "STOP: TOTAL NO. of ITERATIONS REACHED LIMIT.\n",
      "\n",
      "Increase the number of iterations (max_iter) or scale the data as shown in:\n",
      "    https://scikit-learn.org/stable/modules/preprocessing.html\n",
      "Please also refer to the documentation for alternative solver options:\n",
      "    https://scikit-learn.org/stable/modules/linear_model.html#logistic-regression\n",
      "  n_iter_i = _check_optimize_result(\n",
      "/Users/ildar/opt/anaconda3/lib/python3.9/site-packages/sklearn/linear_model/_logistic.py:814: ConvergenceWarning: lbfgs failed to converge (status=1):\n",
      "STOP: TOTAL NO. of ITERATIONS REACHED LIMIT.\n",
      "\n",
      "Increase the number of iterations (max_iter) or scale the data as shown in:\n",
      "    https://scikit-learn.org/stable/modules/preprocessing.html\n",
      "Please also refer to the documentation for alternative solver options:\n",
      "    https://scikit-learn.org/stable/modules/linear_model.html#logistic-regression\n",
      "  n_iter_i = _check_optimize_result(\n",
      "/Users/ildar/opt/anaconda3/lib/python3.9/site-packages/sklearn/linear_model/_logistic.py:814: ConvergenceWarning: lbfgs failed to converge (status=1):\n",
      "STOP: TOTAL NO. of ITERATIONS REACHED LIMIT.\n",
      "\n",
      "Increase the number of iterations (max_iter) or scale the data as shown in:\n",
      "    https://scikit-learn.org/stable/modules/preprocessing.html\n",
      "Please also refer to the documentation for alternative solver options:\n",
      "    https://scikit-learn.org/stable/modules/linear_model.html#logistic-regression\n",
      "  n_iter_i = _check_optimize_result(\n",
      "/Users/ildar/opt/anaconda3/lib/python3.9/site-packages/sklearn/linear_model/_logistic.py:814: ConvergenceWarning: lbfgs failed to converge (status=1):\n",
      "STOP: TOTAL NO. of ITERATIONS REACHED LIMIT.\n",
      "\n",
      "Increase the number of iterations (max_iter) or scale the data as shown in:\n",
      "    https://scikit-learn.org/stable/modules/preprocessing.html\n",
      "Please also refer to the documentation for alternative solver options:\n",
      "    https://scikit-learn.org/stable/modules/linear_model.html#logistic-regression\n",
      "  n_iter_i = _check_optimize_result(\n",
      "/Users/ildar/opt/anaconda3/lib/python3.9/site-packages/sklearn/linear_model/_logistic.py:814: ConvergenceWarning: lbfgs failed to converge (status=1):\n",
      "STOP: TOTAL NO. of ITERATIONS REACHED LIMIT.\n",
      "\n",
      "Increase the number of iterations (max_iter) or scale the data as shown in:\n",
      "    https://scikit-learn.org/stable/modules/preprocessing.html\n",
      "Please also refer to the documentation for alternative solver options:\n",
      "    https://scikit-learn.org/stable/modules/linear_model.html#logistic-regression\n",
      "  n_iter_i = _check_optimize_result(\n",
      "/Users/ildar/opt/anaconda3/lib/python3.9/site-packages/sklearn/linear_model/_logistic.py:814: ConvergenceWarning: lbfgs failed to converge (status=1):\n",
      "STOP: TOTAL NO. of ITERATIONS REACHED LIMIT.\n",
      "\n",
      "Increase the number of iterations (max_iter) or scale the data as shown in:\n",
      "    https://scikit-learn.org/stable/modules/preprocessing.html\n",
      "Please also refer to the documentation for alternative solver options:\n",
      "    https://scikit-learn.org/stable/modules/linear_model.html#logistic-regression\n",
      "  n_iter_i = _check_optimize_result(\n",
      "/Users/ildar/opt/anaconda3/lib/python3.9/site-packages/sklearn/linear_model/_logistic.py:814: ConvergenceWarning: lbfgs failed to converge (status=1):\n",
      "STOP: TOTAL NO. of ITERATIONS REACHED LIMIT.\n",
      "\n",
      "Increase the number of iterations (max_iter) or scale the data as shown in:\n",
      "    https://scikit-learn.org/stable/modules/preprocessing.html\n",
      "Please also refer to the documentation for alternative solver options:\n",
      "    https://scikit-learn.org/stable/modules/linear_model.html#logistic-regression\n",
      "  n_iter_i = _check_optimize_result(\n",
      "/Users/ildar/opt/anaconda3/lib/python3.9/site-packages/sklearn/linear_model/_logistic.py:814: ConvergenceWarning: lbfgs failed to converge (status=1):\n",
      "STOP: TOTAL NO. of ITERATIONS REACHED LIMIT.\n",
      "\n",
      "Increase the number of iterations (max_iter) or scale the data as shown in:\n",
      "    https://scikit-learn.org/stable/modules/preprocessing.html\n",
      "Please also refer to the documentation for alternative solver options:\n",
      "    https://scikit-learn.org/stable/modules/linear_model.html#logistic-regression\n",
      "  n_iter_i = _check_optimize_result(\n",
      "/Users/ildar/opt/anaconda3/lib/python3.9/site-packages/sklearn/linear_model/_logistic.py:814: ConvergenceWarning: lbfgs failed to converge (status=1):\n",
      "STOP: TOTAL NO. of ITERATIONS REACHED LIMIT.\n",
      "\n",
      "Increase the number of iterations (max_iter) or scale the data as shown in:\n",
      "    https://scikit-learn.org/stable/modules/preprocessing.html\n",
      "Please also refer to the documentation for alternative solver options:\n",
      "    https://scikit-learn.org/stable/modules/linear_model.html#logistic-regression\n",
      "  n_iter_i = _check_optimize_result(\n",
      "/Users/ildar/opt/anaconda3/lib/python3.9/site-packages/sklearn/linear_model/_logistic.py:814: ConvergenceWarning: lbfgs failed to converge (status=1):\n",
      "STOP: TOTAL NO. of ITERATIONS REACHED LIMIT.\n",
      "\n",
      "Increase the number of iterations (max_iter) or scale the data as shown in:\n",
      "    https://scikit-learn.org/stable/modules/preprocessing.html\n",
      "Please also refer to the documentation for alternative solver options:\n",
      "    https://scikit-learn.org/stable/modules/linear_model.html#logistic-regression\n",
      "  n_iter_i = _check_optimize_result(\n",
      "/Users/ildar/opt/anaconda3/lib/python3.9/site-packages/sklearn/linear_model/_logistic.py:814: ConvergenceWarning: lbfgs failed to converge (status=1):\n",
      "STOP: TOTAL NO. of ITERATIONS REACHED LIMIT.\n",
      "\n",
      "Increase the number of iterations (max_iter) or scale the data as shown in:\n",
      "    https://scikit-learn.org/stable/modules/preprocessing.html\n",
      "Please also refer to the documentation for alternative solver options:\n",
      "    https://scikit-learn.org/stable/modules/linear_model.html#logistic-regression\n",
      "  n_iter_i = _check_optimize_result(\n",
      "/Users/ildar/opt/anaconda3/lib/python3.9/site-packages/sklearn/linear_model/_logistic.py:814: ConvergenceWarning: lbfgs failed to converge (status=1):\n",
      "STOP: TOTAL NO. of ITERATIONS REACHED LIMIT.\n",
      "\n",
      "Increase the number of iterations (max_iter) or scale the data as shown in:\n",
      "    https://scikit-learn.org/stable/modules/preprocessing.html\n",
      "Please also refer to the documentation for alternative solver options:\n",
      "    https://scikit-learn.org/stable/modules/linear_model.html#logistic-regression\n",
      "  n_iter_i = _check_optimize_result(\n",
      "/Users/ildar/opt/anaconda3/lib/python3.9/site-packages/sklearn/linear_model/_logistic.py:814: ConvergenceWarning: lbfgs failed to converge (status=1):\n",
      "STOP: TOTAL NO. of ITERATIONS REACHED LIMIT.\n",
      "\n",
      "Increase the number of iterations (max_iter) or scale the data as shown in:\n",
      "    https://scikit-learn.org/stable/modules/preprocessing.html\n",
      "Please also refer to the documentation for alternative solver options:\n",
      "    https://scikit-learn.org/stable/modules/linear_model.html#logistic-regression\n",
      "  n_iter_i = _check_optimize_result(\n",
      "/Users/ildar/opt/anaconda3/lib/python3.9/site-packages/sklearn/linear_model/_logistic.py:814: ConvergenceWarning: lbfgs failed to converge (status=1):\n",
      "STOP: TOTAL NO. of ITERATIONS REACHED LIMIT.\n",
      "\n",
      "Increase the number of iterations (max_iter) or scale the data as shown in:\n",
      "    https://scikit-learn.org/stable/modules/preprocessing.html\n",
      "Please also refer to the documentation for alternative solver options:\n",
      "    https://scikit-learn.org/stable/modules/linear_model.html#logistic-regression\n",
      "  n_iter_i = _check_optimize_result(\n",
      "/Users/ildar/opt/anaconda3/lib/python3.9/site-packages/sklearn/linear_model/_logistic.py:814: ConvergenceWarning: lbfgs failed to converge (status=1):\n",
      "STOP: TOTAL NO. of ITERATIONS REACHED LIMIT.\n",
      "\n",
      "Increase the number of iterations (max_iter) or scale the data as shown in:\n",
      "    https://scikit-learn.org/stable/modules/preprocessing.html\n",
      "Please also refer to the documentation for alternative solver options:\n",
      "    https://scikit-learn.org/stable/modules/linear_model.html#logistic-regression\n",
      "  n_iter_i = _check_optimize_result(\n"
     ]
    },
    {
     "name": "stdout",
     "output_type": "stream",
     "text": [
      "Best roc_auc score: 0.70\n",
      "\n",
      "Best parameters set found on development set:\n",
      "\n",
      "{'selectfrommodel__threshold': 1e-05}\n",
      "\n",
      "Grid scores on development set:\n",
      "\n",
      "0.701 (+/-0.023) for {'selectfrommodel__max_features': None, 'selectfrommodel__threshold': -inf}\n",
      "0.617 (+/-0.016) for {'selectfrommodel__max_features': 5, 'selectfrommodel__threshold': -inf}\n",
      "0.643 (+/-0.025) for {'selectfrommodel__max_features': 10, 'selectfrommodel__threshold': -inf}\n",
      "0.692 (+/-0.024) for {'selectfrommodel__max_features': 50, 'selectfrommodel__threshold': -inf}\n",
      "0.697 (+/-0.022) for {'selectfrommodel__max_features': 100, 'selectfrommodel__threshold': -inf}\n",
      "0.698 (+/-0.022) for {'selectfrommodel__max_features': 150, 'selectfrommodel__threshold': -inf}\n",
      "0.701 (+/-0.023) for {'selectfrommodel__threshold': 1e-05}\n",
      "\n",
      "CPU times: user 15.4 s, sys: 869 ms, total: 16.2 s\n",
      "Wall time: 1min 19s\n"
     ]
    }
   ],
   "source": [
    "%%time\n",
    "param_grid = [\n",
    "    {\"selectfrommodel__max_features\": [None, 5, 10, 50, 100, 150], \"selectfrommodel__threshold\": [-np.inf]},\n",
    "    {\"selectfrommodel__threshold\": [1e-5]},\n",
    "]\n",
    "\n",
    "lg_fs_gsc = run_grid_search(lg_fs_pipe, X_train, y_train, param_grid, kfold_cv)"
   ]
  },
  {
   "cell_type": "markdown",
   "metadata": {
    "id": "wxrAPz3yHJN0"
   },
   "source": [
    "# 4 Финальная модель"
   ]
  },
  {
   "cell_type": "code",
   "execution_count": 129,
   "metadata": {
    "id": "txXvaJ9DHJN1"
   },
   "outputs": [],
   "source": [
    "from sklearn.ensemble import GradientBoostingClassifier"
   ]
  },
  {
   "cell_type": "code",
   "execution_count": 133,
   "metadata": {
    "id": "O3RDFiINHJN1"
   },
   "outputs": [],
   "source": [
    "gb_fs_pipe = make_pipeline(\n",
    "    f_prep_pipeline,\n",
    "    SelectFromModel(LogisticRegression(penalty='l1', solver='liblinear', random_state=RANDOM_STATE), threshold=1e-5),\n",
    "    GradientBoostingClassifier()\n",
    ")"
   ]
  },
  {
   "cell_type": "code",
   "execution_count": 134,
   "metadata": {
    "id": "H-qg-XNCHJN2",
    "outputId": "f1c301f2-8501-48e1-909d-671f4d201b8a"
   },
   "outputs": [
    {
     "data": {
      "text/plain": [
       "['gradientboostingclassifier',\n",
       " 'gradientboostingclassifier__ccp_alpha',\n",
       " 'gradientboostingclassifier__criterion',\n",
       " 'gradientboostingclassifier__init',\n",
       " 'gradientboostingclassifier__learning_rate',\n",
       " 'gradientboostingclassifier__loss',\n",
       " 'gradientboostingclassifier__max_depth',\n",
       " 'gradientboostingclassifier__max_features',\n",
       " 'gradientboostingclassifier__max_leaf_nodes',\n",
       " 'gradientboostingclassifier__min_impurity_decrease',\n",
       " 'gradientboostingclassifier__min_samples_leaf',\n",
       " 'gradientboostingclassifier__min_samples_split',\n",
       " 'gradientboostingclassifier__min_weight_fraction_leaf',\n",
       " 'gradientboostingclassifier__n_estimators',\n",
       " 'gradientboostingclassifier__n_iter_no_change',\n",
       " 'gradientboostingclassifier__random_state',\n",
       " 'gradientboostingclassifier__subsample',\n",
       " 'gradientboostingclassifier__tol',\n",
       " 'gradientboostingclassifier__validation_fraction',\n",
       " 'gradientboostingclassifier__verbose',\n",
       " 'gradientboostingclassifier__warm_start']"
      ]
     },
     "execution_count": 134,
     "metadata": {},
     "output_type": "execute_result"
    }
   ],
   "source": [
    "[k for k in gb_fs_pipe.get_params().keys() if 'grad' in k]"
   ]
  },
  {
   "cell_type": "code",
   "execution_count": 135,
   "metadata": {
    "id": "-CfUIsOUHJN2",
    "outputId": "fa8833bf-2d18-4fea-c7a9-b78b457b490a"
   },
   "outputs": [
    {
     "name": "stdout",
     "output_type": "stream",
     "text": [
      "Best roc_auc score: 0.71\n",
      "\n",
      "Best parameters set found on development set:\n",
      "\n",
      "{'gradientboostingclassifier__max_depth': 5, 'gradientboostingclassifier__n_estimators': 100, 'selectfrommodel__threshold': 1e-05}\n",
      "\n",
      "Grid scores on development set:\n",
      "\n",
      "0.654 (+/-0.011) for {'gradientboostingclassifier__max_depth': 1, 'gradientboostingclassifier__n_estimators': 10, 'selectfrommodel__threshold': -inf}\n",
      "0.654 (+/-0.011) for {'gradientboostingclassifier__max_depth': 1, 'gradientboostingclassifier__n_estimators': 10, 'selectfrommodel__threshold': 1e-05}\n",
      "0.698 (+/-0.012) for {'gradientboostingclassifier__max_depth': 1, 'gradientboostingclassifier__n_estimators': 100, 'selectfrommodel__threshold': -inf}\n",
      "0.698 (+/-0.011) for {'gradientboostingclassifier__max_depth': 1, 'gradientboostingclassifier__n_estimators': 100, 'selectfrommodel__threshold': 1e-05}\n",
      "0.695 (+/-0.007) for {'gradientboostingclassifier__max_depth': 5, 'gradientboostingclassifier__n_estimators': 10, 'selectfrommodel__threshold': -inf}\n",
      "0.695 (+/-0.011) for {'gradientboostingclassifier__max_depth': 5, 'gradientboostingclassifier__n_estimators': 10, 'selectfrommodel__threshold': 1e-05}\n",
      "0.712 (+/-0.019) for {'gradientboostingclassifier__max_depth': 5, 'gradientboostingclassifier__n_estimators': 100, 'selectfrommodel__threshold': -inf}\n",
      "0.713 (+/-0.016) for {'gradientboostingclassifier__max_depth': 5, 'gradientboostingclassifier__n_estimators': 100, 'selectfrommodel__threshold': 1e-05}\n",
      "\n",
      "CPU times: user 2min 18s, sys: 1.31 s, total: 2min 19s\n",
      "Wall time: 5min 52s\n"
     ]
    }
   ],
   "source": [
    "%%time\n",
    "param_grid = {\n",
    "    \"selectfrommodel__threshold\": [-np.inf, 1e-05],\n",
    "    \n",
    "    \"gradientboostingclassifier__max_depth\": [1, 5],\n",
    "    \"gradientboostingclassifier__n_estimators\": [10, 100]\n",
    "}\n",
    "\n",
    "gb_fs_gsc = run_grid_search(gb_fs_pipe, X_train, y_train, param_grid, kfold_cv)"
   ]
  },
  {
   "cell_type": "markdown",
   "metadata": {
    "id": "I76dWPEXHJN3"
   },
   "source": [
    "### 4.1 Сравнение моделей"
   ]
  },
  {
   "cell_type": "code",
   "execution_count": 136,
   "metadata": {
    "id": "qnpUnYn_HJN4"
   },
   "outputs": [],
   "source": [
    "lg_fs_pipe_final = lg_fs_gsc.best_estimator_\n",
    "\n",
    "lg_fs_pipe_final.fit(X_train, y_train)\n",
    "\n",
    "lg_fs_pred = lg_fs_pipe_final.predict_proba(X_test)[:,1]"
   ]
  },
  {
   "cell_type": "code",
   "execution_count": 137,
   "metadata": {
    "id": "hP8sQhslHJN4",
    "outputId": "5bd2d055-7c4a-48e0-f8a1-7206ee8433fa"
   },
   "outputs": [
    {
     "name": "stdout",
     "output_type": "stream",
     "text": [
      "              precision    recall  f1-score   support\n",
      "\n",
      "           0       0.75      0.93      0.83      4328\n",
      "           1       0.61      0.26      0.37      1803\n",
      "\n",
      "    accuracy                           0.73      6131\n",
      "   macro avg       0.68      0.60      0.60      6131\n",
      "weighted avg       0.71      0.73      0.69      6131\n",
      "\n"
     ]
    }
   ],
   "source": [
    "print(classification_report(y_test, lg_fs_pred > 0.5))"
   ]
  },
  {
   "cell_type": "markdown",
   "metadata": {
    "id": "v9nYK5NAHJN5"
   },
   "source": [
    " "
   ]
  },
  {
   "cell_type": "code",
   "execution_count": 138,
   "metadata": {
    "id": "PVd2ZntIHJN6"
   },
   "outputs": [],
   "source": [
    "gb_fs_pipe_final = gb_fs_gsc.best_estimator_\n",
    "\n",
    "gb_fs_pipe_final.fit(X_train, y_train)\n",
    "\n",
    "gb_fs_pred = gb_fs_pipe_final.predict_proba(X_test)[:,1]"
   ]
  },
  {
   "cell_type": "code",
   "execution_count": 139,
   "metadata": {
    "id": "RGfsrZuOHJN6",
    "outputId": "a43a0934-ee11-45cd-c4b9-1bb16b12657b"
   },
   "outputs": [
    {
     "name": "stdout",
     "output_type": "stream",
     "text": [
      "              precision    recall  f1-score   support\n",
      "\n",
      "           0       0.76      0.95      0.84      4328\n",
      "           1       0.67      0.26      0.38      1803\n",
      "\n",
      "    accuracy                           0.75      6131\n",
      "   macro avg       0.71      0.60      0.61      6131\n",
      "weighted avg       0.73      0.75      0.70      6131\n",
      "\n"
     ]
    }
   ],
   "source": [
    "print(classification_report(y_test, gb_fs_pred > 0.5))"
   ]
  },
  {
   "cell_type": "markdown",
   "metadata": {
    "id": "UEp25O8LHJN8"
   },
   "source": [
    " "
   ]
  },
  {
   "cell_type": "code",
   "execution_count": 140,
   "metadata": {
    "id": "1cMu5xN-HJN9",
    "outputId": "4cd2746a-ad0c-4c8b-eed1-90d61bcd12a3"
   },
   "outputs": [
    {
     "name": "stdout",
     "output_type": "stream",
     "text": [
      "Baseline: AUC_PR = 0.406\n",
      "Baseline: AUC_ROC = 0.625\n",
      "lg_fs_pred: AUC_PR = 0.510\n",
      "lg_fs_pred: AUC_ROC = 0.693\n",
      "gb_fs_pred: AUC_PR = 0.555\n",
      "gb_fs_pred: AUC_ROC = 0.726\n"
     ]
    },
    {
     "data": {
      "image/png": "[encoded data removed]",
      "text/plain": [
       "<Figure size 864x1728 with 2 Axes>"
      ]
     },
     "metadata": {},
     "output_type": "display_data"
    }
   ],
   "source": [
    "f, (ax1, ax2) = plt.subplots(1, 2, sharey=True)\n",
    "\n",
    "f.set_figheight(24)\n",
    "f.set_figwidth(12)\n",
    "\n",
    "ax1 = plt.subplot(211)\n",
    "ax1.set_title('ROC')\n",
    "ax1.set_xlabel('TPR')\n",
    "ax1.set_ylabel('FPR')\n",
    "\n",
    "\n",
    "ax2 = plt.subplot(212)\n",
    "ax2.set_title('PR')\n",
    "ax2.set_xlabel('Recall')\n",
    "ax2.set_ylabel('Precision')\n",
    "\n",
    "ax1.plot([0, 1], [0, 1], 'k--')\n",
    "\n",
    "fpr, tpr, roc_thresholds = roc_curve(y_test, bl_y_pred)\n",
    "precision, recall, pr_thresholds = precision_recall_curve(y_test, bl_y_pred)\n",
    "ax1.plot(fpr, tpr, label='Baseline', color='b')\n",
    "ax2.plot(recall, precision, label='Baseline', color='b')\n",
    "print(\"Baseline: AUC_PR = %.3f\" % auc(recall, precision))\n",
    "print(\"Baseline: AUC_ROC = %.3f\" % auc(fpr, tpr))\n",
    "\n",
    "\n",
    "fpr, tpr, roc_thresholds = roc_curve(y_test, lg_fs_pred)\n",
    "precision, recall, pr_thresholds = precision_recall_curve(y_test, lg_fs_pred)\n",
    "ax1.plot(fpr, tpr, label=\"lg_fs_pred\", color='g')\n",
    "ax2.plot(recall, precision, label=\"lg_fs_pred\", color='g')\n",
    "print(\"lg_fs_pred: AUC_PR = %.3f\" % auc(recall, precision))\n",
    "print(\"lg_fs_pred: AUC_ROC = %.3f\" % auc(fpr, tpr))\n",
    "\n",
    "\n",
    "fpr, tpr, roc_thresholds = roc_curve(y_test, gb_fs_pred)\n",
    "precision, recall, pr_thresholds = precision_recall_curve(y_test, gb_fs_pred)\n",
    "ax1.plot(fpr, tpr, label=\"gb_fs_pred\", color='purple')\n",
    "ax2.plot(recall, precision, label=\"gb_fs_pred\", color='purple')\n",
    "print(\"gb_fs_pred: AUC_PR = %.3f\" % auc(recall, precision))\n",
    "print(\"gb_fs_pred: AUC_ROC = %.3f\" % auc(fpr, tpr))\n",
    "ax1.legend(loc=\"lower right\")\n",
    "ax2.legend(loc=\"lower right\");"
   ]
  },
  {
   "cell_type": "code",
   "execution_count": null,
   "metadata": {
    "id": "fAvC0Y1YHJN_"
   },
   "outputs": [],
   "source": []
  }
 ],
 "metadata": {
  "colab": {
   "name": "Урок 4-6. Задача классификации.ipynb",
   "provenance": []
  },
  "kernelspec": {
   "display_name": "Python 3 (ipykernel)",
   "language": "python",
   "name": "python3"
  },
  "language_info": {
   "codemirror_mode": {
    "name": "ipython",
    "version": 3
   },
   "file_extension": ".py",
   "mimetype": "text/x-python",
   "name": "python",
   "nbconvert_exporter": "python",
   "pygments_lexer": "ipython3",
   "version": "3.9.12"
  }
 },
 "nbformat": 4,
 "nbformat_minor": 4
}
