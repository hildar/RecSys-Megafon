{
 "cells": [
  {
   "cell_type": "code",
   "execution_count": 1,
   "metadata": {
    "id": "ZDVadEW7XURs"
   },
   "outputs": [],
   "source": [
    "import luigi\n",
    "import requests\n",
    "import json\n",
    "import pandas as pd\n",
    "import datetime"
   ]
  },
  {
   "cell_type": "markdown",
   "metadata": {
    "id": "3oI5w2XVXURx",
    "toc": true
   },
   "source": [
    "<h1>Table of Contents<span class=\"tocSkip\"></span></h1>\n",
    "<div class=\"toc\" style=\"margin-top: 1em;\"><ul class=\"toc-item\"><li><ul class=\"toc-item\"><li><ul class=\"toc-item\"><li><span><a href=\"#Как-может-выглядеть-пайплайн---не-самый-лучший-вариант\" data-toc-modified-id=\"Как-может-выглядеть-пайплайн---не-самый-лучший-вариант-0.0.1\"><span class=\"toc-item-num\">0.0.1&nbsp;&nbsp;</span>Как может выглядеть пайплайн - не самый лучший вариант</a></span></li><li><span><a href=\"#Luigi\" data-toc-modified-id=\"Luigi-0.0.2\"><span class=\"toc-item-num\">0.0.2&nbsp;&nbsp;</span>Luigi</a></span><ul class=\"toc-item\"><li><span><a href=\"#Запуск-Luigi\" data-toc-modified-id=\"Запуск-Luigi-0.0.2.1\"><span class=\"toc-item-num\">0.0.2.1&nbsp;&nbsp;</span>Запуск Luigi</a></span></li><li><span><a href=\"#Пример-класса-Task\" data-toc-modified-id=\"Пример-класса-Task-0.0.2.2\"><span class=\"toc-item-num\">0.0.2.2&nbsp;&nbsp;</span>Пример класса Task</a></span></li><li><span><a href=\"#Target\" data-toc-modified-id=\"Target-0.0.2.3\"><span class=\"toc-item-num\">0.0.2.3&nbsp;&nbsp;</span>Target</a></span></li><li><span><a href=\"#Parameters\" data-toc-modified-id=\"Parameters-0.0.2.4\"><span class=\"toc-item-num\">0.0.2.4&nbsp;&nbsp;</span>Parameters</a></span></li><li><span><a href=\"#Зависимости\" data-toc-modified-id=\"Зависимости-0.0.2.5\"><span class=\"toc-item-num\">0.0.2.5&nbsp;&nbsp;</span>Зависимости</a></span></li></ul></li><li><span><a href=\"#Пример-пайплайна-для--данных-osm\" data-toc-modified-id=\"Пример-пайплайна-для--данных-osm-0.0.3\"><span class=\"toc-item-num\">0.0.3&nbsp;&nbsp;</span>Пример пайплайна для  данных osm</a></span><ul class=\"toc-item\"><li><span><a href=\"#Плюсы-Luigi\" data-toc-modified-id=\"Плюсы-Luigi-0.0.3.1\"><span class=\"toc-item-num\">0.0.3.1&nbsp;&nbsp;</span>Плюсы Luigi</a></span></li></ul></li><li><span><a href=\"#Ограничения-Luigi\" data-toc-modified-id=\"Ограничения-Luigi-0.0.4\"><span class=\"toc-item-num\">0.0.4&nbsp;&nbsp;</span>Ограничения Luigi</a></span></li><li><span><a href=\"#Другие-библиотеки\" data-toc-modified-id=\"Другие-библиотеки-0.0.5\"><span class=\"toc-item-num\">0.0.5&nbsp;&nbsp;</span>Другие библиотеки</a></span></li></ul></li></ul></li></ul></div>"
   ]
  },
  {
   "cell_type": "markdown",
   "metadata": {
    "id": "F_J-qfcTXURy"
   },
   "source": [
    "### Как может выглядеть пайплайн - не самый лучший вариант"
   ]
  },
  {
   "cell_type": "code",
   "execution_count": 2,
   "metadata": {
    "id": "gDIb4quLXURz"
   },
   "outputs": [],
   "source": [
    "def load_data():\n",
    "    pass\n",
    "\n",
    "def process_data():\n",
    "    pass\n",
    "\n",
    "def log_results():\n",
    "    pass\n",
    "\n",
    "def train_model():\n",
    "    pass\n",
    "\n",
    "def predict_():\n",
    "    pass\n",
    "\n",
    "def store_results():\n",
    "    pass\n",
    "\n",
    "if __name__ == \"__main__\":\n",
    "    load_data()\n",
    "    process_data()\n",
    "    log_results()\n",
    "    train_model()\n",
    "    predict_()\n",
    "    store_results()"
   ]
  },
  {
   "cell_type": "markdown",
   "metadata": {
    "id": "vjxW3csNXURz"
   },
   "source": [
    "Можно унифицировать подход к созданию пайплайна - использовать единую структуру для разных пайплайнов"
   ]
  },
  {
   "cell_type": "markdown",
   "metadata": {
    "id": "gVExxDwkXURz"
   },
   "source": [
    "### Luigi"
   ]
  },
  {
   "cell_type": "markdown",
   "metadata": {
    "id": "PHKE9JeGXUR0"
   },
   "source": [
    "Luigi позволяет создавать последовательные задачи обработки данных и определять зависимости между ними.Пайплайн представляет из себя направленный ациклический граф. Luigi поддерживает разные источники данных - это могут локальные файлы, база данных (например MySQL, Mongodb), hdfs. "
   ]
  },
  {
   "cell_type": "markdown",
   "metadata": {
    "id": "hbA0VpZOXUR0"
   },
   "source": [
    "Документация luigi https://luigi.readthedocs.io/"
   ]
  },
  {
   "cell_type": "markdown",
   "metadata": {
    "id": "4nuL70guXUR0"
   },
   "source": [
    "Установка luigi `pip3 install luigi`"
   ]
  },
  {
   "cell_type": "markdown",
   "metadata": {
    "id": "n4ksMphWXUR0"
   },
   "source": [
    "`Luigi` оперирует тремя понятиями - `Task`, `Target`, `Parameter`.\n",
    "\n",
    "`Task` - класс, отвечает за саму задачу. например, здесь можно писать код обучения модели или обработки данных.\n",
    "\n",
    "`Target` - отвечает за то, куда сохранять и откуда читать данные. Это может быть и база данных, и хранение на локальном диске, или hdfs.\n",
    "\n",
    "`Parameter` - параметры, с которым запускается задача - например дата запуска. Параметры могут быть опциональными."
   ]
  },
  {
   "cell_type": "markdown",
   "metadata": {
    "id": "2ewgy-3vXUR1"
   },
   "source": [
    "#### Запуск Luigi "
   ]
  },
  {
   "cell_type": "markdown",
   "metadata": {
    "id": "71XfiKhsXUR1"
   },
   "source": [
    "Нужно запустить `luigid` в терминале,далее можно посмотреть интерфейс можно на http://localhost:8082"
   ]
  },
  {
   "cell_type": "markdown",
   "metadata": {
    "id": "y8yrYcaoXUR1"
   },
   "source": [
    "<img src=luigi_interface.png>"
   ]
  },
  {
   "cell_type": "code",
   "execution_count": null,
   "metadata": {},
   "outputs": [],
   "source": []
  },
  {
   "cell_type": "code",
   "execution_count": null,
   "metadata": {},
   "outputs": [],
   "source": []
  },
  {
   "cell_type": "markdown",
   "metadata": {
    "id": "Mh67mxdPXUR1"
   },
   "source": [
    "#### Пример класса Task"
   ]
  },
  {
   "cell_type": "markdown",
   "metadata": {
    "id": "Z9KO3rR6XUR2"
   },
   "source": [
    "Для создания класса Task мы наследуем luigi.Task и нам нужно определить три основных метода: `run`, `output`, `requires`.\n",
    "Создадим простую задачу, где принимаемая на вход строка записывается в текстовый файл. Также у класса luigi.Task есть метод `input`, но его переопределять не нужно, он служит некоторой оберткой над `requires` и возвращает Target зависимых задач. Рассмотрим пример:"
   ]
  },
  {
   "cell_type": "code",
   "execution_count": 5,
   "metadata": {
    "id": "TQiBLIhRXUR2"
   },
   "outputs": [],
   "source": [
    "class MyTask(luigi.Task):\n",
    "    \n",
    "    def output(self):\n",
    "        return luigi.LocalTarget(path=\"output.txt\")\n",
    "    \n",
    "    def run(self):\n",
    "        with self.output().open('w') as f:\n",
    "            f.write(\"build luigi pipeline\")   "
   ]
  },
  {
   "cell_type": "markdown",
   "metadata": {
    "id": "RCvPF5X6XUR2"
   },
   "source": [
    "Запуск пайплайна происходит следующим образом:"
   ]
  },
  {
   "cell_type": "code",
   "execution_count": 8,
   "metadata": {
    "id": "-fWW6XlZXUR2",
    "outputId": "eb5a8971-44ae-4103-d28c-9462b44c6161",
    "scrolled": true
   },
   "outputs": [
    {
     "name": "stderr",
     "output_type": "stream",
     "text": [
      "DEBUG: Checking if MyTask() is complete\n",
      "WARNING: Failed connecting to remote scheduler 'http://localhost:8082'\n",
      "NoneType: None\n",
      "INFO: Retrying attempt 2 of 3 (max)\n",
      "INFO: Wait for 30 seconds\n",
      "WARNING: Failed connecting to remote scheduler 'http://localhost:8082'\n",
      "NoneType: None\n",
      "INFO: Retrying attempt 2 of 3 (max)\n",
      "INFO: Wait for 30 seconds\n",
      "WARNING: Failed connecting to remote scheduler 'http://localhost:8082'\n",
      "NoneType: None\n",
      "INFO: Retrying attempt 3 of 3 (max)\n",
      "INFO: Wait for 30 seconds\n",
      "WARNING: Failed connecting to remote scheduler 'http://localhost:8082'\n",
      "NoneType: None\n",
      "INFO: Retrying attempt 4 of 3 (max)\n",
      "INFO: Wait for 30 seconds\n",
      "WARNING: Failed pinging scheduler\n",
      "INFO: Worker Worker(salt=185470664, workers=1, host=MacBook-Pro-Ildar.local, username=ildar, pid=16110) was stopped. Shutting down Keep-Alive thread\n"
     ]
    },
    {
     "ename": "KeyboardInterrupt",
     "evalue": "",
     "output_type": "error",
     "traceback": [
      "\u001b[0;31m---------------------------------------------------------------------------\u001b[0m",
      "\u001b[0;31mKeyboardInterrupt\u001b[0m                         Traceback (most recent call last)",
      "Input \u001b[0;32mIn [8]\u001b[0m, in \u001b[0;36m<cell line: 1>\u001b[0;34m()\u001b[0m\n\u001b[1;32m      1\u001b[0m \u001b[38;5;28;01mif\u001b[39;00m \u001b[38;5;18m__name__\u001b[39m \u001b[38;5;241m==\u001b[39m \u001b[38;5;124m'\u001b[39m\u001b[38;5;124m__main__\u001b[39m\u001b[38;5;124m'\u001b[39m:\n\u001b[0;32m----> 2\u001b[0m     \u001b[43mluigi\u001b[49m\u001b[38;5;241;43m.\u001b[39;49m\u001b[43mbuild\u001b[49m\u001b[43m(\u001b[49m\u001b[43m[\u001b[49m\u001b[43mMyTask\u001b[49m\u001b[43m(\u001b[49m\u001b[43m)\u001b[49m\u001b[43m]\u001b[49m\u001b[43m)\u001b[49m\n",
      "File \u001b[0;32m~/opt/anaconda3/lib/python3.9/site-packages/luigi/interface.py:237\u001b[0m, in \u001b[0;36mbuild\u001b[0;34m(tasks, worker_scheduler_factory, detailed_summary, **env_params)\u001b[0m\n\u001b[1;32m    234\u001b[0m \u001b[38;5;28;01mif\u001b[39;00m \u001b[38;5;124m\"\u001b[39m\u001b[38;5;124mno_lock\u001b[39m\u001b[38;5;124m\"\u001b[39m \u001b[38;5;129;01mnot\u001b[39;00m \u001b[38;5;129;01min\u001b[39;00m env_params:\n\u001b[1;32m    235\u001b[0m     env_params[\u001b[38;5;124m\"\u001b[39m\u001b[38;5;124mno_lock\u001b[39m\u001b[38;5;124m\"\u001b[39m] \u001b[38;5;241m=\u001b[39m \u001b[38;5;28;01mTrue\u001b[39;00m\n\u001b[0;32m--> 237\u001b[0m luigi_run_result \u001b[38;5;241m=\u001b[39m \u001b[43m_schedule_and_run\u001b[49m\u001b[43m(\u001b[49m\u001b[43mtasks\u001b[49m\u001b[43m,\u001b[49m\u001b[43m \u001b[49m\u001b[43mworker_scheduler_factory\u001b[49m\u001b[43m,\u001b[49m\u001b[43m \u001b[49m\u001b[43moverride_defaults\u001b[49m\u001b[38;5;241;43m=\u001b[39;49m\u001b[43menv_params\u001b[49m\u001b[43m)\u001b[49m\n\u001b[1;32m    238\u001b[0m \u001b[38;5;28;01mreturn\u001b[39;00m luigi_run_result \u001b[38;5;28;01mif\u001b[39;00m detailed_summary \u001b[38;5;28;01melse\u001b[39;00m luigi_run_result\u001b[38;5;241m.\u001b[39mscheduling_succeeded\n",
      "File \u001b[0;32m~/opt/anaconda3/lib/python3.9/site-packages/luigi/interface.py:171\u001b[0m, in \u001b[0;36m_schedule_and_run\u001b[0;34m(tasks, worker_scheduler_factory, override_defaults)\u001b[0m\n\u001b[1;32m    169\u001b[0m \u001b[38;5;28;01mwith\u001b[39;00m worker:\n\u001b[1;32m    170\u001b[0m     \u001b[38;5;28;01mfor\u001b[39;00m t \u001b[38;5;129;01min\u001b[39;00m tasks:\n\u001b[0;32m--> 171\u001b[0m         success \u001b[38;5;241m&\u001b[39m\u001b[38;5;241m=\u001b[39m \u001b[43mworker\u001b[49m\u001b[38;5;241;43m.\u001b[39;49m\u001b[43madd\u001b[49m\u001b[43m(\u001b[49m\u001b[43mt\u001b[49m\u001b[43m,\u001b[49m\u001b[43m \u001b[49m\u001b[43menv_params\u001b[49m\u001b[38;5;241;43m.\u001b[39;49m\u001b[43mparallel_scheduling\u001b[49m\u001b[43m,\u001b[49m\u001b[43m \u001b[49m\u001b[43menv_params\u001b[49m\u001b[38;5;241;43m.\u001b[39;49m\u001b[43mparallel_scheduling_processes\u001b[49m\u001b[43m)\u001b[49m\n\u001b[1;32m    172\u001b[0m     logger\u001b[38;5;241m.\u001b[39minfo(\u001b[38;5;124m'\u001b[39m\u001b[38;5;124mDone scheduling tasks\u001b[39m\u001b[38;5;124m'\u001b[39m)\n\u001b[1;32m    173\u001b[0m     success \u001b[38;5;241m&\u001b[39m\u001b[38;5;241m=\u001b[39m worker\u001b[38;5;241m.\u001b[39mrun()\n",
      "File \u001b[0;32m~/opt/anaconda3/lib/python3.9/site-packages/luigi/worker.py:756\u001b[0m, in \u001b[0;36mWorker.add\u001b[0;34m(self, task, multiprocess, processes)\u001b[0m\n\u001b[1;32m    754\u001b[0m queue_size \u001b[38;5;241m-\u001b[39m\u001b[38;5;241m=\u001b[39m \u001b[38;5;241m1\u001b[39m\n\u001b[1;32m    755\u001b[0m item, is_complete \u001b[38;5;241m=\u001b[39m current\n\u001b[0;32m--> 756\u001b[0m \u001b[38;5;28;01mfor\u001b[39;00m \u001b[38;5;28mnext\u001b[39m \u001b[38;5;129;01min\u001b[39;00m \u001b[38;5;28mself\u001b[39m\u001b[38;5;241m.\u001b[39m_add(item, is_complete):\n\u001b[1;32m    757\u001b[0m     \u001b[38;5;28;01mif\u001b[39;00m \u001b[38;5;28mnext\u001b[39m\u001b[38;5;241m.\u001b[39mtask_id \u001b[38;5;129;01mnot\u001b[39;00m \u001b[38;5;129;01min\u001b[39;00m seen:\n\u001b[1;32m    758\u001b[0m         \u001b[38;5;28mself\u001b[39m\u001b[38;5;241m.\u001b[39m_validate_task(\u001b[38;5;28mnext\u001b[39m)\n",
      "File \u001b[0;32m~/opt/anaconda3/lib/python3.9/site-packages/luigi/worker.py:861\u001b[0m, in \u001b[0;36mWorker._add\u001b[0;34m(self, task, is_complete)\u001b[0m\n\u001b[1;32m    858\u001b[0m         deps \u001b[38;5;241m=\u001b[39m [d\u001b[38;5;241m.\u001b[39mtask_id \u001b[38;5;28;01mfor\u001b[39;00m d \u001b[38;5;129;01min\u001b[39;00m deps]\n\u001b[1;32m    860\u001b[0m \u001b[38;5;28mself\u001b[39m\u001b[38;5;241m.\u001b[39m_scheduled_tasks[task\u001b[38;5;241m.\u001b[39mtask_id] \u001b[38;5;241m=\u001b[39m task\n\u001b[0;32m--> 861\u001b[0m \u001b[38;5;28;43mself\u001b[39;49m\u001b[38;5;241;43m.\u001b[39;49m\u001b[43m_add_task\u001b[49m\u001b[43m(\u001b[49m\n\u001b[1;32m    862\u001b[0m \u001b[43m    \u001b[49m\u001b[43mworker\u001b[49m\u001b[38;5;241;43m=\u001b[39;49m\u001b[38;5;28;43mself\u001b[39;49m\u001b[38;5;241;43m.\u001b[39;49m\u001b[43m_id\u001b[49m\u001b[43m,\u001b[49m\n\u001b[1;32m    863\u001b[0m \u001b[43m    \u001b[49m\u001b[43mtask_id\u001b[49m\u001b[38;5;241;43m=\u001b[39;49m\u001b[43mtask\u001b[49m\u001b[38;5;241;43m.\u001b[39;49m\u001b[43mtask_id\u001b[49m\u001b[43m,\u001b[49m\n\u001b[1;32m    864\u001b[0m \u001b[43m    \u001b[49m\u001b[43mstatus\u001b[49m\u001b[38;5;241;43m=\u001b[39;49m\u001b[43mstatus\u001b[49m\u001b[43m,\u001b[49m\n\u001b[1;32m    865\u001b[0m \u001b[43m    \u001b[49m\u001b[43mdeps\u001b[49m\u001b[38;5;241;43m=\u001b[39;49m\u001b[43mdeps\u001b[49m\u001b[43m,\u001b[49m\n\u001b[1;32m    866\u001b[0m \u001b[43m    \u001b[49m\u001b[43mrunnable\u001b[49m\u001b[38;5;241;43m=\u001b[39;49m\u001b[43mrunnable\u001b[49m\u001b[43m,\u001b[49m\n\u001b[1;32m    867\u001b[0m \u001b[43m    \u001b[49m\u001b[43mpriority\u001b[49m\u001b[38;5;241;43m=\u001b[39;49m\u001b[43mtask\u001b[49m\u001b[38;5;241;43m.\u001b[39;49m\u001b[43mpriority\u001b[49m\u001b[43m,\u001b[49m\n\u001b[1;32m    868\u001b[0m \u001b[43m    \u001b[49m\u001b[43mresources\u001b[49m\u001b[38;5;241;43m=\u001b[39;49m\u001b[43mtask\u001b[49m\u001b[38;5;241;43m.\u001b[39;49m\u001b[43mprocess_resources\u001b[49m\u001b[43m(\u001b[49m\u001b[43m)\u001b[49m\u001b[43m,\u001b[49m\n\u001b[1;32m    869\u001b[0m \u001b[43m    \u001b[49m\u001b[43mparams\u001b[49m\u001b[38;5;241;43m=\u001b[39;49m\u001b[43mtask\u001b[49m\u001b[38;5;241;43m.\u001b[39;49m\u001b[43mto_str_params\u001b[49m\u001b[43m(\u001b[49m\u001b[43m)\u001b[49m\u001b[43m,\u001b[49m\n\u001b[1;32m    870\u001b[0m \u001b[43m    \u001b[49m\u001b[43mfamily\u001b[49m\u001b[38;5;241;43m=\u001b[39;49m\u001b[43mtask\u001b[49m\u001b[38;5;241;43m.\u001b[39;49m\u001b[43mtask_family\u001b[49m\u001b[43m,\u001b[49m\n\u001b[1;32m    871\u001b[0m \u001b[43m    \u001b[49m\u001b[43mmodule\u001b[49m\u001b[38;5;241;43m=\u001b[39;49m\u001b[43mtask\u001b[49m\u001b[38;5;241;43m.\u001b[39;49m\u001b[43mtask_module\u001b[49m\u001b[43m,\u001b[49m\n\u001b[1;32m    872\u001b[0m \u001b[43m    \u001b[49m\u001b[43mbatchable\u001b[49m\u001b[38;5;241;43m=\u001b[39;49m\u001b[43mtask\u001b[49m\u001b[38;5;241;43m.\u001b[39;49m\u001b[43mbatchable\u001b[49m\u001b[43m,\u001b[49m\n\u001b[1;32m    873\u001b[0m \u001b[43m    \u001b[49m\u001b[43mretry_policy_dict\u001b[49m\u001b[38;5;241;43m=\u001b[39;49m\u001b[43m_get_retry_policy_dict\u001b[49m\u001b[43m(\u001b[49m\u001b[43mtask\u001b[49m\u001b[43m)\u001b[49m\u001b[43m,\u001b[49m\n\u001b[1;32m    874\u001b[0m \u001b[43m    \u001b[49m\u001b[43maccepts_messages\u001b[49m\u001b[38;5;241;43m=\u001b[39;49m\u001b[43mtask\u001b[49m\u001b[38;5;241;43m.\u001b[39;49m\u001b[43maccepts_messages\u001b[49m\u001b[43m,\u001b[49m\n\u001b[1;32m    875\u001b[0m \u001b[43m\u001b[49m\u001b[43m)\u001b[49m\n",
      "File \u001b[0;32m~/opt/anaconda3/lib/python3.9/site-packages/luigi/worker.py:585\u001b[0m, in \u001b[0;36mWorker._add_task\u001b[0;34m(self, *args, **kwargs)\u001b[0m\n\u001b[1;32m    582\u001b[0m \u001b[38;5;28;01mif\u001b[39;00m task \u001b[38;5;129;01mand\u001b[39;00m kwargs\u001b[38;5;241m.\u001b[39mget(\u001b[38;5;124m'\u001b[39m\u001b[38;5;124mparams\u001b[39m\u001b[38;5;124m'\u001b[39m):\n\u001b[1;32m    583\u001b[0m     kwargs[\u001b[38;5;124m'\u001b[39m\u001b[38;5;124mparam_visibilities\u001b[39m\u001b[38;5;124m'\u001b[39m] \u001b[38;5;241m=\u001b[39m task\u001b[38;5;241m.\u001b[39m_get_param_visibilities()\n\u001b[0;32m--> 585\u001b[0m \u001b[38;5;28;43mself\u001b[39;49m\u001b[38;5;241;43m.\u001b[39;49m\u001b[43m_scheduler\u001b[49m\u001b[38;5;241;43m.\u001b[39;49m\u001b[43madd_task\u001b[49m\u001b[43m(\u001b[49m\u001b[38;5;241;43m*\u001b[39;49m\u001b[43margs\u001b[49m\u001b[43m,\u001b[49m\u001b[43m \u001b[49m\u001b[38;5;241;43m*\u001b[39;49m\u001b[38;5;241;43m*\u001b[39;49m\u001b[43mkwargs\u001b[49m\u001b[43m)\u001b[49m\n\u001b[1;32m    587\u001b[0m logger\u001b[38;5;241m.\u001b[39minfo(\u001b[38;5;124m'\u001b[39m\u001b[38;5;124mInformed scheduler that task   \u001b[39m\u001b[38;5;132;01m%s\u001b[39;00m\u001b[38;5;124m   has status   \u001b[39m\u001b[38;5;132;01m%s\u001b[39;00m\u001b[38;5;124m'\u001b[39m, task_id, status)\n",
      "File \u001b[0;32m~/opt/anaconda3/lib/python3.9/site-packages/luigi/scheduler.py:114\u001b[0m, in \u001b[0;36mrpc_method.<locals>._rpc_method.<locals>.rpc_func\u001b[0;34m(self, *args, **kwargs)\u001b[0m\n\u001b[1;32m    111\u001b[0m \u001b[38;5;28;01mif\u001b[39;00m \u001b[38;5;129;01mnot\u001b[39;00m \u001b[38;5;28mall\u001b[39m(arg \u001b[38;5;129;01min\u001b[39;00m actual_args \u001b[38;5;28;01mfor\u001b[39;00m arg \u001b[38;5;129;01min\u001b[39;00m required_args):\n\u001b[1;32m    112\u001b[0m     \u001b[38;5;28;01mraise\u001b[39;00m \u001b[38;5;167;01mTypeError\u001b[39;00m(\u001b[38;5;124m'\u001b[39m\u001b[38;5;132;01m{}\u001b[39;00m\u001b[38;5;124m takes \u001b[39m\u001b[38;5;132;01m{}\u001b[39;00m\u001b[38;5;124m arguments (\u001b[39m\u001b[38;5;132;01m{}\u001b[39;00m\u001b[38;5;124m given)\u001b[39m\u001b[38;5;124m'\u001b[39m\u001b[38;5;241m.\u001b[39mformat(\n\u001b[1;32m    113\u001b[0m         fn_name, \u001b[38;5;28mlen\u001b[39m(all_args), \u001b[38;5;28mlen\u001b[39m(actual_args)))\n\u001b[0;32m--> 114\u001b[0m \u001b[38;5;28;01mreturn\u001b[39;00m \u001b[38;5;28;43mself\u001b[39;49m\u001b[38;5;241;43m.\u001b[39;49m\u001b[43m_request\u001b[49m\u001b[43m(\u001b[49m\u001b[38;5;124;43m'\u001b[39;49m\u001b[38;5;124;43m/api/\u001b[39;49m\u001b[38;5;132;43;01m{}\u001b[39;49;00m\u001b[38;5;124;43m'\u001b[39;49m\u001b[38;5;241;43m.\u001b[39;49m\u001b[43mformat\u001b[49m\u001b[43m(\u001b[49m\u001b[43mfn_name\u001b[49m\u001b[43m)\u001b[49m\u001b[43m,\u001b[49m\u001b[43m \u001b[49m\u001b[43mactual_args\u001b[49m\u001b[43m,\u001b[49m\u001b[43m \u001b[49m\u001b[38;5;241;43m*\u001b[39;49m\u001b[38;5;241;43m*\u001b[39;49m\u001b[43mrequest_args\u001b[49m\u001b[43m)\u001b[49m\n",
      "File \u001b[0;32m~/opt/anaconda3/lib/python3.9/site-packages/luigi/rpc.py:177\u001b[0m, in \u001b[0;36mRemoteScheduler._request\u001b[0;34m(self, url, data, attempts, allow_null)\u001b[0m\n\u001b[1;32m    174\u001b[0m body \u001b[38;5;241m=\u001b[39m {\u001b[38;5;124m'\u001b[39m\u001b[38;5;124mdata\u001b[39m\u001b[38;5;124m'\u001b[39m: json\u001b[38;5;241m.\u001b[39mdumps(data)}\n\u001b[1;32m    176\u001b[0m \u001b[38;5;28;01mfor\u001b[39;00m _ \u001b[38;5;129;01min\u001b[39;00m \u001b[38;5;28mrange\u001b[39m(attempts):\n\u001b[0;32m--> 177\u001b[0m     page \u001b[38;5;241m=\u001b[39m \u001b[38;5;28;43mself\u001b[39;49m\u001b[38;5;241;43m.\u001b[39;49m\u001b[43m_fetch\u001b[49m\u001b[43m(\u001b[49m\u001b[43murl\u001b[49m\u001b[43m,\u001b[49m\u001b[43m \u001b[49m\u001b[43mbody\u001b[49m\u001b[43m)\u001b[49m\n\u001b[1;32m    178\u001b[0m     response \u001b[38;5;241m=\u001b[39m json\u001b[38;5;241m.\u001b[39mloads(page)[\u001b[38;5;124m\"\u001b[39m\u001b[38;5;124mresponse\u001b[39m\u001b[38;5;124m\"\u001b[39m]\n\u001b[1;32m    179\u001b[0m     \u001b[38;5;28;01mif\u001b[39;00m allow_null \u001b[38;5;129;01mor\u001b[39;00m response \u001b[38;5;129;01mis\u001b[39;00m \u001b[38;5;129;01mnot\u001b[39;00m \u001b[38;5;28;01mNone\u001b[39;00m:\n",
      "File \u001b[0;32m~/opt/anaconda3/lib/python3.9/site-packages/luigi/rpc.py:164\u001b[0m, in \u001b[0;36mRemoteScheduler._fetch\u001b[0;34m(self, url_suffix, body)\u001b[0m\n\u001b[1;32m    161\u001b[0m scheduler_retry \u001b[38;5;241m=\u001b[39m \u001b[38;5;28mself\u001b[39m\u001b[38;5;241m.\u001b[39m_get_retryer()\n\u001b[1;32m    163\u001b[0m \u001b[38;5;28;01mtry\u001b[39;00m:\n\u001b[0;32m--> 164\u001b[0m     response \u001b[38;5;241m=\u001b[39m \u001b[43mscheduler_retry\u001b[49m\u001b[43m(\u001b[49m\u001b[38;5;28;43mself\u001b[39;49m\u001b[38;5;241;43m.\u001b[39;49m\u001b[43m_fetcher\u001b[49m\u001b[38;5;241;43m.\u001b[39;49m\u001b[43mfetch\u001b[49m\u001b[43m,\u001b[49m\u001b[43m \u001b[49m\u001b[43mfull_url\u001b[49m\u001b[43m,\u001b[49m\u001b[43m \u001b[49m\u001b[43mbody\u001b[49m\u001b[43m,\u001b[49m\u001b[43m \u001b[49m\u001b[38;5;28;43mself\u001b[39;49m\u001b[38;5;241;43m.\u001b[39;49m\u001b[43m_connect_timeout\u001b[49m\u001b[43m)\u001b[49m\n\u001b[1;32m    165\u001b[0m \u001b[38;5;28;01mexcept\u001b[39;00m \u001b[38;5;28mself\u001b[39m\u001b[38;5;241m.\u001b[39m_fetcher\u001b[38;5;241m.\u001b[39mraises \u001b[38;5;28;01mas\u001b[39;00m e:\n\u001b[1;32m    166\u001b[0m     \u001b[38;5;28;01mraise\u001b[39;00m RPCError(\n\u001b[1;32m    167\u001b[0m         \u001b[38;5;124m\"\u001b[39m\u001b[38;5;124mErrors (\u001b[39m\u001b[38;5;132;01m%d\u001b[39;00m\u001b[38;5;124m attempts) when connecting to remote scheduler \u001b[39m\u001b[38;5;132;01m%r\u001b[39;00m\u001b[38;5;124m\"\u001b[39m \u001b[38;5;241m%\u001b[39m\n\u001b[1;32m    168\u001b[0m         (\u001b[38;5;28mself\u001b[39m\u001b[38;5;241m.\u001b[39m_rpc_retry_attempts, \u001b[38;5;28mself\u001b[39m\u001b[38;5;241m.\u001b[39m_url),\n\u001b[1;32m    169\u001b[0m         e\n\u001b[1;32m    170\u001b[0m     )\n",
      "File \u001b[0;32m~/opt/anaconda3/lib/python3.9/site-packages/tenacity/__init__.py:433\u001b[0m, in \u001b[0;36mRetrying.__call__\u001b[0;34m(self, fn, *args, **kwargs)\u001b[0m\n\u001b[1;32m    431\u001b[0m \u001b[38;5;28;01melif\u001b[39;00m \u001b[38;5;28misinstance\u001b[39m(do, DoSleep):\n\u001b[1;32m    432\u001b[0m     retry_state\u001b[38;5;241m.\u001b[39mprepare_for_next_attempt()\n\u001b[0;32m--> 433\u001b[0m     \u001b[38;5;28;43mself\u001b[39;49m\u001b[38;5;241;43m.\u001b[39;49m\u001b[43msleep\u001b[49m\u001b[43m(\u001b[49m\u001b[43mdo\u001b[49m\u001b[43m)\u001b[49m\n\u001b[1;32m    434\u001b[0m \u001b[38;5;28;01melse\u001b[39;00m:\n\u001b[1;32m    435\u001b[0m     \u001b[38;5;28;01mreturn\u001b[39;00m do\n",
      "File \u001b[0;32m~/opt/anaconda3/lib/python3.9/site-packages/tenacity/nap.py:28\u001b[0m, in \u001b[0;36msleep\u001b[0;34m(seconds)\u001b[0m\n\u001b[1;32m     22\u001b[0m \u001b[38;5;28;01mdef\u001b[39;00m \u001b[38;5;21msleep\u001b[39m(seconds):\n\u001b[1;32m     23\u001b[0m     \u001b[38;5;124;03m\"\"\"\u001b[39;00m\n\u001b[1;32m     24\u001b[0m \u001b[38;5;124;03m    Sleep strategy that delays execution for a given number of seconds.\u001b[39;00m\n\u001b[1;32m     25\u001b[0m \n\u001b[1;32m     26\u001b[0m \u001b[38;5;124;03m    This is the default strategy, and may be mocked out for unit testing.\u001b[39;00m\n\u001b[1;32m     27\u001b[0m \u001b[38;5;124;03m    \"\"\"\u001b[39;00m\n\u001b[0;32m---> 28\u001b[0m     \u001b[43mtime\u001b[49m\u001b[38;5;241;43m.\u001b[39;49m\u001b[43msleep\u001b[49m\u001b[43m(\u001b[49m\u001b[43mseconds\u001b[49m\u001b[43m)\u001b[49m\n",
      "\u001b[0;31mKeyboardInterrupt\u001b[0m: "
     ]
    }
   ],
   "source": [
    "if __name__ == '__main__':\n",
    "    luigi.build([MyTask()])"
   ]
  },
  {
   "cell_type": "markdown",
   "metadata": {
    "id": "GAlSsfO1XUR3"
   },
   "source": [
    "#### Target"
   ]
  },
  {
   "cell_type": "markdown",
   "metadata": {
    "id": "e7x09Pd7XUR3"
   },
   "source": [
    "LocalTarget"
   ]
  },
  {
   "cell_type": "code",
   "execution_count": null,
   "metadata": {
    "id": "6-4KQ7GEXUR4"
   },
   "outputs": [],
   "source": [
    "def output(self):\n",
    "        return luigi.LocalTarget(path='output.csv')"
   ]
  },
  {
   "cell_type": "markdown",
   "metadata": {
    "id": "ViBZH9MZXUR4"
   },
   "source": [
    "Database target"
   ]
  },
  {
   "cell_type": "code",
   "execution_count": null,
   "metadata": {
    "id": "bgmCU46ZXUR4"
   },
   "outputs": [],
   "source": [
    "from luigi.contrib.mongodb import MongoTarget\n",
    "from pymongo import MongoClient\n",
    "\n",
    "def output(self):\n",
    "    \n",
    "    connection = MongoClient(self.host, self.port)\n",
    "    db_client = connection[self.db_name]\n",
    "    collection_name = 'collection'\n",
    "\n",
    "    return MongoTarget(db_client, '_id', collection_name)"
   ]
  },
  {
   "cell_type": "markdown",
   "metadata": {
    "id": "vd7iwugkXUR4"
   },
   "source": [
    "HDFS target"
   ]
  },
  {
   "cell_type": "code",
   "execution_count": null,
   "metadata": {
    "id": "4ObXfefaXUR4"
   },
   "outputs": [],
   "source": [
    "def output(self):\n",
    "        return luigi.contrib.hdfs.HdfsTarget(\"data/logs_%s.csv\" % self.date)"
   ]
  },
  {
   "cell_type": "markdown",
   "metadata": {
    "id": "mzQCn7PuXUR5"
   },
   "source": [
    "Если какая-нибудь задача из пайплана обрывается, то нужно перезапустить пайплайн с этой задачи - результаты предыдущих задач не удаляются (обеспечивается методом exists в классе Target)."
   ]
  },
  {
   "cell_type": "markdown",
   "metadata": {
    "id": "Hx1_7M3PXUR5"
   },
   "source": [
    "#### Parameters"
   ]
  },
  {
   "cell_type": "markdown",
   "metadata": {
    "id": "VU0h8mVwXUR5"
   },
   "source": [
    "Для создания параметров используется класс `Parameter` - по умолчанию возвращается класс string.\n",
    "\n",
    "Также для определения типа параметров можно использовать следующие классы - например `DateParameter`, `IntParameter`, `FloatParameter`. Другие типы параметров можно найти в документации.\n",
    "\n",
    "Определение типов параметров нужно для того, чтобы при запуске пайплайна из командной строки конвертация параметров из string происходила в нужный тип."
   ]
  },
  {
   "cell_type": "code",
   "execution_count": null,
   "metadata": {
    "id": "yubva6gVXUR5"
   },
   "outputs": [],
   "source": [
    "class Report(luigi.Task):\n",
    "    \n",
    "    path = luigi.Parameter()\n",
    "    date = luigi.DateParameter(default=datetime.date.today())\n",
    "    input_data = luigi.IntParameter()\n",
    "    "
   ]
  },
  {
   "cell_type": "code",
   "execution_count": null,
   "metadata": {
    "id": "umaux_eiXUR5",
    "outputId": "2a13cd2f-47d2-43c2-e2c8-62f17ed840af",
    "scrolled": true
   },
   "outputs": [
    {
     "name": "stdout",
     "output_type": "stream",
     "text": [
      "/data 2012-05-10 1\n"
     ]
    }
   ],
   "source": [
    "d = Report('/data', datetime.date(2012, 5, 10), 1)\n",
    "print(d.path, d.date, d.input_data)"
   ]
  },
  {
   "cell_type": "markdown",
   "metadata": {
    "id": "SjYEKkMlXUR6"
   },
   "source": [
    "В Luigi Task Visualiser появится задача и ее статус:"
   ]
  },
  {
   "cell_type": "markdown",
   "metadata": {
    "id": "cs2qSiNeXUR6"
   },
   "source": [
    "#### Зависимости"
   ]
  },
  {
   "cell_type": "markdown",
   "metadata": {
    "id": "mCSmZun1XUR6"
   },
   "source": [
    "Может возникать несколько зависимостей между тасками, для этого нужно определить метод `requires`, который возвращает другой таск, который должен исполниться до запуска основной задачи. \n",
    "\n",
    "Также метод `requires` может возвращать лист зависимых задач - мы посмотрим это позже на примере пайплайна для скачивания данных с OpenStreetMap."
   ]
  },
  {
   "cell_type": "code",
   "execution_count": null,
   "metadata": {
    "code_folding": [],
    "id": "nKIUPKl3XUR7"
   },
   "outputs": [],
   "source": [
    "class MyTask(luigi.Task):\n",
    "    \n",
    "    def run(self):\n",
    "        with self.output().open('w') as f:\n",
    "            f.write('luigi pipeline')\n",
    "        \n",
    "    def output(self):\n",
    "        return luigi.LocalTarget(path=\"output_one.txt\")\n",
    "    \n",
    "class MyTaskModified(luigi.Task):\n",
    "    \n",
    "    string = luigi.Parameter()\n",
    "    \n",
    "    def requires(self):\n",
    "        return MyTask()\n",
    "    \n",
    "    def output(self):\n",
    "        luigi.LocalTarget(path='output_two.txt')\n",
    "        \n",
    "    def run(self):\n",
    "        with self.input().open('r') as f:\n",
    "            data = f.read()\n",
    "            \n",
    "        with self.input().open('w') as fout:\n",
    "            fout.write(data + self.string)"
   ]
  },
  {
   "cell_type": "code",
   "execution_count": null,
   "metadata": {
    "id": "x57FibmnXUR7",
    "outputId": "e1be17c1-e7f4-4efe-8ed7-f3a6451a8851"
   },
   "outputs": [
    {
     "name": "stderr",
     "output_type": "stream",
     "text": [
      "DEBUG: Checking if MyTaskModified(string=test dependencies) is complete\n",
      "/usr/local/lib/python3.5/site-packages/luigi/worker.py:401: UserWarning: Task MyTaskModified(string=test dependencies) without outputs has no custom complete() method\n",
      "  is_complete = task.complete()\n",
      "DEBUG: Checking if MyTask() is complete\n",
      "INFO: Informed scheduler that task   MyTaskModified_test_dependencie_f8899dc010   has status   PENDING\n",
      "INFO: Informed scheduler that task   MyTask__99914b932b   has status   PENDING\n",
      "INFO: Done scheduling tasks\n",
      "INFO: Running Worker with 1 processes\n",
      "DEBUG: Asking scheduler for work...\n",
      "DEBUG: Pending tasks: 2\n",
      "INFO: [pid 7509] Worker Worker(salt=411079994, workers=1, host=MacBook-Air-Elena-2.local, username=elena, pid=7509) running   MyTask()\n",
      "INFO: [pid 7509] Worker Worker(salt=411079994, workers=1, host=MacBook-Air-Elena-2.local, username=elena, pid=7509) done      MyTask()\n",
      "DEBUG: 1 running tasks, waiting for next task to finish\n",
      "INFO: Informed scheduler that task   MyTask__99914b932b   has status   DONE\n",
      "DEBUG: Asking scheduler for work...\n",
      "DEBUG: Pending tasks: 1\n",
      "INFO: [pid 7509] Worker Worker(salt=411079994, workers=1, host=MacBook-Air-Elena-2.local, username=elena, pid=7509) running   MyTaskModified(string=test dependencies)\n",
      "INFO: [pid 7509] Worker Worker(salt=411079994, workers=1, host=MacBook-Air-Elena-2.local, username=elena, pid=7509) done      MyTaskModified(string=test dependencies)\n",
      "DEBUG: 1 running tasks, waiting for next task to finish\n",
      "INFO: Informed scheduler that task   MyTaskModified_test_dependencie_f8899dc010   has status   DONE\n",
      "DEBUG: Asking scheduler for work...\n",
      "DEBUG: Done\n",
      "DEBUG: There are no more tasks to run at this time\n",
      "INFO: Worker Worker(salt=411079994, workers=1, host=MacBook-Air-Elena-2.local, username=elena, pid=7509) was stopped. Shutting down Keep-Alive thread\n",
      "INFO: \n",
      "===== Luigi Execution Summary =====\n",
      "\n",
      "Scheduled 2 tasks of which:\n",
      "* 2 ran successfully:\n",
      "    - 1 MyTask()\n",
      "    - 1 MyTaskModified(string=test dependencies)\n",
      "\n",
      "This progress looks :) because there were no failed tasks or missing dependencies\n",
      "\n",
      "===== Luigi Execution Summary =====\n",
      "\n"
     ]
    }
   ],
   "source": [
    "if __name__ == '__main__':\n",
    "    luigi.build([MyTaskModified('test dependencies')])"
   ]
  },
  {
   "cell_type": "code",
   "execution_count": null,
   "metadata": {
    "id": "sWj6953EXUR7"
   },
   "outputs": [],
   "source": [
    "import luigi\n",
    "import requests\n",
    "import json\n",
    "import pandas as pd\n",
    "import datetime"
   ]
  },
  {
   "cell_type": "markdown",
   "metadata": {
    "id": "wByG1ZsVXUR7"
   },
   "source": [
    "### Пример пайплайна для  данных osm"
   ]
  },
  {
   "cell_type": "markdown",
   "metadata": {
    "id": "1fCamK65XUR7"
   },
   "source": [
    "Скачать данные по выбранной категории объектов\n",
    "\n",
    "Обработка данных\n",
    "\n",
    "Сохранение для дальнейшего использлвания"
   ]
  },
  {
   "cell_type": "markdown",
   "metadata": {
    "id": "BmC47FIcXUR8"
   },
   "source": [
    "Основными параметрами данного пайплайна будет территория, заданная ббоксом города, категория места, а также атрибут OSM.\n",
    "Скачаем места по Москве:"
   ]
  },
  {
   "cell_type": "code",
   "execution_count": null,
   "metadata": {
    "id": "q2LuU5XrXUR8"
   },
   "outputs": [],
   "source": [
    "class TaskOSMLoading(luigi.Task):\n",
    "    \n",
    "    attr = luigi.Parameter()\n",
    "    category = luigi.Parameter()\n",
    "    bbox = luigi.Parameter()\n",
    "    \n",
    "    def output(self):\n",
    "        return luigi.LocalTarget(\"osm_data/data_osm_{}.json\".format(self.category))\n",
    "        \n",
    "    def run(self):\n",
    "        \n",
    "        overpass_url = \"https://overpass.kumi.systems/api/interpreter\"\n",
    "        overpass_query = \"\"\"\n",
    "            [out:json];\n",
    "            ({}[{}]({});\n",
    "            );\n",
    "             out body;\n",
    "                         \"\"\".format(self.attr, self.category, self.bbox)\n",
    "        \n",
    "        response = requests.get(overpass_url, \n",
    "                                params={'data': overpass_query})\n",
    "        data = response.json()\n",
    "        \n",
    "        with self.output().open('w') as f:\n",
    "            json.dump(data, f)"
   ]
  },
  {
   "cell_type": "markdown",
   "metadata": {
    "id": "IQkExiorXUR8"
   },
   "source": [
    "В классе можно определять вспомогательные методы, которые затем можно переиспользовать в `run()`:"
   ]
  },
  {
   "cell_type": "code",
   "execution_count": null,
   "metadata": {
    "id": "w6ijnl-pXUR8"
   },
   "outputs": [],
   "source": [
    "class TaskOSMProcessing(luigi.Task):\n",
    "    \n",
    "    attr = luigi.Parameter()\n",
    "    categories = luigi.ListParameter()\n",
    "    bbox = luigi.Parameter()\n",
    "    #date = luigi.DateParameter(default = datetime.datetime.now()) \n",
    "    \n",
    "    def requires(self):\n",
    "        return [TaskOSMLoading(self.attr, category, self.bbox) for category in self.categories]\n",
    "    \n",
    "    def output(self):\n",
    "        return luigi.LocalTarget('osm_data/results_s.csv')\n",
    "    \n",
    "    def get_tag(self, x, key_name):\n",
    "        if str(key_name) in x:\n",
    "            tmp = x[key_name]\n",
    "            return tmp\n",
    "        else:\n",
    "            return 'unknown'\n",
    "    \n",
    "    def run(self):\n",
    "        \n",
    "        all_osm = pd.DataFrame()\n",
    "        for _input in self.input():\n",
    "            with _input.open('r') as raw_file:\n",
    "                data = pd.DataFrame((json.load(raw_file))['elements'])\n",
    "                all_osm = all_osm.append(data)\n",
    "        \n",
    "        all_osm['amenity'] = all_osm['tags'].apply(lambda x: self.get_tag(x, 'amenity'))\n",
    "        \n",
    "        with self.output().open('w') as f:\n",
    "            all_osm[['id','lat','lon','amenity']].to_csv(f, encoding='utf8')"
   ]
  },
  {
   "cell_type": "code",
   "execution_count": null,
   "metadata": {
    "id": "4zXACajDXUR9",
    "outputId": "8221fbd2-5f2b-4cc4-e337-86f316cdcf9f",
    "scrolled": true
   },
   "outputs": [
    {
     "name": "stderr",
     "output_type": "stream",
     "text": [
      "DEBUG: Checking if TaskOSMProcessing(attr=node, categories=[\"amenity\", \"shop\", \"office\", \"bus_stop\"], bbox=55.1422,36.8031,56.0212,37.9674) is complete\n",
      "DEBUG: Checking if TaskOSMLoading(attr=node, category=amenity, bbox=55.1422,36.8031,56.0212,37.9674) is complete\n",
      "DEBUG: Checking if TaskOSMLoading(attr=node, category=shop, bbox=55.1422,36.8031,56.0212,37.9674) is complete\n",
      "DEBUG: Checking if TaskOSMLoading(attr=node, category=office, bbox=55.1422,36.8031,56.0212,37.9674) is complete\n",
      "DEBUG: Checking if TaskOSMLoading(attr=node, category=bus_stop, bbox=55.1422,36.8031,56.0212,37.9674) is complete\n",
      "INFO: Informed scheduler that task   TaskOSMProcessing_node_55_1422_36_8031____amenity____sho_badb57d548   has status   PENDING\n",
      "INFO: Informed scheduler that task   TaskOSMLoading_node_55_1422_36_8031__bus_stop_cc6b2eb261   has status   PENDING\n",
      "INFO: Informed scheduler that task   TaskOSMLoading_node_55_1422_36_8031__office_a8ea274f7d   has status   PENDING\n",
      "INFO: Informed scheduler that task   TaskOSMLoading_node_55_1422_36_8031__shop_cd2f7a8f48   has status   PENDING\n",
      "INFO: Informed scheduler that task   TaskOSMLoading_node_55_1422_36_8031__amenity_b895978954   has status   PENDING\n",
      "INFO: Done scheduling tasks\n",
      "INFO: Running Worker with 1 processes\n",
      "DEBUG: Asking scheduler for work...\n",
      "DEBUG: Pending tasks: 5\n",
      "INFO: [pid 7509] Worker Worker(salt=075421608, workers=1, host=MacBook-Air-Elena-2.local, username=elena, pid=7509) running   TaskOSMLoading(attr=node, category=amenity, bbox=55.1422,36.8031,56.0212,37.9674)\n",
      "INFO: [pid 7509] Worker Worker(salt=075421608, workers=1, host=MacBook-Air-Elena-2.local, username=elena, pid=7509) done      TaskOSMLoading(attr=node, category=amenity, bbox=55.1422,36.8031,56.0212,37.9674)\n",
      "DEBUG: 1 running tasks, waiting for next task to finish\n",
      "INFO: Informed scheduler that task   TaskOSMLoading_node_55_1422_36_8031__amenity_b895978954   has status   DONE\n",
      "DEBUG: Asking scheduler for work...\n",
      "DEBUG: Pending tasks: 4\n",
      "INFO: [pid 7509] Worker Worker(salt=075421608, workers=1, host=MacBook-Air-Elena-2.local, username=elena, pid=7509) running   TaskOSMLoading(attr=node, category=bus_stop, bbox=55.1422,36.8031,56.0212,37.9674)\n",
      "INFO: [pid 7509] Worker Worker(salt=075421608, workers=1, host=MacBook-Air-Elena-2.local, username=elena, pid=7509) done      TaskOSMLoading(attr=node, category=bus_stop, bbox=55.1422,36.8031,56.0212,37.9674)\n",
      "DEBUG: 1 running tasks, waiting for next task to finish\n",
      "INFO: Informed scheduler that task   TaskOSMLoading_node_55_1422_36_8031__bus_stop_cc6b2eb261   has status   DONE\n",
      "DEBUG: Asking scheduler for work...\n",
      "DEBUG: Pending tasks: 3\n",
      "INFO: [pid 7509] Worker Worker(salt=075421608, workers=1, host=MacBook-Air-Elena-2.local, username=elena, pid=7509) running   TaskOSMLoading(attr=node, category=shop, bbox=55.1422,36.8031,56.0212,37.9674)\n",
      "INFO: [pid 7509] Worker Worker(salt=075421608, workers=1, host=MacBook-Air-Elena-2.local, username=elena, pid=7509) done      TaskOSMLoading(attr=node, category=shop, bbox=55.1422,36.8031,56.0212,37.9674)\n",
      "DEBUG: 1 running tasks, waiting for next task to finish\n",
      "INFO: Informed scheduler that task   TaskOSMLoading_node_55_1422_36_8031__shop_cd2f7a8f48   has status   DONE\n",
      "DEBUG: Asking scheduler for work...\n",
      "DEBUG: Pending tasks: 2\n",
      "INFO: [pid 7509] Worker Worker(salt=075421608, workers=1, host=MacBook-Air-Elena-2.local, username=elena, pid=7509) running   TaskOSMLoading(attr=node, category=office, bbox=55.1422,36.8031,56.0212,37.9674)\n",
      "INFO: [pid 7509] Worker Worker(salt=075421608, workers=1, host=MacBook-Air-Elena-2.local, username=elena, pid=7509) done      TaskOSMLoading(attr=node, category=office, bbox=55.1422,36.8031,56.0212,37.9674)\n",
      "DEBUG: 1 running tasks, waiting for next task to finish\n",
      "INFO: Informed scheduler that task   TaskOSMLoading_node_55_1422_36_8031__office_a8ea274f7d   has status   DONE\n",
      "DEBUG: Asking scheduler for work...\n",
      "DEBUG: Pending tasks: 1\n",
      "INFO: [pid 7509] Worker Worker(salt=075421608, workers=1, host=MacBook-Air-Elena-2.local, username=elena, pid=7509) running   TaskOSMProcessing(attr=node, categories=[\"amenity\", \"shop\", \"office\", \"bus_stop\"], bbox=55.1422,36.8031,56.0212,37.9674)\n",
      "INFO: [pid 7509] Worker Worker(salt=075421608, workers=1, host=MacBook-Air-Elena-2.local, username=elena, pid=7509) done      TaskOSMProcessing(attr=node, categories=[\"amenity\", \"shop\", \"office\", \"bus_stop\"], bbox=55.1422,36.8031,56.0212,37.9674)\n",
      "DEBUG: 1 running tasks, waiting for next task to finish\n",
      "INFO: Informed scheduler that task   TaskOSMProcessing_node_55_1422_36_8031____amenity____sho_badb57d548   has status   DONE\n",
      "DEBUG: Asking scheduler for work...\n",
      "DEBUG: Done\n",
      "DEBUG: There are no more tasks to run at this time\n",
      "INFO: Worker Worker(salt=075421608, workers=1, host=MacBook-Air-Elena-2.local, username=elena, pid=7509) was stopped. Shutting down Keep-Alive thread\n",
      "INFO: \n",
      "===== Luigi Execution Summary =====\n",
      "\n",
      "Scheduled 5 tasks of which:\n",
      "* 5 ran successfully:\n",
      "    - 4 TaskOSMLoading(attr=node, category=amenity, bbox=55.1422,36.8031,56.0212,37.9674) ...\n",
      "    - 1 TaskOSMProcessing(attr=node, categories=[\"amenity\", \"shop\", \"office\", \"bus_stop\"], bbox=55.1422,36.8031,56.0212,37.9674)\n",
      "\n",
      "This progress looks :) because there were no failed tasks or missing dependencies\n",
      "\n",
      "===== Luigi Execution Summary =====\n",
      "\n"
     ]
    }
   ],
   "source": [
    "if __name__ == '__main__':\n",
    "    luigi.build([TaskOSMProcessing('node',['amenity','shop','office','bus_stop'],\n",
    "                                   \"55.1422,36.8031,56.0212,37.9674\")])"
   ]
  },
  {
   "cell_type": "markdown",
   "metadata": {
    "id": "6M0PECM5XUR9"
   },
   "source": [
    "<img src=luigi_dependencies.png>"
   ]
  },
  {
   "cell_type": "markdown",
   "metadata": {
    "id": "0e0CPZDXXUR9"
   },
   "source": [
    "#### Плюсы Luigi "
   ]
  },
  {
   "cell_type": "markdown",
   "metadata": {
    "id": "7PQm3q4sXUR9"
   },
   "source": [
    "Luigi можно запускать для тестирования пайплайна в режиме `--local-sheduler`, также можно запускать через центральный планировщик с аргументом `--central-sheduler`  "
   ]
  },
  {
   "cell_type": "markdown",
   "metadata": {
    "id": "peIwAC1TXUR-"
   },
   "source": [
    "Довольно простой интерфейс - по факту для написания пайплайна нужно оперировать только тремя сущностями;\n",
    "\n",
    "Неплохая документация;\n",
    "\n",
    "Визуализация графа задач;\n",
    "\n",
    "Перезапуск задачи не приводит к потере данных предыдущих задач;\n",
    "\n",
    "Удобная обработка аргументов, передаваемые через терминал;"
   ]
  },
  {
   "cell_type": "markdown",
   "metadata": {
    "id": "q-_yewQBXUR-"
   },
   "source": [
    "### Ограничения Luigi"
   ]
  },
  {
   "cell_type": "markdown",
   "metadata": {
    "id": "TTkAH3PNXUR-"
   },
   "source": [
    "Не поддерживает real-time обработку\n",
    "\n",
    "Отсутствует запуск задач по расписанию"
   ]
  },
  {
   "cell_type": "markdown",
   "metadata": {
    "id": "hu03s6YLXUR-"
   },
   "source": [
    "### Другие библиотеки"
   ]
  },
  {
   "cell_type": "markdown",
   "metadata": {
    "id": "HnAQwsNOXUR-"
   },
   "source": [
    "airflow - библиотека от airbnb, сейчас выложена в открытом доступе\n",
    "\n",
    "celery - подходит для real-time обработки"
   ]
  }
 ],
 "metadata": {
  "colab": {
   "name": "Урок 7.Знакомство с библиотекой Luigi.Создание пайплайнов.ipynb",
   "provenance": []
  },
  "kernelspec": {
   "display_name": "Python 3 (ipykernel)",
   "language": "python",
   "name": "python3"
  },
  "language_info": {
   "codemirror_mode": {
    "name": "ipython",
    "version": 3
   },
   "file_extension": ".py",
   "mimetype": "text/x-python",
   "name": "python",
   "nbconvert_exporter": "python",
   "pygments_lexer": "ipython3",
   "version": "3.9.12"
  },
  "toc": {
   "nav_menu": {},
   "number_sections": true,
   "sideBar": true,
   "skip_h1_title": false,
   "toc_cell": true,
   "toc_position": {
    "height": "732px",
    "left": "0px",
    "right": "1382px",
    "top": "66px",
    "width": "100px"
   },
   "toc_section_display": "none",
   "toc_window_display": false
  },
  "varInspector": {
   "cols": {
    "lenName": 16,
    "lenType": 16,
    "lenVar": 40
   },
   "kernels_config": {
    "python": {
     "delete_cmd_postfix": "",
     "delete_cmd_prefix": "del ",
     "library": "var_list.py",
     "varRefreshCmd": "print(var_dic_list())"
    },
    "r": {
     "delete_cmd_postfix": ") ",
     "delete_cmd_prefix": "rm(",
     "library": "var_list.r",
     "varRefreshCmd": "cat(var_dic_list()) "
    }
   },
   "types_to_exclude": [
    "module",
    "function",
    "builtin_function_or_method",
    "instance",
    "_Feature"
   ],
   "window_display": false
  }
 },
 "nbformat": 4,
 "nbformat_minor": 4
}
